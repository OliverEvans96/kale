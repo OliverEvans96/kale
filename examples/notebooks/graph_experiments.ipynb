{
 "cells": [
  {
   "cell_type": "code",
   "execution_count": 1,
   "metadata": {
    "collapsed": true
   },
   "outputs": [],
   "source": [
    "import ipywidgets as ipw\n",
    "import bqplot as bq\n",
    "import numpy as np\n",
    "from bqplot.marks import Graph\n",
    "from collections import defaultdict\n",
    "import networkx as nx"
   ]
  },
  {
   "cell_type": "code",
   "execution_count": 2,
   "metadata": {
    "collapsed": true
   },
   "outputs": [],
   "source": [
    "def rand_dag(n):\n",
    "    \"Generate random DAG adjacency matrix.\"\n",
    "    return np.tril(np.random.randint(0, 2, [n, n]), k=-1)"
   ]
  },
  {
   "cell_type": "code",
   "execution_count": 3,
   "metadata": {
    "collapsed": true
   },
   "outputs": [],
   "source": [
    "def gen_bq_dag(adj_mat):\n",
    "    \"Generate bqplot Graph object of DAG given adjacency matrix.\"\n",
    "    \n",
    "    nxg = nx.from_numpy_matrix(adj_mat)\n",
    "\n",
    "    pos = nx.nx_pydot.graphviz_layout(nxg, prog='dot')\n",
    "    x, y = np.array([pos[i] for i in range(N)]).T\n",
    "\n",
    "    link_data = [{'source': source, 'target': target} for source, target in nxg.edges()]\n",
    "\n",
    "    graph = Graph(\n",
    "        node_data=node_data,\n",
    "        link_data=link_data,\n",
    "        scales=scales,\n",
    "        link_type='line',\n",
    "        highlight_links=False,\n",
    "        x=x, y=y\n",
    "    )\n",
    "    \n",
    "    return nxg, graph"
   ]
  },
  {
   "cell_type": "code",
   "execution_count": 4,
   "metadata": {},
   "outputs": [],
   "source": [
    "fig_layout = ipw.Layout(width='600px', height='800px')"
   ]
  },
  {
   "cell_type": "code",
   "execution_count": 5,
   "metadata": {},
   "outputs": [],
   "source": [
    "xs = bq.LinearScale()\n",
    "ys = bq.LinearScale()\n",
    "scales = {'x': xs, 'y': ys}"
   ]
  },
  {
   "cell_type": "code",
   "execution_count": 6,
   "metadata": {
    "collapsed": true
   },
   "outputs": [],
   "source": [
    "node_data = list('ABCDEF')\n",
    "N = len(node_data)"
   ]
  },
  {
   "cell_type": "code",
   "execution_count": 7,
   "metadata": {},
   "outputs": [
    {
     "data": {
      "application/vnd.jupyter.widget-view+json": {
       "model_id": "72cf8af53ce9409da30f7bf8552754bc",
       "version_major": "2",
       "version_minor": "0"
      },
      "text/plain": [
       "A Jupyter Widget"
      ]
     },
     "metadata": {},
     "output_type": "display_data"
    }
   ],
   "source": [
    "adj_mat = rand_dag(N)\n",
    "nxg, graph = gen_bq_dag(adj_mat)\n",
    "f = bq.Figure(marks=[graph], layout=fig_layout)\n",
    "f"
   ]
  },
  {
   "cell_type": "code",
   "execution_count": 8,
   "metadata": {},
   "outputs": [
    {
     "data": {
      "text/plain": [
       "[{'source': 0, 'target': 5},\n",
       " {'source': 1, 'target': 4},\n",
       " {'source': 1, 'target': 5},\n",
       " {'source': 2, 'target': 3},\n",
       " {'source': 2, 'target': 4},\n",
       " {'source': 2, 'target': 5},\n",
       " {'source': 3, 'target': 5},\n",
       " {'source': 4, 'target': 5}]"
      ]
     },
     "execution_count": 8,
     "metadata": {},
     "output_type": "execute_result"
    }
   ],
   "source": [
    "f.marks[0].link_data"
   ]
  },
  {
   "cell_type": "code",
   "execution_count": 9,
   "metadata": {},
   "outputs": [
    {
     "data": {
      "text/plain": [
       "<networkx.classes.graph.Graph at 0x2ac462c57828>"
      ]
     },
     "execution_count": 9,
     "metadata": {},
     "output_type": "execute_result"
    }
   ],
   "source": [
    "nxg"
   ]
  },
  {
   "cell_type": "code",
   "execution_count": 10,
   "metadata": {
    "collapsed": true
   },
   "outputs": [],
   "source": [
    "graph.metadata = []"
   ]
  },
  {
   "cell_type": "markdown",
   "metadata": {},
   "source": [
    "## Generate toy metadata"
   ]
  },
  {
   "cell_type": "code",
   "execution_count": 11,
   "metadata": {
    "collapsed": true
   },
   "outputs": [],
   "source": [
    "def gen_metadata(i):\n",
    "    words = \"cheese tacos alfredo avocado sasquatch alfred omega landlady\".split()\n",
    "    return dict(\n",
    "        name='Step {}'.format(graph.node_data[i]),\n",
    "        date='Tuesday the {}th'.format(30-i),\n",
    "        word=words[i]\n",
    "    )"
   ]
  },
  {
   "cell_type": "code",
   "execution_count": 12,
   "metadata": {
    "collapsed": true
   },
   "outputs": [],
   "source": [
    "for i in range(len(graph.node_data)):\n",
    "    graph.metadata.append(gen_metadata(i))"
   ]
  },
  {
   "cell_type": "code",
   "execution_count": 13,
   "metadata": {},
   "outputs": [
    {
     "data": {
      "text/plain": [
       "[{'date': 'Tuesday the 30th', 'name': 'Step A', 'word': 'cheese'},\n",
       " {'date': 'Tuesday the 29th', 'name': 'Step B', 'word': 'tacos'},\n",
       " {'date': 'Tuesday the 28th', 'name': 'Step C', 'word': 'alfredo'},\n",
       " {'date': 'Tuesday the 27th', 'name': 'Step D', 'word': 'avocado'},\n",
       " {'date': 'Tuesday the 26th', 'name': 'Step E', 'word': 'sasquatch'},\n",
       " {'date': 'Tuesday the 25th', 'name': 'Step F', 'word': 'alfred'}]"
      ]
     },
     "execution_count": 13,
     "metadata": {},
     "output_type": "execute_result"
    }
   ],
   "source": [
    "graph.metadata"
   ]
  },
  {
   "cell_type": "markdown",
   "metadata": {},
   "source": [
    "# Workflow Widget"
   ]
  },
  {
   "cell_type": "code",
   "execution_count": 14,
   "metadata": {
    "collapsed": true
   },
   "outputs": [],
   "source": [
    "class EditHTML(ipw.VBox):\n",
    "    def __init__(self, value='', text_height=400):\n",
    "        super().__init__()\n",
    "        self.HTML = ipw.HTMLMath(value=value)\n",
    "        self.Text = ipw.Textarea(value=value)\n",
    "        self.ToggleButton = ipw.Button(description='Toggle')\n",
    "        \n",
    "        self.elements = [self.HTML, self.Text]\n",
    "        self.descriptions = ['Edit', 'Render']\n",
    "        ipw.jslink((self.HTML, 'value'), (self.Text, 'value'))\n",
    "        \n",
    "        # Set height and width of Textarea\n",
    "        self.Text.layout.height = u'{}px'.format(text_height)\n",
    "        self.Text.layout.width = u'95%'\n",
    "        \n",
    "        # Set HTML view by default\n",
    "        self.set_view(0)\n",
    "        \n",
    "        self.ToggleButton.on_click(self.toggle)\n",
    "    \n",
    "    def set_view(self, state):\n",
    "        self.state = state\n",
    "        self.children = [self.elements[state], self.ToggleButton]\n",
    "        self.ToggleButton.description = self.descriptions[state]\n",
    "        \n",
    "    def toggle(self, caller):\n",
    "        self.set_view((self.state+1)%2)"
   ]
  },
  {
   "cell_type": "code",
   "execution_count": 15,
   "metadata": {
    "collapsed": true
   },
   "outputs": [],
   "source": [
    "class WorkflowWidget(ipw.HBox):\n",
    "    \"Widget to draw DAG via bqplot and provide node-level info/interaction.\"\n",
    "    def __init__(self, bqgraph):\n",
    "        super(WorkflowWidget, self).__init__()\n",
    "        \n",
    "        # Define variables\n",
    "        self.bqgraph = bqgraph\n",
    "        self._fig_layout = ipw.Layout(width='400px', height='600px')\n",
    "        self._xs = bq.LinearScale()\n",
    "        self._ys = bq.LinearScale()\n",
    "        self._scales = {'x': xs, 'y': ys}\n",
    "        mgin = 10\n",
    "        \n",
    "        # Define elements\n",
    "        self._metadata_template = \"\"\"\n",
    "        Node name: {name}\n",
    "        <br>\n",
    "        Last modified: {date}\n",
    "        <br>\n",
    "        Description: {word}\n",
    "        \"\"\"\n",
    "        self._metadata = ipw.HTML()\n",
    "        \n",
    "        readme_html = EditHTML(r\"\"\"\n",
    "            <h1>Radiative Transfer</h1>\n",
    "\n",
    "            The Radiative Transfer Equation is given by\n",
    "\n",
    "            <p>\n",
    "            $$\\nabla I \\cdot \\omega = -c\\, I(x, \\omega) + \\int_\\Omega \\beta(|\\omega-\\omega'|)\\, I(x, \\omega')$$\n",
    "            </p>\n",
    "\n",
    "            It is useful for\n",
    "            <ul>\n",
    "            <li>\n",
    "            Stellar astrophysics\n",
    "            </li>\n",
    "            <li>\n",
    "            Kelp\n",
    "            </li>\n",
    "            <li>\n",
    "            Nice conversations\n",
    "            </li>\n",
    "            </ul>\n",
    "\n",
    "            And is explained well by the following diagram.\n",
    "            <br />\n",
    "            <br />\n",
    "            <img width=300px src=\"http://soap.siteturbine.com/uploaded_files/www.oceanopticsbook.info/images/WebBook/0dd27b964e95146d0af2052b67c7b5df.png\" />\n",
    "        \"\"\")\n",
    "        self._notebook_button = ipw.Button(\n",
    "            description='Open Notebook',\n",
    "            button_style='success'\n",
    "        )\n",
    "        self._log_path_input = ipw.Text(\n",
    "            description='Log path',\n",
    "            value='/etc/login.defs'\n",
    "        )\n",
    "        self._log_html = ipw.HTML()\n",
    "        \n",
    "        self._readme_area = ipw.VBox([\n",
    "            readme_html\n",
    "        ])\n",
    "        self._info_area = ipw.VBox([\n",
    "            self._notebook_button,\n",
    "            self._metadata\n",
    "        ])\n",
    "        self._log_area = ipw.VBox([\n",
    "            self._log_path_input,\n",
    "            self._log_html\n",
    "        ])\n",
    "        \n",
    "        self._graph_plot = bq.Figure(\n",
    "            marks=[self.bqgraph],\n",
    "            layout=self._fig_layout\n",
    "        )\n",
    "        self._tab = ipw.Tab([\n",
    "            self._readme_area,\n",
    "            self._info_area,\n",
    "            self._log_area\n",
    "        ])\n",
    "        \n",
    "        # Define layout\n",
    "        self.children = [\n",
    "            self._graph_plot,\n",
    "            self._tab,\n",
    "        ]\n",
    "        \n",
    "        # Set attributes\n",
    "        self._tab.set_title(0, 'Readme')\n",
    "        self._tab.set_title(1, 'Info')\n",
    "        self._tab.set_title(2, 'Log')\n",
    "        self._tab.layout.height = self._fig_layout.height\n",
    "        self._tab.layout.width = self._fig_layout.width\n",
    "        \n",
    "        #self._graph_plot.layout.border = '3px red solid'\n",
    "        self._graph_plot.fig_margin = dict(\n",
    "            left=mgin,\n",
    "            right=mgin,\n",
    "            bottom=mgin,\n",
    "            top=mgin\n",
    "        )\n",
    "        self._graph_plot.min_aspect_ratio = 0\n",
    "        \n",
    "        # Graph style\n",
    "        self.bqgraph.selected_style = dict(\n",
    "            stroke='red'\n",
    "        )\n",
    "        \n",
    "        # Default selections\n",
    "        self._tab.selected_index = 0\n",
    "        self.bqgraph.selected = [0]\n",
    "        \n",
    "        # Logic\n",
    "        self.bqgraph.observe(self._call_update_metadata, names='selected')\n",
    "        self._log_path_input.on_submit(self._call_read_log)\n",
    "        \n",
    "        # Run updates\n",
    "        self._call_read_log()\n",
    "        self._update_metadata(self.bqgraph.metadata[0])\n",
    "    \n",
    "    def _update_metadata(self, metadata):\n",
    "        self._metadata.value = self._metadata_template.format(**metadata)\n",
    "       \n",
    "    def _call_update_metadata(self, change):\n",
    "        try:\n",
    "            new_name = self.bqgraph.metadata[change['new'][0]]\n",
    "        except TypeError:\n",
    "            new_name = defaultdict(str)\n",
    "        self._update_metadata(new_name)\n",
    "    \n",
    "    def _read_log(self, log_path):\n",
    "        try:\n",
    "            with open(log_path) as log_file:\n",
    "                log_text = log_file.read()\n",
    "        except IOError:\n",
    "            log_text = 'Error opening {}'.format(log_path)\n",
    "        \n",
    "        self._log_html.value = log_text\n",
    "    \n",
    "    def _call_read_log(self, caller=None):\n",
    "        log_path = self._log_path_input.value\n",
    "        self._read_log(log_path)"
   ]
  },
  {
   "cell_type": "code",
   "execution_count": 19,
   "metadata": {
    "collapsed": true
   },
   "outputs": [],
   "source": [
    "d = defaultdict(str)"
   ]
  },
  {
   "cell_type": "code",
   "execution_count": 24,
   "metadata": {},
   "outputs": [
    {
     "data": {
      "text/plain": [
       "''"
      ]
     },
     "execution_count": 24,
     "metadata": {},
     "output_type": "execute_result"
    }
   ],
   "source": [
    "d.__getitem__('name')"
   ]
  },
  {
   "cell_type": "code",
   "execution_count": 27,
   "metadata": {},
   "outputs": [
    {
     "data": {
      "text/plain": [
       "\"''\""
      ]
     },
     "execution_count": 27,
     "metadata": {},
     "output_type": "execute_result"
    }
   ],
   "source": [
    "\"'{name}'\".format(**d)"
   ]
  },
  {
   "cell_type": "code",
   "execution_count": null,
   "metadata": {
    "collapsed": true
   },
   "outputs": [],
   "source": []
  },
  {
   "cell_type": "code",
   "execution_count": 28,
   "metadata": {
    "scrolled": false
   },
   "outputs": [
    {
     "data": {
      "application/vnd.jupyter.widget-view+json": {
       "model_id": "9184c5b950894a358c0c1e24c6e2fd75",
       "version_major": "2",
       "version_minor": "0"
      },
      "text/plain": [
       "A Jupyter Widget"
      ]
     },
     "metadata": {},
     "output_type": "display_data"
    },
    {
     "ename": "KeyError",
     "evalue": "'name'",
     "output_type": "error",
     "traceback": [
      "\u001b[0;31m---------------------------------------------------------------------------\u001b[0m",
      "\u001b[0;31mKeyError\u001b[0m                                  Traceback (most recent call last)",
      "\u001b[0;32m~/local/miniconda3/lib/python3.6/site-packages/ipywidgets/widgets/widget.py\u001b[0m in \u001b[0;36m_handle_msg\u001b[0;34m(self, msg)\u001b[0m\n\u001b[1;32m    621\u001b[0m                 \u001b[0;32mif\u001b[0m \u001b[0;34m'buffer_paths'\u001b[0m \u001b[0;32min\u001b[0m \u001b[0mdata\u001b[0m\u001b[0;34m:\u001b[0m\u001b[0;34m\u001b[0m\u001b[0m\n\u001b[1;32m    622\u001b[0m                     \u001b[0m_put_buffers\u001b[0m\u001b[0;34m(\u001b[0m\u001b[0mstate\u001b[0m\u001b[0;34m,\u001b[0m \u001b[0mdata\u001b[0m\u001b[0;34m[\u001b[0m\u001b[0;34m'buffer_paths'\u001b[0m\u001b[0;34m]\u001b[0m\u001b[0;34m,\u001b[0m \u001b[0mmsg\u001b[0m\u001b[0;34m[\u001b[0m\u001b[0;34m'buffers'\u001b[0m\u001b[0;34m]\u001b[0m\u001b[0;34m)\u001b[0m\u001b[0;34m\u001b[0m\u001b[0m\n\u001b[0;32m--> 623\u001b[0;31m                 \u001b[0mself\u001b[0m\u001b[0;34m.\u001b[0m\u001b[0mset_state\u001b[0m\u001b[0;34m(\u001b[0m\u001b[0mstate\u001b[0m\u001b[0;34m)\u001b[0m\u001b[0;34m\u001b[0m\u001b[0m\n\u001b[0m\u001b[1;32m    624\u001b[0m \u001b[0;34m\u001b[0m\u001b[0m\n\u001b[1;32m    625\u001b[0m         \u001b[0;31m# Handle a state request.\u001b[0m\u001b[0;34m\u001b[0m\u001b[0;34m\u001b[0m\u001b[0m\n",
      "\u001b[0;32m~/local/miniconda3/lib/python3.6/site-packages/ipywidgets/widgets/widget.py\u001b[0m in \u001b[0;36mset_state\u001b[0;34m(self, sync_data)\u001b[0m\n\u001b[1;32m    496\u001b[0m                     from_json = self.trait_metadata(name, 'from_json',\n\u001b[1;32m    497\u001b[0m                                                     self._trait_from_json)\n\u001b[0;32m--> 498\u001b[0;31m                     \u001b[0mself\u001b[0m\u001b[0;34m.\u001b[0m\u001b[0mset_trait\u001b[0m\u001b[0;34m(\u001b[0m\u001b[0mname\u001b[0m\u001b[0;34m,\u001b[0m \u001b[0mfrom_json\u001b[0m\u001b[0;34m(\u001b[0m\u001b[0msync_data\u001b[0m\u001b[0;34m[\u001b[0m\u001b[0mname\u001b[0m\u001b[0;34m]\u001b[0m\u001b[0;34m,\u001b[0m \u001b[0mself\u001b[0m\u001b[0;34m)\u001b[0m\u001b[0;34m)\u001b[0m\u001b[0;34m\u001b[0m\u001b[0m\n\u001b[0m\u001b[1;32m    499\u001b[0m \u001b[0;34m\u001b[0m\u001b[0m\n\u001b[1;32m    500\u001b[0m     \u001b[0;32mdef\u001b[0m \u001b[0msend\u001b[0m\u001b[0;34m(\u001b[0m\u001b[0mself\u001b[0m\u001b[0;34m,\u001b[0m \u001b[0mcontent\u001b[0m\u001b[0;34m,\u001b[0m \u001b[0mbuffers\u001b[0m\u001b[0;34m=\u001b[0m\u001b[0;32mNone\u001b[0m\u001b[0;34m)\u001b[0m\u001b[0;34m:\u001b[0m\u001b[0;34m\u001b[0m\u001b[0m\n",
      "\u001b[0;32m~/local/miniconda3/lib/python3.6/contextlib.py\u001b[0m in \u001b[0;36m__exit__\u001b[0;34m(self, type, value, traceback)\u001b[0m\n\u001b[1;32m     87\u001b[0m         \u001b[0;32mif\u001b[0m \u001b[0mtype\u001b[0m \u001b[0;32mis\u001b[0m \u001b[0;32mNone\u001b[0m\u001b[0;34m:\u001b[0m\u001b[0;34m\u001b[0m\u001b[0m\n\u001b[1;32m     88\u001b[0m             \u001b[0;32mtry\u001b[0m\u001b[0;34m:\u001b[0m\u001b[0;34m\u001b[0m\u001b[0m\n\u001b[0;32m---> 89\u001b[0;31m                 \u001b[0mnext\u001b[0m\u001b[0;34m(\u001b[0m\u001b[0mself\u001b[0m\u001b[0;34m.\u001b[0m\u001b[0mgen\u001b[0m\u001b[0;34m)\u001b[0m\u001b[0;34m\u001b[0m\u001b[0m\n\u001b[0m\u001b[1;32m     90\u001b[0m             \u001b[0;32mexcept\u001b[0m \u001b[0mStopIteration\u001b[0m\u001b[0;34m:\u001b[0m\u001b[0;34m\u001b[0m\u001b[0m\n\u001b[1;32m     91\u001b[0m                 \u001b[0;32mreturn\u001b[0m\u001b[0;34m\u001b[0m\u001b[0m\n",
      "\u001b[0;32m~/local/miniconda3/lib/python3.6/site-packages/traitlets/traitlets.py\u001b[0m in \u001b[0;36mhold_trait_notifications\u001b[0;34m(self)\u001b[0m\n\u001b[1;32m   1129\u001b[0m                 \u001b[0;32mfor\u001b[0m \u001b[0mchanges\u001b[0m \u001b[0;32min\u001b[0m \u001b[0mcache\u001b[0m\u001b[0;34m.\u001b[0m\u001b[0mvalues\u001b[0m\u001b[0;34m(\u001b[0m\u001b[0;34m)\u001b[0m\u001b[0;34m:\u001b[0m\u001b[0;34m\u001b[0m\u001b[0m\n\u001b[1;32m   1130\u001b[0m                     \u001b[0;32mfor\u001b[0m \u001b[0mchange\u001b[0m \u001b[0;32min\u001b[0m \u001b[0mchanges\u001b[0m\u001b[0;34m:\u001b[0m\u001b[0;34m\u001b[0m\u001b[0m\n\u001b[0;32m-> 1131\u001b[0;31m                         \u001b[0mself\u001b[0m\u001b[0;34m.\u001b[0m\u001b[0mnotify_change\u001b[0m\u001b[0;34m(\u001b[0m\u001b[0mchange\u001b[0m\u001b[0;34m)\u001b[0m\u001b[0;34m\u001b[0m\u001b[0m\n\u001b[0m\u001b[1;32m   1132\u001b[0m \u001b[0;34m\u001b[0m\u001b[0m\n\u001b[1;32m   1133\u001b[0m     \u001b[0;32mdef\u001b[0m \u001b[0m_notify_trait\u001b[0m\u001b[0;34m(\u001b[0m\u001b[0mself\u001b[0m\u001b[0;34m,\u001b[0m \u001b[0mname\u001b[0m\u001b[0;34m,\u001b[0m \u001b[0mold_value\u001b[0m\u001b[0;34m,\u001b[0m \u001b[0mnew_value\u001b[0m\u001b[0;34m)\u001b[0m\u001b[0;34m:\u001b[0m\u001b[0;34m\u001b[0m\u001b[0m\n",
      "\u001b[0;32m~/local/miniconda3/lib/python3.6/site-packages/ipywidgets/widgets/widget.py\u001b[0m in \u001b[0;36mnotify_change\u001b[0;34m(self, change)\u001b[0m\n\u001b[1;32m    557\u001b[0m                 \u001b[0;31m# Send new state to front-end\u001b[0m\u001b[0;34m\u001b[0m\u001b[0;34m\u001b[0m\u001b[0m\n\u001b[1;32m    558\u001b[0m                 \u001b[0mself\u001b[0m\u001b[0;34m.\u001b[0m\u001b[0msend_state\u001b[0m\u001b[0;34m(\u001b[0m\u001b[0mkey\u001b[0m\u001b[0;34m=\u001b[0m\u001b[0mname\u001b[0m\u001b[0;34m)\u001b[0m\u001b[0;34m\u001b[0m\u001b[0m\n\u001b[0;32m--> 559\u001b[0;31m         \u001b[0msuper\u001b[0m\u001b[0;34m(\u001b[0m\u001b[0mWidget\u001b[0m\u001b[0;34m,\u001b[0m \u001b[0mself\u001b[0m\u001b[0;34m)\u001b[0m\u001b[0;34m.\u001b[0m\u001b[0mnotify_change\u001b[0m\u001b[0;34m(\u001b[0m\u001b[0mchange\u001b[0m\u001b[0;34m)\u001b[0m\u001b[0;34m\u001b[0m\u001b[0m\n\u001b[0m\u001b[1;32m    560\u001b[0m \u001b[0;34m\u001b[0m\u001b[0m\n\u001b[1;32m    561\u001b[0m     \u001b[0;32mdef\u001b[0m \u001b[0m__repr__\u001b[0m\u001b[0;34m(\u001b[0m\u001b[0mself\u001b[0m\u001b[0;34m)\u001b[0m\u001b[0;34m:\u001b[0m\u001b[0;34m\u001b[0m\u001b[0m\n",
      "\u001b[0;32m~/local/miniconda3/lib/python3.6/site-packages/traitlets/traitlets.py\u001b[0m in \u001b[0;36mnotify_change\u001b[0;34m(self, change)\u001b[0m\n\u001b[1;32m   1174\u001b[0m                 \u001b[0mc\u001b[0m \u001b[0;34m=\u001b[0m \u001b[0mgetattr\u001b[0m\u001b[0;34m(\u001b[0m\u001b[0mself\u001b[0m\u001b[0;34m,\u001b[0m \u001b[0mc\u001b[0m\u001b[0;34m.\u001b[0m\u001b[0mname\u001b[0m\u001b[0;34m)\u001b[0m\u001b[0;34m\u001b[0m\u001b[0m\n\u001b[1;32m   1175\u001b[0m \u001b[0;34m\u001b[0m\u001b[0m\n\u001b[0;32m-> 1176\u001b[0;31m             \u001b[0mc\u001b[0m\u001b[0;34m(\u001b[0m\u001b[0mchange\u001b[0m\u001b[0;34m)\u001b[0m\u001b[0;34m\u001b[0m\u001b[0m\n\u001b[0m\u001b[1;32m   1177\u001b[0m \u001b[0;34m\u001b[0m\u001b[0m\n\u001b[1;32m   1178\u001b[0m     \u001b[0;32mdef\u001b[0m \u001b[0m_add_notifiers\u001b[0m\u001b[0;34m(\u001b[0m\u001b[0mself\u001b[0m\u001b[0;34m,\u001b[0m \u001b[0mhandler\u001b[0m\u001b[0;34m,\u001b[0m \u001b[0mname\u001b[0m\u001b[0;34m,\u001b[0m \u001b[0mtype\u001b[0m\u001b[0;34m)\u001b[0m\u001b[0;34m:\u001b[0m\u001b[0;34m\u001b[0m\u001b[0m\n",
      "\u001b[0;32m<ipython-input-15-08c2552eb5d6>\u001b[0m in \u001b[0;36m_call_update_metadata\u001b[0;34m(self, change)\u001b[0m\n\u001b[1;32m    128\u001b[0m         \u001b[0;32mexcept\u001b[0m \u001b[0mTypeError\u001b[0m\u001b[0;34m:\u001b[0m\u001b[0;34m\u001b[0m\u001b[0m\n\u001b[1;32m    129\u001b[0m             \u001b[0mnew_name\u001b[0m \u001b[0;34m=\u001b[0m \u001b[0mdefaultdict\u001b[0m\u001b[0;34m(\u001b[0m\u001b[0mstr\u001b[0m\u001b[0;34m)\u001b[0m\u001b[0;34m\u001b[0m\u001b[0m\n\u001b[0;32m--> 130\u001b[0;31m         \u001b[0mself\u001b[0m\u001b[0;34m.\u001b[0m\u001b[0m_update_metadata\u001b[0m\u001b[0;34m(\u001b[0m\u001b[0mnew_name\u001b[0m\u001b[0;34m)\u001b[0m\u001b[0;34m\u001b[0m\u001b[0m\n\u001b[0m\u001b[1;32m    131\u001b[0m \u001b[0;34m\u001b[0m\u001b[0m\n\u001b[1;32m    132\u001b[0m     \u001b[0;32mdef\u001b[0m \u001b[0m_read_log\u001b[0m\u001b[0;34m(\u001b[0m\u001b[0mself\u001b[0m\u001b[0;34m,\u001b[0m \u001b[0mlog_path\u001b[0m\u001b[0;34m)\u001b[0m\u001b[0;34m:\u001b[0m\u001b[0;34m\u001b[0m\u001b[0m\n",
      "\u001b[0;32m<ipython-input-15-08c2552eb5d6>\u001b[0m in \u001b[0;36m_update_metadata\u001b[0;34m(self, metadata)\u001b[0m\n\u001b[1;32m    121\u001b[0m \u001b[0;34m\u001b[0m\u001b[0m\n\u001b[1;32m    122\u001b[0m     \u001b[0;32mdef\u001b[0m \u001b[0m_update_metadata\u001b[0m\u001b[0;34m(\u001b[0m\u001b[0mself\u001b[0m\u001b[0;34m,\u001b[0m \u001b[0mmetadata\u001b[0m\u001b[0;34m)\u001b[0m\u001b[0;34m:\u001b[0m\u001b[0;34m\u001b[0m\u001b[0m\n\u001b[0;32m--> 123\u001b[0;31m         \u001b[0mself\u001b[0m\u001b[0;34m.\u001b[0m\u001b[0m_metadata\u001b[0m\u001b[0;34m.\u001b[0m\u001b[0mvalue\u001b[0m \u001b[0;34m=\u001b[0m \u001b[0mself\u001b[0m\u001b[0;34m.\u001b[0m\u001b[0m_metadata_template\u001b[0m\u001b[0;34m.\u001b[0m\u001b[0mformat\u001b[0m\u001b[0;34m(\u001b[0m\u001b[0;34m**\u001b[0m\u001b[0mmetadata\u001b[0m\u001b[0;34m)\u001b[0m\u001b[0;34m\u001b[0m\u001b[0m\n\u001b[0m\u001b[1;32m    124\u001b[0m \u001b[0;34m\u001b[0m\u001b[0m\n\u001b[1;32m    125\u001b[0m     \u001b[0;32mdef\u001b[0m \u001b[0m_call_update_metadata\u001b[0m\u001b[0;34m(\u001b[0m\u001b[0mself\u001b[0m\u001b[0;34m,\u001b[0m \u001b[0mchange\u001b[0m\u001b[0;34m)\u001b[0m\u001b[0;34m:\u001b[0m\u001b[0;34m\u001b[0m\u001b[0m\n",
      "\u001b[0;31mKeyError\u001b[0m: 'name'"
     ]
    }
   ],
   "source": [
    "w = WorkflowWidget(graph)\n",
    "w"
   ]
  },
  {
   "cell_type": "code",
   "execution_count": 82,
   "metadata": {},
   "outputs": [
    {
     "data": {
      "application/vnd.jupyter.widget-view+json": {
       "model_id": "3a629ca843d841549762da9f13dc1ca1",
       "version_major": "2",
       "version_minor": "0"
      },
      "text/plain": [
       "A Jupyter Widget"
      ]
     },
     "metadata": {},
     "output_type": "display_data"
    }
   ],
   "source": [
    "e = EditHTML(r\"\"\"\n",
    "            <h1>Radiative Transfer</h1>\n",
    "\n",
    "            The Radiative Transfer Equation is given by\n",
    "\n",
    "            <p>\n",
    "            $$\\nabla I \\cdot \\omega = -c\\, I(x, \\omega) + \\int_\\Omega \\beta(|\\omega-\\omega'|)\\, I(x, \\omega')$$\n",
    "            </p>\n",
    "\n",
    "            It is useful for\n",
    "            <ul>\n",
    "            <li>\n",
    "            Stellar astrophysics\n",
    "            </li>\n",
    "            <li>\n",
    "            Kelp\n",
    "            </li>\n",
    "            <li>\n",
    "            Nice conversations\n",
    "            </li>\n",
    "            </ul>\n",
    "\n",
    "            And is explained well by the following diagram.\n",
    "            <br />\n",
    "            <br />\n",
    "            <img width=300px src=\"http://soap.siteturbine.com/uploaded_files/www.oceanopticsbook.info/images/WebBook/0dd27b964e95146d0af2052b67c7b5df.png\" />\n",
    "        \"\"\")\n",
    "e"
   ]
  },
  {
   "cell_type": "code",
   "execution_count": 83,
   "metadata": {
    "collapsed": true
   },
   "outputs": [],
   "source": [
    "h = e.children[0]"
   ]
  },
  {
   "cell_type": "code",
   "execution_count": 63,
   "metadata": {
    "collapsed": true
   },
   "outputs": [],
   "source": [
    "t = e.children[0]"
   ]
  },
  {
   "cell_type": "code",
   "execution_count": 64,
   "metadata": {
    "collapsed": true
   },
   "outputs": [],
   "source": [
    "t.layout.height = u'300px'"
   ]
  },
  {
   "cell_type": "code",
   "execution_count": 62,
   "metadata": {},
   "outputs": [],
   "source": [
    "h.layout.min_width"
   ]
  },
  {
   "cell_type": "code",
   "execution_count": 47,
   "metadata": {},
   "outputs": [
    {
     "data": {
      "text/plain": [
       "(HTML(value=''), Button(description='Toggle', style=ButtonStyle()))"
      ]
     },
     "execution_count": 47,
     "metadata": {},
     "output_type": "execute_result"
    }
   ],
   "source": [
    "e.children"
   ]
  },
  {
   "cell_type": "code",
   "execution_count": 24,
   "metadata": {
    "collapsed": true
   },
   "outputs": [],
   "source": [
    "ipw.jslink?"
   ]
  },
  {
   "cell_type": "code",
   "execution_count": null,
   "metadata": {
    "collapsed": true
   },
   "outputs": [],
   "source": [
    "!0"
   ]
  },
  {
   "cell_type": "code",
   "execution_count": 30,
   "metadata": {
    "collapsed": true
   },
   "outputs": [],
   "source": [
    "h = ipw.HTML()\n",
    "t = ipw.Textarea()"
   ]
  },
  {
   "cell_type": "code",
   "execution_count": 31,
   "metadata": {
    "collapsed": true
   },
   "outputs": [],
   "source": [
    "ipw.jslink((h, 'value'), (t, 'value'))"
   ]
  },
  {
   "cell_type": "code",
   "execution_count": 33,
   "metadata": {},
   "outputs": [],
   "source": [
    "o = ipw.Output()"
   ]
  },
  {
   "cell_type": "code",
   "execution_count": 36,
   "metadata": {
    "collapsed": true
   },
   "outputs": [],
   "source": [
    "b = ipw.VBox()"
   ]
  },
  {
   "cell_type": "code",
   "execution_count": null,
   "metadata": {
    "collapsed": true
   },
   "outputs": [],
   "source": [
    "t.on_"
   ]
  },
  {
   "cell_type": "code",
   "execution_count": 37,
   "metadata": {
    "collapsed": true
   },
   "outputs": [],
   "source": [
    "b.on_msg?"
   ]
  },
  {
   "cell_type": "code",
   "execution_count": 35,
   "metadata": {},
   "outputs": [
    {
     "data": {
      "text/plain": [
       "{'_display_callbacks': <traitlets.traitlets.Instance at 0x2afb9fb03160>,\n",
       " '_dom_classes': <traitlets.traitlets.Tuple at 0x2afb9fb03588>,\n",
       " '_model_module': <traitlets.traitlets.Unicode at 0x2afb9fb0bda0>,\n",
       " '_model_module_version': <traitlets.traitlets.Unicode at 0x2afb9fb0be48>,\n",
       " '_model_name': <traitlets.traitlets.Unicode at 0x2afb9fb5b3c8>,\n",
       " '_msg_callbacks': <traitlets.traitlets.Instance at 0x2afb9fb03198>,\n",
       " '_property_lock': <traitlets.traitlets.Dict at 0x2afb9fb030f0>,\n",
       " '_states_to_send': <traitlets.traitlets.Set at 0x2afb9fb03128>,\n",
       " '_view_count': <traitlets.traitlets.Int at 0x2afb9faf8f60>,\n",
       " '_view_module': <traitlets.traitlets.Unicode at 0x2afb9fb0be80>,\n",
       " '_view_module_version': <traitlets.traitlets.Unicode at 0x2afb9fb0beb8>,\n",
       " '_view_name': <traitlets.traitlets.Unicode at 0x2afb9fb5b390>,\n",
       " 'comm': <traitlets.traitlets.Instance at 0x2afb9faf8f98>,\n",
       " 'description': <traitlets.traitlets.Unicode at 0x2afb9fb1b860>,\n",
       " 'keys': <traitlets.traitlets.List at 0x2afb9fb03048>,\n",
       " 'layout': <ipywidgets.widgets.trait_types.InstanceDict at 0x2afb9fb0b160>,\n",
       " 'log': <traitlets.traitlets.Instance at 0x2afb9faf8b70>,\n",
       " 'msg_throttle': <traitlets.traitlets.Int at 0x2afb9faf8fd0>,\n",
       " 'placeholder': <traitlets.traitlets.Unicode at 0x2afb9fb5b2b0>,\n",
       " 'style': <ipywidgets.widgets.trait_types.InstanceDict at 0x2afb9fb1b898>,\n",
       " 'value': <traitlets.traitlets.Unicode at 0x2afb9fb5b278>}"
      ]
     },
     "execution_count": 35,
     "metadata": {},
     "output_type": "execute_result"
    }
   ],
   "source": [
    "h.traits()"
   ]
  },
  {
   "cell_type": "code",
   "execution_count": null,
   "metadata": {
    "collapsed": true
   },
   "outputs": [],
   "source": [
    "def toggle():\n",
    "    "
   ]
  },
  {
   "cell_type": "code",
   "execution_count": 19,
   "metadata": {},
   "outputs": [
    {
     "data": {
      "application/vnd.jupyter.widget-view+json": {
       "model_id": "6fb9bb929ccd4d8580e96bebacdb2776",
       "version_major": "2",
       "version_minor": "0"
      },
      "text/plain": [
       "A Jupyter Widget"
      ]
     },
     "metadata": {},
     "output_type": "display_data"
    }
   ],
   "source": [
    "h"
   ]
  },
  {
   "cell_type": "code",
   "execution_count": 20,
   "metadata": {},
   "outputs": [
    {
     "data": {
      "application/vnd.jupyter.widget-view+json": {
       "model_id": "5b1bfa50460b4fff85d6fa34aac239cc",
       "version_major": "2",
       "version_minor": "0"
      },
      "text/plain": [
       "A Jupyter Widget"
      ]
     },
     "metadata": {},
     "output_type": "display_data"
    }
   ],
   "source": [
    "t"
   ]
  },
  {
   "cell_type": "code",
   "execution_count": null,
   "metadata": {
    "collapsed": true
   },
   "outputs": [],
   "source": []
  }
 ],
 "metadata": {
  "kernelspec": {
   "display_name": "Python 3",
   "language": "python",
   "name": "python3"
  },
  "language_info": {
   "codemirror_mode": {
    "name": "ipython",
    "version": 3
   },
   "file_extension": ".py",
   "mimetype": "text/x-python",
   "name": "python",
   "nbconvert_exporter": "python",
   "pygments_lexer": "ipython3",
   "version": "3.6.0"
  }
 },
 "nbformat": 4,
 "nbformat_minor": 2
}
