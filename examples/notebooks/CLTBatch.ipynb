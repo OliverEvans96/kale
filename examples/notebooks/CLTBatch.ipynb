{
 "cells": [
  {
   "cell_type": "code",
   "execution_count": 2,
   "metadata": {},
   "outputs": [],
   "source": [
    "import kale"
   ]
  },
  {
   "cell_type": "code",
   "execution_count": 3,
   "metadata": {},
   "outputs": [],
   "source": [
    "parsl_pool = kale.workflow_objects.WorkerPool(\n",
    "    name='parsl_pool',\n",
    "    wf_executor='parsl',\n",
    "    num_workers=5\n",
    ")"
   ]
  },
  {
   "cell_type": "code",
   "execution_count": 9,
   "metadata": {},
   "outputs": [
    {
     "name": "stdout",
     "output_type": "stream",
     "text": [
      "Adding deps: <kale.workflow_objects.CommandLineTask object at 0x2aaac3400470> <- [<kale.workflow_objects.CommandLineTask object at 0x2aaac3400048>]\n",
      "Adding deps: <kale.workflow_objects.PythonFunctionTask object at 0x2aaac3400f60> <- [<kale.workflow_objects.CommandLineTask object at 0x2aaac3400470>]\n"
     ]
    }
   ],
   "source": [
    "stress_task = kale.workflow_objects.CommandLineTask(\n",
    "    name='StressTask',\n",
    "    command='stress -c 3 -t 20',\n",
    "    poll_interval=15,\n",
    "    nodes_cores='1:ppn=3',\n",
    "    batch=False\n",
    ")\n",
    "stress_task_1 = kale.workflow_objects.CommandLineTask(\n",
    "    name='StressTask1',\n",
    "    command='stress -c 5 -t 10',\n",
    "    poll_interval=5,\n",
    "    nodes_cores='1:ppn=5',\n",
    "    batch=True\n",
    ")\n",
    "\n",
    "def done():\n",
    "    print(\"The lovely task is done!\")\n",
    "done_task = kale.workflow_objects.PythonFunctionTask(\n",
    "    name='DoneTask',\n",
    "    func=done\n",
    ")\n",
    "\n",
    "stress_wf = kale.workflow_objects.Workflow('Stress WF 1')\n",
    "stress_wf.add_task(stress_task)\n",
    "stress_wf.add_task(stress_task_1, dependencies=[stress_task])\n",
    "stress_wf.add_task(done_task, dependencies=[stress_task_1])"
   ]
  },
  {
   "cell_type": "code",
   "execution_count": 10,
   "metadata": {},
   "outputs": [
    {
     "name": "stdout",
     "output_type": "stream",
     "text": [
      "Creating logpath\n",
      "Created path for ./kale_logs/StressTask1\n",
      "Run batch job\n",
      "QSUB COMMAND: qsub /tmp/tmp.5nvn6MAw5V\n",
      "qstat 405591.bethel.bw01.uakron.edu\n",
      "out = \"Job id                    Name             User            Time Use S Queue\n",
      "------------------------- ---------------- --------------- -------- - -----\n",
      "405591.bethel              StressTask1      oge1                   0 Q default\"\n",
      "qstat 405591.bethel.bw01.uakron.edu\n",
      "Job success.\n",
      "The lovely task is done!\n"
     ]
    }
   ],
   "source": [
    "parsl_pool.parsl_run(stress_wf)"
   ]
  },
  {
   "cell_type": "code",
   "execution_count": null,
   "metadata": {},
   "outputs": [],
   "source": [
    "wpw = kale.workflow_widgets.WorkerPoolWidget()\n",
    "wpw"
   ]
  },
  {
   "cell_type": "code",
   "execution_count": null,
   "metadata": {},
   "outputs": [],
   "source": [
    "kale.workflow_widgets.WorkflowWidget(stress_wf, wpw)"
   ]
  },
  {
   "cell_type": "code",
   "execution_count": null,
   "metadata": {},
   "outputs": [],
   "source": []
  }
 ],
 "metadata": {
  "kernelspec": {
   "display_name": "Python 3",
   "language": "python",
   "name": "python3"
  },
  "language_info": {
   "codemirror_mode": {
    "name": "ipython",
    "version": 3
   },
   "file_extension": ".py",
   "mimetype": "text/x-python",
   "name": "python",
   "nbconvert_exporter": "python",
   "pygments_lexer": "ipython3",
   "version": "3.6.1"
  }
 },
 "nbformat": 4,
 "nbformat_minor": 2
}
