{
 "cells": [
  {
   "cell_type": "markdown",
   "metadata": {},
   "source": [
    "# Create Kale Workflows from Fireworks Workflows"
   ]
  },
  {
   "cell_type": "code",
   "execution_count": 1,
   "metadata": {},
   "outputs": [],
   "source": [
    "%load_ext autoreload\n",
    "%autoreload 2"
   ]
  },
  {
   "cell_type": "code",
   "execution_count": 28,
   "metadata": {},
   "outputs": [],
   "source": [
    "import itertools as it"
   ]
  },
  {
   "cell_type": "code",
   "execution_count": 2,
   "metadata": {},
   "outputs": [],
   "source": [
    "from fireworks import Firework, Workflow, LaunchPad, ScriptTask\n",
    "from fireworks.core.rocket_launcher import rapidfire"
   ]
  },
  {
   "cell_type": "code",
   "execution_count": 3,
   "metadata": {},
   "outputs": [],
   "source": [
    "from kale import workflow_objects as wo\n",
    "from kale import workflow_widgets as ww"
   ]
  },
  {
   "cell_type": "code",
   "execution_count": 4,
   "metadata": {},
   "outputs": [],
   "source": [
    "# set up the LaunchPad and reset it\n",
    "fwconfig_file = '/opt/conda/lib/python3.6/site-packages/my_launchpad.yaml'\n",
    "with open(fwconfig_file) as param_file:\n",
    "    params = yaml.load(param_file)\n",
    "launchpad = LaunchPad(**params)\n",
    "#launchpad = LaunchPad()"
   ]
  },
  {
   "cell_type": "code",
   "execution_count": 5,
   "metadata": {},
   "outputs": [
    {
     "name": "stdout",
     "output_type": "stream",
     "text": [
      "2018-01-17 13:53:34,872 INFO Performing db tune-up\n",
      "2018-01-17 13:53:34,891 INFO LaunchPad was RESET.\n"
     ]
    }
   ],
   "source": [
    "launchpad.reset('', require_password=False)"
   ]
  },
  {
   "cell_type": "code",
   "execution_count": 7,
   "metadata": {},
   "outputs": [],
   "source": [
    "def sort_fw_links(links):\n",
    "    \"\"\"Use NetworkX to topologically sort tasks\n",
    "    so that they can be created and added to the workflow\n",
    "    \"\"\""
   ]
  },
  {
   "cell_type": "code",
   "execution_count": 24,
   "metadata": {},
   "outputs": [],
   "source": [
    "def kale_from_fw(fw_wf):\n",
    "    \"\"\"Create Kale Workflow from Fireworks Workflow.\n",
    "    Currently only implemented for ScriptTasks.\"\"\"\n",
    "    fireworks = fw_wf.fws\n",
    "    kale_wf = wo.Workflow(fw_wf.name)\n",
    "    \n",
    "    # This dict will be used to index tasks by fw_id\n",
    "    kale_tasks = dict()\n",
    "    \n",
    "    # Create tasks\n",
    "    for fw in fireworks:\n",
    "        # FireWorks are composed of FireTasks\n",
    "        # We assume that FireTasks are all run simultaneously,\n",
    "        # so they don't depend on one another.\n",
    "        # All FireTasks within a FireWork will have the same\n",
    "        # dependencies and children.\n",
    "        fw_tasks = []\n",
    "        for task in fw.spec['_tasks']:\n",
    "            # Create Kale Task\n",
    "            if task['_fw_name'] == 'ScriptTask':\n",
    "                kale_task = wo.CommandLineTask(\n",
    "                    command=''.join(task['script']),\n",
    "                    name=fw.name\n",
    "                )\n",
    "            else:\n",
    "                raise NotImplementedError(\"Only ScriptTasks are supported now.\")\n",
    "                \n",
    "            # Add to workflow without dependencies\n",
    "            kale_wf.add_task(kale_task)\n",
    "            \n",
    "            # Save tasks in this firework\n",
    "            fw_tasks.append(kale_task)\n",
    "                \n",
    "        # Save this set of firetasks by firework ID.\n",
    "        kale_tasks[fw.fw_id] = fw_tasks\n",
    "    \n",
    "    # Link tasks\n",
    "    for parent_id, child_ids in wf.links.items():\n",
    "        parent_task_list = kale_tasks[parent_id]\n",
    "        for child_id in child_ids:\n",
    "            child_task_list = kale_tasks[child_id]\n",
    "            # Set all elements of child_task_list to depend on all elements of parent_task_list.\n",
    "            for child_task, parent_task in it.product(child_task_list, parent_task_list):\n",
    "                kale_wf.add_dependencies(child_task, [parent_task])\n",
    "    \n",
    "    return kale_wf"
   ]
  },
  {
   "cell_type": "code",
   "execution_count": 25,
   "metadata": {},
   "outputs": [
    {
     "data": {
      "application/vnd.jupyter.widget-view+json": {
       "model_id": "8d14a56906f5487eafa87d6724e4c689",
       "version_major": 2,
       "version_minor": 0
      },
      "text/html": [
       "<p>Failed to display Jupyter Widget of type <code>WorkerPoolWidget</code>.</p>\n",
       "<p>\n",
       "  If you're reading this message in the Jupyter Notebook or JupyterLab Notebook, it may mean\n",
       "  that the widgets JavaScript is still loading. If this message persists, it\n",
       "  likely means that the widgets JavaScript library is either not installed or\n",
       "  not enabled. See the <a href=\"https://ipywidgets.readthedocs.io/en/stable/user_install.html\">Jupyter\n",
       "  Widgets Documentation</a> for setup instructions.\n",
       "</p>\n",
       "<p>\n",
       "  If you're reading this message in another frontend (for example, a static\n",
       "  rendering on GitHub or <a href=\"https://nbviewer.jupyter.org/\">NBViewer</a>),\n",
       "  it may mean that your frontend doesn't currently support widgets.\n",
       "</p>\n"
      ],
      "text/plain": [
       "WorkerPoolWidget(children=(HTML(value='<h3>Worker Pools</h3>'), TableWidget(children=(RowWidget(children=(HBox(children=(HTML(value='<b>Name</b>'),), layout=Layout(justify_content='flex-start', width='150px')), HBox(children=(HTML(value='<b>Location</b>'),), layout=Layout(justify_content='flex-start', width='200px')), HBox(children=(HTML(value='<b>Executor</b>'),), layout=Layout(justify_content='flex-start', width='200px')), HBox(children=(HTML(value='<b>Workers</b>'),), layout=Layout(justify_content='flex-start', width='60px')), HBox(children=(HTML(value='<b>Action</b>'),), layout=Layout(justify_content='flex-start', width='100px'))), layout=Layout(justify_content='space-between', width='710px')), RowWidget(children=(HBox(children=(HTML(value='default'),), layout=Layout(justify_content='flex-start', width='150px')), HBox(children=(HTML(value='localhost'),), layout=Layout(justify_content='flex-start', width='200px')), HBox(children=(HTML(value='parsl'),), layout=Layout(justify_content='flex-start', width='200px')), HBox(children=(HTML(value='4'),), layout=Layout(justify_content='flex-start', width='60px')), HBox(children=(Button(button_style='danger', description='Remove', style=ButtonStyle()),), layout=Layout(justify_content='flex-start', width='100px'))), layout=Layout(justify_content='space-between', width='710px')), RowWidget(children=(HBox(children=(HTML(value='fw_pool'),), layout=Layout(justify_content='flex-start', width='150px')), HBox(children=(HTML(value='localhost'),), layout=Layout(justify_content='flex-start', width='200px')), HBox(children=(HTML(value='fireworks'),), layout=Layout(justify_content='flex-start', width='200px')), HBox(children=(HTML(value='4'),), layout=Layout(justify_content='flex-start', width='60px')), HBox(children=(Button(button_style='danger', description='Remove', style=ButtonStyle()),), layout=Layout(justify_content='flex-start', width='100px'))), layout=Layout(justify_content='space-between', width='710px')), RowWidget(children=(HBox(children=(Text(value='', layout=Layout(width='148px')),), layout=Layout(justify_content='flex-start', width='150px')), HBox(children=(Dropdown(layout=Layout(width='198px'), options=('localhost',), value='localhost'),), layout=Layout(justify_content='flex-start', width='200px')), HBox(children=(Dropdown(layout=Layout(width='198px'), options=('parsl', 'fireworks'), value='parsl'),), layout=Layout(justify_content='flex-start', width='200px')), HBox(children=(IntText(value=1, layout=Layout(width='198px')),), layout=Layout(justify_content='flex-start', width='60px')), HBox(children=(Button(button_style='success', icon='plus', style=ButtonStyle()),), layout=Layout(justify_content='flex-start', width='100px'))), layout=Layout(justify_content='space-between', width='710px'))), layout=Layout(width='710px')), HTML(value='\\n        <div class=\"alert alert-success\" style=\"width: 710px\">\\n        WorkerPool \\'fw_pool\\' created.\\n        </div>\\n        ')))"
      ]
     },
     "metadata": {},
     "output_type": "display_data"
    }
   ],
   "source": [
    "wpw = ww.WorkerPoolWidget()\n",
    "wpw.add_pool('fw_pool', 4, 'fireworks')\n",
    "wpw"
   ]
  },
  {
   "cell_type": "code",
   "execution_count": 6,
   "metadata": {},
   "outputs": [],
   "source": [
    "# create the individual FireWorks and Workflow\n",
    "fw1 = Firework(\n",
    "    [\n",
    "        ScriptTask.from_str(\n",
    "            'echo \"hello $(date)\" >> ~/tmpmsg'\n",
    "        ), \n",
    "        ScriptTask.from_str(\n",
    "            'echo \"hi $(date)\" >> ~/tmpmsg'\n",
    "        ), \n",
    "    ],\n",
    "    name=\"hello\"\n",
    ")\n",
    "fw2 = Firework(\n",
    "    ScriptTask.from_str(\n",
    "        'echo \"goodbye $(date)\" >> ~/tmpmsg'\n",
    "    ), \n",
    "    name=\"goodbye\"\n",
    ")\n",
    "fw3 = Firework(\n",
    "    ScriptTask.from_str(\n",
    "        'echo \"\" >> ~/tmpmsg'\n",
    "    ), \n",
    "    name=\"blank\"\n",
    ")\n",
    "\n",
    "wf = Workflow(\n",
    "    [fw1, fw2, fw3],\n",
    "    {fw1:fw2, fw2: fw3},\n",
    "    name=\"test workflow\"\n",
    ")"
   ]
  },
  {
   "cell_type": "code",
   "execution_count": 29,
   "metadata": {
    "scrolled": true
   },
   "outputs": [
    {
     "name": "stdout",
     "output_type": "stream",
     "text": [
      "Adding deps: <kale.workflow_objects.CommandLineTask object at 0x7fa4cfe58e48> <- [<kale.workflow_objects.CommandLineTask object at 0x7fa4cfe58b70>]\n",
      "Adding deps: <kale.workflow_objects.CommandLineTask object at 0x7fa4cfe58b70> <- [<kale.workflow_objects.CommandLineTask object at 0x7fa4cfe58da0>]\n",
      "Adding deps: <kale.workflow_objects.CommandLineTask object at 0x7fa4cfe58b70> <- [<kale.workflow_objects.CommandLineTask object at 0x7fa4cfe58940>]\n"
     ]
    }
   ],
   "source": [
    "kale_wf = kale_from_fw(wf)"
   ]
  },
  {
   "cell_type": "code",
   "execution_count": 31,
   "metadata": {},
   "outputs": [
    {
     "data": {
      "application/vnd.jupyter.widget-view+json": {
       "model_id": "719947a2ac664ee892dc1e35c71d974e",
       "version_major": 2,
       "version_minor": 0
      },
      "text/html": [
       "<p>Failed to display Jupyter Widget of type <code>WorkflowWidget</code>.</p>\n",
       "<p>\n",
       "  If you're reading this message in the Jupyter Notebook or JupyterLab Notebook, it may mean\n",
       "  that the widgets JavaScript is still loading. If this message persists, it\n",
       "  likely means that the widgets JavaScript library is either not installed or\n",
       "  not enabled. See the <a href=\"https://ipywidgets.readthedocs.io/en/stable/user_install.html\">Jupyter\n",
       "  Widgets Documentation</a> for setup instructions.\n",
       "</p>\n",
       "<p>\n",
       "  If you're reading this message in another frontend (for example, a static\n",
       "  rendering on GitHub or <a href=\"https://nbviewer.jupyter.org/\">NBViewer</a>),\n",
       "  it may mean that your frontend doesn't currently support widgets.\n",
       "</p>\n"
      ],
      "text/plain": [
       "WorkflowWidget(children=(VBox(children=(Figure(fig_margin={'bottom': 10, 'left': 10, 'top': 10, 'right': 10}, layout=Layout(height='600px', width='400px'), marks=[Graph(colors=['#1f77b4', '#ff7f0e', '#2ca02c', '#d62728', '#9467bd', '#8c564b', '#e377c2', '#7f7f7f', '#bcbd22', '#17becf'], highlight_links=False, interactions={'click': 'select', 'hover': 'tooltip'}, link_data=[{'source': 3, 'target': 1}, {'source': 2, 'target': 1}, {'source': 1, 'target': 0}], link_type='line', node_data=[{'command': 'echo \"hi $(date)\" >> ~/tmpmsg', 'tags': '[]', 'task_type': 'CommandLineTask', 'shape': 'rect', 'name': 'hello', 'input_files': '[]', 'output_files': '[]', 'num_cores': '1', 'label': '3'}, {'command': 'echo \"hello $(date)\" >> ~/tmpmsg', 'tags': '[]', 'task_type': 'CommandLineTask', 'shape': 'rect', 'name': 'hello', 'input_files': '[]', 'output_files': '[]', 'num_cores': '1', 'label': '2'}, {'command': 'echo \"\" >> ~/tmpmsg', 'tags': '[]', 'task_type': 'CommandLineTask', 'shape': 'rect', 'name': 'blank', 'input_files': '[]', 'output_files': '[]', 'num_cores': '1', 'label': '0'}, {'command': 'echo \"goodbye $(date)\" >> ~/tmpmsg', 'tags': '[]', 'task_type': 'CommandLineTask', 'shape': 'rect', 'name': 'goodbye', 'input_files': '[]', 'output_files': '[]', 'num_cores': '1', 'label': '1'}], scales={'y': LinearScale(), 'x': LinearScale()}, scales_metadata={'y': {'dimension': 'y', 'orientation': 'vertical'}, 'x': {'dimension': 'x', 'orientation': 'horizontal'}, 'link_color': {'dimension': 'link_color'}, 'color': {'dimension': 'color'}}, selected_style={'stroke': 'red'}, tooltip_style={'opacity': 0.9}, x=array([ 270.38,  827.38,  548.38,  548.38]), y=array([ 162.,  162.,   18.,   90.]))], min_aspect_ratio=0.0, scale_x=LinearScale(allow_padding=False, max=1.0, min=0.0), scale_y=LinearScale(allow_padding=False, max=1.0, min=0.0)), Toolbar(figure=Figure(fig_margin={'bottom': 10, 'left': 10, 'top': 10, 'right': 10}, layout=Layout(height='600px', width='400px'), marks=[Graph(colors=['#1f77b4', '#ff7f0e', '#2ca02c', '#d62728', '#9467bd', '#8c564b', '#e377c2', '#7f7f7f', '#bcbd22', '#17becf'], highlight_links=False, interactions={'click': 'select', 'hover': 'tooltip'}, link_data=[{'source': 3, 'target': 1}, {'source': 2, 'target': 1}, {'source': 1, 'target': 0}], link_type='line', node_data=[{'command': 'echo \"hi $(date)\" >> ~/tmpmsg', 'tags': '[]', 'task_type': 'CommandLineTask', 'shape': 'rect', 'name': 'hello', 'input_files': '[]', 'output_files': '[]', 'num_cores': '1', 'label': '3'}, {'command': 'echo \"hello $(date)\" >> ~/tmpmsg', 'tags': '[]', 'task_type': 'CommandLineTask', 'shape': 'rect', 'name': 'hello', 'input_files': '[]', 'output_files': '[]', 'num_cores': '1', 'label': '2'}, {'command': 'echo \"\" >> ~/tmpmsg', 'tags': '[]', 'task_type': 'CommandLineTask', 'shape': 'rect', 'name': 'blank', 'input_files': '[]', 'output_files': '[]', 'num_cores': '1', 'label': '0'}, {'command': 'echo \"goodbye $(date)\" >> ~/tmpmsg', 'tags': '[]', 'task_type': 'CommandLineTask', 'shape': 'rect', 'name': 'goodbye', 'input_files': '[]', 'output_files': '[]', 'num_cores': '1', 'label': '1'}], scales={'y': LinearScale(), 'x': LinearScale()}, scales_metadata={'y': {'dimension': 'y', 'orientation': 'vertical'}, 'x': {'dimension': 'x', 'orientation': 'horizontal'}, 'link_color': {'dimension': 'link_color'}, 'color': {'dimension': 'color'}}, selected_style={'stroke': 'red'}, tooltip_style={'opacity': 0.9}, x=array([ 270.38,  827.38,  548.38,  548.38]), y=array([ 162.,  162.,   18.,   90.]))], min_aspect_ratio=0.0, scale_x=LinearScale(allow_padding=False, max=1.0, min=0.0), scale_y=LinearScale(allow_padding=False, max=1.0, min=0.0))))), Tab(children=(VBox(children=(HTML(value='<b>Workflow Description</b>'), EditHTML(children=(HTMLMath(value='', layout=Layout(border='1px lightgray solid', padding='10px')), Button(description='Edit Description', style=ButtonStyle()))), Box(layout=Layout(height='20px', width='0px')), HTML(value='<b>Worker Pools</b>'), VBox(children=(Dropdown(options=(('default', <kale.workflow_objects.WorkerPool object at 0x7fa4cff065f8>), ('fw_pool', <kale.workflow_objects.WorkerPool object at 0x7fa4cff19358>)), value=<kale.workflow_objects.WorkerPool object at 0x7fa4cff065f8>), Button(button_style='success', description='Run Workflow', style=ButtonStyle()))))), VBox(children=(HTML(value='<b>Task Description</b>'), EditHTML(children=(HTMLMath(value='None selected.', layout=Layout(border='1px lightgray solid', padding='10px')), Button(description='Edit Description', disabled=True, style=ButtonStyle()))), Box(layout=Layout(height='20px', width='0px')), HTML(value=''), Button(button_style='info', description='Continue Workflow', layout=Layout(visibility='hidden'), style=ButtonStyle()), Box(layout=Layout(height='20px', width='0px')), HTML(value='<b>Task Metadata</b>'), HTML(value=''))), VBox(children=(HTML(value='<b>Tags</b>'), Select(options=(), value=None), HTML(value='<b>Actions</b>'), Text(value='', description='Tag name'), HBox(children=(VBox(children=(Button(description='Select All', style=ButtonStyle()), Button(description='Select None', style=ButtonStyle()), Button(description='Select Children', style=ButtonStyle()), Button(description='Select Parents', style=ButtonStyle()), Button(description='Tag to Selection', style=ButtonStyle()), Button(description='Selection to Tag', style=ButtonStyle()))), VBox(children=(Button(description='New Tag', style=ButtonStyle()), Button(description='Del Tag', style=ButtonStyle()))))))), VBox(children=(HTML(value='<b>Messages from WorkflowWidget:</b>'), Box(children=(Output(),), layout=Layout(border='1px lightgray solid', padding='10px')), Box(layout=Layout(height='10px', width='0px')), Button(description='Clear', style=ButtonStyle())))), layout=Layout(height='600px', width='400px'), _titles={'3': 'Widget Log', '0': 'Workflow', '1': 'Task', '2': 'Tags'})))"
      ]
     },
     "metadata": {},
     "output_type": "display_data"
    }
   ],
   "source": [
    "ww.WorkflowWidget(kale_wf, wpw)"
   ]
  },
  {
   "cell_type": "code",
   "execution_count": 10,
   "metadata": {},
   "outputs": [
    {
     "data": {
      "text/plain": [
       "{-3: [], -2: [-3], -1: [-2]}"
      ]
     },
     "execution_count": 10,
     "metadata": {},
     "output_type": "execute_result"
    }
   ],
   "source": [
    "wf.links"
   ]
  },
  {
   "cell_type": "code",
   "execution_count": 11,
   "metadata": {},
   "outputs": [
    {
     "name": "stdout",
     "output_type": "stream",
     "text": [
      "2018-01-17 13:53:35,781 INFO Added a workflow. id_map: {-1: 3, -3: 1, -2: 2}\n",
      "2018-01-17 13:53:36,511 INFO Created new dir /home/oliver/lbl/kale/kale/examples/notebooks/fireworks/launcher_2018-01-17-18-53-36-511374\n",
      "2018-01-17 13:53:36,513 INFO Launching Rocket\n",
      "2018-01-17 13:53:36,540 INFO RUNNING fw_id: 3 in directory: /home/oliver/lbl/kale/kale/examples/notebooks/fireworks/launcher_2018-01-17-18-53-36-511374\n",
      "2018-01-17 13:53:36,549 INFO Task started: ScriptTask.\n",
      "Running task <ScriptTask>:{'use_shell': True, '_fw_name': 'ScriptTask', 'script': ['echo \"hello $(date)\" >> ~/tmpmsg']} with spec {'_tasks': [{'use_shell': True, '_fw_name': 'ScriptTask', 'script': ['echo \"hello $(date)\" >> ~/tmpmsg']}, {'use_shell': True, '_fw_name': 'ScriptTask', 'script': ['echo \"hi $(date)\" >> ~/tmpmsg']}], '_fw_env': {}}\n",
      "2018-01-17 13:53:36,587 INFO Task completed: ScriptTask \n",
      "2018-01-17 13:53:36,599 INFO Task started: ScriptTask.\n",
      "Running task <ScriptTask>:{'use_shell': True, '_fw_name': 'ScriptTask', 'script': ['echo \"hi $(date)\" >> ~/tmpmsg']} with spec {'_tasks': [{'use_shell': True, '_fw_name': 'ScriptTask', 'script': ['echo \"hello $(date)\" >> ~/tmpmsg']}, {'use_shell': True, '_fw_name': 'ScriptTask', 'script': ['echo \"hi $(date)\" >> ~/tmpmsg']}], '_fw_env': {}}\n",
      "2018-01-17 13:53:36,619 INFO Task completed: ScriptTask \n",
      "2018-01-17 13:53:36,657 INFO Rocket finished\n",
      "2018-01-17 13:53:36,663 INFO Created new dir /home/oliver/lbl/kale/kale/examples/notebooks/fireworks/launcher_2018-01-17-18-53-36-663022\n",
      "2018-01-17 13:53:36,664 INFO Launching Rocket\n",
      "2018-01-17 13:53:36,688 INFO RUNNING fw_id: 2 in directory: /home/oliver/lbl/kale/kale/examples/notebooks/fireworks/launcher_2018-01-17-18-53-36-663022\n",
      "2018-01-17 13:53:36,700 INFO Task started: ScriptTask.\n",
      "Running task <ScriptTask>:{'use_shell': True, '_fw_name': 'ScriptTask', 'script': ['echo \"goodbye $(date)\" >> ~/tmpmsg']} with spec {'_tasks': [{'use_shell': True, '_fw_name': 'ScriptTask', 'script': ['echo \"goodbye $(date)\" >> ~/tmpmsg']}], '_fw_env': {}}\n",
      "2018-01-17 13:53:36,722 INFO Task completed: ScriptTask \n",
      "2018-01-17 13:53:36,762 INFO Rocket finished\n",
      "2018-01-17 13:53:36,768 INFO Created new dir /home/oliver/lbl/kale/kale/examples/notebooks/fireworks/launcher_2018-01-17-18-53-36-767952\n",
      "2018-01-17 13:53:36,769 INFO Launching Rocket\n",
      "2018-01-17 13:53:36,789 INFO RUNNING fw_id: 1 in directory: /home/oliver/lbl/kale/kale/examples/notebooks/fireworks/launcher_2018-01-17-18-53-36-767952\n",
      "2018-01-17 13:53:36,801 INFO Task started: ScriptTask.\n",
      "Running task <ScriptTask>:{'use_shell': True, '_fw_name': 'ScriptTask', 'script': ['echo \"\" >> ~/tmpmsg']} with spec {'_tasks': [{'use_shell': True, '_fw_name': 'ScriptTask', 'script': ['echo \"\" >> ~/tmpmsg']}], '_fw_env': {}}\n",
      "2018-01-17 13:53:36,821 INFO Task completed: ScriptTask \n",
      "2018-01-17 13:53:36,851 INFO Rocket finished\n"
     ]
    }
   ],
   "source": [
    "# store workflow and launch it locally\n",
    "launchpad.add_wf(wf)\n",
    "rapidfire(launchpad)"
   ]
  },
  {
   "cell_type": "code",
   "execution_count": 12,
   "metadata": {},
   "outputs": [
    {
     "name": "stdout",
     "output_type": "stream",
     "text": [
      "\r\n",
      "goodbye Wed Jan 17 13:11:42 EST 2018\r\n",
      "hello Wed Jan 17 13:11:42 EST 2018\r\n",
      "\r\n",
      "goodbye Wed Jan 17 13:12:45 EST 2018\r\n",
      "hello Wed Jan 17 13:12:45 EST 2018\r\n",
      "\r\n",
      "goodbye Wed Jan 17 13:13:02 EST 2018\r\n",
      "hello Wed Jan 17 13:13:02 EST 2018\r\n",
      "hello Wed Jan 17 13:13:31 EST 2018\r\n",
      "goodbye Wed Jan 17 13:13:31 EST 2018\r\n",
      "\r\n",
      "hello Wed Jan 17 13:13:35 EST 2018\r\n",
      "goodbye Wed Jan 17 13:13:35 EST 2018\r\n",
      "\r\n",
      "hello Wed Jan 17 13:15:02 EST 2018\r\n",
      "goodbye Wed Jan 17 13:15:03 EST 2018\r\n",
      "\r\n",
      "hello Wed Jan 17 13:15:05 EST 2018\r\n",
      "goodbye Wed Jan 17 13:15:05 EST 2018\r\n",
      "\r\n",
      "hello Wed Jan 17 13:53:36 EST 2018\r\n",
      "hi Wed Jan 17 13:53:36 EST 2018\r\n",
      "goodbye Wed Jan 17 13:53:36 EST 2018\r\n",
      "\r\n"
     ]
    }
   ],
   "source": [
    "cat ~/tmpmsg"
   ]
  },
  {
   "cell_type": "code",
   "execution_count": null,
   "metadata": {},
   "outputs": [],
   "source": []
  }
 ],
 "metadata": {
  "kernelspec": {
   "display_name": "Python 3",
   "language": "python",
   "name": "python3"
  },
  "language_info": {
   "codemirror_mode": {
    "name": "ipython",
    "version": 3
   },
   "file_extension": ".py",
   "mimetype": "text/x-python",
   "name": "python",
   "nbconvert_exporter": "python",
   "pygments_lexer": "ipython3",
   "version": "3.5.3"
  }
 },
 "nbformat": 4,
 "nbformat_minor": 2
}
