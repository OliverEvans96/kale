{
 "cells": [
  {
   "cell_type": "code",
   "execution_count": 1,
   "metadata": {},
   "outputs": [],
   "source": [
    "from fireworks import Firework, Workflow, LaunchPad, ScriptTask, FiretaskBase\n",
    "from fireworks.core.rocket_launcher import rapidfire\n",
    "import yaml"
   ]
  },
  {
   "cell_type": "code",
   "execution_count": 2,
   "metadata": {},
   "outputs": [],
   "source": [
    "# set up the LaunchPad and reset it\n",
    "fwconfig_file = '/opt/conda/lib/python3.6/site-packages/my_launchpad.yaml'\n",
    "with open(fwconfig_file) as param_file:\n",
    "    params = yaml.load(param_file)\n",
    "launchpad = LaunchPad(**params)"
   ]
  },
  {
   "cell_type": "code",
   "execution_count": 3,
   "metadata": {},
   "outputs": [
    {
     "name": "stdout",
     "output_type": "stream",
     "text": [
      "2018-01-17 16:59:42,093 INFO Performing db tune-up\n",
      "2018-01-17 16:59:42,108 INFO LaunchPad was RESET.\n"
     ]
    }
   ],
   "source": [
    "launchpad.reset('', require_password=False)"
   ]
  },
  {
   "cell_type": "code",
   "execution_count": 4,
   "metadata": {},
   "outputs": [],
   "source": [
    "def myfunc():\n",
    "    print(\"Hello!\")"
   ]
  },
  {
   "cell_type": "code",
   "execution_count": 8,
   "metadata": {},
   "outputs": [],
   "source": [
    "class MyPyTask(FiretaskBase):\n",
    "    _fw_name = 'PyTask'\n",
    "\n",
    "    __doc__ = \"\"\"\n",
    "    Runs any python function! Extremely powerful, which allows you to\n",
    "    essentially run any accessible method on the system.\n",
    "\n",
    "    Args:\n",
    "        func (str): Fully qualified python method. E.g., json.dump, or shutil\n",
    "            .copy, or some other function that is not part of the standard\n",
    "            library!\n",
    "        args (list): List of args. Default is empty.\n",
    "        kwargs (dict): Dictionary of keyword args. Default is empty.\n",
    "        auto_kwargs (bool): If True, all other params not starting with \"_\" are supplied as keyword args\n",
    "        stored_data_varname (str): Whether to store the output in\n",
    "            FWAction. If\n",
    "            this is a string that does not evaluate to False, the output of\n",
    "            the function will be stored as\n",
    "            FWAction(stored_data={stored_data_varname: output}). The name is\n",
    "            deliberately long to avoid potential name conflicts.\n",
    "    \"\"\"\n",
    "\n",
    "    required_params = [\"func\"]\n",
    "    optional_params = [\"args\", \"kwargs\",  \"auto_kwargs\", \"stored_data_varname\"]\n",
    "\n",
    "    def run_task(self, fw_spec):\n",
    "        # If the name of the function is passed\n",
    "        if isinstance(self[\"func\"], str):\n",
    "            print(\"Parsing func as str\")\n",
    "            toks = self[\"func\"].rsplit(\".\", 1)\n",
    "            if len(toks) == 2:\n",
    "                modname, funcname = toks\n",
    "                mod = __import__(modname, globals(), locals(), [str(funcname)], 0)\n",
    "                func = getattr(mod, funcname)\n",
    "            else:\n",
    "                #Handle built in functions.\n",
    "                func = getattr(builtins, toks[0])\n",
    "        # If the function itself is passed\n",
    "        elif callable(self[\"func\"]):\n",
    "            print(\"Parsing func as callable\")\n",
    "            func = self[\"func\"]\n",
    "\n",
    "        args = self.get(\"args\", [])\n",
    "        if self.get(\"auto_kwargs\"):\n",
    "            kwargs = {k: v for k, v in self.items()\n",
    "                  if not (k.startswith(\"_\") or k in self.required_params or k in self.optional_params)}\n",
    "        else:\n",
    "            kwargs = self.get(\"kwargs\", {})\n",
    "\n",
    "        output = func(*args, **kwargs)\n",
    "        if isinstance(output,FWAction):\n",
    "            return output\n",
    "        elif self.get(\"stored_data_varname\"):\n",
    "            return FWAction(stored_data={self[\"stored_data_varname\"]: output})\n"
   ]
  },
  {
   "cell_type": "code",
   "execution_count": 9,
   "metadata": {},
   "outputs": [],
   "source": [
    "t1 = MyPyTask(func=myfunc)"
   ]
  },
  {
   "cell_type": "code",
   "execution_count": 11,
   "metadata": {},
   "outputs": [
    {
     "name": "stdout",
     "output_type": "stream",
     "text": [
      "2018-01-17 17:01:07,300 INFO Added a workflow. id_map: {-3: 3}\n"
     ]
    },
    {
     "data": {
      "text/plain": [
       "{-3: 3}"
      ]
     },
     "execution_count": 11,
     "metadata": {},
     "output_type": "execute_result"
    }
   ],
   "source": [
    "fw = Firework(t1)\n",
    "wf = Workflow([fw])\n",
    "launchpad.add_wf(wf)"
   ]
  },
  {
   "cell_type": "code",
   "execution_count": 13,
   "metadata": {},
   "outputs": [
    {
     "data": {
      "text/plain": [
       "\u001b[0;31mSignature:\u001b[0m \u001b[0mrapidfire\u001b[0m\u001b[0;34m(\u001b[0m\u001b[0mlaunchpad\u001b[0m\u001b[0;34m,\u001b[0m \u001b[0mfworker\u001b[0m\u001b[0;34m=\u001b[0m\u001b[0;32mNone\u001b[0m\u001b[0;34m,\u001b[0m \u001b[0mm_dir\u001b[0m\u001b[0;34m=\u001b[0m\u001b[0;32mNone\u001b[0m\u001b[0;34m,\u001b[0m \u001b[0mnlaunches\u001b[0m\u001b[0;34m=\u001b[0m\u001b[0;36m0\u001b[0m\u001b[0;34m,\u001b[0m \u001b[0mmax_loops\u001b[0m\u001b[0;34m=\u001b[0m\u001b[0;34m-\u001b[0m\u001b[0;36m1\u001b[0m\u001b[0;34m,\u001b[0m \u001b[0msleep_time\u001b[0m\u001b[0;34m=\u001b[0m\u001b[0;32mNone\u001b[0m\u001b[0;34m,\u001b[0m \u001b[0mstrm_lvl\u001b[0m\u001b[0;34m=\u001b[0m\u001b[0;34m'INFO'\u001b[0m\u001b[0;34m,\u001b[0m \u001b[0mtimeout\u001b[0m\u001b[0;34m=\u001b[0m\u001b[0;32mNone\u001b[0m\u001b[0;34m,\u001b[0m \u001b[0mlocal_redirect\u001b[0m\u001b[0;34m=\u001b[0m\u001b[0;32mFalse\u001b[0m\u001b[0;34m,\u001b[0m \u001b[0mpdb_on_exception\u001b[0m\u001b[0;34m=\u001b[0m\u001b[0;32mFalse\u001b[0m\u001b[0;34m)\u001b[0m\u001b[0;34m\u001b[0m\u001b[0m\n",
       "\u001b[0;31mDocstring:\u001b[0m\n",
       "Keeps running Rockets in m_dir until we reach an error. Automatically creates subdirectories\n",
       "for each Rocket. Usually stops when we run out of FireWorks from the LaunchPad.\n",
       "\n",
       "Args:\n",
       "    launchpad (LaunchPad)\n",
       "    fworker (FWorker object)\n",
       "    m_dir (str): the directory in which to loop Rocket running\n",
       "    nlaunches (int): 0 means 'until completion', -1 or \"infinite\" means to loop until max_loops\n",
       "    max_loops (int): maximum number of loops (default -1 is infinite)\n",
       "    sleep_time (int): secs to sleep between rapidfire loop iterations\n",
       "    strm_lvl (str): level at which to output logs to stdout\n",
       "    timeout (int): of seconds after which to stop the rapidfire process\n",
       "    local_redirect (bool): redirect standard input and output to local file\n",
       "\u001b[0;31mFile:\u001b[0m      /opt/conda/lib/python3.6/site-packages/fireworks/core/rocket_launcher.py\n",
       "\u001b[0;31mType:\u001b[0m      function\n"
      ]
     },
     "metadata": {},
     "output_type": "display_data"
    }
   ],
   "source": [
    "rapidfire?"
   ]
  },
  {
   "cell_type": "code",
   "execution_count": 12,
   "metadata": {},
   "outputs": [
    {
     "name": "stdout",
     "output_type": "stream",
     "text": [
      "2018-01-17 17:01:08,211 INFO Created new dir /opt/kale/kale/examples/notebooks/fireworks/launcher_2018-01-17-17-01-08-211587\n",
      "2018-01-17 17:01:08,213 INFO Launching Rocket\n",
      "2018-01-17 17:01:08,241 INFO RUNNING fw_id: 3 in directory: /opt/kale/kale/examples/notebooks/fireworks/launcher_2018-01-17-17-01-08-211587\n",
      "2018-01-17 17:01:08,253 INFO Task started: PyTask.\n",
      "2018-01-17 17:01:08,290 INFO Rocket finished\n"
     ]
    },
    {
     "name": "stderr",
     "output_type": "stream",
     "text": [
      "Traceback (most recent call last):\n",
      "  File \"/opt/conda/lib/python3.6/site-packages/fireworks/core/rocket.py\", line 258, in run\n",
      "    m_action = t.run_task(my_spec)\n",
      "  File \"/opt/conda/lib/python3.6/site-packages/fireworks/user_objects/firetasks/script_task.py\", line 170, in run_task\n",
      "    func = getattr(builtins, toks[0])\n",
      "AttributeError: module 'builtins' has no attribute '<function myfunc at 0x7f4b637b6e18>'\n"
     ]
    }
   ],
   "source": [
    "rapidfire(launchpad)"
   ]
  },
  {
   "cell_type": "code",
   "execution_count": 23,
   "metadata": {},
   "outputs": [],
   "source": [
    "func = type(myfunc)"
   ]
  },
  {
   "cell_type": "code",
   "execution_count": null,
   "metadata": {},
   "outputs": [],
   "source": []
  },
  {
   "cell_type": "code",
   "execution_count": 30,
   "metadata": {},
   "outputs": [
    {
     "data": {
      "text/plain": [
       "True"
      ]
     },
     "execution_count": 30,
     "metadata": {},
     "output_type": "execute_result"
    }
   ],
   "source": [
    "callable(lambda x: 123)"
   ]
  },
  {
   "cell_type": "code",
   "execution_count": 25,
   "metadata": {},
   "outputs": [
    {
     "data": {
      "text/plain": [
       "False"
      ]
     },
     "execution_count": 25,
     "metadata": {},
     "output_type": "execute_result"
    }
   ],
   "source": [
    "isinstance(print, func)"
   ]
  },
  {
   "cell_type": "code",
   "execution_count": 19,
   "metadata": {},
   "outputs": [
    {
     "data": {
      "text/plain": [
       "\u001b[0;31mInit signature:\u001b[0m \u001b[0mPyTask\u001b[0m\u001b[0;34m(\u001b[0m\u001b[0;34m*\u001b[0m\u001b[0margs\u001b[0m\u001b[0;34m,\u001b[0m \u001b[0;34m**\u001b[0m\u001b[0mkwargs\u001b[0m\u001b[0;34m)\u001b[0m\u001b[0;34m\u001b[0m\u001b[0m\n",
       "\u001b[0;31mDocstring:\u001b[0m     \n",
       "Runs any python function! Extremely powerful, which allows you to\n",
       "essentially run any accessible method on the system. The optional inputs\n",
       "and outputs lists may contain spec keys to add to args list and to make\n",
       "the function output available in the curent and in children fireworks.\n",
       "\n",
       "Required parameters:\n",
       "    - func (str): Fully qualified python method. E.g., json.dump, or shutil\n",
       "        .copy, or some other function that is not part of the standard\n",
       "        library!\n",
       "\n",
       "Optional parameters:\n",
       "    - args (list): List of args. Default is empty.\n",
       "    - kwargs (dict): Dictionary of keyword args. Default is empty.\n",
       "    - auto_kwargs (bool): If True, all other params not starting with '_'\n",
       "      are supplied as keyword args\n",
       "    - stored_data_varname (str): Whether to store the output in FWAction.\n",
       "      If this is a string that does not evaluate to False, the output of\n",
       "      the function will be stored as\n",
       "      FWAction(stored_data={stored_data_varname: output}). The name is\n",
       "      deliberately long to avoid potential name conflicts.\n",
       "    - inputs ([str]): a list of keys in spec which will be used as inputs;\n",
       "      the generated arguments list will be appended to args\n",
       "    - outputs ([str]): a list of spec keys that will be used to pass\n",
       "      the function's outputs to child fireworks\n",
       "    - chunk_number (int): a serial number of the Firetask within a\n",
       "      group of Firetasks generated by a ForeachTask\n",
       "\u001b[0;31mFile:\u001b[0m           /opt/conda/lib/python3.6/site-packages/fireworks/user_objects/firetasks/script_task.py\n",
       "\u001b[0;31mType:\u001b[0m           FiretaskMeta\n"
      ]
     },
     "metadata": {},
     "output_type": "display_data"
    }
   ],
   "source": [
    "PyTask?"
   ]
  }
 ],
 "metadata": {
  "kernelspec": {
   "display_name": "Python 3",
   "language": "python",
   "name": "python3"
  },
  "language_info": {
   "codemirror_mode": {
    "name": "ipython",
    "version": 3
   },
   "file_extension": ".py",
   "mimetype": "text/x-python",
   "name": "python",
   "nbconvert_exporter": "python",
   "pygments_lexer": "ipython3",
   "version": "3.6.3"
  }
 },
 "nbformat": 4,
 "nbformat_minor": 2
}
