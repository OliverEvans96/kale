{
 "cells": [
  {
   "cell_type": "code",
   "execution_count": 3,
   "metadata": {
    "collapsed": true
   },
   "outputs": [],
   "source": [
    "from fireworks import Firework, Workflow, LaunchPad, ScriptTask\n",
    "from fireworks.core.rocket_launcher import rapidfire"
   ]
  },
  {
   "cell_type": "code",
   "execution_count": 4,
   "metadata": {
    "collapsed": true
   },
   "outputs": [],
   "source": [
    "# set up the LaunchPad and reset it\n",
    "launchpad = LaunchPad()"
   ]
  },
  {
   "cell_type": "code",
   "execution_count": 5,
   "metadata": {},
   "outputs": [
    {
     "name": "stdout",
     "output_type": "stream",
     "text": [
      "2017-08-07 12:21:45,760 INFO Performing db tune-up\n",
      "2017-08-07 12:21:45,775 INFO LaunchPad was RESET.\n"
     ]
    }
   ],
   "source": [
    "launchpad.reset('', require_password=False)"
   ]
  },
  {
   "cell_type": "code",
   "execution_count": 6,
   "metadata": {
    "collapsed": true
   },
   "outputs": [],
   "source": [
    "# create the individual FireWorks and Workflow\n",
    "fw1 = Firework(ScriptTask.from_str('echo \"hello\"'), name=\"hello\")\n",
    "fw2 = Firework(ScriptTask.from_str('echo \"goodbye\"'), name=\"goodbye\")\n",
    "wf = Workflow([fw1, fw2], {fw1:fw2}, name=\"test workflow\")"
   ]
  },
  {
   "cell_type": "code",
   "execution_count": 7,
   "metadata": {},
   "outputs": [
    {
     "name": "stdout",
     "output_type": "stream",
     "text": [
      "2017-08-07 12:21:51,382 INFO Added a workflow. id_map: {-2: 1, -1: 2}\n",
      "2017-08-07 12:21:52,510 INFO Created new dir /home/oliver/lbl/jupyter_hpc/fireworks/launcher_2017-08-07-19-21-52-510342\n",
      "2017-08-07 12:21:52,512 INFO Launching Rocket\n",
      "2017-08-07 12:21:52,540 INFO RUNNING fw_id: 2 in directory: /home/oliver/lbl/jupyter_hpc/fireworks/launcher_2017-08-07-19-21-52-510342\n",
      "2017-08-07 12:21:52,544 INFO Task started: ScriptTask.\n",
      "2017-08-07 12:21:52,555 INFO Task completed: ScriptTask \n",
      "2017-08-07 12:21:52,582 INFO Rocket finished\n",
      "2017-08-07 12:21:52,587 INFO Created new dir /home/oliver/lbl/jupyter_hpc/fireworks/launcher_2017-08-07-19-21-52-586960\n",
      "2017-08-07 12:21:52,588 INFO Launching Rocket\n",
      "2017-08-07 12:21:52,612 INFO RUNNING fw_id: 1 in directory: /home/oliver/lbl/jupyter_hpc/fireworks/launcher_2017-08-07-19-21-52-586960\n",
      "2017-08-07 12:21:52,615 INFO Task started: ScriptTask.\n",
      "2017-08-07 12:21:52,628 INFO Task completed: ScriptTask \n",
      "2017-08-07 12:21:52,656 INFO Rocket finished\n"
     ]
    }
   ],
   "source": [
    "# store workflow and launch it locally\n",
    "launchpad.add_wf(wf)\n",
    "rapidfire(launchpad)"
   ]
  }
 ],
 "metadata": {
  "kernelspec": {
   "display_name": "cori_clone",
   "language": "python",
   "name": "cori_clone"
  },
  "language_info": {
   "codemirror_mode": {
    "name": "ipython",
    "version": 3
   },
   "file_extension": ".py",
   "mimetype": "text/x-python",
   "name": "python",
   "nbconvert_exporter": "python",
   "pygments_lexer": "ipython3",
   "version": "3.6.0"
  }
 },
 "nbformat": 4,
 "nbformat_minor": 2
}
