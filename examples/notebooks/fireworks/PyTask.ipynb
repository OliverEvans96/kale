{
 "cells": [
  {
   "cell_type": "code",
   "execution_count": 1,
   "metadata": {},
   "outputs": [],
   "source": [
    "%load_ext autoreload\n",
    "%autoreload 2"
   ]
  },
  {
   "cell_type": "code",
   "execution_count": 7,
   "metadata": {},
   "outputs": [],
   "source": [
    "from fireworks import Firework, Workflow, LaunchPad, ScriptTask, FiretaskBase, PyTask\n",
    "from fireworks.core.rocket_launcher import rapidfire\n",
    "import yaml"
   ]
  },
  {
   "cell_type": "code",
   "execution_count": 8,
   "metadata": {},
   "outputs": [],
   "source": [
    "# set up the LaunchPad and reset it\n",
    "# fwconfig_file = '/opt/conda/lib/python3.6/site-packages/my_launchpad.yaml'\n",
    "# with open(fwconfig_file) as param_file:\n",
    "#     params = yaml.load(param_file)\n",
    "# launchpad = LaunchPad(**params)\n",
    "launchpad = LaunchPad()"
   ]
  },
  {
   "cell_type": "code",
   "execution_count": 9,
   "metadata": {},
   "outputs": [
    {
     "name": "stdout",
     "output_type": "stream",
     "text": [
      "2018-01-17 12:22:42,853 INFO Performing db tune-up\n",
      "2018-01-17 12:22:42,872 INFO LaunchPad was RESET.\n"
     ]
    }
   ],
   "source": [
    "launchpad.reset('', require_password=False)"
   ]
  },
  {
   "cell_type": "code",
   "execution_count": 10,
   "metadata": {},
   "outputs": [],
   "source": [
    "def myfunc():\n",
    "    print(\"Hello!\")"
   ]
  },
  {
   "cell_type": "code",
   "execution_count": 11,
   "metadata": {},
   "outputs": [],
   "source": [
    "t1 = PyTask(func=myfunc)"
   ]
  },
  {
   "cell_type": "code",
   "execution_count": 12,
   "metadata": {},
   "outputs": [
    {
     "name": "stdout",
     "output_type": "stream",
     "text": [
      "2018-01-17 12:22:44,067 INFO Added a workflow. id_map: {-1: 1}\n"
     ]
    },
    {
     "data": {
      "text/plain": [
       "{-1: 1}"
      ]
     },
     "execution_count": 12,
     "metadata": {},
     "output_type": "execute_result"
    }
   ],
   "source": [
    "fw = Firework(t1)\n",
    "wf = Workflow([fw])\n",
    "launchpad.add_wf(wf)"
   ]
  },
  {
   "cell_type": "code",
   "execution_count": 13,
   "metadata": {},
   "outputs": [
    {
     "name": "stdout",
     "output_type": "stream",
     "text": [
      "Parsing func as callable\n",
      "Hello!\n"
     ]
    }
   ],
   "source": [
    "spec = {'_tasks': [{'func': '<function myfunc at 0x7f0a94ec5950>', '_fw_name': 'PyTask'}], '_fw_env': {}}\n",
    "t1.run_task(spec)"
   ]
  },
  {
   "cell_type": "code",
   "execution_count": 14,
   "metadata": {},
   "outputs": [
    {
     "data": {
      "text/plain": [
       "{'_tasks': [{'_fw_name': 'MyPyTask',\n",
       "   'func': '<function myfunc at 0x7f9cfcfb6510>'}]}"
      ]
     },
     "execution_count": 14,
     "metadata": {},
     "output_type": "execute_result"
    }
   ],
   "source": [
    "wf.fws[0].spec"
   ]
  },
  {
   "cell_type": "code",
   "execution_count": 15,
   "metadata": {},
   "outputs": [
    {
     "name": "stdout",
     "output_type": "stream",
     "text": [
      "2018-01-17 12:22:46,046 INFO Created new dir /home/oliver/lbl/kale/kale/examples/notebooks/fireworks/launcher_2018-01-17-17-22-46-046520\n",
      "2018-01-17 12:22:46,051 INFO Launching Rocket\n",
      "2018-01-17 12:22:46,084 INFO RUNNING fw_id: 1 in directory: /home/oliver/lbl/kale/kale/examples/notebooks/fireworks/launcher_2018-01-17-17-22-46-046520\n",
      "2018-01-17 12:22:46,101 INFO Task started: MyPyTask.\n",
      "Running task <MyPyTask>:{'_fw_name': 'MyPyTask', 'func': '<function myfunc at 0x7f9cfcfb6510>'} with spec {'_fw_env': {}, '_tasks': [{'_fw_name': 'MyPyTask', 'func': '<function myfunc at 0x7f9cfcfb6510>'}]}\n",
      "Parsing func as str\n",
      "2018-01-17 12:22:46,137 INFO Rocket finished\n"
     ]
    },
    {
     "name": "stderr",
     "output_type": "stream",
     "text": [
      "Traceback (most recent call last):\n",
      "  File \"/home/oliver/python/packages/fireworks/fireworks/core/rocket.py\", line 254, in run\n",
      "    m_action = t.run_task(my_spec)\n",
      "  File \"/home/oliver/python/packages/fireworks/fireworks/user_objects/firetasks/script_task.py\", line 167, in run_task\n",
      "    func = getattr(builtins, toks[0])\n",
      "AttributeError: module 'builtins' has no attribute '<function myfunc at 0x7f9cfcfb6510>'\n"
     ]
    }
   ],
   "source": [
    "rapidfire(launchpad)"
   ]
  },
  {
   "cell_type": "code",
   "execution_count": null,
   "metadata": {},
   "outputs": [],
   "source": []
  }
 ],
 "metadata": {
  "kernelspec": {
   "display_name": "Python 3",
   "language": "python",
   "name": "python3"
  },
  "language_info": {
   "codemirror_mode": {
    "name": "ipython",
    "version": 3
   },
   "file_extension": ".py",
   "mimetype": "text/x-python",
   "name": "python",
   "nbconvert_exporter": "python",
   "pygments_lexer": "ipython3",
   "version": "3.5.3"
  }
 },
 "nbformat": 4,
 "nbformat_minor": 2
}
