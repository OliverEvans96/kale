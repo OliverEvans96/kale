{
 "cells": [
  {
   "cell_type": "code",
   "execution_count": 1,
   "metadata": {},
   "outputs": [],
   "source": [
    "from fireworks import Firework, Workflow, LaunchPad, ScriptTask\n",
    "from fireworks.core.rocket_launcher import rapidfire"
   ]
  },
  {
   "cell_type": "code",
   "execution_count": 2,
   "metadata": {},
   "outputs": [],
   "source": [
    "# set up the LaunchPad and reset it\n",
    "launchpad = LaunchPad()"
   ]
  },
  {
   "cell_type": "code",
   "execution_count": 3,
   "metadata": {},
   "outputs": [
    {
     "name": "stdout",
     "output_type": "stream",
     "text": [
      "2018-01-16 13:57:06,253 INFO Performing db tune-up\n",
      "2018-01-16 13:57:06,273 INFO LaunchPad was RESET.\n"
     ]
    }
   ],
   "source": [
    "launchpad.reset('', require_password=False)"
   ]
  },
  {
   "cell_type": "code",
   "execution_count": 4,
   "metadata": {},
   "outputs": [],
   "source": [
    "# create the individual FireWorks and Workflow\n",
    "fw1 = Firework(ScriptTask.from_str('echo \"hello\"'), name=\"hello\")\n",
    "fw2 = Firework(ScriptTask.from_str('echo \"goodbye\"'), name=\"goodbye\")\n",
    "wf = Workflow([fw1, fw2], {fw1:fw2}, name=\"test workflow\")"
   ]
  },
  {
   "cell_type": "code",
   "execution_count": 5,
   "metadata": {},
   "outputs": [
    {
     "name": "stdout",
     "output_type": "stream",
     "text": [
      "2018-01-16 13:57:06,946 INFO Added a workflow. id_map: {-2: 1, -1: 2}\n",
      "2018-01-16 13:57:07,779 INFO Created new dir /home/oliver/lbl/kale/kale/examples/notebooks/launcher_2018-01-16-18-57-07-778741\n",
      "2018-01-16 13:57:07,782 INFO Launching Rocket\n",
      "2018-01-16 13:57:08,103 INFO RUNNING fw_id: 2 in directory: /home/oliver/lbl/kale/kale/examples/notebooks/launcher_2018-01-16-18-57-07-778741\n",
      "2018-01-16 13:57:08,107 INFO Task started: ScriptTask.\n",
      "2018-01-16 13:57:08,120 INFO Task completed: ScriptTask \n",
      "2018-01-16 13:57:08,149 INFO Rocket finished\n",
      "2018-01-16 13:57:08,154 INFO Created new dir /home/oliver/lbl/kale/kale/examples/notebooks/launcher_2018-01-16-18-57-08-154558\n",
      "2018-01-16 13:57:08,156 INFO Launching Rocket\n",
      "2018-01-16 13:57:08,182 INFO RUNNING fw_id: 1 in directory: /home/oliver/lbl/kale/kale/examples/notebooks/launcher_2018-01-16-18-57-08-154558\n",
      "2018-01-16 13:57:08,185 INFO Task started: ScriptTask.\n",
      "2018-01-16 13:57:08,199 INFO Task completed: ScriptTask \n",
      "2018-01-16 13:57:08,224 INFO Rocket finished\n"
     ]
    }
   ],
   "source": [
    "# store workflow and launch it locally\n",
    "launchpad.add_wf(wf)\n",
    "rapidfire(launchpad)"
   ]
  },
  {
   "cell_type": "code",
   "execution_count": 21,
   "metadata": {},
   "outputs": [],
   "source": [
    "fw = wf.id_fw[1]"
   ]
  },
  {
   "cell_type": "code",
   "execution_count": 37,
   "metadata": {
    "scrolled": true
   },
   "outputs": [
    {
     "name": "stdout",
     "output_type": "stream",
     "text": [
      "echo \"hello\"\n"
     ]
    }
   ],
   "source": [
    "print(fw1.spec['_tasks'][0]['script'][0])"
   ]
  }
 ],
 "metadata": {
  "kernelspec": {
   "display_name": "cori_clone",
   "language": "python",
   "name": "cori_clone"
  },
  "language_info": {
   "codemirror_mode": {
    "name": "ipython",
    "version": 3
   },
   "file_extension": ".py",
   "mimetype": "text/x-python",
   "name": "python",
   "nbconvert_exporter": "python",
   "pygments_lexer": "ipython3",
   "version": "3.6.0"
  }
 },
 "nbformat": 4,
 "nbformat_minor": 2
}
