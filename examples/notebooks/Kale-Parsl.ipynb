{
 "cells": [
  {
   "cell_type": "markdown",
   "metadata": {},
   "source": [
    "# Kale <3 Parsl\n",
    "\n",
    "<img src=https://www.fodmapeveryday.com/wp-content/uploads/2017/12/fennel-kale-and-parsley-for-salad.jpg width=500px/>\n",
    "<br />\n",
    "\n",
    "Here, we demonstrate using Kale to visualize and delay execution of Parsl workflows.\n",
    "\n",
    "### Two-way communication\n",
    "- Kale intercepts Parsl execution by overriding the Parsl DataFlowKernel\n",
    "- Kale executes tasks via Parsl\n",
    "\n",
    "### Scope\n",
    "The following is a brief demonstration of this interaction. So far, only Python functions have been implemented. I haven't yet tried to integrate bash functions or batch tasks as we have in Kale.\n",
    "\n",
    "### Passing Data in Kale\n",
    "To match the Parsl model, it was necessary to allow data to be passed from one Kale Task to another via arguments, which was not previously possible. So that's a cool new feature!\n",
    "\n",
    "For example, if the output of `Kale Task A` should be an argument to `Kale Task B`, then `Kale Task A` itself should be passed as an argument, and it's result will be evaluated immediately before `Kale Task B` is executed.\n",
    "\n",
    "### Breaking changes\n",
    "Also, I've made some changes to achieve this which have probably broken the previous Fireworks model, so some modifications will be necessary before merging to master."
   ]
  },
  {
   "cell_type": "code",
   "execution_count": null,
   "metadata": {},
   "outputs": [],
   "source": [
    "from parsl import DataFlowKernel, ThreadPoolExecutor, App\n",
    "\n",
    "from kale.workflow_widgets import WorkflowWidget, WorkerPoolWidget\n",
    "from kale.parsl_dflow import KaleDFK"
   ]
  },
  {
   "cell_type": "markdown",
   "metadata": {},
   "source": [
    "# Initialization"
   ]
  },
  {
   "cell_type": "markdown",
   "metadata": {},
   "source": [
    "The `WorkerPoolWidget` defines how Kale tasks will be executed. The interface is definitely in progress. For example, the `Location` field doesn't do anything yet, but could be used to specify that a Workflow should execute on remote resources.\n",
    "\n",
    "`Workers` is passed to `max_workers` in the internal ThreadPoolExecutor which will Parsl will ultimately use to execute the tasks."
   ]
  },
  {
   "cell_type": "code",
   "execution_count": null,
   "metadata": {
    "scrolled": true
   },
   "outputs": [],
   "source": [
    "wpw = WorkerPoolWidget()\n",
    "wpw"
   ]
  },
  {
   "cell_type": "markdown",
   "metadata": {},
   "source": [
    "Initialize the Kale `DataFlowKernel`. I don't think this `ThreadPoolExecutor` is actually used. This interface can be cleaned up."
   ]
  },
  {
   "cell_type": "code",
   "execution_count": null,
   "metadata": {},
   "outputs": [],
   "source": [
    "workers = ThreadPoolExecutor()\n",
    "kale_dfk = KaleDFK(executors=[workers])"
   ]
  },
  {
   "cell_type": "markdown",
   "metadata": {},
   "source": [
    "# Define Parsl function\n",
    "\n",
    "Define a Parsl function as normal, except the `KaleDFK` is passed in place of the standard Parsl DFK."
   ]
  },
  {
   "cell_type": "code",
   "execution_count": null,
   "metadata": {
    "scrolled": true
   },
   "outputs": [],
   "source": [
    "@App('python', kale_dfk)\n",
    "def rand_add(*prev_list):\n",
    "    \"\"\"Add a random number to the previous ones.\"\"\"\n",
    "    import random\n",
    "    import time\n",
    "    \n",
    "    # Random int between 0 & 10, inclusive.\n",
    "    myrand = random.randint(0, 10)\n",
    "    mysum = myrand + sum(prev_list)\n",
    "    \n",
    "    print(\"My number is {}. I was given {}. The sum is {}.\\n\".format(myrand, prev_list, mysum), end='')\n",
    "    time.sleep(2)\n",
    "    \n",
    "    return mysum\n"
   ]
  },
  {
   "cell_type": "markdown",
   "metadata": {},
   "source": [
    "# Define workflow\n",
    "Secify the name of the new workflow. By requiring that a Workflow be initialized, multiple workflows can be defined sequentially with the same `KaleDFK` object by calling this function in between workflow definitions."
   ]
  },
  {
   "cell_type": "code",
   "execution_count": null,
   "metadata": {},
   "outputs": [],
   "source": [
    "kale_dfk.new_workflow('Random Tree')"
   ]
  },
  {
   "cell_type": "markdown",
   "metadata": {},
   "source": [
    "Now, instead of executing the tasks, the `KaleDFK` intercepts them and combines them into a kale `Workflow`. As you can see, the only result of this intercepted execution is a Parsl `AppFuture` returning `None`"
   ]
  },
  {
   "cell_type": "code",
   "execution_count": null,
   "metadata": {},
   "outputs": [],
   "source": [
    "rand_add(\n",
    "    rand_add(\n",
    "        rand_add(),\n",
    "        rand_add()\n",
    "    ),\n",
    "    rand_add(\n",
    "        rand_add(),\n",
    "        rand_add()\n",
    "    )\n",
    ")\n",
    "\n",
    "rand_add(\n",
    "    rand_add(\n",
    "        rand_add(),\n",
    "        rand_add()\n",
    "    ),\n",
    "    rand_add(\n",
    "        rand_add(),\n",
    "        rand_add()\n",
    "    )\n",
    ")"
   ]
  },
  {
   "cell_type": "markdown",
   "metadata": {},
   "source": [
    "# Launch workflow\n",
    "A workflow widget is used to visualize and interact with the workflow once it has been defined.\n",
    "\n",
    "Tasks can be selected in the plot using the mouse. `ctrl-click` for multi-select.\n",
    "\n",
    "### `Workflow`\n",
    "The **Run Workflow** button in the `Workflow` tab starts execution. \n",
    "If some tasks are selected, only those tasks are run. Currently, an error will be raised if there's an unselected task in the middle of a dependency chain.\n",
    "\n",
    "Also, this is likely to cause some issues in the case of data being passed explicitly between functions as we have here.\n",
    "\n",
    "### `Task`\n",
    "In the `Task` tab, some basic information about the selected task is displayed, including the function name and its arguments.\n",
    "\n",
    "### `Tags`\n",
    "In the `Tags` tab, various selection utilites are available. Also, we have the concept of assigning tags to Kale tasks for easier selection and grouping. I haven't implemented this for workflows generated from Parsl.\n",
    "\n",
    "### `Widget Log`\n",
    "The `Widget Log` tab is generally where output from the functions is displayed, but I currently have it disabled, so all output will be printed below the widget."
   ]
  },
  {
   "cell_type": "code",
   "execution_count": null,
   "metadata": {
    "scrolled": false
   },
   "outputs": [],
   "source": [
    "ww = WorkflowWidget(kale_dfk.kale_workflow, wpw)\n",
    "ww"
   ]
  },
  {
   "cell_type": "markdown",
   "metadata": {},
   "source": [
    "# View results\n",
    "Results of individual Kale Tasks are stored as futures on the task object. One way of accessing the result by task number (as shown in the DAG visualization) is shown below. There's probably a nicer way to do this."
   ]
  },
  {
   "cell_type": "code",
   "execution_count": null,
   "metadata": {},
   "outputs": [],
   "source": [
    "kale_dfk.kale_workflow.get_future(6)#.result()"
   ]
  },
  {
   "cell_type": "markdown",
   "metadata": {},
   "source": [
    "We also have a `kale_workflow.get_task_by_name(name)`, but in this case, all tasks have the same name since they all come from the same Parsl App, so that won't work here."
   ]
  },
  {
   "cell_type": "markdown",
   "metadata": {},
   "source": [
    "## Kale-Parsl Improvements\n",
    "- Only Python tasks are currently supported with Parsl. This should be expanded to bash and batch tasks.\n",
    "- In the same vein, I'm not sure whether IPyParallel execution of Python tasks will work. It should be doable with a few small changes.\n",
    "- In the spirit of Parsl's on-the-fly workflow definition, it should be possible to dynamically update the widget if new tasks are added to the workflow. This isn't yet implemented.\n",
    "- Error handling is a bit obfuscated. This could definitely be improved somehow.\n",
    "\n",
    "## Kale Improvements\n",
    "- We're in the process of developing a Kale service which will facilitate monitoring and controlling the status of workflows and tasks between multiple notebooks and across resources.\n",
    "- General UI improvements are underway. Suggestions are welcome!"
   ]
  }
 ],
 "metadata": {
  "kernelspec": {
   "display_name": "Python 3",
   "language": "python",
   "name": "python3"
  },
  "language_info": {
   "codemirror_mode": {
    "name": "ipython",
    "version": 3
   },
   "file_extension": ".py",
   "mimetype": "text/x-python",
   "name": "python",
   "nbconvert_exporter": "python",
   "pygments_lexer": "ipython3",
   "version": "3.6.3"
  }
 },
 "nbformat": 4,
 "nbformat_minor": 2
}
