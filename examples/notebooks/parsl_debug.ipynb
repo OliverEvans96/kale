{
 "cells": [
  {
   "cell_type": "code",
   "execution_count": null,
   "metadata": {},
   "outputs": [],
   "source": []
  },
  {
   "cell_type": "markdown",
   "metadata": {},
   "source": [
    "# Construct rand_add workflow solely with Kale"
   ]
  },
  {
   "cell_type": "code",
   "execution_count": 11,
   "metadata": {},
   "outputs": [],
   "source": [
    "def rand_add_func(name, *prev_list):\n",
    "    \"\"\"Add a random number to the previous ones.\n",
    "    \"\"\"\n",
    "    import random\n",
    "    import time\n",
    "    \n",
    "    lim = [0, 10]\n",
    "    myrand = random.randint(*lim)\n",
    "    mysum = myrand + sum(prev_list)\n",
    "    #print(\"Task {}, My number is {}. I was given {}. The sum is {}.\".format(name, myrand, prev_list, mysum))\n",
    "    print(\"Task {}.\".format(name))\n",
    "    \n",
    "    time.sleep(2)\n",
    "    \n",
    "    return mysum"
   ]
  },
  {
   "cell_type": "code",
   "execution_count": 12,
   "metadata": {},
   "outputs": [],
   "source": [
    "rand_kale_wf = wo.Workflow(name='rand_kale_wf')\n",
    "\n",
    "# Level 1\n",
    "t0 = wo.PythonFunctionTask(name='t0', func=rand_add_func, args=[0])\n",
    "rand_kale_wf.add_task(t0)\n",
    "t1 = wo.PythonFunctionTask(name='t1', func=rand_add_func, args=[1])\n",
    "rand_kale_wf.add_task(t1)\n",
    "\n",
    "t2 = wo.PythonFunctionTask(name='t2', func=rand_add_func, args=[2])\n",
    "rand_kale_wf.add_task(t2)\n",
    "t3 = wo.PythonFunctionTask(name='t3', func=rand_add_func, args=[3])\n",
    "rand_kale_wf.add_task(t3)\n",
    "\n",
    "# Level 2\n",
    "t4 = wo.PythonFunctionTask(name='t4', func=rand_add_func, args=[4, t0, t1])\n",
    "rand_kale_wf.add_task(t4, dependencies=[t0, t1])\n",
    "t5 = wo.PythonFunctionTask(name='t5', func=rand_add_func, args=[5, t2, t3])\n",
    "rand_kale_wf.add_task(t5, dependencies=[t2, t3])\n",
    "\n",
    "# Level 3\n",
    "t6 = wo.PythonFunctionTask(name='t6', func=rand_add_func, args=[6, t4, t5])\n",
    "rand_kale_wf.add_task(t6, dependencies=[t4, t5])\n"
   ]
  },
  {
   "cell_type": "code",
   "execution_count": 13,
   "metadata": {
    "scrolled": false
   },
   "outputs": [
    {
     "data": {
      "application/vnd.jupyter.widget-view+json": {
       "model_id": "36bd788b65a24b4dae0e30d38b3a04af",
       "version_major": 2,
       "version_minor": 0
      },
      "text/html": [
       "<p>Failed to display Jupyter Widget of type <code>WorkflowWidget</code>.</p>\n",
       "<p>\n",
       "  If you're reading this message in the Jupyter Notebook or JupyterLab Notebook, it may mean\n",
       "  that the widgets JavaScript is still loading. If this message persists, it\n",
       "  likely means that the widgets JavaScript library is either not installed or\n",
       "  not enabled. See the <a href=\"https://ipywidgets.readthedocs.io/en/stable/user_install.html\">Jupyter\n",
       "  Widgets Documentation</a> for setup instructions.\n",
       "</p>\n",
       "<p>\n",
       "  If you're reading this message in another frontend (for example, a static\n",
       "  rendering on GitHub or <a href=\"https://nbviewer.jupyter.org/\">NBViewer</a>),\n",
       "  it may mean that your frontend doesn't currently support widgets.\n",
       "</p>\n"
      ],
      "text/plain": [
       "WorkflowWidget(children=(VBox(children=(Figure(fig_margin={'left': 10, 'right': 10, 'bottom': 10, 'top': 10}, layout=Layout(height='600px', width='400px'), marks=[Graph(colors=['#1f77b4', '#ff7f0e', '#2ca02c', '#d62728', '#9467bd', '#8c564b', '#e377c2', '#7f7f7f', '#bcbd22', '#17becf'], highlight_links=False, interactions={'hover': 'tooltip', 'click': 'select'}, link_data=[{'source': 0, 'target': 4}, {'source': 1, 'target': 4}, {'source': 2, 'target': 5}, {'source': 3, 'target': 5}, {'source': 4, 'target': 6}, {'source': 5, 'target': 6}], link_type='line', node_data=[{'label': '0', 'shape': 'rect', 'name': 't0', 'task_type': 'PythonFunctionTask', 'tags': '[]', 'input_files': '[]', 'output_files': '[]', 'num_cores': '1', 'args': '[0]', 'kwargs': '{}'}, {'label': '1', 'shape': 'rect', 'name': 't1', 'task_type': 'PythonFunctionTask', 'tags': '[]', 'input_files': '[]', 'output_files': '[]', 'num_cores': '1', 'args': '[1]', 'kwargs': '{}'}, {'label': '2', 'shape': 'rect', 'name': 't2', 'task_type': 'PythonFunctionTask', 'tags': '[]', 'input_files': '[]', 'output_files': '[]', 'num_cores': '1', 'args': '[2]', 'kwargs': '{}'}, {'label': '3', 'shape': 'rect', 'name': 't3', 'task_type': 'PythonFunctionTask', 'tags': '[]', 'input_files': '[]', 'output_files': '[]', 'num_cores': '1', 'args': '[3]', 'kwargs': '{}'}, {'label': '4', 'shape': 'rect', 'name': 't4', 'task_type': 'PythonFunctionTask', 'tags': '[]', 'input_files': '[]', 'output_files': '[]', 'num_cores': '1', 'args': '[4, <kale.workflow_objects.PythonFunctionTask object at 0x7fb34e9790f0>, <kale.workflow_objects.PythonFunctionTask object at 0x7fb34e979198>]', 'kwargs': '{}'}, {'label': '5', 'shape': 'rect', 'name': 't5', 'task_type': 'PythonFunctionTask', 'tags': '[]', 'input_files': '[]', 'output_files': '[]', 'num_cores': '1', 'args': '[5, <kale.workflow_objects.PythonFunctionTask object at 0x7fb34e9792e8>, <kale.workflow_objects.PythonFunctionTask object at 0x7fb34e979278>]', 'kwargs': '{}'}, {'label': '6', 'shape': 'rect', 'name': 't6', 'task_type': 'PythonFunctionTask', 'tags': '[]', 'input_files': '[]', 'output_files': '[]', 'num_cores': '1', 'args': '[6, <kale.workflow_objects.PythonFunctionTask object at 0x7fb34e979390>, <kale.workflow_objects.PythonFunctionTask object at 0x7fb34e979438>]', 'kwargs': '{}'}], scales={'x': LinearScale(), 'y': LinearScale()}, scales_metadata={'x': {'orientation': 'horizontal', 'dimension': 'x'}, 'y': {'orientation': 'vertical', 'dimension': 'y'}, 'color': {'dimension': 'color'}, 'link_color': {'dimension': 'link_color'}}, selected_style={'stroke': 'red'}, tooltip_style={'opacity': 0.9}, x=array([  335.37,  1026.4 ,  1719.4 ,  2412.4 ,  1025.4 ,  1719.4 ,  1372.4 ]), y=array([ 162.,  162.,  162.,  162.,   90.,   90.,   18.]))], min_aspect_ratio=0.0, scale_x=LinearScale(allow_padding=False, max=1.0, min=0.0), scale_y=LinearScale(allow_padding=False, max=1.0, min=0.0)), Toolbar(figure=Figure(fig_margin={'left': 10, 'right': 10, 'bottom': 10, 'top': 10}, layout=Layout(height='600px', width='400px'), marks=[Graph(colors=['#1f77b4', '#ff7f0e', '#2ca02c', '#d62728', '#9467bd', '#8c564b', '#e377c2', '#7f7f7f', '#bcbd22', '#17becf'], highlight_links=False, interactions={'hover': 'tooltip', 'click': 'select'}, link_data=[{'source': 0, 'target': 4}, {'source': 1, 'target': 4}, {'source': 2, 'target': 5}, {'source': 3, 'target': 5}, {'source': 4, 'target': 6}, {'source': 5, 'target': 6}], link_type='line', node_data=[{'label': '0', 'shape': 'rect', 'name': 't0', 'task_type': 'PythonFunctionTask', 'tags': '[]', 'input_files': '[]', 'output_files': '[]', 'num_cores': '1', 'args': '[0]', 'kwargs': '{}'}, {'label': '1', 'shape': 'rect', 'name': 't1', 'task_type': 'PythonFunctionTask', 'tags': '[]', 'input_files': '[]', 'output_files': '[]', 'num_cores': '1', 'args': '[1]', 'kwargs': '{}'}, {'label': '2', 'shape': 'rect', 'name': 't2', 'task_type': 'PythonFunctionTask', 'tags': '[]', 'input_files': '[]', 'output_files': '[]', 'num_cores': '1', 'args': '[2]', 'kwargs': '{}'}, {'label': '3', 'shape': 'rect', 'name': 't3', 'task_type': 'PythonFunctionTask', 'tags': '[]', 'input_files': '[]', 'output_files': '[]', 'num_cores': '1', 'args': '[3]', 'kwargs': '{}'}, {'label': '4', 'shape': 'rect', 'name': 't4', 'task_type': 'PythonFunctionTask', 'tags': '[]', 'input_files': '[]', 'output_files': '[]', 'num_cores': '1', 'args': '[4, <kale.workflow_objects.PythonFunctionTask object at 0x7fb34e9790f0>, <kale.workflow_objects.PythonFunctionTask object at 0x7fb34e979198>]', 'kwargs': '{}'}, {'label': '5', 'shape': 'rect', 'name': 't5', 'task_type': 'PythonFunctionTask', 'tags': '[]', 'input_files': '[]', 'output_files': '[]', 'num_cores': '1', 'args': '[5, <kale.workflow_objects.PythonFunctionTask object at 0x7fb34e9792e8>, <kale.workflow_objects.PythonFunctionTask object at 0x7fb34e979278>]', 'kwargs': '{}'}, {'label': '6', 'shape': 'rect', 'name': 't6', 'task_type': 'PythonFunctionTask', 'tags': '[]', 'input_files': '[]', 'output_files': '[]', 'num_cores': '1', 'args': '[6, <kale.workflow_objects.PythonFunctionTask object at 0x7fb34e979390>, <kale.workflow_objects.PythonFunctionTask object at 0x7fb34e979438>]', 'kwargs': '{}'}], scales={'x': LinearScale(), 'y': LinearScale()}, scales_metadata={'x': {'orientation': 'horizontal', 'dimension': 'x'}, 'y': {'orientation': 'vertical', 'dimension': 'y'}, 'color': {'dimension': 'color'}, 'link_color': {'dimension': 'link_color'}}, selected_style={'stroke': 'red'}, tooltip_style={'opacity': 0.9}, x=array([  335.37,  1026.4 ,  1719.4 ,  2412.4 ,  1025.4 ,  1719.4 ,  1372.4 ]), y=array([ 162.,  162.,  162.,  162.,   90.,   90.,   18.]))], min_aspect_ratio=0.0, scale_x=LinearScale(allow_padding=False, max=1.0, min=0.0), scale_y=LinearScale(allow_padding=False, max=1.0, min=0.0))))), Tab(children=(VBox(children=(HTML(value='<b>Workflow Description</b>'), EditHTML(children=(HTMLMath(value='', layout=Layout(border='1px lightgray solid', padding='10px')), Button(description='Edit Description', style=ButtonStyle()))), Box(layout=Layout(height='20px', width='0px')), HTML(value='<b>Worker Pools</b>'), VBox(children=(Dropdown(options=(('default', <kale.workflow_objects.WorkerPool object at 0x7fb34eccceb8>),), value=<kale.workflow_objects.WorkerPool object at 0x7fb34eccceb8>), Button(button_style='success', description='Run Workflow', style=ButtonStyle()))))), VBox(children=(HTML(value='<b>Task Description</b>'), EditHTML(children=(HTMLMath(value='None selected.', layout=Layout(border='1px lightgray solid', padding='10px')), Button(description='Edit Description', disabled=True, style=ButtonStyle()))), Box(layout=Layout(height='20px', width='0px')), HTML(value=''), Button(button_style='info', description='Continue Workflow', layout=Layout(visibility='hidden'), style=ButtonStyle()), Box(layout=Layout(height='20px', width='0px')), HTML(value='<b>Task Metadata</b>'), HTML(value=''))), VBox(children=(HTML(value='<b>Tags</b>'), Select(options=(), value=None), HTML(value='<b>Actions</b>'), Text(value='', description='Tag name'), HBox(children=(VBox(children=(Button(description='Select All', style=ButtonStyle()), Button(description='Select None', style=ButtonStyle()), Button(description='Select Children', style=ButtonStyle()), Button(description='Select Parents', style=ButtonStyle()), Button(description='Tag to Selection', style=ButtonStyle()), Button(description='Selection to Tag', style=ButtonStyle()))), VBox(children=(Button(description='New Tag', style=ButtonStyle()), Button(description='Del Tag', style=ButtonStyle()))))))), VBox(children=(HTML(value='<b>Messages from WorkflowWidget:</b>'), Box(children=(Output(),), layout=Layout(border='1px lightgray solid', padding='10px')), Box(layout=Layout(height='10px', width='0px')), Button(description='Clear', style=ButtonStyle())))), layout=Layout(height='600px', width='400px'), _titles={'0': 'Workflow', '1': 'Task', '2': 'Tags', '3': 'Widget Log'})))"
      ]
     },
     "metadata": {},
     "output_type": "display_data"
    },
    {
     "name": "stdout",
     "output_type": "stream",
     "text": [
      "Task 3.Task 2.Task 1.Task 0.\n",
      "\n",
      "\n",
      "\n",
      "Task 5.Task 4.\n",
      "\n",
      "Task 6.\n",
      "Task 3.Task 1.Task 0.Task 2.\n",
      "\n",
      "\n",
      "\n",
      "Task 4.Task 5.\n",
      "\n",
      "Task 6.\n"
     ]
    }
   ],
   "source": [
    "WorkflowWidget(rand_kale_wf, wpw)"
   ]
  },
  {
   "cell_type": "code",
   "execution_count": null,
   "metadata": {},
   "outputs": [],
   "source": [
    "flat_kale_wf = wo.Workflow(name='flat_kale_wf')\n",
    "\n",
    "# Level 1\n",
    "t0 = wo.PythonFunctionTask(name='t0', func=rand_add_func, args=[0])\n",
    "flat_kale_wf.add_task(t0)\n",
    "t0 = wo.PythonFunctionTask(name='t0', func=rand_add_func, args=[1])\n",
    "flat_kale_wf.add_task(t0)\n",
    "t0 = wo.PythonFunctionTask(name='t0', func=rand_add_func, args=[2])\n",
    "flat_kale_wf.add_task(t0)\n",
    "t0 = wo.PythonFunctionTask(name='t0', func=rand_add_func, args=[3])\n",
    "flat_kale_wf.add_task(t0)\n",
    "t0 = wo.PythonFunctionTask(name='t0', func=rand_add_func, args=[4])\n",
    "flat_kale_wf.add_task(t0)\n",
    "t0 = wo.PythonFunctionTask(name='t0', func=rand_add_func, args=[5])\n",
    "flat_kale_wf.add_task(t0)\n"
   ]
  },
  {
   "cell_type": "code",
   "execution_count": null,
   "metadata": {},
   "outputs": [],
   "source": [
    "WorkflowWidget(flat_kale_wf, wpw)"
   ]
  },
  {
   "cell_type": "code",
   "execution_count": null,
   "metadata": {},
   "outputs": [],
   "source": [
    "rand_kale_wf.futures"
   ]
  },
  {
   "cell_type": "code",
   "execution_count": null,
   "metadata": {},
   "outputs": [],
   "source": [
    "list(rand_kale_wf.futures.values())[0].exception()"
   ]
  },
  {
   "cell_type": "code",
   "execution_count": null,
   "metadata": {},
   "outputs": [],
   "source": [
    "parsl_dfk.tasks"
   ]
  },
  {
   "cell_type": "markdown",
   "metadata": {},
   "source": [
    "# Timed example to make sure dependencies are working correctly."
   ]
  },
  {
   "cell_type": "code",
   "execution_count": null,
   "metadata": {},
   "outputs": [],
   "source": [
    "@App('python', kale_dfk)\n",
    "def timenum(wait, num, *args):\n",
    "    import time\n",
    "    print(\"Hello, {}!\".format(num))\n",
    "    print()\n",
    "    time.sleep(wait)"
   ]
  },
  {
   "cell_type": "code",
   "execution_count": null,
   "metadata": {},
   "outputs": [],
   "source": [
    "kale_dfk.new_workflow('Timed')\n",
    "timenum(\n",
    "    2,3,\n",
    "    timenum(\n",
    "        2, 2,\n",
    "        timenum(\n",
    "            2,1, \n",
    "            timenum(2,0)\n",
    "        )\n",
    "    ),\n",
    "    timenum(3, 4)\n",
    ")\n",
    "\n",
    "timenum(\n",
    "    0, 6, \n",
    "    timenum(5,5)\n",
    ")\n",
    "\n",
    "WorkflowWidget(kale_dfk.kale_workflow, wpw)"
   ]
  },
  {
   "cell_type": "code",
   "execution_count": null,
   "metadata": {},
   "outputs": [],
   "source": []
  }
 ],
 "metadata": {
  "kernelspec": {
   "display_name": "Python 3",
   "language": "python",
   "name": "python3"
  },
  "language_info": {
   "codemirror_mode": {
    "name": "ipython",
    "version": 3
   },
   "file_extension": ".py",
   "mimetype": "text/x-python",
   "name": "python",
   "nbconvert_exporter": "python",
   "pygments_lexer": "ipython3",
   "version": "3.6.3"
  }
 },
 "nbformat": 4,
 "nbformat_minor": 2
}
