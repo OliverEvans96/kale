{
 "cells": [
  {
   "cell_type": "code",
   "execution_count": 1,
   "metadata": {
    "collapsed": true
   },
   "outputs": [],
   "source": [
    "const int n = 10;\n",
    "double x[n], y[n];\n",
    "\n",
    "for(int i=0; i< n; i++)\n",
    "{\n",
    "    x[i] = .1 * i;\n",
    "    y[i] = x[i] * x[i];\n",
    "}"
   ]
  },
  {
   "cell_type": "code",
   "execution_count": 3,
   "metadata": {},
   "outputs": [
    {
     "name": "stdout",
     "output_type": "stream",
     "text": [
      "(double [10]) { 0.000000, 0.010000, 0.040000, 0.090000, 0.160000, 0.250000, 0.360000, 0.490000, 0.640000, 0.810000 }\n"
     ]
    }
   ],
   "source": [
    "y"
   ]
  },
  {
   "cell_type": "code",
   "execution_count": 7,
   "metadata": {},
   "outputs": [
    {
     "name": "stdout",
     "output_type": "stream",
     "text": [
      "(double) 4.000000\n"
     ]
    }
   ],
   "source": [
    "y[2] = 4"
   ]
  },
  {
   "cell_type": "code",
   "execution_count": 5,
   "metadata": {},
   "outputs": [
    {
     "name": "stdout",
     "output_type": "stream",
     "text": [
      "(double [10]) { 0.000000, 0.010000, 4.000000, 0.090000, 0.160000, 0.250000, 0.360000, 0.490000, 0.640000, 0.810000 }\n"
     ]
    }
   ],
   "source": [
    "y"
   ]
  },
  {
   "cell_type": "code",
   "execution_count": 8,
   "metadata": {},
   "outputs": [
    {
     "name": "stderr",
     "output_type": "stream",
     "text": [
      "input_line_21:2:4: error: array type 'double [10]' is not assignable\n",
      " y = 3\n",
      " ~ ^\n"
     ]
    }
   ],
   "source": [
    "y = 3"
   ]
  },
  {
   "cell_type": "code",
   "execution_count": null,
   "metadata": {
    "collapsed": true
   },
   "outputs": [],
   "source": []
  }
 ],
 "metadata": {
  "kernelspec": {
   "display_name": "xeus C++17",
   "language": "",
   "name": "xeus-cling-cpp17"
  },
  "language_info": {
   "codemirror_mode": "text/x-c++src",
   "file_extension": ".cpp",
   "mimetype": "text/x-c++src",
   "name": "c++",
   "version": ""
  }
 },
 "nbformat": 4,
 "nbformat_minor": 2
}
