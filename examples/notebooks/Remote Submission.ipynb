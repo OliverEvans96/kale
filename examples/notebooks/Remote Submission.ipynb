{
 "cells": [
  {
   "cell_type": "code",
   "execution_count": null,
   "metadata": {},
   "outputs": [],
   "source": [
    "%load_ext autoreload\n",
    "%autoreload 2"
   ]
  },
  {
   "cell_type": "code",
   "execution_count": null,
   "metadata": {},
   "outputs": [],
   "source": [
    "import requests\n",
    "import kale\n",
    "import kale.serialize"
   ]
  },
  {
   "cell_type": "markdown",
   "metadata": {},
   "source": [
    "# Construct Workflow"
   ]
  },
  {
   "cell_type": "code",
   "execution_count": null,
   "metadata": {},
   "outputs": [],
   "source": [
    "def greet(salutation, name):\n",
    "    print(\"{}, {}!\".format(salutation, name))"
   ]
  },
  {
   "cell_type": "code",
   "execution_count": null,
   "metadata": {},
   "outputs": [],
   "source": [
    "wp = kale.workflow_objects.WorkerPool(\n",
    "    'WP', \n",
    "    wf_executor='parsl',\n",
    "    num_workers=4\n",
    ")\n",
    "wf = kale.workflow_objects.Workflow(\"WF\")\n",
    "t1 = kale.workflow_objects.PythonFunctionTask(\n",
    "    name='hello',\n",
    "    func=greet,\n",
    "    args=[\"Hello, there\", \"Bob\"]\n",
    ")\n",
    "t2 = kale.workflow_objects.PythonFunctionTask(\n",
    "    name='howdy',\n",
    "    func=greet,\n",
    "    args=[\"Howdy\", \"partner\"]\n",
    ")\n",
    "t3 = kale.workflow_objects.PythonFunctionTask(\n",
    "    name='heyo',\n",
    "    func=greet,\n",
    "    args=[\"Heyo\", \"Guy\"]\n",
    ")\n",
    "t4 = kale.workflow_objects.PythonFunctionTask(\n",
    "    name='bye',\n",
    "    func=greet,\n",
    "    args=[\"So long\", \"friend\"]\n",
    ")\n",
    "wf.add_task(t1)\n",
    "wf.add_task(t2, dependencies=[t1])\n",
    "wf.add_task(t3, dependencies=[t1])\n",
    "wf.add_task(t4, dependencies=[t2,t3])"
   ]
  },
  {
   "cell_type": "code",
   "execution_count": null,
   "metadata": {},
   "outputs": [],
   "source": [
    "wpw = kale.workflow_widgets.WorkerPoolWidget()"
   ]
  },
  {
   "cell_type": "code",
   "execution_count": null,
   "metadata": {},
   "outputs": [],
   "source": [
    "kale.workflow_widgets.WorkflowWidget(wf, wpw)"
   ]
  },
  {
   "cell_type": "markdown",
   "metadata": {},
   "source": [
    "# Serialize and Submit"
   ]
  },
  {
   "cell_type": "code",
   "execution_count": null,
   "metadata": {},
   "outputs": [],
   "source": [
    "import flask\n",
    "import dill"
   ]
  },
  {
   "cell_type": "code",
   "execution_count": null,
   "metadata": {},
   "outputs": [],
   "source": [
    "wf_bytes = kale.serialize.serialize_wf(wf)"
   ]
  },
  {
   "cell_type": "code",
   "execution_count": null,
   "metadata": {},
   "outputs": [],
   "source": [
    "wf_dict = dill.loads(wf_bytes)\n",
    "#wf_dict"
   ]
  },
  {
   "cell_type": "code",
   "execution_count": null,
   "metadata": {},
   "outputs": [],
   "source": [
    "r = requests.post(\n",
    "    \"http://localhost:12643/submit_parsl\",\n",
    "    data=wf_bytes,\n",
    ")\n",
    "\n",
    "r"
   ]
  },
  {
   "cell_type": "markdown",
   "metadata": {},
   "source": [
    "# Deserialize and Reconstruct\n",
    "To demonstrate that it looks the same on the other side of the wire"
   ]
  },
  {
   "cell_type": "code",
   "execution_count": null,
   "metadata": {},
   "outputs": [],
   "source": [
    "re_wf = kale.serialize.deserialize_wf(wf_bytes)\n",
    "kale.workflow_widgets.WorkflowWidget(re_wf, wpw)"
   ]
  }
 ],
 "metadata": {
  "kernelspec": {
   "display_name": "Python 3",
   "language": "python",
   "name": "python3"
  },
  "language_info": {
   "codemirror_mode": {
    "name": "ipython",
    "version": 3
   },
   "file_extension": ".py",
   "mimetype": "text/x-python",
   "name": "python",
   "nbconvert_exporter": "python",
   "pygments_lexer": "ipython3",
   "version": "3.5.3"
  }
 },
 "nbformat": 4,
 "nbformat_minor": 2
}
