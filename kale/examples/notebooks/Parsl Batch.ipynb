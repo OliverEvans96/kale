{
 "cells": [
  {
   "cell_type": "code",
   "execution_count": null,
   "metadata": {},
   "outputs": [],
   "source": [
    "import tempfile\n",
    "import kale.workflow_objects\n",
    "import kale.workflow_widgets"
   ]
  },
  {
   "cell_type": "code",
   "execution_count": null,
   "metadata": {},
   "outputs": [],
   "source": [
    "stress_batch_template = \"\"\"\n",
    "#!/bin/bash\n",
    "#PBS -l nodes=1\n",
    "#PBS -l nice=10\n",
    "#PBS -j oe\n",
    "#PBS -q default\n",
    "#PBS -N StressTest{num_procs}_{duration}\n",
    "#PBS -o /opt/kale/kale/examples/batch_logs/stress{num_procs}_{duration}.log\n",
    "#PBS -r n\n",
    "cd $PBS_O_WORKDIR\n",
    "stress -c {num_procs} -t {duration}\n",
    "\"\"\""
   ]
  },
  {
   "cell_type": "code",
   "execution_count": null,
   "metadata": {},
   "outputs": [],
   "source": [
    "rm -f ../batch_scripts/tmp*"
   ]
  },
  {
   "cell_type": "code",
   "execution_count": null,
   "metadata": {},
   "outputs": [],
   "source": [
    "def batch_task_from_string(name, batch_string, poll_interval=45):\n",
    "    with tempfile.NamedTemporaryFile('w',dir='../batch_scripts', delete=False) as tmp:\n",
    "        tmp.write(batch_string)\n",
    "    \n",
    "    return kale.workflow_objects.BatchTask(\n",
    "        name=name,\n",
    "        batch_script=tmp.name,\n",
    "        poll_interval=poll_interval,\n",
    "    )"
   ]
  },
  {
   "cell_type": "code",
   "execution_count": null,
   "metadata": {},
   "outputs": [],
   "source": [
    "def create_stress_task(num_procs, duration=10):\n",
    "    return batch_task_from_string(\n",
    "        'stress{}_{}'.format(num_procs, duration),\n",
    "        stress_batch_template.format(\n",
    "            num_procs=num_procs,\n",
    "            duration=duration\n",
    "        )\n",
    "    )"
   ]
  },
  {
   "cell_type": "code",
   "execution_count": null,
   "metadata": {},
   "outputs": [],
   "source": [
    "t0 = create_stress_task(1, 30)\n",
    "t1 = create_stress_task(2, 45)"
   ]
  },
  {
   "cell_type": "code",
   "execution_count": null,
   "metadata": {},
   "outputs": [],
   "source": [
    "wf = kale.workflow_objects.Workflow('Stress WF')\n",
    "wf.add_task(t0)\n",
    "wf.add_task(t1, dependencies=[t0])"
   ]
  },
  {
   "cell_type": "code",
   "execution_count": null,
   "metadata": {},
   "outputs": [],
   "source": [
    "wpw = kale.workflow_widgets.WorkerPoolWidget()\n",
    "wpw"
   ]
  },
  {
   "cell_type": "code",
   "execution_count": null,
   "metadata": {},
   "outputs": [],
   "source": [
    "kale.workflow_widgets.WorkflowWidget(wf, wpw)"
   ]
  }
 ],
 "metadata": {
  "kernelspec": {
   "display_name": "Python 3",
   "language": "python",
   "name": "python3"
  },
  "language_info": {
   "codemirror_mode": {
    "name": "ipython",
    "version": 3
   },
   "file_extension": ".py",
   "mimetype": "text/x-python",
   "name": "python",
   "nbconvert_exporter": "python",
   "pygments_lexer": "ipython3",
   "version": "3.6.3"
  }
 },
 "nbformat": 4,
 "nbformat_minor": 2
}
