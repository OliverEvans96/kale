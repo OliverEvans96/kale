{
 "cells": [
  {
   "cell_type": "markdown",
   "metadata": {},
   "source": [
    "# Create Kale Workflows from Fireworks Workflows"
   ]
  },
  {
   "cell_type": "code",
   "execution_count": 1,
   "metadata": {},
   "outputs": [],
   "source": [
    "%load_ext autoreload\n",
    "%autoreload 2"
   ]
  },
  {
   "cell_type": "code",
   "execution_count": 2,
   "metadata": {},
   "outputs": [],
   "source": [
    "import itertools as it\n",
    "import yaml"
   ]
  },
  {
   "cell_type": "code",
   "execution_count": 3,
   "metadata": {},
   "outputs": [],
   "source": [
    "from fireworks import Firework, Workflow, LaunchPad, ScriptTask\n",
    "from fireworks.core.rocket_launcher import rapidfire"
   ]
  },
  {
   "cell_type": "code",
   "execution_count": 4,
   "metadata": {},
   "outputs": [],
   "source": [
    "from kale import workflow_objects as wo\n",
    "from kale import workflow_widgets as ww"
   ]
  },
  {
   "cell_type": "code",
   "execution_count": 5,
   "metadata": {},
   "outputs": [],
   "source": [
    "# set up the LaunchPad and reset it\n",
    "fwconfig_file = '/opt/conda/lib/python3.6/site-packages/my_launchpad.yaml'\n",
    "with open(fwconfig_file) as param_file:\n",
    "    params = yaml.load(param_file)\n",
    "launchpad = LaunchPad(**params)\n",
    "#launchpad = LaunchPad()"
   ]
  },
  {
   "cell_type": "code",
   "execution_count": 6,
   "metadata": {},
   "outputs": [
    {
     "name": "stdout",
     "output_type": "stream",
     "text": [
      "2018-01-24 19:01:48,573 INFO Performing db tune-up\n",
      "2018-01-24 19:01:48,596 INFO LaunchPad was RESET.\n"
     ]
    }
   ],
   "source": [
    "launchpad.reset('', require_password=False)"
   ]
  },
  {
   "cell_type": "code",
   "execution_count": 7,
   "metadata": {},
   "outputs": [],
   "source": [
    "def sort_fw_links(links):\n",
    "    \"\"\"Use NetworkX to topologically sort tasks\n",
    "    so that they can be created and added to the workflow\n",
    "    \"\"\""
   ]
  },
  {
   "cell_type": "code",
   "execution_count": 8,
   "metadata": {},
   "outputs": [],
   "source": [
    "def kale_from_fw(fw_wf):\n",
    "    \"\"\"Create Kale Workflow from Fireworks Workflow.\n",
    "    Currently only implemented for ScriptTasks.\"\"\"\n",
    "    fireworks = fw_wf.fws\n",
    "    kale_wf = wo.Workflow(fw_wf.name)\n",
    "    \n",
    "    # This dict will be used to index tasks by fw_id\n",
    "    kale_tasks = dict()\n",
    "    \n",
    "    # Create tasks\n",
    "    for fw in fireworks:\n",
    "        # FireWorks are composed of FireTasks\n",
    "        # We assume that FireTasks are all run simultaneously,\n",
    "        # so they don't depend on one another.\n",
    "        # All FireTasks within a FireWork will have the same\n",
    "        # dependencies and children.\n",
    "        fw_tasks = []\n",
    "        for ft_num, ft in enumerate(fw.to_dict()['spec']['_tasks']):\n",
    "            # Create Kale Task\n",
    "            if ft['_fw_name'] == 'ScriptTask':\n",
    "                kale_task = wo.CommandLineTask(\n",
    "                    command=''.join(ft['script']),\n",
    "                    name=\"{}_{}\".format(fw.name, ft_num)\n",
    "                )\n",
    "            else:\n",
    "                raise NotImplementedError(\"Only ScriptTasks are supported now.\")\n",
    "                \n",
    "            # Add to workflow without dependencies\n",
    "            kale_wf.add_task(kale_task)\n",
    "            \n",
    "            # Save tasks in this firework\n",
    "            fw_tasks.append(kale_task)\n",
    "                \n",
    "        # Save this set of firetasks by firework ID.\n",
    "        kale_tasks[fw.fw_id] = fw_tasks\n",
    "    \n",
    "    # Link tasks\n",
    "    for parent_id, child_ids in wf.links.items():\n",
    "        parent_task_list = kale_tasks[parent_id]\n",
    "        for child_id in child_ids:\n",
    "            child_task_list = kale_tasks[child_id]\n",
    "            # Set all elements of child_task_list to depend on all elements of parent_task_list.\n",
    "            for child_task, parent_task in it.product(child_task_list, parent_task_list):\n",
    "                kale_wf.add_dependencies(child_task, [parent_task])\n",
    "    \n",
    "    return kale_wf"
   ]
  },
  {
   "cell_type": "code",
   "execution_count": 9,
   "metadata": {},
   "outputs": [
    {
     "data": {
      "application/vnd.jupyter.widget-view+json": {
       "model_id": "9294a2b4c16d4185826e622c17bcca47",
       "version_major": 2,
       "version_minor": 0
      },
      "text/html": [
       "<p>Failed to display Jupyter Widget of type <code>WorkerPoolWidget</code>.</p>\n",
       "<p>\n",
       "  If you're reading this message in the Jupyter Notebook or JupyterLab Notebook, it may mean\n",
       "  that the widgets JavaScript is still loading. If this message persists, it\n",
       "  likely means that the widgets JavaScript library is either not installed or\n",
       "  not enabled. See the <a href=\"https://ipywidgets.readthedocs.io/en/stable/user_install.html\">Jupyter\n",
       "  Widgets Documentation</a> for setup instructions.\n",
       "</p>\n",
       "<p>\n",
       "  If you're reading this message in another frontend (for example, a static\n",
       "  rendering on GitHub or <a href=\"https://nbviewer.jupyter.org/\">NBViewer</a>),\n",
       "  it may mean that your frontend doesn't currently support widgets.\n",
       "</p>\n"
      ],
      "text/plain": [
       "WorkerPoolWidget(children=(HTML(value='<h3>Worker Pools</h3>'), TableWidget(children=(RowWidget(children=(HBox(children=(HTML(value='<b>Name</b>'),), layout=Layout(justify_content='flex-start', width='150px')), HBox(children=(HTML(value='<b>Location</b>'),), layout=Layout(justify_content='flex-start', width='200px')), HBox(children=(HTML(value='<b>Executor</b>'),), layout=Layout(justify_content='flex-start', width='200px')), HBox(children=(HTML(value='<b>Workers</b>'),), layout=Layout(justify_content='flex-start', width='60px')), HBox(children=(HTML(value='<b>Action</b>'),), layout=Layout(justify_content='flex-start', width='100px'))), layout=Layout(justify_content='space-between', width='710px')), RowWidget(children=(HBox(children=(HTML(value='default'),), layout=Layout(justify_content='flex-start', width='150px')), HBox(children=(HTML(value='localhost'),), layout=Layout(justify_content='flex-start', width='200px')), HBox(children=(HTML(value='parsl'),), layout=Layout(justify_content='flex-start', width='200px')), HBox(children=(HTML(value='4'),), layout=Layout(justify_content='flex-start', width='60px')), HBox(children=(Button(button_style='danger', description='Remove', style=ButtonStyle()),), layout=Layout(justify_content='flex-start', width='100px'))), layout=Layout(justify_content='space-between', width='710px')), RowWidget(children=(HBox(children=(HTML(value='fw_pool'),), layout=Layout(justify_content='flex-start', width='150px')), HBox(children=(HTML(value='localhost'),), layout=Layout(justify_content='flex-start', width='200px')), HBox(children=(HTML(value='fireworks'),), layout=Layout(justify_content='flex-start', width='200px')), HBox(children=(HTML(value='4'),), layout=Layout(justify_content='flex-start', width='60px')), HBox(children=(Button(button_style='danger', description='Remove', style=ButtonStyle()),), layout=Layout(justify_content='flex-start', width='100px'))), layout=Layout(justify_content='space-between', width='710px')), RowWidget(children=(HBox(children=(Text(value='', layout=Layout(width='148px')),), layout=Layout(justify_content='flex-start', width='150px')), HBox(children=(Dropdown(layout=Layout(width='198px'), options=('localhost',), value='localhost'),), layout=Layout(justify_content='flex-start', width='200px')), HBox(children=(Dropdown(layout=Layout(width='198px'), options=('parsl', 'fireworks'), value='parsl'),), layout=Layout(justify_content='flex-start', width='200px')), HBox(children=(IntText(value=1, layout=Layout(width='198px')),), layout=Layout(justify_content='flex-start', width='60px')), HBox(children=(Button(button_style='success', icon='plus', style=ButtonStyle()),), layout=Layout(justify_content='flex-start', width='100px'))), layout=Layout(justify_content='space-between', width='710px'))), layout=Layout(width='710px')), HTML(value='\\n        <div class=\"alert alert-success\" style=\"width: 710px\">\\n        WorkerPool \\'fw_pool\\' created.\\n        </div>\\n        ')))"
      ]
     },
     "metadata": {},
     "output_type": "display_data"
    }
   ],
   "source": [
    "wpw = ww.WorkerPoolWidget()\n",
    "wpw.add_pool('fw_pool', 4, 'fireworks')\n",
    "wpw"
   ]
  },
  {
   "cell_type": "code",
   "execution_count": 10,
   "metadata": {},
   "outputs": [],
   "source": [
    "# create the individual FireWorks and Workflow\n",
    "fw1 = Firework(\n",
    "    [\n",
    "        ScriptTask.from_str(\n",
    "            'echo \"hello $(date)\" >> ~/tmpmsg'\n",
    "        ), \n",
    "        ScriptTask.from_str(\n",
    "            'echo \"hi $(date)\" >> ~/tmpmsg'\n",
    "        ), \n",
    "    ],\n",
    "    name=\"hello\"\n",
    ")\n",
    "fw2 = Firework(\n",
    "    ScriptTask.from_str(\n",
    "        'echo \"goodbye $(date)\" >> ~/tmpmsg'\n",
    "    ), \n",
    "    name=\"goodbye\"\n",
    ")\n",
    "fw3 = Firework(\n",
    "    ScriptTask.from_str(\n",
    "        'echo \"\" >> ~/tmpmsg'\n",
    "    ), \n",
    "    name=\"blank\"\n",
    ")\n",
    "\n",
    "wf = Workflow(\n",
    "    [fw1, fw2, fw3],\n",
    "    {fw1:fw2, fw2: fw3},\n",
    "    name=\"test workflow\"\n",
    ")"
   ]
  },
  {
   "cell_type": "code",
   "execution_count": 11,
   "metadata": {
    "scrolled": false
   },
   "outputs": [
    {
     "name": "stdout",
     "output_type": "stream",
     "text": [
      "Adding deps: <kale.workflow_objects.CommandLineTask object at 0x7f8a652dc978> <- [<kale.workflow_objects.CommandLineTask object at 0x7f8a652dc8d0>]\n",
      "Adding deps: <kale.workflow_objects.CommandLineTask object at 0x7f8a652dc978> <- [<kale.workflow_objects.CommandLineTask object at 0x7f8a652dc7f0>]\n",
      "Adding deps: <kale.workflow_objects.CommandLineTask object at 0x7f8a652dc940> <- [<kale.workflow_objects.CommandLineTask object at 0x7f8a652dc978>]\n"
     ]
    }
   ],
   "source": [
    "kale_wf = kale_from_fw(wf)"
   ]
  },
  {
   "cell_type": "code",
   "execution_count": 12,
   "metadata": {},
   "outputs": [
    {
     "data": {
      "application/vnd.jupyter.widget-view+json": {
       "model_id": "23e1ad333dc54317893ceb8196ed0307",
       "version_major": 2,
       "version_minor": 0
      },
      "text/html": [
       "<p>Failed to display Jupyter Widget of type <code>WorkflowWidget</code>.</p>\n",
       "<p>\n",
       "  If you're reading this message in the Jupyter Notebook or JupyterLab Notebook, it may mean\n",
       "  that the widgets JavaScript is still loading. If this message persists, it\n",
       "  likely means that the widgets JavaScript library is either not installed or\n",
       "  not enabled. See the <a href=\"https://ipywidgets.readthedocs.io/en/stable/user_install.html\">Jupyter\n",
       "  Widgets Documentation</a> for setup instructions.\n",
       "</p>\n",
       "<p>\n",
       "  If you're reading this message in another frontend (for example, a static\n",
       "  rendering on GitHub or <a href=\"https://nbviewer.jupyter.org/\">NBViewer</a>),\n",
       "  it may mean that your frontend doesn't currently support widgets.\n",
       "</p>\n"
      ],
      "text/plain": [
       "WorkflowWidget(children=(VBox(children=(Figure(fig_margin={'left': 10, 'right': 10, 'bottom': 10, 'top': 10}, layout=Layout(height='600px', width='400px'), marks=[Graph(colors=['#1f77b4', '#ff7f0e', '#2ca02c', '#d62728', '#9467bd', '#8c564b', '#e377c2', '#7f7f7f', '#bcbd22', '#17becf'], highlight_links=False, interactions={'hover': 'tooltip', 'click': 'select'}, link_data=[{'source': 0, 'target': 2}, {'source': 1, 'target': 2}, {'source': 2, 'target': 3}], link_type='line', node_data=[{'label': '0', 'shape': 'rect', 'name': 'hello_0', 'task_type': 'CommandLineTask', 'tags': '[]', 'input_files': '[]', 'output_files': '[]', 'num_cores': '1', 'command': 'echo \"hello $(date)\" >> ~/tmpmsg'}, {'label': '1', 'shape': 'rect', 'name': 'hello_1', 'task_type': 'CommandLineTask', 'tags': '[]', 'input_files': '[]', 'output_files': '[]', 'num_cores': '1', 'command': 'echo \"hi $(date)\" >> ~/tmpmsg'}, {'label': '2', 'shape': 'rect', 'name': 'goodbye_0', 'task_type': 'CommandLineTask', 'tags': '[]', 'input_files': '[]', 'output_files': '[]', 'num_cores': '1', 'command': 'echo \"goodbye $(date)\" >> ~/tmpmsg'}, {'label': '3', 'shape': 'rect', 'name': 'blank_0', 'task_type': 'CommandLineTask', 'tags': '[]', 'input_files': '[]', 'output_files': '[]', 'num_cores': '1', 'command': 'echo \"\" >> ~/tmpmsg'}], scales={'x': LinearScale(), 'y': LinearScale()}, scales_metadata={'x': {'orientation': 'horizontal', 'dimension': 'x'}, 'y': {'orientation': 'vertical', 'dimension': 'y'}, 'color': {'dimension': 'color'}, 'link_color': {'dimension': 'link_color'}}, selected_style={'stroke': 'red'}, tooltip_style={'opacity': 0.9}, x=array([  330.82,  1008.8 ,   669.82,   669.82]), y=array([ 162.,  162.,   90.,   18.]))], min_aspect_ratio=0.0, scale_x=LinearScale(allow_padding=False, max=1.0, min=0.0), scale_y=LinearScale(allow_padding=False, max=1.0, min=0.0)), Toolbar(figure=Figure(fig_margin={'left': 10, 'right': 10, 'bottom': 10, 'top': 10}, layout=Layout(height='600px', width='400px'), marks=[Graph(colors=['#1f77b4', '#ff7f0e', '#2ca02c', '#d62728', '#9467bd', '#8c564b', '#e377c2', '#7f7f7f', '#bcbd22', '#17becf'], highlight_links=False, interactions={'hover': 'tooltip', 'click': 'select'}, link_data=[{'source': 0, 'target': 2}, {'source': 1, 'target': 2}, {'source': 2, 'target': 3}], link_type='line', node_data=[{'label': '0', 'shape': 'rect', 'name': 'hello_0', 'task_type': 'CommandLineTask', 'tags': '[]', 'input_files': '[]', 'output_files': '[]', 'num_cores': '1', 'command': 'echo \"hello $(date)\" >> ~/tmpmsg'}, {'label': '1', 'shape': 'rect', 'name': 'hello_1', 'task_type': 'CommandLineTask', 'tags': '[]', 'input_files': '[]', 'output_files': '[]', 'num_cores': '1', 'command': 'echo \"hi $(date)\" >> ~/tmpmsg'}, {'label': '2', 'shape': 'rect', 'name': 'goodbye_0', 'task_type': 'CommandLineTask', 'tags': '[]', 'input_files': '[]', 'output_files': '[]', 'num_cores': '1', 'command': 'echo \"goodbye $(date)\" >> ~/tmpmsg'}, {'label': '3', 'shape': 'rect', 'name': 'blank_0', 'task_type': 'CommandLineTask', 'tags': '[]', 'input_files': '[]', 'output_files': '[]', 'num_cores': '1', 'command': 'echo \"\" >> ~/tmpmsg'}], scales={'x': LinearScale(), 'y': LinearScale()}, scales_metadata={'x': {'orientation': 'horizontal', 'dimension': 'x'}, 'y': {'orientation': 'vertical', 'dimension': 'y'}, 'color': {'dimension': 'color'}, 'link_color': {'dimension': 'link_color'}}, selected_style={'stroke': 'red'}, tooltip_style={'opacity': 0.9}, x=array([  330.82,  1008.8 ,   669.82,   669.82]), y=array([ 162.,  162.,   90.,   18.]))], min_aspect_ratio=0.0, scale_x=LinearScale(allow_padding=False, max=1.0, min=0.0), scale_y=LinearScale(allow_padding=False, max=1.0, min=0.0))))), Tab(children=(VBox(children=(HTML(value='<b>Workflow Description</b>'), EditHTML(children=(HTMLMath(value='', layout=Layout(border='1px lightgray solid', padding='10px')), Button(description='Edit Description', style=ButtonStyle()))), Box(layout=Layout(height='20px', width='0px')), HTML(value='<b>Worker Pools</b>'), VBox(children=(Dropdown(options=(('default', <kale.workflow_objects.WorkerPool object at 0x7f8a65332518>), ('fw_pool', <kale.workflow_objects.WorkerPool object at 0x7f8a653739e8>)), value=<kale.workflow_objects.WorkerPool object at 0x7f8a65332518>), Button(button_style='success', description='Run Workflow', style=ButtonStyle()))))), VBox(children=(HTML(value='<b>Task Description</b>'), EditHTML(children=(HTMLMath(value='None selected.', layout=Layout(border='1px lightgray solid', padding='10px')), Button(description='Edit Description', disabled=True, style=ButtonStyle()))), Box(layout=Layout(height='20px', width='0px')), HTML(value=''), Button(button_style='info', description='Continue Workflow', layout=Layout(visibility='hidden'), style=ButtonStyle()), Box(layout=Layout(height='20px', width='0px')), HTML(value='<b>Task Metadata</b>'), HTML(value=''))), VBox(children=(HTML(value='<b>Tags</b>'), Select(options=(), value=None), HTML(value='<b>Actions</b>'), Text(value='', description='Tag name'), HBox(children=(VBox(children=(Button(description='Select All', style=ButtonStyle()), Button(description='Select None', style=ButtonStyle()), Button(description='Select Children', style=ButtonStyle()), Button(description='Select Parents', style=ButtonStyle()), Button(description='Tag to Selection', style=ButtonStyle()), Button(description='Selection to Tag', style=ButtonStyle()))), VBox(children=(Button(description='New Tag', style=ButtonStyle()), Button(description='Del Tag', style=ButtonStyle()))))))), VBox(children=(HTML(value='<b>Messages from WorkflowWidget:</b>'), Box(children=(Output(),), layout=Layout(border='1px lightgray solid', padding='10px')), Box(layout=Layout(height='10px', width='0px')), Button(description='Clear', style=ButtonStyle())))), layout=Layout(height='600px', width='400px'), _titles={'0': 'Workflow', '1': 'Task', '2': 'Tags', '3': 'Widget Log'})))"
      ]
     },
     "metadata": {},
     "output_type": "display_data"
    }
   ],
   "source": [
    "w = ww.WorkflowWidget(kale_wf, wpw)\n",
    "w"
   ]
  },
  {
   "cell_type": "code",
   "execution_count": 20,
   "metadata": {},
   "outputs": [
    {
     "data": {
      "text/plain": [
       "NodeView((<kale.workflow_objects.CommandLineTask object at 0x7f8a652dc8d0>, <kale.workflow_objects.CommandLineTask object at 0x7f8a652dc7f0>, <kale.workflow_objects.CommandLineTask object at 0x7f8a652dc978>, <kale.workflow_objects.CommandLineTask object at 0x7f8a652dc940>))"
      ]
     },
     "execution_count": 20,
     "metadata": {},
     "output_type": "execute_result"
    }
   ],
   "source": [
    "kale_wf.dag.nodes()"
   ]
  },
  {
   "cell_type": "code",
   "execution_count": 21,
   "metadata": {},
   "outputs": [],
   "source": [
    "t1 = kale_wf.index_dict[1]\n",
    "t0 = kale_wf.index_dict[0]"
   ]
  },
  {
   "cell_type": "code",
   "execution_count": 25,
   "metadata": {},
   "outputs": [
    {
     "data": {
      "text/plain": [
       "[2]"
      ]
     },
     "execution_count": 25,
     "metadata": {},
     "output_type": "execute_result"
    }
   ],
   "source": [
    "[t.index[kale_wf] for t in w._get_children([t0])]"
   ]
  },
  {
   "cell_type": "markdown",
   "metadata": {},
   "source": [
    "# I should put this in the actual get_children code"
   ]
  },
  {
   "cell_type": "code",
   "execution_count": 36,
   "metadata": {},
   "outputs": [],
   "source": [
    "def get_names(task_list):\n",
    "    return [task.name for task in task_list]\n",
    "def get_ids(task_list):\n",
    "    return [task.index[kale_wf] for task in task_list]\n",
    "def get_tasks(task_id_list):\n",
    "    return [kale_wf.index_dict[index] for index in task_id_list]\n",
    "\n",
    "def get_children(task_id_list):\n",
    "    task_list = get_tasks(task_id_list)\n",
    "    children = w._get_children(task_list)\n",
    "    return get_ids(children), get_names(children)"
   ]
  },
  {
   "cell_type": "code",
   "execution_count": 54,
   "metadata": {},
   "outputs": [],
   "source": [
    "def get_all_children(task_id_list):\n",
    "    ids = task_id_list[:] if isinstance(task_id_list, (tuple, list)) else [task_id_list]\n",
    "    names = get_names(get_tasks(ids))\n",
    "    while len(ids) > 0:\n",
    "        print(ids, names)\n",
    "        ids, names = get_children(ids)"
   ]
  },
  {
   "cell_type": "code",
   "execution_count": 57,
   "metadata": {},
   "outputs": [
    {
     "name": "stdout",
     "output_type": "stream",
     "text": [
      "[0] ['hello_0']\n",
      "[2] ['goodbye_0']\n",
      "[3] ['blank_0']\n"
     ]
    }
   ],
   "source": [
    "get_all_children(0)"
   ]
  },
  {
   "cell_type": "code",
   "execution_count": 39,
   "metadata": {},
   "outputs": [
    {
     "data": {
      "text/plain": [
       "([3], ['blank_0'])"
      ]
     },
     "execution_count": 39,
     "metadata": {},
     "output_type": "execute_result"
    }
   ],
   "source": [
    "ids, names = get_children(ids)\n",
    "ids, names"
   ]
  },
  {
   "cell_type": "code",
   "execution_count": null,
   "metadata": {},
   "outputs": [],
   "source": []
  },
  {
   "cell_type": "code",
   "execution_count": 26,
   "metadata": {},
   "outputs": [
    {
     "data": {
      "text/plain": [
       "[<kale.workflow_objects.CommandLineTask at 0x7f8a652dc978>]"
      ]
     },
     "execution_count": 26,
     "metadata": {},
     "output_type": "execute_result"
    }
   ],
   "source": [
    "w._get_children([t1])"
   ]
  },
  {
   "cell_type": "code",
   "execution_count": 18,
   "metadata": {},
   "outputs": [
    {
     "data": {
      "text/plain": [
       "kale.workflow_objects.CommandLineTask"
      ]
     },
     "execution_count": 18,
     "metadata": {},
     "output_type": "execute_result"
    }
   ],
   "source": [
    "t1.__class__"
   ]
  },
  {
   "cell_type": "code",
   "execution_count": null,
   "metadata": {},
   "outputs": [],
   "source": [
    "wf.links"
   ]
  },
  {
   "cell_type": "code",
   "execution_count": null,
   "metadata": {},
   "outputs": [],
   "source": [
    "# store workflow and launch it locally\n",
    "launchpad.add_wf(wf)\n",
    "rapidfire(launchpad)"
   ]
  },
  {
   "cell_type": "code",
   "execution_count": null,
   "metadata": {},
   "outputs": [],
   "source": [
    "cat ~/tmpmsg"
   ]
  },
  {
   "cell_type": "code",
   "execution_count": null,
   "metadata": {},
   "outputs": [],
   "source": []
  }
 ],
 "metadata": {
  "kernelspec": {
   "display_name": "Python 3",
   "language": "python",
   "name": "python3"
  },
  "language_info": {
   "codemirror_mode": {
    "name": "ipython",
    "version": 3
   },
   "file_extension": ".py",
   "mimetype": "text/x-python",
   "name": "python",
   "nbconvert_exporter": "python",
   "pygments_lexer": "ipython3",
   "version": "3.6.3"
  }
 },
 "nbformat": 4,
 "nbformat_minor": 2
}
