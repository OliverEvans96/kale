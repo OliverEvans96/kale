{
 "cells": [
  {
   "cell_type": "markdown",
   "metadata": {},
   "source": [
    "# Create Kale Workflows from Fireworks Workflows"
   ]
  },
  {
   "cell_type": "code",
   "execution_count": 1,
   "metadata": {},
   "outputs": [],
   "source": [
    "%load_ext autoreload\n",
    "%autoreload 2"
   ]
  },
  {
   "cell_type": "code",
   "execution_count": 2,
   "metadata": {},
   "outputs": [],
   "source": [
    "import itertools as it\n",
    "import yaml"
   ]
  },
  {
   "cell_type": "code",
   "execution_count": 3,
   "metadata": {},
   "outputs": [],
   "source": [
    "from fireworks import Firework, Workflow, LaunchPad, ScriptTask\n",
    "from fireworks.core.rocket_launcher import rapidfire\n",
    "import fireworks"
   ]
  },
  {
   "cell_type": "code",
   "execution_count": 4,
   "metadata": {},
   "outputs": [],
   "source": [
    "from kale import workflow_objects as wo\n",
    "from kale import workflow_widgets as ww"
   ]
  },
  {
   "cell_type": "code",
   "execution_count": 5,
   "metadata": {},
   "outputs": [],
   "source": [
    "# set up the LaunchPad and reset it\n",
    "fwconfig_file = '/opt/conda/lib/python3.6/site-packages/my_launchpad.yaml'\n",
    "with open(fwconfig_file) as param_file:\n",
    "    params = yaml.load(param_file)\n",
    "launchpad = LaunchPad(**params)\n",
    "#launchpad = LaunchPad()"
   ]
  },
  {
   "cell_type": "code",
   "execution_count": 6,
   "metadata": {},
   "outputs": [
    {
     "name": "stdout",
     "output_type": "stream",
     "text": [
      "2018-01-24 19:01:48,573 INFO Performing db tune-up\n",
      "2018-01-24 19:01:48,596 INFO LaunchPad was RESET.\n"
     ]
    }
   ],
   "source": [
    "launchpad.reset('', require_password=False)"
   ]
  },
  {
   "cell_type": "code",
   "execution_count": 7,
   "metadata": {},
   "outputs": [],
   "source": [
    "def sort_fw_links(links):\n",
    "    \"\"\"Use NetworkX to topologically sort tasks\n",
    "    so that they can be created and added to the workflow\n",
    "    \"\"\""
   ]
  },
  {
   "cell_type": "code",
   "execution_count": 8,
   "metadata": {},
   "outputs": [],
   "source": [
    "def kale_from_fw(fw_wf):\n",
    "    \"\"\"Create Kale Workflow from Fireworks Workflow.\n",
    "    Currently only implemented for ScriptTasks.\"\"\"\n",
    "    fireworks = fw_wf.fws\n",
    "    kale_wf = wo.Workflow(fw_wf.name)\n",
    "    \n",
    "    # This dict will be used to index tasks by fw_id\n",
    "    kale_tasks = dict()\n",
    "    \n",
    "    # Create tasks\n",
    "    for fw in fireworks:\n",
    "        # FireWorks are composed of FireTasks\n",
    "        # We assume that FireTasks are all run simultaneously,\n",
    "        # so they don't depend on one another.\n",
    "        # All FireTasks within a FireWork will have the same\n",
    "        # dependencies and children.\n",
    "        fw_tasks = []\n",
    "        for ft_num, ft in enumerate(fw.to_dict()['spec']['_tasks']):\n",
    "            # Create Kale Task\n",
    "            if ft['_fw_name'] == 'ScriptTask':\n",
    "                kale_task = wo.CommandLineTask(\n",
    "                    command=''.join(ft['script']),\n",
    "                    name=\"{}_{}\".format(fw.name, ft_num)\n",
    "                )\n",
    "            else:\n",
    "                raise NotImplementedError(\"Only ScriptTasks are supported now.\")\n",
    "                \n",
    "            # Add to workflow without dependencies\n",
    "            kale_wf.add_task(kale_task)\n",
    "            \n",
    "            # Save tasks in this firework\n",
    "            fw_tasks.append(kale_task)\n",
    "                \n",
    "        # Save this set of firetasks by firework ID.\n",
    "        kale_tasks[fw.fw_id] = fw_tasks\n",
    "    \n",
    "    # Link tasks\n",
    "    for parent_id, child_ids in wf.links.items():\n",
    "        parent_task_list = kale_tasks[parent_id]\n",
    "        for child_id in child_ids:\n",
    "            child_task_list = kale_tasks[child_id]\n",
    "            # Set all elements of child_task_list to depend on all elements of parent_task_list.\n",
    "            for child_task, parent_task in it.product(child_task_list, parent_task_list):\n",
    "                kale_wf.add_dependencies(child_task, [parent_task])\n",
    "    \n",
    "    return kale_wf"
   ]
  },
  {
   "cell_type": "code",
   "execution_count": 9,
   "metadata": {},
   "outputs": [
    {
     "data": {
      "application/vnd.jupyter.widget-view+json": {
       "model_id": "9294a2b4c16d4185826e622c17bcca47",
       "version_major": 2,
       "version_minor": 0
      },
      "text/html": [
       "<p>Failed to display Jupyter Widget of type <code>WorkerPoolWidget</code>.</p>\n",
       "<p>\n",
       "  If you're reading this message in the Jupyter Notebook or JupyterLab Notebook, it may mean\n",
       "  that the widgets JavaScript is still loading. If this message persists, it\n",
       "  likely means that the widgets JavaScript library is either not installed or\n",
       "  not enabled. See the <a href=\"https://ipywidgets.readthedocs.io/en/stable/user_install.html\">Jupyter\n",
       "  Widgets Documentation</a> for setup instructions.\n",
       "</p>\n",
       "<p>\n",
       "  If you're reading this message in another frontend (for example, a static\n",
       "  rendering on GitHub or <a href=\"https://nbviewer.jupyter.org/\">NBViewer</a>),\n",
       "  it may mean that your frontend doesn't currently support widgets.\n",
       "</p>\n"
      ],
      "text/plain": [
       "WorkerPoolWidget(children=(HTML(value='<h3>Worker Pools</h3>'), TableWidget(children=(RowWidget(children=(HBox(children=(HTML(value='<b>Name</b>'),), layout=Layout(justify_content='flex-start', width='150px')), HBox(children=(HTML(value='<b>Location</b>'),), layout=Layout(justify_content='flex-start', width='200px')), HBox(children=(HTML(value='<b>Executor</b>'),), layout=Layout(justify_content='flex-start', width='200px')), HBox(children=(HTML(value='<b>Workers</b>'),), layout=Layout(justify_content='flex-start', width='60px')), HBox(children=(HTML(value='<b>Action</b>'),), layout=Layout(justify_content='flex-start', width='100px'))), layout=Layout(justify_content='space-between', width='710px')), RowWidget(children=(HBox(children=(HTML(value='default'),), layout=Layout(justify_content='flex-start', width='150px')), HBox(children=(HTML(value='localhost'),), layout=Layout(justify_content='flex-start', width='200px')), HBox(children=(HTML(value='parsl'),), layout=Layout(justify_content='flex-start', width='200px')), HBox(children=(HTML(value='4'),), layout=Layout(justify_content='flex-start', width='60px')), HBox(children=(Button(button_style='danger', description='Remove', style=ButtonStyle()),), layout=Layout(justify_content='flex-start', width='100px'))), layout=Layout(justify_content='space-between', width='710px')), RowWidget(children=(HBox(children=(HTML(value='fw_pool'),), layout=Layout(justify_content='flex-start', width='150px')), HBox(children=(HTML(value='localhost'),), layout=Layout(justify_content='flex-start', width='200px')), HBox(children=(HTML(value='fireworks'),), layout=Layout(justify_content='flex-start', width='200px')), HBox(children=(HTML(value='4'),), layout=Layout(justify_content='flex-start', width='60px')), HBox(children=(Button(button_style='danger', description='Remove', style=ButtonStyle()),), layout=Layout(justify_content='flex-start', width='100px'))), layout=Layout(justify_content='space-between', width='710px')), RowWidget(children=(HBox(children=(Text(value='', layout=Layout(width='148px')),), layout=Layout(justify_content='flex-start', width='150px')), HBox(children=(Dropdown(layout=Layout(width='198px'), options=('localhost',), value='localhost'),), layout=Layout(justify_content='flex-start', width='200px')), HBox(children=(Dropdown(layout=Layout(width='198px'), options=('parsl', 'fireworks'), value='parsl'),), layout=Layout(justify_content='flex-start', width='200px')), HBox(children=(IntText(value=1, layout=Layout(width='198px')),), layout=Layout(justify_content='flex-start', width='60px')), HBox(children=(Button(button_style='success', icon='plus', style=ButtonStyle()),), layout=Layout(justify_content='flex-start', width='100px'))), layout=Layout(justify_content='space-between', width='710px'))), layout=Layout(width='710px')), HTML(value='\\n        <div class=\"alert alert-success\" style=\"width: 710px\">\\n        WorkerPool \\'fw_pool\\' created.\\n        </div>\\n        ')))"
      ]
     },
     "metadata": {},
     "output_type": "display_data"
    }
   ],
   "source": [
    "wpw = ww.WorkerPoolWidget()\n",
    "wpw.add_pool('fw_pool', 4, 'fireworks')\n",
    "wpw"
   ]
  },
  {
   "cell_type": "code",
   "execution_count": 10,
   "metadata": {},
   "outputs": [],
   "source": [
    "# create the individual FireWorks and Workflow\n",
    "fw1 = Firework(\n",
    "    [\n",
    "        ScriptTask.from_str(\n",
    "            'echo \"hello $(date)\" >> ~/tmpmsg'\n",
    "        ), \n",
    "        ScriptTask.from_str(\n",
    "            'echo \"hi $(date)\" >> ~/tmpmsg'\n",
    "        ), \n",
    "    ],\n",
    "    name=\"hello\"\n",
    ")\n",
    "fw2 = Firework(\n",
    "    ScriptTask.from_str(\n",
    "        'echo \"goodbye $(date)\" >> ~/tmpmsg'\n",
    "    ), \n",
    "    name=\"goodbye\"\n",
    ")\n",
    "fw3 = Firework(\n",
    "    ScriptTask.from_str(\n",
    "        'echo \"\" >> ~/tmpmsg'\n",
    "    ), \n",
    "    name=\"blank\"\n",
    ")\n",
    "\n",
    "wf = Workflow(\n",
    "    [fw1, fw2, fw3],\n",
    "    {fw1:fw2, fw2: fw3},\n",
    "    name=\"test workflow\"\n",
    ")"
   ]
  },
  {
   "cell_type": "code",
   "execution_count": 11,
   "metadata": {
    "scrolled": false
   },
   "outputs": [
    {
     "name": "stdout",
     "output_type": "stream",
     "text": [
      "Adding deps: <kale.workflow_objects.CommandLineTask object at 0x7f8a652dc978> <- [<kale.workflow_objects.CommandLineTask object at 0x7f8a652dc8d0>]\n",
      "Adding deps: <kale.workflow_objects.CommandLineTask object at 0x7f8a652dc978> <- [<kale.workflow_objects.CommandLineTask object at 0x7f8a652dc7f0>]\n",
      "Adding deps: <kale.workflow_objects.CommandLineTask object at 0x7f8a652dc940> <- [<kale.workflow_objects.CommandLineTask object at 0x7f8a652dc978>]\n"
     ]
    }
   ],
   "source": [
    "kale_wf = kale_from_fw(wf)"
   ]
  },
  {
   "cell_type": "code",
   "execution_count": 12,
   "metadata": {
    "scrolled": false
   },
   "outputs": [
    {
     "data": {
      "application/vnd.jupyter.widget-view+json": {
       "model_id": "23e1ad333dc54317893ceb8196ed0307",
       "version_major": 2,
       "version_minor": 0
      },
      "text/html": [
       "<p>Failed to display Jupyter Widget of type <code>WorkflowWidget</code>.</p>\n",
       "<p>\n",
       "  If you're reading this message in the Jupyter Notebook or JupyterLab Notebook, it may mean\n",
       "  that the widgets JavaScript is still loading. If this message persists, it\n",
       "  likely means that the widgets JavaScript library is either not installed or\n",
       "  not enabled. See the <a href=\"https://ipywidgets.readthedocs.io/en/stable/user_install.html\">Jupyter\n",
       "  Widgets Documentation</a> for setup instructions.\n",
       "</p>\n",
       "<p>\n",
       "  If you're reading this message in another frontend (for example, a static\n",
       "  rendering on GitHub or <a href=\"https://nbviewer.jupyter.org/\">NBViewer</a>),\n",
       "  it may mean that your frontend doesn't currently support widgets.\n",
       "</p>\n"
      ],
      "text/plain": [
       "WorkflowWidget(children=(VBox(children=(Figure(fig_margin={'left': 10, 'right': 10, 'bottom': 10, 'top': 10}, layout=Layout(height='600px', width='400px'), marks=[Graph(colors=['#1f77b4', '#ff7f0e', '#2ca02c', '#d62728', '#9467bd', '#8c564b', '#e377c2', '#7f7f7f', '#bcbd22', '#17becf'], highlight_links=False, interactions={'hover': 'tooltip', 'click': 'select'}, link_data=[{'source': 0, 'target': 2}, {'source': 1, 'target': 2}, {'source': 2, 'target': 3}], link_type='line', node_data=[{'label': '0', 'shape': 'rect', 'name': 'hello_0', 'task_type': 'CommandLineTask', 'tags': '[]', 'input_files': '[]', 'output_files': '[]', 'num_cores': '1', 'command': 'echo \"hello $(date)\" >> ~/tmpmsg'}, {'label': '1', 'shape': 'rect', 'name': 'hello_1', 'task_type': 'CommandLineTask', 'tags': '[]', 'input_files': '[]', 'output_files': '[]', 'num_cores': '1', 'command': 'echo \"hi $(date)\" >> ~/tmpmsg'}, {'label': '2', 'shape': 'rect', 'name': 'goodbye_0', 'task_type': 'CommandLineTask', 'tags': '[]', 'input_files': '[]', 'output_files': '[]', 'num_cores': '1', 'command': 'echo \"goodbye $(date)\" >> ~/tmpmsg'}, {'label': '3', 'shape': 'rect', 'name': 'blank_0', 'task_type': 'CommandLineTask', 'tags': '[]', 'input_files': '[]', 'output_files': '[]', 'num_cores': '1', 'command': 'echo \"\" >> ~/tmpmsg'}], scales={'x': LinearScale(), 'y': LinearScale()}, scales_metadata={'x': {'orientation': 'horizontal', 'dimension': 'x'}, 'y': {'orientation': 'vertical', 'dimension': 'y'}, 'color': {'dimension': 'color'}, 'link_color': {'dimension': 'link_color'}}, selected_style={'stroke': 'red'}, tooltip_style={'opacity': 0.9}, x=array([  330.82,  1008.8 ,   669.82,   669.82]), y=array([ 162.,  162.,   90.,   18.]))], min_aspect_ratio=0.0, scale_x=LinearScale(allow_padding=False, max=1.0, min=0.0), scale_y=LinearScale(allow_padding=False, max=1.0, min=0.0)), Toolbar(figure=Figure(fig_margin={'left': 10, 'right': 10, 'bottom': 10, 'top': 10}, layout=Layout(height='600px', width='400px'), marks=[Graph(colors=['#1f77b4', '#ff7f0e', '#2ca02c', '#d62728', '#9467bd', '#8c564b', '#e377c2', '#7f7f7f', '#bcbd22', '#17becf'], highlight_links=False, interactions={'hover': 'tooltip', 'click': 'select'}, link_data=[{'source': 0, 'target': 2}, {'source': 1, 'target': 2}, {'source': 2, 'target': 3}], link_type='line', node_data=[{'label': '0', 'shape': 'rect', 'name': 'hello_0', 'task_type': 'CommandLineTask', 'tags': '[]', 'input_files': '[]', 'output_files': '[]', 'num_cores': '1', 'command': 'echo \"hello $(date)\" >> ~/tmpmsg'}, {'label': '1', 'shape': 'rect', 'name': 'hello_1', 'task_type': 'CommandLineTask', 'tags': '[]', 'input_files': '[]', 'output_files': '[]', 'num_cores': '1', 'command': 'echo \"hi $(date)\" >> ~/tmpmsg'}, {'label': '2', 'shape': 'rect', 'name': 'goodbye_0', 'task_type': 'CommandLineTask', 'tags': '[]', 'input_files': '[]', 'output_files': '[]', 'num_cores': '1', 'command': 'echo \"goodbye $(date)\" >> ~/tmpmsg'}, {'label': '3', 'shape': 'rect', 'name': 'blank_0', 'task_type': 'CommandLineTask', 'tags': '[]', 'input_files': '[]', 'output_files': '[]', 'num_cores': '1', 'command': 'echo \"\" >> ~/tmpmsg'}], scales={'x': LinearScale(), 'y': LinearScale()}, scales_metadata={'x': {'orientation': 'horizontal', 'dimension': 'x'}, 'y': {'orientation': 'vertical', 'dimension': 'y'}, 'color': {'dimension': 'color'}, 'link_color': {'dimension': 'link_color'}}, selected_style={'stroke': 'red'}, tooltip_style={'opacity': 0.9}, x=array([  330.82,  1008.8 ,   669.82,   669.82]), y=array([ 162.,  162.,   90.,   18.]))], min_aspect_ratio=0.0, scale_x=LinearScale(allow_padding=False, max=1.0, min=0.0), scale_y=LinearScale(allow_padding=False, max=1.0, min=0.0))))), Tab(children=(VBox(children=(HTML(value='<b>Workflow Description</b>'), EditHTML(children=(HTMLMath(value='', layout=Layout(border='1px lightgray solid', padding='10px')), Button(description='Edit Description', style=ButtonStyle()))), Box(layout=Layout(height='20px', width='0px')), HTML(value='<b>Worker Pools</b>'), VBox(children=(Dropdown(options=(('default', <kale.workflow_objects.WorkerPool object at 0x7f8a65332518>), ('fw_pool', <kale.workflow_objects.WorkerPool object at 0x7f8a653739e8>)), value=<kale.workflow_objects.WorkerPool object at 0x7f8a65332518>), Button(button_style='success', description='Run Workflow', style=ButtonStyle()))))), VBox(children=(HTML(value='<b>Task Description</b>'), EditHTML(children=(HTMLMath(value='None selected.', layout=Layout(border='1px lightgray solid', padding='10px')), Button(description='Edit Description', disabled=True, style=ButtonStyle()))), Box(layout=Layout(height='20px', width='0px')), HTML(value=''), Button(button_style='info', description='Continue Workflow', layout=Layout(visibility='hidden'), style=ButtonStyle()), Box(layout=Layout(height='20px', width='0px')), HTML(value='<b>Task Metadata</b>'), HTML(value=''))), VBox(children=(HTML(value='<b>Tags</b>'), Select(options=(), value=None), HTML(value='<b>Actions</b>'), Text(value='', description='Tag name'), HBox(children=(VBox(children=(Button(description='Select All', style=ButtonStyle()), Button(description='Select None', style=ButtonStyle()), Button(description='Select Children', style=ButtonStyle()), Button(description='Select Parents', style=ButtonStyle()), Button(description='Tag to Selection', style=ButtonStyle()), Button(description='Selection to Tag', style=ButtonStyle()))), VBox(children=(Button(description='New Tag', style=ButtonStyle()), Button(description='Del Tag', style=ButtonStyle()))))))), VBox(children=(HTML(value='<b>Messages from WorkflowWidget:</b>'), Box(children=(Output(),), layout=Layout(border='1px lightgray solid', padding='10px')), Box(layout=Layout(height='10px', width='0px')), Button(description='Clear', style=ButtonStyle())))), layout=Layout(height='600px', width='400px'), _titles={'0': 'Workflow', '1': 'Task', '2': 'Tags', '3': 'Widget Log'})))"
      ]
     },
     "metadata": {},
     "output_type": "display_data"
    },
    {
     "name": "stdout",
     "output_type": "stream",
     "text": [
      "\n",
      "Adding task hello_1\n",
      "Adding link hello_1 -> goodbye_0\n",
      "Adding task blank_0\n"
     ]
    }
   ],
   "source": [
    "w = ww.WorkflowWidget(kale_wf, wpw)\n",
    "w"
   ]
  },
  {
   "cell_type": "code",
   "execution_count": null,
   "metadata": {},
   "outputs": [],
   "source": [
    "wf.links"
   ]
  },
  {
   "cell_type": "markdown",
   "metadata": {},
   "source": [
    "# Run workflow with FireWorks alone"
   ]
  },
  {
   "cell_type": "code",
   "execution_count": 59,
   "metadata": {},
   "outputs": [
    {
     "name": "stdout",
     "output_type": "stream",
     "text": [
      "2018-01-24 19:38:26,761 INFO Added a workflow. id_map: {-3: 1, -2: 2, -1: 3}\n",
      "2018-01-24 19:38:27,120 INFO Created new dir /opt/kale/kale/examples/notebooks/fireworks/launcher_2018-01-24-19-38-27-120477\n",
      "2018-01-24 19:38:27,121 INFO Launching Rocket\n",
      "2018-01-24 19:38:27,150 INFO RUNNING fw_id: 3 in directory: /opt/kale/kale/examples/notebooks/fireworks/launcher_2018-01-24-19-38-27-120477\n",
      "2018-01-24 19:38:27,162 INFO Task started: ScriptTask.\n",
      "2018-01-24 19:38:27,257 INFO Task completed: ScriptTask \n",
      "2018-01-24 19:38:27,267 INFO Task started: ScriptTask.\n",
      "2018-01-24 19:38:27,279 INFO Task completed: ScriptTask \n",
      "2018-01-24 19:38:27,305 INFO Rocket finished\n",
      "2018-01-24 19:38:27,311 INFO Created new dir /opt/kale/kale/examples/notebooks/fireworks/launcher_2018-01-24-19-38-27-311528\n",
      "2018-01-24 19:38:27,312 INFO Launching Rocket\n",
      "2018-01-24 19:38:27,332 INFO RUNNING fw_id: 2 in directory: /opt/kale/kale/examples/notebooks/fireworks/launcher_2018-01-24-19-38-27-311528\n",
      "2018-01-24 19:38:27,345 INFO Task started: ScriptTask.\n",
      "2018-01-24 19:38:27,356 INFO Task completed: ScriptTask \n",
      "2018-01-24 19:38:27,384 INFO Rocket finished\n",
      "2018-01-24 19:38:27,392 INFO Created new dir /opt/kale/kale/examples/notebooks/fireworks/launcher_2018-01-24-19-38-27-391914\n",
      "2018-01-24 19:38:27,393 INFO Launching Rocket\n",
      "2018-01-24 19:38:27,413 INFO RUNNING fw_id: 1 in directory: /opt/kale/kale/examples/notebooks/fireworks/launcher_2018-01-24-19-38-27-391914\n",
      "2018-01-24 19:38:27,423 INFO Task started: ScriptTask.\n",
      "2018-01-24 19:38:27,433 INFO Task completed: ScriptTask \n",
      "2018-01-24 19:38:27,462 INFO Rocket finished\n"
     ]
    }
   ],
   "source": [
    "# store workflow and launch it locally\n",
    "launchpad.add_wf(wf)\n",
    "rapidfire(launchpad)"
   ]
  },
  {
   "cell_type": "code",
   "execution_count": 70,
   "metadata": {},
   "outputs": [
    {
     "name": "stdout",
     "output_type": "stream",
     "text": [
      "hello Wed Jan 24 19:38:27 UTC 2018\r\n",
      "hi Wed Jan 24 19:38:27 UTC 2018\r\n",
      "goodbye Wed Jan 24 19:38:27 UTC 2018\r\n",
      "\r\n"
     ]
    }
   ],
   "source": [
    "cat ~/tmpmsg"
   ]
  },
  {
   "cell_type": "code",
   "execution_count": 67,
   "metadata": {},
   "outputs": [
    {
     "name": "stdout",
     "output_type": "stream",
     "text": [
      "total 8.0K\r\n",
      "drwxr-xr-x 3 jovyan  1000 4.0K Dec 28 06:20 \u001b[0m\u001b[01;34mwork\u001b[0m/\r\n",
      "lrwxrwxrwx 1 jovyan users    9 Jan 24 18:02 \u001b[01;36mkale\u001b[0m -> \u001b[01;34m/opt/kale\u001b[0m/\r\n",
      "-rw-r--r-- 1 jovyan users  105 Jan 24 19:38 tmpmsg\r\n"
     ]
    }
   ],
   "source": [
    "ls -lrth ~"
   ]
  },
  {
   "cell_type": "code",
   "execution_count": 69,
   "metadata": {},
   "outputs": [
    {
     "name": "stdout",
     "output_type": "stream",
     "text": [
      "Wed Jan 24 19:43:04 UTC 2018\r\n"
     ]
    }
   ],
   "source": [
    "!date"
   ]
  },
  {
   "cell_type": "markdown",
   "metadata": {},
   "source": [
    "# Custom Kale LaunchPad"
   ]
  },
  {
   "cell_type": "code",
   "execution_count": null,
   "metadata": {},
   "outputs": [],
   "source": [
    "def KaleRocketLauncher(fw.core.rocket_)"
   ]
  },
  {
   "cell_type": "code",
   "execution_count": null,
   "metadata": {},
   "outputs": [],
   "source": [
    "class KaleLaunchPad(fw.core.launchpad):\n",
    "    \n",
    "    def add_wf(self, wf, reassign_all=True):\n",
    "        \"\"\"\n",
    "        Add workflow(or firework) to the launchpad. The firework ids will be reassigned.\n",
    "\n",
    "        Args:\n",
    "            wf (Workflow/Firework)\n",
    "\n",
    "        Returns:\n",
    "            dict: mapping between old and new Firework ids\n",
    "        \"\"\"\n",
    "        if isinstance(wf, Firework):\n",
    "            wf = Workflow.from_Firework(wf)\n",
    "        # sets the root FWs as READY\n",
    "        # prefer to wf.refresh() for speed reasons w/many root FWs\n",
    "        for fw_id in wf.root_fw_ids:\n",
    "            wf.id_fw[fw_id].state = 'READY'\n",
    "            wf.fw_states[fw_id] = 'READY'\n",
    "        # insert the FireWorks and get back mapping of old to new ids\n",
    "        old_new = self._upsert_fws(list(wf.id_fw.values()), reassign_all=reassign_all)\n",
    "        # update the Workflow with the new ids\n",
    "        wf._reassign_ids(old_new)\n",
    "        # insert the WFLinks\n",
    "        self.workflows.insert_one(wf.to_db_dict())\n",
    "        self.m_logger.info('Added a workflow. id_map: {}'.format(old_new))\n",
    "        return old_new\n",
    "\n"
   ]
  }
 ],
 "metadata": {
  "kernelspec": {
   "display_name": "Python 3",
   "language": "python",
   "name": "python3"
  },
  "language_info": {
   "codemirror_mode": {
    "name": "ipython",
    "version": 3
   },
   "file_extension": ".py",
   "mimetype": "text/x-python",
   "name": "python",
   "nbconvert_exporter": "python",
   "pygments_lexer": "ipython3",
   "version": "3.6.3"
  }
 },
 "nbformat": 4,
 "nbformat_minor": 2
}
