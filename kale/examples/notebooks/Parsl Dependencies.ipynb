{
 "cells": [
  {
   "cell_type": "markdown",
   "metadata": {},
   "source": [
    "# Run a two-step workflow manually to test dependencies"
   ]
  },
  {
   "cell_type": "code",
   "execution_count": 1,
   "metadata": {},
   "outputs": [],
   "source": [
    "import kale.workflow_objects\n",
    "import kale.workflow_widgets"
   ]
  },
  {
   "cell_type": "code",
   "execution_count": 4,
   "metadata": {},
   "outputs": [],
   "source": [
    "wp = kale.workflow_objects.WorkerPool(\n",
    "    name='ParslWP',\n",
    "    wf_executor='parsl',\n",
    "    num_workers=4\n",
    ")"
   ]
  },
  {
   "cell_type": "code",
   "execution_count": 5,
   "metadata": {},
   "outputs": [
    {
     "name": "stdout",
     "output_type": "stream",
     "text": [
      "Adding deps: <kale.workflow_objects.PythonFunctionTask object at 0x7f727810c898> <- [<kale.workflow_objects.PythonFunctionTask object at 0x7f727810c860>]\n"
     ]
    }
   ],
   "source": [
    "def sleeper(msg, dur):\n",
    "    import time\n",
    "    print('{}\\n'.format(msg), end='')\n",
    "    time.sleep(dur)\n",
    "    \n",
    "t0 = kale.workflow_objects.PythonFunctionTask(\n",
    "    name='Wait1',\n",
    "    func=sleeper,\n",
    "    args=['waiting', 2]\n",
    ")    \n",
    "t1 = kale.workflow_objects.PythonFunctionTask(\n",
    "    name='Wait2',\n",
    "    func=sleeper,\n",
    "    args=['waiting again', 2]\n",
    ")\n",
    "\n",
    "\n",
    "dep_wf = kale.workflow_objects.Workflow(name='dep_wf')\n",
    "\n",
    "dep_wf.add_task(t0)\n",
    "dep_wf.add_task(t1, dependencies=[t0])"
   ]
  },
  {
   "cell_type": "code",
   "execution_count": 6,
   "metadata": {},
   "outputs": [
    {
     "name": "stdout",
     "output_type": "stream",
     "text": [
      "waiting\n",
      "waiting again\n"
     ]
    }
   ],
   "source": [
    "wp.parsl_run(dep_wf)"
   ]
  }
 ],
 "metadata": {
  "kernelspec": {
   "display_name": "Python 3",
   "language": "python",
   "name": "python3"
  },
  "language_info": {
   "codemirror_mode": {
    "name": "ipython",
    "version": 3
   },
   "file_extension": ".py",
   "mimetype": "text/x-python",
   "name": "python",
   "nbconvert_exporter": "python",
   "pygments_lexer": "ipython3",
   "version": "3.6.3"
  }
 },
 "nbformat": 4,
 "nbformat_minor": 2
}
