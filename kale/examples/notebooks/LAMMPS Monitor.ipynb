{
 "cells": [
  {
   "cell_type": "code",
   "execution_count": 1,
   "metadata": {},
   "outputs": [],
   "source": [
    "import numpy as np\n",
    "import time\n",
    "from io import StringIO\n",
    "import bqplot as bq\n",
    "import ipywidgets as ipw\n",
    "import ipyvolume as ipv\n",
    "import IPython"
   ]
  },
  {
   "cell_type": "code",
   "execution_count": 2,
   "metadata": {},
   "outputs": [],
   "source": [
    "def split_by_key(new, key, start_ind=0):\n",
    "    \"Split into before and after at first newline before `key`\"\n",
    "    # str.find returns -1 if not found\n",
    "    ind = new[start_ind:].find(key)\n",
    "    if ind != -1:\n",
    "        # Find last \\n before `key`\n",
    "        reverse_str = new[ind-1::-1]\n",
    "        reverse_ind = reverse_str.find('\\n')\n",
    "        # If \\n isn't found, then all of `new` belongs\n",
    "        # in the next group\n",
    "        if reverse_ind == -1:\n",
    "            newline_ind = 0\n",
    "        else:\n",
    "            newline_ind = ind - reverse_ind\n",
    "            \n",
    "        # Append text before `key` to `lines`\n",
    "        before = new[:newline_ind]\n",
    "        after = new[newline_ind:]\n",
    "    else:\n",
    "        before = new\n",
    "        after = ''\n",
    "        \n",
    "    return before, after, ind\n"
   ]
  },
  {
   "cell_type": "code",
   "execution_count": 3,
   "metadata": {},
   "outputs": [],
   "source": [
    "def parse_timestep(ts_string):\n",
    "    lines = ts_string.split('\\n')\n",
    "    header = lines[:9]\n",
    "    bounds_io = StringIO('\\n'.join(lines[5:8]))\n",
    "    data_io = StringIO('\\n'.join(lines[9:]))\n",
    "    bounds_arr = np.loadtxt(bounds_io) \n",
    "    try:\n",
    "        data_arr = np.loadtxt(data_io)\n",
    "    except ValueError:\n",
    "        print(\"VE\")\n",
    "        IPython.embed()\n",
    "    \n",
    "    data_min, data_max = bounds_arr.T\n",
    "    data_range = data_max - data_min\n",
    "    \n",
    "    atom_id, atom_type, xs, ys, zs, ix, iy, iz = data_arr.T\n",
    "    sc = data_arr[:,[2,3,4]]\n",
    "    im = data_arr[:,[5,6,7]]\n",
    "    #pos = data_range * sc + data_min*im\n",
    "    pos = sc\n",
    "    \n",
    "    return pos"
   ]
  },
  {
   "cell_type": "code",
   "execution_count": 4,
   "metadata": {},
   "outputs": [],
   "source": [
    "def poll_file(path, func, key, poll_interval=1, ignore_first=True, *args, **kwargs):\n",
    "    \"\"\"\n",
    "    Poll `path` every `poll_interval` seconds.\n",
    "    Every time `key` is contained, call `func`,\n",
    "    passing the full text read since the last time `key` was read\n",
    "    as the argument. Then throw away what we've read before last `key`.\n",
    "    \n",
    "    args, kwargs will be passed to func.\n",
    "    \"\"\"\n",
    "    \n",
    "    lines = ''\n",
    "    \n",
    "    ignore = ignore_first\n",
    "    \n",
    "    while len(lines) == 0:\n",
    "        try:\n",
    "            with open(path) as fh:\n",
    "                while True:\n",
    "                    new = fh.read(256)\n",
    "                    if len(new) > 0:\n",
    "                        before, after, ind = split_by_key(new, key)\n",
    "                        \n",
    "                        # If `key` in `new`\n",
    "                        if ind != -1:\n",
    "                            if new.count(key) != 1:\n",
    "                                print(\"count = {}\".format(new.count(key)))\n",
    "                                IPython.embed()\n",
    "                            if ignore:\n",
    "                                lines += new\n",
    "                                ignore = False\n",
    "                            else:\n",
    "                                lines += before\n",
    "                                func(lines, *args, **kwargs)\n",
    "                                lines = after\n",
    "                                    \n",
    "                        else:\n",
    "                            lines += new\n",
    "                    else:\n",
    "                        time.sleep(poll_interval)\n",
    "                        \n",
    "        except FileNotFoundError:\n",
    "            print(\"No file yet.\")\n",
    "            time.sleep(1)\n"
   ]
  },
  {
   "cell_type": "code",
   "execution_count": 5,
   "metadata": {},
   "outputs": [],
   "source": [
    "def g_of_r(atom_pos, dr, r_max):\n",
    "    \"\"\"\n",
    "    atom_pos :: N x 3 array of atom positions\n",
    "    dr :: bin thickness\n",
    "    \"\"\"\n",
    "    \n",
    "    n = atom_pos.shape[0]\n",
    "    num_bins = int(np.floor(r_max / dr))\n",
    "    r_vals = np.arange(0, r_max, dr)\n",
    "    diff = np.zeros(n*(n-1))\n",
    "\n",
    "    i, j = np.meshgrid(range(n), range(n))\n",
    "    i = i.reshape(n**2)\n",
    "    j = j.reshape(n**2)\n",
    "    \n",
    "    diff = np.linalg.norm(atom_pos[i,:] - atom_pos[j,:], axis=1)\n",
    "    diff = diff[np.nonzero(diff)]\n",
    "    \n",
    "    g_vals, _ = np.histogram(diff, bins=num_bins, range=(0, r_max), density=True)\n",
    "    \n",
    "    return r_vals, g_vals"
   ]
  },
  {
   "cell_type": "code",
   "execution_count": 6,
   "metadata": {
    "scrolled": false
   },
   "outputs": [],
   "source": [
    "def create_bq_figure(x, y):\n",
    "    xsc = bq.LinearScale()\n",
    "    ysc = bq.LinearScale()\n",
    "    xax = bq.Axis(scale=xsc, label='r')\n",
    "    yax = bq.Axis(scale=ysc, orientation='vertical', label='g(r)')\n",
    "    \n",
    "    line = bq.Lines(\n",
    "        x=x,\n",
    "        y=y,\n",
    "        scales={\n",
    "            'x': xsc,\n",
    "            'y': ysc\n",
    "        }\n",
    "    )\n",
    "    \n",
    "    fig = bq.Figure(\n",
    "        axes = [xax, yax],\n",
    "        marks = [line],\n",
    "        #animation_duration=500\n",
    "    )\n",
    "    \n",
    "    return line, fig"
   ]
  },
  {
   "cell_type": "code",
   "execution_count": 7,
   "metadata": {},
   "outputs": [],
   "source": [
    "def create_ipv_scatter(xlim, ylim, zlim):\n",
    "    fig = ipv.figure()\n",
    "    scatter = ipv.scatter(*np.zeros([3,1]))\n",
    "    \n",
    "    fig.xlim = xlim\n",
    "    fig.ylim = ylim\n",
    "    fig.zlim = zlim\n",
    "    \n",
    "    fig.animation = 0\n",
    "    \n",
    "    return scatter, fig"
   ]
  },
  {
   "cell_type": "code",
   "execution_count": 8,
   "metadata": {},
   "outputs": [],
   "source": [
    "def update_line(line, y):\n",
    "    line.y = y"
   ]
  },
  {
   "cell_type": "code",
   "execution_count": 9,
   "metadata": {},
   "outputs": [],
   "source": [
    "def update_ipv_scatter(scatter, atoms):\n",
    "    scatter.x = atoms[:,0]\n",
    "    scatter.y = atoms[:,1]\n",
    "    scatter.z = atoms[:,2]"
   ]
  },
  {
   "cell_type": "code",
   "execution_count": 10,
   "metadata": {},
   "outputs": [],
   "source": [
    "def update_atom_plots(atoms_str, line, scatter):\n",
    "    atoms = parse_timestep(atoms_str)\n",
    "    r, g = g_of_r(atoms, dr=.01, r_max=2)\n",
    "    update_line(line, g)\n",
    "    update_ipv_scatter(scatter, atoms)"
   ]
  },
  {
   "cell_type": "code",
   "execution_count": 11,
   "metadata": {},
   "outputs": [],
   "source": [
    "r_max = 2\n",
    "dr = .01\n",
    "r = np.arange(0, r_max, dr)\n",
    "g = np.zeros_like(r)"
   ]
  },
  {
   "cell_type": "code",
   "execution_count": null,
   "metadata": {
    "scrolled": false
   },
   "outputs": [
    {
     "data": {
      "application/vnd.jupyter.widget-view+json": {
       "model_id": "46bed7d1e7964ce8b4d69d91264fabd3",
       "version_major": 2,
       "version_minor": 0
      },
      "text/html": [
       "<p>Failed to display Jupyter Widget of type <code>HBox</code>.</p>\n",
       "<p>\n",
       "  If you're reading this message in Jupyter Notebook or JupyterLab, it may mean\n",
       "  that the widgets JavaScript is still loading. If this message persists, it\n",
       "  likely means that the widgets JavaScript library is either not installed or\n",
       "  not enabled. See the <a href=\"https://ipywidgets.readthedocs.io/en/stable/user_install.html\">Jupyter\n",
       "  Widgets Documentation</a> for setup instructions.\n",
       "</p>\n",
       "<p>\n",
       "  If you're reading this message in another notebook frontend (for example, a static\n",
       "  rendering on GitHub or <a href=\"https://nbviewer.jupyter.org/\">NBViewer</a>),\n",
       "  it may mean that your frontend doesn't currently support widgets.\n",
       "</p>\n"
      ],
      "text/plain": [
       "HBox(children=(Figure(axes=[Axis(label='r', scale=LinearScale()), Axis(label='g(r)', orientation='vertical', scale=LinearScale())], fig_margin={'top': 60, 'bottom': 60, 'left': 60, 'right': 60}, layout=Layout(min_width='125px'), marks=[Lines(colors=['#1f77b4', '#ff7f0e', '#2ca02c', '#d62728', '#9467bd', '#8c564b', '#e377c2', '#7f7f7f', '#bcbd22', '#17becf'], interactions={'hover': 'tooltip'}, scales={'x': LinearScale(), 'y': LinearScale()}, scales_metadata={'x': {'orientation': 'horizontal', 'dimension': 'x'}, 'y': {'orientation': 'vertical', 'dimension': 'y'}, 'color': {'dimension': 'color'}}, tooltip_style={'opacity': 0.9}, x=array([ 0.  ,  0.01,  0.02,  0.03,  0.04,  0.05,  0.06,  0.07,  0.08,\n",
       "        0.09,  0.1 ,  0.11,  0.12,  0.13,  0.14,  0.15,  0.16,  0.17,\n",
       "        0.18,  0.19,  0.2 ,  0.21,  0.22,  0.23,  0.24,  0.25,  0.26,\n",
       "        0.27,  0.28,  0.29,  0.3 ,  0.31,  0.32,  0.33,  0.34,  0.35,\n",
       "        0.36,  0.37,  0.38,  0.39,  0.4 ,  0.41,  0.42,  0.43,  0.44,\n",
       "        0.45,  0.46,  0.47,  0.48,  0.49,  0.5 ,  0.51,  0.52,  0.53,\n",
       "        0.54,  0.55,  0.56,  0.57,  0.58,  0.59,  0.6 ,  0.61,  0.62,\n",
       "        0.63,  0.64,  0.65,  0.66,  0.67,  0.68,  0.69,  0.7 ,  0.71,\n",
       "        0.72,  0.73,  0.74,  0.75,  0.76,  0.77,  0.78,  0.79,  0.8 ,\n",
       "        0.81,  0.82,  0.83,  0.84,  0.85,  0.86,  0.87,  0.88,  0.89,\n",
       "        0.9 ,  0.91,  0.92,  0.93,  0.94,  0.95,  0.96,  0.97,  0.98,\n",
       "        0.99,  1.  ,  1.01,  1.02,  1.03,  1.04,  1.05,  1.06,  1.07,\n",
       "        1.08,  1.09,  1.1 ,  1.11,  1.12,  1.13,  1.14,  1.15,  1.16,\n",
       "        1.17,  1.18,  1.19,  1.2 ,  1.21,  1.22,  1.23,  1.24,  1.25,\n",
       "        1.26,  1.27,  1.28,  1.29,  1.3 ,  1.31,  1.32,  1.33,  1.34,\n",
       "        1.35,  1.36,  1.37,  1.38,  1.39,  1.4 ,  1.41,  1.42,  1.43,\n",
       "        1.44,  1.45,  1.46,  1.47,  1.48,  1.49,  1.5 ,  1.51,  1.52,\n",
       "        1.53,  1.54,  1.55,  1.56,  1.57,  1.58,  1.59,  1.6 ,  1.61,\n",
       "        1.62,  1.63,  1.64,  1.65,  1.66,  1.67,  1.68,  1.69,  1.7 ,\n",
       "        1.71,  1.72,  1.73,  1.74,  1.75,  1.76,  1.77,  1.78,  1.79,\n",
       "        1.8 ,  1.81,  1.82,  1.83,  1.84,  1.85,  1.86,  1.87,  1.88,\n",
       "        1.89,  1.9 ,  1.91,  1.92,  1.93,  1.94,  1.95,  1.96,  1.97,\n",
       "        1.98,  1.99]), y=array([ 0.,  0.,  0.,  0.,  0.,  0.,  0.,  0.,  0.,  0.,  0.,  0.,  0.,\n",
       "        0.,  0.,  0.,  0.,  0.,  0.,  0.,  0.,  0.,  0.,  0.,  0.,  0.,\n",
       "        0.,  0.,  0.,  0.,  0.,  0.,  0.,  0.,  0.,  0.,  0.,  0.,  0.,\n",
       "        0.,  0.,  0.,  0.,  0.,  0.,  0.,  0.,  0.,  0.,  0.,  0.,  0.,\n",
       "        0.,  0.,  0.,  0.,  0.,  0.,  0.,  0.,  0.,  0.,  0.,  0.,  0.,\n",
       "        0.,  0.,  0.,  0.,  0.,  0.,  0.,  0.,  0.,  0.,  0.,  0.,  0.,\n",
       "        0.,  0.,  0.,  0.,  0.,  0.,  0.,  0.,  0.,  0.,  0.,  0.,  0.,\n",
       "        0.,  0.,  0.,  0.,  0.,  0.,  0.,  0.,  0.,  0.,  0.,  0.,  0.,\n",
       "        0.,  0.,  0.,  0.,  0.,  0.,  0.,  0.,  0.,  0.,  0.,  0.,  0.,\n",
       "        0.,  0.,  0.,  0.,  0.,  0.,  0.,  0.,  0.,  0.,  0.,  0.,  0.,\n",
       "        0.,  0.,  0.,  0.,  0.,  0.,  0.,  0.,  0.,  0.,  0.,  0.,  0.,\n",
       "        0.,  0.,  0.,  0.,  0.,  0.,  0.,  0.,  0.,  0.,  0.,  0.,  0.,\n",
       "        0.,  0.,  0.,  0.,  0.,  0.,  0.,  0.,  0.,  0.,  0.,  0.,  0.,\n",
       "        0.,  0.,  0.,  0.,  0.,  0.,  0.,  0.,  0.,  0.,  0.,  0.,  0.,\n",
       "        0.,  0.,  0.,  0.,  0.,  0.,  0.,  0.,  0.,  0.,  0.,  0.,  0.,\n",
       "        0.,  0.,  0.,  0.,  0.]))], scale_x=LinearScale(allow_padding=False, max=1.0, min=0.0), scale_y=LinearScale(allow_padding=False, max=1.0, min=0.0)), Figure(animation=0.0, camera_center=[0.0, 0.0, 0.0], height=500, matrix_projection=[0.0, 0.0, 0.0, 0.0, 0.0, 0.0, 0.0, 0.0, 0.0, 0.0, 0.0, 0.0, 0.0, 0.0, 0.0, 0.0], matrix_world=[0.0, 0.0, 0.0, 0.0, 0.0, 0.0, 0.0, 0.0, 0.0, 0.0, 0.0, 0.0, 0.0, 0.0, 0.0, 0.0], scatters=[Scatter(color_selected=array('white',\n",
       "      dtype='<U5'), size=array(2), size_selected=array(2.6), x=array([ 0.]), y=array([ 0.]), z=array([ 0.]))], style={'axes': {'visible': True, 'label': {'color': 'black'}, 'ticklabel': {'color': 'black'}, 'color': 'black'}, 'box': {'visible': True}, 'background-color': 'white'}, tf=None, width=400, xlim=[0.0, 1.0], ylim=[0.0, 1.0], zlim=[0.0, 1.0])))"
      ]
     },
     "metadata": {},
     "output_type": "display_data"
    }
   ],
   "source": [
    "line, bq_fig = create_bq_figure(r, g)\n",
    "scatter, ipv_fig = create_ipv_scatter(\n",
    "    (0,1),\n",
    "    (0,1),\n",
    "    (0,1)\n",
    ")\n",
    "\n",
    "ipw.HBox([bq_fig, ipv_fig])"
   ]
  },
  {
   "cell_type": "code",
   "execution_count": null,
   "metadata": {
    "scrolled": false
   },
   "outputs": [
    {
     "name": "stdout",
     "output_type": "stream",
     "text": [
      "VE\n",
      "Python 3.6.0 |Continuum Analytics, Inc.| (default, Dec 23 2016, 12:22:00) \n",
      "Type 'copyright', 'credits' or 'license' for more information\n",
      "IPython 6.2.1 -- An enhanced Interactive Python. Type '?' for help.\n",
      "\n"
     ]
    }
   ],
   "source": [
    "poll_file('lammps_melt/melt.lammpstrj', update_atom_plots, 'TIMESTEP', line=line, scatter=scatter)"
   ]
  },
  {
   "cell_type": "code",
   "execution_count": null,
   "metadata": {},
   "outputs": [],
   "source": [
    "# def poll_thermo(path, func, key):\n",
    "#     lines = ''\n",
    "#     \n",
    "#     ignore = ignore_first\n",
    "#     \n",
    "#     while len(lines) == 0:\n",
    "#         try:\n",
    "#             with open(path) as fh:\n",
    "#                 while True:\n",
    "#                     new = fh.read(256)\n",
    "#                     if len(new) > 0:\n",
    "#                         before, after, ind = split_by_key(new, key)\n",
    "#                         \n",
    "#                         # If `key` in `new`\n",
    "#                         if ind != -1:\n",
    "#                             if ignore:\n",
    "#                                 lines += new\n",
    "#                                 ignore = False\n",
    "#                             else:\n",
    "#                                 lines += before\n",
    "#                                 func(lines, *args, **kwargs)\n",
    "#                                 lines = after\n",
    "#                         else:\n",
    "#                             lines += new\n",
    "#                     else:\n",
    "#                         time.sleep(poll_interval)\n",
    "#                         \n",
    "#         except FileNotFoundError:\n",
    "#             print(\"No file yet.\")\n",
    "#             time.sleep(1)"
   ]
  },
  {
   "cell_type": "code",
   "execution_count": null,
   "metadata": {},
   "outputs": [],
   "source": []
  }
 ],
 "metadata": {
  "kernelspec": {
   "display_name": "Python 3",
   "language": "python",
   "name": "python3"
  },
  "language_info": {
   "codemirror_mode": {
    "name": "ipython",
    "version": 3
   },
   "file_extension": ".py",
   "mimetype": "text/x-python",
   "name": "python",
   "nbconvert_exporter": "python",
   "pygments_lexer": "ipython3",
   "version": "3.6.0"
  }
 },
 "nbformat": 4,
 "nbformat_minor": 2
}
