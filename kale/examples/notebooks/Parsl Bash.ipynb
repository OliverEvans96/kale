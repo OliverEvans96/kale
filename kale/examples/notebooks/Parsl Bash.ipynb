{
 "cells": [
  {
   "cell_type": "code",
   "execution_count": null,
   "metadata": {},
   "outputs": [],
   "source": [
    "%load_ext autoreload\n",
    "%autoreload 2"
   ]
  },
  {
   "cell_type": "code",
   "execution_count": null,
   "metadata": {},
   "outputs": [],
   "source": [
    "import kale.workflow_objects\n",
    "import kale.workflow_widgets"
   ]
  },
  {
   "cell_type": "markdown",
   "metadata": {},
   "source": [
    "# Bash/Python Integrated Workflow\n",
    "I'm using Python's `subprocess` module to execute bash tasks via parsl's Python tasks, rather than using parsl's native bash tasks, which I expected to be using.\n",
    "\n",
    "I did this to be able to use `AppFuture`s, which don't seem to be available with bash tasks. It seems that bash tasks in parsl only support `DataFuture` dependencies, so the absence of a file is the only thing that can block a parsl bash task from executing, whereas I want to wait for the previous function to finish, whether or not a new file is created at the end.\n",
    "\n",
    "I may be misunderstanding parsl's bash tasks and `DataFuture`s."
   ]
  },
  {
   "cell_type": "code",
   "execution_count": null,
   "metadata": {},
   "outputs": [],
   "source": [
    "def hello():\n",
    "    import time\n",
    "    print(\"Hello from Python!\")\n",
    "    time.sleep(1)\n",
    "    return 'hi'\n",
    "def bye():\n",
    "    import time\n",
    "    print(\"Goodbye from Python!\")\n",
    "    time.sleep(1)\n",
    "    return 'bye'\n",
    "def theysaid(num, msg):\n",
    "    import time\n",
    "    print(\"Task {} returned '{}'\".format(num, msg))\n",
    "    time.sleep(1)"
   ]
  },
  {
   "cell_type": "code",
   "execution_count": null,
   "metadata": {
    "scrolled": true
   },
   "outputs": [],
   "source": [
    "t0 = kale.workflow_objects.PythonFunctionTask(\n",
    "    name='HelloPy',\n",
    "    func=hello\n",
    ")\n",
    "t1 = kale.workflow_objects.CommandLineTask(\n",
    "    name='HelloBash',\n",
    "    command=\"echo 'Hello from Bash!' && sleep 1\"\n",
    ")\n",
    "t2 = kale.workflow_objects.PythonFunctionTask(\n",
    "    name='TheySaid0',\n",
    "    func=theysaid,\n",
    "    args=[0, t0]\n",
    ")\n",
    "t3 = kale.workflow_objects.PythonFunctionTask(\n",
    "    name='TheySaid1',\n",
    "    func=theysaid,\n",
    "    args=[1, t1]\n",
    ")\n",
    "t4 = kale.workflow_objects.PythonFunctionTask(\n",
    "    name='ByePy',\n",
    "    func=bye\n",
    ")\n",
    "\n",
    "bp_wf = kale.workflow_objects.Workflow(name='bp_wf')\n",
    "\n",
    "bp_wf.add_task(t0)\n",
    "bp_wf.add_task(t1, dependencies=[t0])\n",
    "bp_wf.add_task(t2, dependencies=[t0])\n",
    "bp_wf.add_task(t3, dependencies=[t1])\n",
    "bp_wf.add_task(t4, dependencies=[t1, t2, t3])"
   ]
  },
  {
   "cell_type": "code",
   "execution_count": null,
   "metadata": {},
   "outputs": [],
   "source": [
    "wpw = kale.workflow_widgets.WorkerPoolWidget()\n",
    "wpw"
   ]
  },
  {
   "cell_type": "code",
   "execution_count": null,
   "metadata": {},
   "outputs": [],
   "source": [
    "kale.workflow_widgets.WorkflowWidget(bp_wf, wpw)"
   ]
  }
 ],
 "metadata": {
  "kernelspec": {
   "display_name": "Python 3",
   "language": "python",
   "name": "python3"
  },
  "language_info": {
   "codemirror_mode": {
    "name": "ipython",
    "version": 3
   },
   "file_extension": ".py",
   "mimetype": "text/x-python",
   "name": "python",
   "nbconvert_exporter": "python",
   "pygments_lexer": "ipython3",
   "version": "3.6.3"
  }
 },
 "nbformat": 4,
 "nbformat_minor": 2
}
