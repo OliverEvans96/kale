{
 "cells": [
  {
   "cell_type": "code",
   "execution_count": 1,
   "metadata": {
    "nbpresent": {
     "id": "6268ef92-e5ae-4ce4-b369-202c806db45b"
    },
    "scrolled": false
   },
   "outputs": [],
   "source": [
    "#%load_ext autoreload\n",
    "#%autoreload 2"
   ]
  },
  {
   "cell_type": "markdown",
   "metadata": {},
   "source": [
    "## Import workflows"
   ]
  },
  {
   "cell_type": "code",
   "execution_count": 2,
   "metadata": {},
   "outputs": [],
   "source": [
    "import os\n",
    "import sys\n",
    "sys.path.append(os.path.abspath('../droplet'))\n",
    "from droplet_workflow import droplet_wf\n",
    "sys.path.append(os.path.abspath('../misc'))\n",
    "from example_workflow import example_wf"
   ]
  },
  {
   "cell_type": "markdown",
   "metadata": {},
   "source": [
    "## Import widgets"
   ]
  },
  {
   "cell_type": "code",
   "execution_count": 3,
   "metadata": {
    "nbpresent": {
     "id": "7f05c603-3a9d-451e-98ee-ff9d21d86e9b"
    },
    "scrolled": false
   },
   "outputs": [],
   "source": [
    "from kale.workflow_widgets import WorkflowWidget, WorkerPoolWidget, TailWidget\n",
    "from kale.aux_widgets import QueueWidget, NEWTAuthWidget"
   ]
  },
  {
   "cell_type": "markdown",
   "metadata": {},
   "source": [
    "## Define workers"
   ]
  },
  {
   "cell_type": "code",
   "execution_count": 4,
   "metadata": {},
   "outputs": [],
   "source": [
    "# attempt to detect fireworks config file\n",
    "import yaml\n",
    "import fireworks\n",
    "# check for environment variable\n",
    "try:\n",
    "    env_fwconfig = os.environ[\"FW_CONFIG_FILE\"]\n",
    "except KeyError:\n",
    "    env_fwconfig = None\n",
    "\n",
    "# default filenames\n",
    "default_fwconfig = 'FW_config.yaml'\n",
    "default_launchpad = 'my_launchpad.yaml'\n",
    "    \n",
    "# check fireworks install path\n",
    "install_dir = os.path.split(os.path.dirname(fireworks.__file__))[0]\n",
    "install_fwconfig = os.path.join(install_dir, default_fwconfig)\n",
    "install_launchpad = os.path.join(install_dir, default_launchpad)\n",
    "# check fireworks home path\n",
    "home_dir = os.path.expanduser(\"~/.fireworks\")\n",
    "home_fwconfig = os.path.join(home_dir, default_fwconfig)\n",
    "\n",
    "if env_fwconfig and os.path.exists(env_fwconfig):\n",
    "    global_fwconfig = env_fwconfig\n",
    "elif os.path.exists(install_fwconfig):\n",
    "    global_fwconfig = install_fwconfig\n",
    "elif os.path.exists(home_fwconfig):\n",
    "    global_fwconfig = home_fwconfig\n",
    "else:\n",
    "    global_fwconfig = None\n",
    "\n",
    "if global_fwconfig:\n",
    "    global_fwparams = yaml.load(global_fwconfig)\n",
    "    if \"CONFIG_FILE_DIR\" in global_fwparams:\n",
    "        fwconfig = os.path.join(global_fwconfig[\"CONFIG_FILE_DIR\"], 'my_launchpad.yaml')\n",
    "    elif \"LAUNCHPAD_LOC\" in global_fwparams:\n",
    "        fwconfig = global_fwparams[\"LAUNCHPAD_LOC\"]\n",
    "    else:\n",
    "        fwconfig = None\n",
    "else:\n",
    "    fwconfig = None\n",
    "\n",
    "if not fwconfig:\n",
    "    if os.path.exists(install_launchpad):\n",
    "        fwconfig = install_launchpad\n",
    "    elif os.path.exists(home_launchpad):\n",
    "        fwconfig = home_launchpad"
   ]
  },
  {
   "cell_type": "code",
   "execution_count": 5,
   "metadata": {
    "nbpresent": {
     "id": "192a9350-4f88-4acd-b4ce-d89c151a2672"
    },
    "scrolled": false
   },
   "outputs": [
    {
     "data": {
      "application/vnd.jupyter.widget-view+json": {
       "model_id": "456d74c1b46e49ab9a5681eb9c17bc48",
       "version_major": 2,
       "version_minor": 0
      },
      "text/html": [
       "<p>Failed to display Jupyter Widget of type <code>WorkerPoolWidget</code>.</p>\n",
       "<p>\n",
       "  If you're reading this message in Jupyter Notebook or JupyterLab, it may mean\n",
       "  that the widgets JavaScript is still loading. If this message persists, it\n",
       "  likely means that the widgets JavaScript library is either not installed or\n",
       "  not enabled. See the <a href=\"https://ipywidgets.readthedocs.io/en/stable/user_install.html\">Jupyter\n",
       "  Widgets Documentation</a> for setup instructions.\n",
       "</p>\n",
       "<p>\n",
       "  If you're reading this message in another notebook frontend (for example, a static\n",
       "  rendering on GitHub or <a href=\"https://nbviewer.jupyter.org/\">NBViewer</a>),\n",
       "  it may mean that your frontend doesn't currently support widgets.\n",
       "</p>\n"
      ],
      "text/plain": [
       "WorkerPoolWidget(children=(HTML(value='<h3>Worker Pools</h3>'), TableWidget(children=(RowWidget(children=(HBox(children=(HTML(value='<b>Name</b>'),), layout=Layout(justify_content='flex-start', width='150px')), HBox(children=(HTML(value='<b>Location</b>'),), layout=Layout(justify_content='flex-start', width='200px')), HBox(children=(HTML(value='<b>Workers</b>'),), layout=Layout(justify_content='flex-start', width='60px')), HBox(children=(HTML(value='<b>Action</b>'),), layout=Layout(justify_content='flex-start', width='100px'))), layout=Layout(justify_content='space-between', width='510px')), RowWidget(children=(HBox(children=(HTML(value='default'),), layout=Layout(justify_content='flex-start', width='150px')), HBox(children=(HTML(value='localhost'),), layout=Layout(justify_content='flex-start', width='200px')), HBox(children=(HTML(value='4'),), layout=Layout(justify_content='flex-start', width='60px')), HBox(children=(Button(button_style='danger', description='Remove', style=ButtonStyle()),), layout=Layout(justify_content='flex-start', width='100px'))), layout=Layout(justify_content='space-between', width='510px')), RowWidget(children=(HBox(children=(Text(value='', layout=Layout(width='148px')),), layout=Layout(justify_content='flex-start', width='150px')), HBox(children=(Dropdown(layout=Layout(width='198px'), options=('localhost',), value='localhost'),), layout=Layout(justify_content='flex-start', width='200px')), HBox(children=(IntText(value=1, layout=Layout(width='58px')),), layout=Layout(justify_content='flex-start', width='60px')), HBox(children=(Button(button_style='success', icon='plus', style=ButtonStyle()),), layout=Layout(justify_content='flex-start', width='100px'))), layout=Layout(justify_content='space-between', width='510px'))), layout=Layout(width='510px')), HTML(value='\\n        <div class=\"alert alert-success\" style=\"width: 510px\">\\n        WorkerPool \\'default\\' created.\\n        </div>\\n        ')))"
      ]
     },
     "metadata": {},
     "output_type": "display_data"
    }
   ],
   "source": [
    "wpw = WorkerPoolWidget(fwconfig=fwconfig)\n",
    "wpw"
   ]
  },
  {
   "cell_type": "markdown",
   "metadata": {},
   "source": [
    "# Droplet Workflow"
   ]
  },
  {
   "cell_type": "code",
   "execution_count": 6,
   "metadata": {
    "nbpresent": {
     "id": "086179ea-3915-4b1a-9493-83cae5d3e317"
    },
    "scrolled": false
   },
   "outputs": [
    {
     "data": {
      "application/vnd.jupyter.widget-view+json": {
       "model_id": "46a9e425158a49bcbcaeb129fae01c8a",
       "version_major": 2,
       "version_minor": 0
      },
      "text/html": [
       "<p>Failed to display Jupyter Widget of type <code>WorkflowWidget</code>.</p>\n",
       "<p>\n",
       "  If you're reading this message in Jupyter Notebook or JupyterLab, it may mean\n",
       "  that the widgets JavaScript is still loading. If this message persists, it\n",
       "  likely means that the widgets JavaScript library is either not installed or\n",
       "  not enabled. See the <a href=\"https://ipywidgets.readthedocs.io/en/stable/user_install.html\">Jupyter\n",
       "  Widgets Documentation</a> for setup instructions.\n",
       "</p>\n",
       "<p>\n",
       "  If you're reading this message in another notebook frontend (for example, a static\n",
       "  rendering on GitHub or <a href=\"https://nbviewer.jupyter.org/\">NBViewer</a>),\n",
       "  it may mean that your frontend doesn't currently support widgets.\n",
       "</p>\n"
      ],
      "text/plain": [
       "WorkflowWidget(children=(VBox(children=(Figure(fig_margin={'left': 10, 'right': 10, 'bottom': 10, 'top': 10}, layout=Layout(height='600px', width='400px'), marks=[Graph(colors=['#1f77b4', '#ff7f0e', '#2ca02c', '#d62728', '#9467bd', '#8c564b', '#e377c2', '#7f7f7f', '#bcbd22', '#17becf'], highlight_links=False, interactions={'hover': 'tooltip', 'click': 'select'}, link_data=[{'source': 0, 'target': 2}, {'source': 0, 'target': 12}, {'source': 0, 'target': 22}, {'source': 0, 'target': 32}, {'source': 0, 'target': 42}, {'source': 0, 'target': 52}, {'source': 1, 'target': 2}, {'source': 2, 'target': 3}, {'source': 3, 'target': 4}, {'source': 3, 'target': 6}, {'source': 3, 'target': 8}, {'source': 4, 'target': 5}, {'source': 5, 'target': 10}, {'source': 6, 'target': 7}, {'source': 7, 'target': 10}, {'source': 8, 'target': 9}, {'source': 9, 'target': 10}, {'source': 10, 'target': 61}, {'source': 11, 'target': 12}, {'source': 12, 'target': 13}, {'source': 13, 'target': 14}, {'source': 13, 'target': 16}, {'source': 13, 'target': 18}, {'source': 14, 'target': 15}, {'source': 15, 'target': 20}, {'source': 16, 'target': 17}, {'source': 17, 'target': 20}, {'source': 18, 'target': 19}, {'source': 19, 'target': 20}, {'source': 20, 'target': 61}, {'source': 21, 'target': 22}, {'source': 22, 'target': 23}, {'source': 23, 'target': 24}, {'source': 23, 'target': 26}, {'source': 23, 'target': 28}, {'source': 24, 'target': 25}, {'source': 25, 'target': 30}, {'source': 26, 'target': 27}, {'source': 27, 'target': 30}, {'source': 28, 'target': 29}, {'source': 29, 'target': 30}, {'source': 30, 'target': 61}, {'source': 31, 'target': 32}, {'source': 32, 'target': 33}, {'source': 33, 'target': 34}, {'source': 33, 'target': 36}, {'source': 33, 'target': 38}, {'source': 34, 'target': 35}, {'source': 35, 'target': 40}, {'source': 36, 'target': 37}, {'source': 37, 'target': 40}, {'source': 38, 'target': 39}, {'source': 39, 'target': 40}, {'source': 40, 'target': 61}, {'source': 41, 'target': 42}, {'source': 42, 'target': 43}, {'source': 43, 'target': 44}, {'source': 43, 'target': 46}, {'source': 43, 'target': 48}, {'source': 44, 'target': 45}, {'source': 45, 'target': 50}, {'source': 46, 'target': 47}, {'source': 47, 'target': 50}, {'source': 48, 'target': 49}, {'source': 49, 'target': 50}, {'source': 50, 'target': 61}, {'source': 51, 'target': 52}, {'source': 52, 'target': 53}, {'source': 53, 'target': 54}, {'source': 53, 'target': 56}, {'source': 53, 'target': 58}, {'source': 54, 'target': 55}, {'source': 55, 'target': 60}, {'source': 56, 'target': 57}, {'source': 57, 'target': 60}, {'source': 58, 'target': 59}, {'source': 59, 'target': 60}, {'source': 60, 'target': 61}, {'source': 61, 'target': 62}], link_type='line', node_data=[{'label': '0', 'shape': 'rect', 'name': 'gen_mica_10x10', 'task_type': 'CommandLineTask', 'tags': ['gen_mica'], 'input_files': [], 'output_files': ['$SCRATCH/droplet/gen_droplet/lammps_data/mica_10x10.data'], 'num_cores': 1, 'command': '$SCRATCH/droplet/gen_droplet/scripts/gen_mica.sh 10 10 $SCRATCH/droplet/gen_droplet/lammps_data/mica_10x10.data'}, {'label': '1', 'shape': 'rect', 'name': 'gen_droplet-20A', 'task_type': 'CommandLineTask', 'tags': ['20A', 'gen_droplet'], 'input_files': [], 'output_files': ['$SCRATCH/droplet/gen_droplet/dump/droplet_20A.lammpstrj'], 'num_cores': 1, 'command': '$SCRATCH/droplet/gen_droplet/bin/waterdroplet_tip4p_new.out 20 sphere'}, {'label': '2', 'shape': 'rect', 'name': 'combine-20A', 'task_type': 'CommandLineTask', 'tags': ['20A', 'combine'], 'input_files': ['$SCRATCH/droplet/gen_droplet/lammps_data/mica_10x10.data', '$SCRATCH/droplet/gen_droplet/dump/droplet_20A.lammpstrj'], 'output_files': ['$SCRATCH/droplet/gen_droplet/lammps_data/droplet_on_mica-20A.data'], 'num_cores': 1, 'command': '$SCRATCH/droplet/gen_droplet/scripts/combine_sub_strip.pl $SCRATCH/droplet/gen_droplet/lammps_data/mica_10x10.data $SCRATCH/droplet/gen_droplet/dump/droplet_20A.lammpstrj 20'}, {'label': '3', 'shape': 'rect', 'name': 'simulate-20A', 'task_type': 'BatchTask', 'tags': ['20A', 'simulate'], 'input_files': ['$SCRATCH/droplet/gen_droplet/lammps_data/droplet_on_mica-20A.data', '$SCRATCH/droplet/lammps_scripts/simulate_20A.batch'], 'output_files': ['$SCRATCH/droplet/data/20A/atom1', '$SCRATCH/droplet/data/20A/atom2', '$SCRATCH/droplet/data/20A/atom3'], 'num_cores': 3, 'batch_script': '$SCRATCH/droplet/sub_scripts/simulate_20A.batch'}, {'label': '4', 'shape': 'rect', 'name': 'parse-20A_atom1', 'task_type': 'CommandLineTask', 'tags': ['20A', 'parse'], 'input_files': ['$SCRATCH/droplet/data/20A/atom1'], 'output_files': ['$SCRATCH/droplet/results/20A/waters.txt'], 'num_cores': 1, 'command': '$SCRATCH/droplet/exec/parse.sh $SCRATCH/droplet/data/20A/atom1 $SCRATCH/droplet/results/20A/waters.txt'}, {'label': '5', 'shape': 'rect', 'name': 'analyze-20A_atom1', 'task_type': 'CommandLineTask', 'tags': ['20A', 'analyze'], 'input_files': ['$SCRATCH/droplet/results/20A/waters.txt'], 'output_files': ['$SCRATCH/droplet/results/20A/calculated.txt'], 'num_cores': 1, 'command': '$SCRATCH/droplet/exec/analyze.sh $SCRATCH/droplet/results/20A/waters.txt $SCRATCH/droplet/results/20A/calculated.txt'}, {'label': '6', 'shape': 'rect', 'name': 'parse-20A_atom2', 'task_type': 'CommandLineTask', 'tags': ['20A', 'parse'], 'input_files': ['$SCRATCH/droplet/data/20A/atom2'], 'output_files': ['$SCRATCH/droplet/results/20A/waters.txt'], 'num_cores': 1, 'command': '$SCRATCH/droplet/exec/parse.sh $SCRATCH/droplet/data/20A/atom2 $SCRATCH/droplet/results/20A/waters.txt'}, {'label': '7', 'shape': 'rect', 'name': 'analyze-20A_atom2', 'task_type': 'CommandLineTask', 'tags': ['20A', 'analyze'], 'input_files': ['$SCRATCH/droplet/results/20A/waters.txt'], 'output_files': ['$SCRATCH/droplet/results/20A/calculated.txt'], 'num_cores': 1, 'command': '$SCRATCH/droplet/exec/analyze.sh $SCRATCH/droplet/results/20A/waters.txt $SCRATCH/droplet/results/20A/calculated.txt'}, {'label': '8', 'shape': 'rect', 'name': 'parse-20A_atom3', 'task_type': 'CommandLineTask', 'tags': ['20A', 'parse'], 'input_files': ['$SCRATCH/droplet/data/20A/atom3'], 'output_files': ['$SCRATCH/droplet/results/20A/waters.txt'], 'num_cores': 1, 'command': '$SCRATCH/droplet/exec/parse.sh $SCRATCH/droplet/data/20A/atom3 $SCRATCH/droplet/results/20A/waters.txt'}, {'label': '9', 'shape': 'rect', 'name': 'analyze-20A_atom3', 'task_type': 'CommandLineTask', 'tags': ['20A', 'analyze'], 'input_files': ['$SCRATCH/droplet/results/20A/waters.txt'], 'output_files': ['$SCRATCH/droplet/results/20A/calculated.txt'], 'num_cores': 1, 'command': '$SCRATCH/droplet/exec/analyze.sh $SCRATCH/droplet/results/20A/waters.txt $SCRATCH/droplet/results/20A/calculated.txt'}, {'label': '10', 'shape': 'rect', 'name': 'combine_parts-20A', 'task_type': 'CommandLineTask', 'tags': ['20A', 'combine_parts'], 'input_files': ['$SCRATCH/droplet/results/20A/atom1/calculated.txt', '$SCRATCH/droplet/results/20A/atom2/calculated.txt', '$SCRATCH/droplet/results/20A/atom3/calculated.txt'], 'output_files': ['$SCRATCH/droplet/results/20A/combined.txt'], 'num_cores': 1, 'command': '$SCRATCH/droplet/results/combineParts.sh 20A</h3>'}, {'label': '11', 'shape': 'rect', 'name': 'gen_droplet-30A', 'task_type': 'CommandLineTask', 'tags': ['30A', 'gen_droplet'], 'input_files': [], 'output_files': ['$SCRATCH/droplet/gen_droplet/dump/droplet_30A.lammpstrj'], 'num_cores': 1, 'command': '$SCRATCH/droplet/gen_droplet/bin/waterdroplet_tip4p_new.out 30 sphere'}, {'label': '12', 'shape': 'rect', 'name': 'combine-30A', 'task_type': 'CommandLineTask', 'tags': ['30A', 'combine'], 'input_files': ['$SCRATCH/droplet/gen_droplet/lammps_data/mica_10x10.data', '$SCRATCH/droplet/gen_droplet/dump/droplet_30A.lammpstrj'], 'output_files': ['$SCRATCH/droplet/gen_droplet/lammps_data/droplet_on_mica-30A.data'], 'num_cores': 1, 'command': '$SCRATCH/droplet/gen_droplet/scripts/combine_sub_strip.pl $SCRATCH/droplet/gen_droplet/lammps_data/mica_10x10.data $SCRATCH/droplet/gen_droplet/dump/droplet_30A.lammpstrj 30'}, {'label': '13', 'shape': 'rect', 'name': 'simulate-30A', 'task_type': 'BatchTask', 'tags': ['30A', 'simulate'], 'input_files': ['$SCRATCH/droplet/gen_droplet/lammps_data/droplet_on_mica-30A.data', '$SCRATCH/droplet/lammps_scripts/simulate_30A.batch'], 'output_files': ['$SCRATCH/droplet/data/30A/atom1', '$SCRATCH/droplet/data/30A/atom2', '$SCRATCH/droplet/data/30A/atom3'], 'num_cores': 3, 'batch_script': '$SCRATCH/droplet/sub_scripts/simulate_30A.batch'}, {'label': '14', 'shape': 'rect', 'name': 'parse-30A_atom1', 'task_type': 'CommandLineTask', 'tags': ['30A', 'parse'], 'input_files': ['$SCRATCH/droplet/data/30A/atom1'], 'output_files': ['$SCRATCH/droplet/results/30A/waters.txt'], 'num_cores': 1, 'command': '$SCRATCH/droplet/exec/parse.sh $SCRATCH/droplet/data/30A/atom1 $SCRATCH/droplet/results/30A/waters.txt'}, {'label': '15', 'shape': 'rect', 'name': 'analyze-30A_atom1', 'task_type': 'CommandLineTask', 'tags': ['30A', 'analyze'], 'input_files': ['$SCRATCH/droplet/results/30A/waters.txt'], 'output_files': ['$SCRATCH/droplet/results/30A/calculated.txt'], 'num_cores': 1, 'command': '$SCRATCH/droplet/exec/analyze.sh $SCRATCH/droplet/results/30A/waters.txt $SCRATCH/droplet/results/30A/calculated.txt'}, {'label': '16', 'shape': 'rect', 'name': 'parse-30A_atom2', 'task_type': 'CommandLineTask', 'tags': ['30A', 'parse'], 'input_files': ['$SCRATCH/droplet/data/30A/atom2'], 'output_files': ['$SCRATCH/droplet/results/30A/waters.txt'], 'num_cores': 1, 'command': '$SCRATCH/droplet/exec/parse.sh $SCRATCH/droplet/data/30A/atom2 $SCRATCH/droplet/results/30A/waters.txt'}, {'label': '17', 'shape': 'rect', 'name': 'analyze-30A_atom2', 'task_type': 'CommandLineTask', 'tags': ['30A', 'analyze'], 'input_files': ['$SCRATCH/droplet/results/30A/waters.txt'], 'output_files': ['$SCRATCH/droplet/results/30A/calculated.txt'], 'num_cores': 1, 'command': '$SCRATCH/droplet/exec/analyze.sh $SCRATCH/droplet/results/30A/waters.txt $SCRATCH/droplet/results/30A/calculated.txt'}, {'label': '18', 'shape': 'rect', 'name': 'parse-30A_atom3', 'task_type': 'CommandLineTask', 'tags': ['30A', 'parse'], 'input_files': ['$SCRATCH/droplet/data/30A/atom3'], 'output_files': ['$SCRATCH/droplet/results/30A/waters.txt'], 'num_cores': 1, 'command': '$SCRATCH/droplet/exec/parse.sh $SCRATCH/droplet/data/30A/atom3 $SCRATCH/droplet/results/30A/waters.txt'}, {'label': '19', 'shape': 'rect', 'name': 'analyze-30A_atom3', 'task_type': 'CommandLineTask', 'tags': ['30A', 'analyze'], 'input_files': ['$SCRATCH/droplet/results/30A/waters.txt'], 'output_files': ['$SCRATCH/droplet/results/30A/calculated.txt'], 'num_cores': 1, 'command': '$SCRATCH/droplet/exec/analyze.sh $SCRATCH/droplet/results/30A/waters.txt $SCRATCH/droplet/results/30A/calculated.txt'}, {'label': '20', 'shape': 'rect', 'name': 'combine_parts-30A', 'task_type': 'CommandLineTask', 'tags': ['30A', 'combine_parts'], 'input_files': ['$SCRATCH/droplet/results/30A/atom1/calculated.txt', '$SCRATCH/droplet/results/30A/atom2/calculated.txt', '$SCRATCH/droplet/results/30A/atom3/calculated.txt'], 'output_files': ['$SCRATCH/droplet/results/30A/combined.txt'], 'num_cores': 1, 'command': '$SCRATCH/droplet/results/combineParts.sh 30A</h3>'}, {'label': '21', 'shape': 'rect', 'name': 'gen_droplet-40A', 'task_type': 'CommandLineTask', 'tags': ['40A', 'gen_droplet'], 'input_files': [], 'output_files': ['$SCRATCH/droplet/gen_droplet/dump/droplet_40A.lammpstrj'], 'num_cores': 1, 'command': '$SCRATCH/droplet/gen_droplet/bin/waterdroplet_tip4p_new.out 40 sphere'}, {'label': '22', 'shape': 'rect', 'name': 'combine-40A', 'task_type': 'CommandLineTask', 'tags': ['40A', 'combine'], 'input_files': ['$SCRATCH/droplet/gen_droplet/lammps_data/mica_10x10.data', '$SCRATCH/droplet/gen_droplet/dump/droplet_40A.lammpstrj'], 'output_files': ['$SCRATCH/droplet/gen_droplet/lammps_data/droplet_on_mica-40A.data'], 'num_cores': 1, 'command': '$SCRATCH/droplet/gen_droplet/scripts/combine_sub_strip.pl $SCRATCH/droplet/gen_droplet/lammps_data/mica_10x10.data $SCRATCH/droplet/gen_droplet/dump/droplet_40A.lammpstrj 40'}, {'label': '23', 'shape': 'rect', 'name': 'simulate-40A', 'task_type': 'BatchTask', 'tags': ['40A', 'simulate'], 'input_files': ['$SCRATCH/droplet/gen_droplet/lammps_data/droplet_on_mica-40A.data', '$SCRATCH/droplet/lammps_scripts/simulate_40A.batch'], 'output_files': ['$SCRATCH/droplet/data/40A/atom1', '$SCRATCH/droplet/data/40A/atom2', '$SCRATCH/droplet/data/40A/atom3'], 'num_cores': 3, 'batch_script': '$SCRATCH/droplet/sub_scripts/simulate_40A.batch'}, {'label': '24', 'shape': 'rect', 'name': 'parse-40A_atom1', 'task_type': 'CommandLineTask', 'tags': ['40A', 'parse'], 'input_files': ['$SCRATCH/droplet/data/40A/atom1'], 'output_files': ['$SCRATCH/droplet/results/40A/waters.txt'], 'num_cores': 1, 'command': '$SCRATCH/droplet/exec/parse.sh $SCRATCH/droplet/data/40A/atom1 $SCRATCH/droplet/results/40A/waters.txt'}, {'label': '25', 'shape': 'rect', 'name': 'analyze-40A_atom1', 'task_type': 'CommandLineTask', 'tags': ['40A', 'analyze'], 'input_files': ['$SCRATCH/droplet/results/40A/waters.txt'], 'output_files': ['$SCRATCH/droplet/results/40A/calculated.txt'], 'num_cores': 1, 'command': '$SCRATCH/droplet/exec/analyze.sh $SCRATCH/droplet/results/40A/waters.txt $SCRATCH/droplet/results/40A/calculated.txt'}, {'label': '26', 'shape': 'rect', 'name': 'parse-40A_atom2', 'task_type': 'CommandLineTask', 'tags': ['40A', 'parse'], 'input_files': ['$SCRATCH/droplet/data/40A/atom2'], 'output_files': ['$SCRATCH/droplet/results/40A/waters.txt'], 'num_cores': 1, 'command': '$SCRATCH/droplet/exec/parse.sh $SCRATCH/droplet/data/40A/atom2 $SCRATCH/droplet/results/40A/waters.txt'}, {'label': '27', 'shape': 'rect', 'name': 'analyze-40A_atom2', 'task_type': 'CommandLineTask', 'tags': ['40A', 'analyze'], 'input_files': ['$SCRATCH/droplet/results/40A/waters.txt'], 'output_files': ['$SCRATCH/droplet/results/40A/calculated.txt'], 'num_cores': 1, 'command': '$SCRATCH/droplet/exec/analyze.sh $SCRATCH/droplet/results/40A/waters.txt $SCRATCH/droplet/results/40A/calculated.txt'}, {'label': '28', 'shape': 'rect', 'name': 'parse-40A_atom3', 'task_type': 'CommandLineTask', 'tags': ['40A', 'parse'], 'input_files': ['$SCRATCH/droplet/data/40A/atom3'], 'output_files': ['$SCRATCH/droplet/results/40A/waters.txt'], 'num_cores': 1, 'command': '$SCRATCH/droplet/exec/parse.sh $SCRATCH/droplet/data/40A/atom3 $SCRATCH/droplet/results/40A/waters.txt'}, {'label': '29', 'shape': 'rect', 'name': 'analyze-40A_atom3', 'task_type': 'CommandLineTask', 'tags': ['40A', 'analyze'], 'input_files': ['$SCRATCH/droplet/results/40A/waters.txt'], 'output_files': ['$SCRATCH/droplet/results/40A/calculated.txt'], 'num_cores': 1, 'command': '$SCRATCH/droplet/exec/analyze.sh $SCRATCH/droplet/results/40A/waters.txt $SCRATCH/droplet/results/40A/calculated.txt'}, {'label': '30', 'shape': 'rect', 'name': 'combine_parts-40A', 'task_type': 'CommandLineTask', 'tags': ['40A', 'combine_parts'], 'input_files': ['$SCRATCH/droplet/results/40A/atom1/calculated.txt', '$SCRATCH/droplet/results/40A/atom2/calculated.txt', '$SCRATCH/droplet/results/40A/atom3/calculated.txt'], 'output_files': ['$SCRATCH/droplet/results/40A/combined.txt'], 'num_cores': 1, 'command': '$SCRATCH/droplet/results/combineParts.sh 40A</h3>'}, {'label': '31', 'shape': 'rect', 'name': 'gen_droplet-50A', 'task_type': 'CommandLineTask', 'tags': ['50A', 'gen_droplet'], 'input_files': [], 'output_files': ['$SCRATCH/droplet/gen_droplet/dump/droplet_50A.lammpstrj'], 'num_cores': 1, 'command': '$SCRATCH/droplet/gen_droplet/bin/waterdroplet_tip4p_new.out 50 sphere'}, {'label': '32', 'shape': 'rect', 'name': 'combine-50A', 'task_type': 'CommandLineTask', 'tags': ['50A', 'combine'], 'input_files': ['$SCRATCH/droplet/gen_droplet/lammps_data/mica_10x10.data', '$SCRATCH/droplet/gen_droplet/dump/droplet_50A.lammpstrj'], 'output_files': ['$SCRATCH/droplet/gen_droplet/lammps_data/droplet_on_mica-50A.data'], 'num_cores': 1, 'command': '$SCRATCH/droplet/gen_droplet/scripts/combine_sub_strip.pl $SCRATCH/droplet/gen_droplet/lammps_data/mica_10x10.data $SCRATCH/droplet/gen_droplet/dump/droplet_50A.lammpstrj 50'}, {'label': '33', 'shape': 'rect', 'name': 'simulate-50A', 'task_type': 'BatchTask', 'tags': ['50A', 'simulate'], 'input_files': ['$SCRATCH/droplet/gen_droplet/lammps_data/droplet_on_mica-50A.data', '$SCRATCH/droplet/lammps_scripts/simulate_50A.batch'], 'output_files': ['$SCRATCH/droplet/data/50A/atom1', '$SCRATCH/droplet/data/50A/atom2', '$SCRATCH/droplet/data/50A/atom3'], 'num_cores': 3, 'batch_script': '$SCRATCH/droplet/sub_scripts/simulate_50A.batch'}, {'label': '34', 'shape': 'rect', 'name': 'parse-50A_atom1', 'task_type': 'CommandLineTask', 'tags': ['50A', 'parse'], 'input_files': ['$SCRATCH/droplet/data/50A/atom1'], 'output_files': ['$SCRATCH/droplet/results/50A/waters.txt'], 'num_cores': 1, 'command': '$SCRATCH/droplet/exec/parse.sh $SCRATCH/droplet/data/50A/atom1 $SCRATCH/droplet/results/50A/waters.txt'}, {'label': '35', 'shape': 'rect', 'name': 'analyze-50A_atom1', 'task_type': 'CommandLineTask', 'tags': ['50A', 'analyze'], 'input_files': ['$SCRATCH/droplet/results/50A/waters.txt'], 'output_files': ['$SCRATCH/droplet/results/50A/calculated.txt'], 'num_cores': 1, 'command': '$SCRATCH/droplet/exec/analyze.sh $SCRATCH/droplet/results/50A/waters.txt $SCRATCH/droplet/results/50A/calculated.txt'}, {'label': '36', 'shape': 'rect', 'name': 'parse-50A_atom2', 'task_type': 'CommandLineTask', 'tags': ['50A', 'parse'], 'input_files': ['$SCRATCH/droplet/data/50A/atom2'], 'output_files': ['$SCRATCH/droplet/results/50A/waters.txt'], 'num_cores': 1, 'command': '$SCRATCH/droplet/exec/parse.sh $SCRATCH/droplet/data/50A/atom2 $SCRATCH/droplet/results/50A/waters.txt'}, {'label': '37', 'shape': 'rect', 'name': 'analyze-50A_atom2', 'task_type': 'CommandLineTask', 'tags': ['50A', 'analyze'], 'input_files': ['$SCRATCH/droplet/results/50A/waters.txt'], 'output_files': ['$SCRATCH/droplet/results/50A/calculated.txt'], 'num_cores': 1, 'command': '$SCRATCH/droplet/exec/analyze.sh $SCRATCH/droplet/results/50A/waters.txt $SCRATCH/droplet/results/50A/calculated.txt'}, {'label': '38', 'shape': 'rect', 'name': 'parse-50A_atom3', 'task_type': 'CommandLineTask', 'tags': ['50A', 'parse'], 'input_files': ['$SCRATCH/droplet/data/50A/atom3'], 'output_files': ['$SCRATCH/droplet/results/50A/waters.txt'], 'num_cores': 1, 'command': '$SCRATCH/droplet/exec/parse.sh $SCRATCH/droplet/data/50A/atom3 $SCRATCH/droplet/results/50A/waters.txt'}, {'label': '39', 'shape': 'rect', 'name': 'analyze-50A_atom3', 'task_type': 'CommandLineTask', 'tags': ['50A', 'analyze'], 'input_files': ['$SCRATCH/droplet/results/50A/waters.txt'], 'output_files': ['$SCRATCH/droplet/results/50A/calculated.txt'], 'num_cores': 1, 'command': '$SCRATCH/droplet/exec/analyze.sh $SCRATCH/droplet/results/50A/waters.txt $SCRATCH/droplet/results/50A/calculated.txt'}, {'label': '40', 'shape': 'rect', 'name': 'combine_parts-50A', 'task_type': 'CommandLineTask', 'tags': ['50A', 'combine_parts'], 'input_files': ['$SCRATCH/droplet/results/50A/atom1/calculated.txt', '$SCRATCH/droplet/results/50A/atom2/calculated.txt', '$SCRATCH/droplet/results/50A/atom3/calculated.txt'], 'output_files': ['$SCRATCH/droplet/results/50A/combined.txt'], 'num_cores': 1, 'command': '$SCRATCH/droplet/results/combineParts.sh 50A</h3>'}, {'label': '41', 'shape': 'rect', 'name': 'gen_droplet-60A', 'task_type': 'CommandLineTask', 'tags': ['60A', 'gen_droplet'], 'input_files': [], 'output_files': ['$SCRATCH/droplet/gen_droplet/dump/droplet_60A.lammpstrj'], 'num_cores': 1, 'command': '$SCRATCH/droplet/gen_droplet/bin/waterdroplet_tip4p_new.out 60 sphere'}, {'label': '42', 'shape': 'rect', 'name': 'combine-60A', 'task_type': 'CommandLineTask', 'tags': ['60A', 'combine'], 'input_files': ['$SCRATCH/droplet/gen_droplet/lammps_data/mica_10x10.data', '$SCRATCH/droplet/gen_droplet/dump/droplet_60A.lammpstrj'], 'output_files': ['$SCRATCH/droplet/gen_droplet/lammps_data/droplet_on_mica-60A.data'], 'num_cores': 1, 'command': '$SCRATCH/droplet/gen_droplet/scripts/combine_sub_strip.pl $SCRATCH/droplet/gen_droplet/lammps_data/mica_10x10.data $SCRATCH/droplet/gen_droplet/dump/droplet_60A.lammpstrj 60'}, {'label': '43', 'shape': 'rect', 'name': 'simulate-60A', 'task_type': 'BatchTask', 'tags': ['60A', 'simulate'], 'input_files': ['$SCRATCH/droplet/gen_droplet/lammps_data/droplet_on_mica-60A.data', '$SCRATCH/droplet/lammps_scripts/simulate_60A.batch'], 'output_files': ['$SCRATCH/droplet/data/60A/atom1', '$SCRATCH/droplet/data/60A/atom2', '$SCRATCH/droplet/data/60A/atom3'], 'num_cores': 3, 'batch_script': '$SCRATCH/droplet/sub_scripts/simulate_60A.batch'}, {'label': '44', 'shape': 'rect', 'name': 'parse-60A_atom1', 'task_type': 'CommandLineTask', 'tags': ['60A', 'parse'], 'input_files': ['$SCRATCH/droplet/data/60A/atom1'], 'output_files': ['$SCRATCH/droplet/results/60A/waters.txt'], 'num_cores': 1, 'command': '$SCRATCH/droplet/exec/parse.sh $SCRATCH/droplet/data/60A/atom1 $SCRATCH/droplet/results/60A/waters.txt'}, {'label': '45', 'shape': 'rect', 'name': 'analyze-60A_atom1', 'task_type': 'CommandLineTask', 'tags': ['60A', 'analyze'], 'input_files': ['$SCRATCH/droplet/results/60A/waters.txt'], 'output_files': ['$SCRATCH/droplet/results/60A/calculated.txt'], 'num_cores': 1, 'command': '$SCRATCH/droplet/exec/analyze.sh $SCRATCH/droplet/results/60A/waters.txt $SCRATCH/droplet/results/60A/calculated.txt'}, {'label': '46', 'shape': 'rect', 'name': 'parse-60A_atom2', 'task_type': 'CommandLineTask', 'tags': ['60A', 'parse'], 'input_files': ['$SCRATCH/droplet/data/60A/atom2'], 'output_files': ['$SCRATCH/droplet/results/60A/waters.txt'], 'num_cores': 1, 'command': '$SCRATCH/droplet/exec/parse.sh $SCRATCH/droplet/data/60A/atom2 $SCRATCH/droplet/results/60A/waters.txt'}, {'label': '47', 'shape': 'rect', 'name': 'analyze-60A_atom2', 'task_type': 'CommandLineTask', 'tags': ['60A', 'analyze'], 'input_files': ['$SCRATCH/droplet/results/60A/waters.txt'], 'output_files': ['$SCRATCH/droplet/results/60A/calculated.txt'], 'num_cores': 1, 'command': '$SCRATCH/droplet/exec/analyze.sh $SCRATCH/droplet/results/60A/waters.txt $SCRATCH/droplet/results/60A/calculated.txt'}, {'label': '48', 'shape': 'rect', 'name': 'parse-60A_atom3', 'task_type': 'CommandLineTask', 'tags': ['60A', 'parse'], 'input_files': ['$SCRATCH/droplet/data/60A/atom3'], 'output_files': ['$SCRATCH/droplet/results/60A/waters.txt'], 'num_cores': 1, 'command': '$SCRATCH/droplet/exec/parse.sh $SCRATCH/droplet/data/60A/atom3 $SCRATCH/droplet/results/60A/waters.txt'}, {'label': '49', 'shape': 'rect', 'name': 'analyze-60A_atom3', 'task_type': 'CommandLineTask', 'tags': ['60A', 'analyze'], 'input_files': ['$SCRATCH/droplet/results/60A/waters.txt'], 'output_files': ['$SCRATCH/droplet/results/60A/calculated.txt'], 'num_cores': 1, 'command': '$SCRATCH/droplet/exec/analyze.sh $SCRATCH/droplet/results/60A/waters.txt $SCRATCH/droplet/results/60A/calculated.txt'}, {'label': '50', 'shape': 'rect', 'name': 'combine_parts-60A', 'task_type': 'CommandLineTask', 'tags': ['combine_parts', '60A'], 'input_files': ['$SCRATCH/droplet/results/60A/atom1/calculated.txt', '$SCRATCH/droplet/results/60A/atom2/calculated.txt', '$SCRATCH/droplet/results/60A/atom3/calculated.txt'], 'output_files': ['$SCRATCH/droplet/results/60A/combined.txt'], 'num_cores': 1, 'command': '$SCRATCH/droplet/results/combineParts.sh 60A</h3>'}, {'label': '51', 'shape': 'rect', 'name': 'gen_droplet-100A', 'task_type': 'CommandLineTask', 'tags': ['gen_droplet', '100A'], 'input_files': [], 'output_files': ['$SCRATCH/droplet/gen_droplet/dump/droplet_100A.lammpstrj'], 'num_cores': 1, 'command': '$SCRATCH/droplet/gen_droplet/bin/waterdroplet_tip4p_new.out 100 sphere'}, {'label': '52', 'shape': 'rect', 'name': 'combine-100A', 'task_type': 'CommandLineTask', 'tags': ['combine', '100A'], 'input_files': ['$SCRATCH/droplet/gen_droplet/lammps_data/mica_10x10.data', '$SCRATCH/droplet/gen_droplet/dump/droplet_100A.lammpstrj'], 'output_files': ['$SCRATCH/droplet/gen_droplet/lammps_data/droplet_on_mica-100A.data'], 'num_cores': 1, 'command': '$SCRATCH/droplet/gen_droplet/scripts/combine_sub_strip.pl $SCRATCH/droplet/gen_droplet/lammps_data/mica_10x10.data $SCRATCH/droplet/gen_droplet/dump/droplet_100A.lammpstrj 100'}, {'label': '53', 'shape': 'rect', 'name': 'simulate-100A', 'task_type': 'BatchTask', 'tags': ['simulate', '100A'], 'input_files': ['$SCRATCH/droplet/gen_droplet/lammps_data/droplet_on_mica-100A.data', '$SCRATCH/droplet/lammps_scripts/simulate_100A.batch'], 'output_files': ['$SCRATCH/droplet/data/100A/atom1', '$SCRATCH/droplet/data/100A/atom2', '$SCRATCH/droplet/data/100A/atom3'], 'num_cores': 3, 'batch_script': '$SCRATCH/droplet/sub_scripts/simulate_100A.batch'}, {'label': '54', 'shape': 'rect', 'name': 'parse-100A_atom1', 'task_type': 'CommandLineTask', 'tags': ['parse', '100A'], 'input_files': ['$SCRATCH/droplet/data/100A/atom1'], 'output_files': ['$SCRATCH/droplet/results/100A/waters.txt'], 'num_cores': 1, 'command': '$SCRATCH/droplet/exec/parse.sh $SCRATCH/droplet/data/100A/atom1 $SCRATCH/droplet/results/100A/waters.txt'}, {'label': '55', 'shape': 'rect', 'name': 'analyze-100A_atom1', 'task_type': 'CommandLineTask', 'tags': ['analyze', '100A'], 'input_files': ['$SCRATCH/droplet/results/100A/waters.txt'], 'output_files': ['$SCRATCH/droplet/results/100A/calculated.txt'], 'num_cores': 1, 'command': '$SCRATCH/droplet/exec/analyze.sh $SCRATCH/droplet/results/100A/waters.txt $SCRATCH/droplet/results/100A/calculated.txt'}, {'label': '56', 'shape': 'rect', 'name': 'parse-100A_atom2', 'task_type': 'CommandLineTask', 'tags': ['parse', '100A'], 'input_files': ['$SCRATCH/droplet/data/100A/atom2'], 'output_files': ['$SCRATCH/droplet/results/100A/waters.txt'], 'num_cores': 1, 'command': '$SCRATCH/droplet/exec/parse.sh $SCRATCH/droplet/data/100A/atom2 $SCRATCH/droplet/results/100A/waters.txt'}, {'label': '57', 'shape': 'rect', 'name': 'analyze-100A_atom2', 'task_type': 'CommandLineTask', 'tags': ['analyze', '100A'], 'input_files': ['$SCRATCH/droplet/results/100A/waters.txt'], 'output_files': ['$SCRATCH/droplet/results/100A/calculated.txt'], 'num_cores': 1, 'command': '$SCRATCH/droplet/exec/analyze.sh $SCRATCH/droplet/results/100A/waters.txt $SCRATCH/droplet/results/100A/calculated.txt'}, {'label': '58', 'shape': 'rect', 'name': 'parse-100A_atom3', 'task_type': 'CommandLineTask', 'tags': ['parse', '100A'], 'input_files': ['$SCRATCH/droplet/data/100A/atom3'], 'output_files': ['$SCRATCH/droplet/results/100A/waters.txt'], 'num_cores': 1, 'command': '$SCRATCH/droplet/exec/parse.sh $SCRATCH/droplet/data/100A/atom3 $SCRATCH/droplet/results/100A/waters.txt'}, {'label': '59', 'shape': 'rect', 'name': 'analyze-100A_atom3', 'task_type': 'CommandLineTask', 'tags': ['analyze', '100A'], 'input_files': ['$SCRATCH/droplet/results/100A/waters.txt'], 'output_files': ['$SCRATCH/droplet/results/100A/calculated.txt'], 'num_cores': 1, 'command': '$SCRATCH/droplet/exec/analyze.sh $SCRATCH/droplet/results/100A/waters.txt $SCRATCH/droplet/results/100A/calculated.txt'}, {'label': '60', 'shape': 'rect', 'name': 'combine_parts-100A', 'task_type': 'CommandLineTask', 'tags': ['combine_parts', '100A'], 'input_files': ['$SCRATCH/droplet/results/100A/atom1/calculated.txt', '$SCRATCH/droplet/results/100A/atom2/calculated.txt', '$SCRATCH/droplet/results/100A/atom3/calculated.txt'], 'output_files': ['$SCRATCH/droplet/results/100A/combined.txt'], 'num_cores': 1, 'command': '$SCRATCH/droplet/results/combineParts.sh 100A</h3>'}, {'label': '61', 'shape': 'rect', 'name': 'combine_sims', 'task_type': 'CommandLineTask', 'tags': ['combine_sims'], 'input_files': ['$SCRATCH/droplet/results/20A/combined.txt', '$SCRATCH/droplet/results/30A/combined.txt', '$SCRATCH/droplet/results/40A/combined.txt', '$SCRATCH/droplet/results/50A/combined.txt', '$SCRATCH/droplet/results/60A/combined.txt', '$SCRATCH/droplet/results/100A/combined.txt'], 'output_files': ['$SCRATCH/droplet/results/allResults.txt'], 'num_cores': 1, 'command': '$SCRATCH/droplet/results/combineSims.sh'}, {'label': '62', 'shape': 'rect', 'name': 'analysis_notebook', 'task_type': '', 'tags': ['analysis_notebook'], 'input_files': [], 'output_files': [], 'num_cores': 1, 'interactive': True}], scales={'x': LinearScale(), 'y': LinearScale()}, scales_metadata={'x': {'orientation': 'horizontal', 'dimension': 'x'}, 'y': {'orientation': 'vertical', 'dimension': 'y'}, 'color': {'dimension': 'color'}, 'link_color': {'dimension': 'link_color'}}, selected=[0], selected_style={'stroke': 'red'}, tooltip_style={'opacity': 0.9}, x=array([  5789.3 ,   2000.3 ,   2000.3 ,   1331.3 ,    326.27,    326.27,\n",
       "          996.27,    997.27,   1667.3 ,   1667.3 ,   1332.3 ,   4016.3 ,\n",
       "         4016.3 ,   3341.3 ,   2338.3 ,   2338.3 ,   3006.3 ,   3006.3 ,\n",
       "         3676.3 ,   3676.3 ,   3341.3 ,   5092.3 ,   5092.3 ,   5071.3 ,\n",
       "         4353.3 ,   4354.3 ,   5029.3 ,   5029.3 ,   5703.3 ,   5703.3 ,\n",
       "         5366.3 ,   6632.3 ,   6632.3 ,   6716.3 ,   6377.3 ,   6375.3 ,\n",
       "         7051.3 ,   7046.3 ,   7722.3 ,   7719.3 ,   6710.3 ,   8186.3 ,\n",
       "         8186.3 ,   8730.3 ,   8393.3 ,   8393.3 ,   9067.3 ,   9067.3 ,\n",
       "         9741.3 ,   9741.3 ,   8730.3 ,   9637.3 ,   9637.3 ,  10752.  ,\n",
       "        10415.  ,  10415.  ,  11089.  ,  11089.  ,  11763.  ,  11763.  ,\n",
       "        10752.  ,   6038.3 ,   6038.3 ]), y=array([ 522.,  522.,  450.,  378.,  306.,  234.,  306.,  234.,  306.,\n",
       "        234.,  162.,  522.,  450.,  378.,  306.,  234.,  306.,  234.,\n",
       "        306.,  234.,  162.,  522.,  450.,  378.,  306.,  234.,  306.,\n",
       "        234.,  306.,  234.,  162.,  522.,  450.,  378.,  306.,  234.,\n",
       "        306.,  234.,  306.,  234.,  162.,  522.,  450.,  378.,  306.,\n",
       "        234.,  306.,  234.,  306.,  234.,  162.,  522.,  450.,  378.,\n",
       "        306.,  234.,  306.,  234.,  306.,  234.,  162.,   90.,   18.]))], min_aspect_ratio=0.0, scale_x=LinearScale(allow_padding=False, max=1.0, min=0.0), scale_y=LinearScale(allow_padding=False, max=1.0, min=0.0)), Toolbar(figure=Figure(fig_margin={'left': 10, 'right': 10, 'bottom': 10, 'top': 10}, layout=Layout(height='600px', width='400px'), marks=[Graph(colors=['#1f77b4', '#ff7f0e', '#2ca02c', '#d62728', '#9467bd', '#8c564b', '#e377c2', '#7f7f7f', '#bcbd22', '#17becf'], highlight_links=False, interactions={'hover': 'tooltip', 'click': 'select'}, link_data=[{'source': 0, 'target': 2}, {'source': 0, 'target': 12}, {'source': 0, 'target': 22}, {'source': 0, 'target': 32}, {'source': 0, 'target': 42}, {'source': 0, 'target': 52}, {'source': 1, 'target': 2}, {'source': 2, 'target': 3}, {'source': 3, 'target': 4}, {'source': 3, 'target': 6}, {'source': 3, 'target': 8}, {'source': 4, 'target': 5}, {'source': 5, 'target': 10}, {'source': 6, 'target': 7}, {'source': 7, 'target': 10}, {'source': 8, 'target': 9}, {'source': 9, 'target': 10}, {'source': 10, 'target': 61}, {'source': 11, 'target': 12}, {'source': 12, 'target': 13}, {'source': 13, 'target': 14}, {'source': 13, 'target': 16}, {'source': 13, 'target': 18}, {'source': 14, 'target': 15}, {'source': 15, 'target': 20}, {'source': 16, 'target': 17}, {'source': 17, 'target': 20}, {'source': 18, 'target': 19}, {'source': 19, 'target': 20}, {'source': 20, 'target': 61}, {'source': 21, 'target': 22}, {'source': 22, 'target': 23}, {'source': 23, 'target': 24}, {'source': 23, 'target': 26}, {'source': 23, 'target': 28}, {'source': 24, 'target': 25}, {'source': 25, 'target': 30}, {'source': 26, 'target': 27}, {'source': 27, 'target': 30}, {'source': 28, 'target': 29}, {'source': 29, 'target': 30}, {'source': 30, 'target': 61}, {'source': 31, 'target': 32}, {'source': 32, 'target': 33}, {'source': 33, 'target': 34}, {'source': 33, 'target': 36}, {'source': 33, 'target': 38}, {'source': 34, 'target': 35}, {'source': 35, 'target': 40}, {'source': 36, 'target': 37}, {'source': 37, 'target': 40}, {'source': 38, 'target': 39}, {'source': 39, 'target': 40}, {'source': 40, 'target': 61}, {'source': 41, 'target': 42}, {'source': 42, 'target': 43}, {'source': 43, 'target': 44}, {'source': 43, 'target': 46}, {'source': 43, 'target': 48}, {'source': 44, 'target': 45}, {'source': 45, 'target': 50}, {'source': 46, 'target': 47}, {'source': 47, 'target': 50}, {'source': 48, 'target': 49}, {'source': 49, 'target': 50}, {'source': 50, 'target': 61}, {'source': 51, 'target': 52}, {'source': 52, 'target': 53}, {'source': 53, 'target': 54}, {'source': 53, 'target': 56}, {'source': 53, 'target': 58}, {'source': 54, 'target': 55}, {'source': 55, 'target': 60}, {'source': 56, 'target': 57}, {'source': 57, 'target': 60}, {'source': 58, 'target': 59}, {'source': 59, 'target': 60}, {'source': 60, 'target': 61}, {'source': 61, 'target': 62}], link_type='line', node_data=[{'label': '0', 'shape': 'rect', 'name': 'gen_mica_10x10', 'task_type': 'CommandLineTask', 'tags': ['gen_mica'], 'input_files': [], 'output_files': ['$SCRATCH/droplet/gen_droplet/lammps_data/mica_10x10.data'], 'num_cores': 1, 'command': '$SCRATCH/droplet/gen_droplet/scripts/gen_mica.sh 10 10 $SCRATCH/droplet/gen_droplet/lammps_data/mica_10x10.data'}, {'label': '1', 'shape': 'rect', 'name': 'gen_droplet-20A', 'task_type': 'CommandLineTask', 'tags': ['20A', 'gen_droplet'], 'input_files': [], 'output_files': ['$SCRATCH/droplet/gen_droplet/dump/droplet_20A.lammpstrj'], 'num_cores': 1, 'command': '$SCRATCH/droplet/gen_droplet/bin/waterdroplet_tip4p_new.out 20 sphere'}, {'label': '2', 'shape': 'rect', 'name': 'combine-20A', 'task_type': 'CommandLineTask', 'tags': ['20A', 'combine'], 'input_files': ['$SCRATCH/droplet/gen_droplet/lammps_data/mica_10x10.data', '$SCRATCH/droplet/gen_droplet/dump/droplet_20A.lammpstrj'], 'output_files': ['$SCRATCH/droplet/gen_droplet/lammps_data/droplet_on_mica-20A.data'], 'num_cores': 1, 'command': '$SCRATCH/droplet/gen_droplet/scripts/combine_sub_strip.pl $SCRATCH/droplet/gen_droplet/lammps_data/mica_10x10.data $SCRATCH/droplet/gen_droplet/dump/droplet_20A.lammpstrj 20'}, {'label': '3', 'shape': 'rect', 'name': 'simulate-20A', 'task_type': 'BatchTask', 'tags': ['20A', 'simulate'], 'input_files': ['$SCRATCH/droplet/gen_droplet/lammps_data/droplet_on_mica-20A.data', '$SCRATCH/droplet/lammps_scripts/simulate_20A.batch'], 'output_files': ['$SCRATCH/droplet/data/20A/atom1', '$SCRATCH/droplet/data/20A/atom2', '$SCRATCH/droplet/data/20A/atom3'], 'num_cores': 3, 'batch_script': '$SCRATCH/droplet/sub_scripts/simulate_20A.batch'}, {'label': '4', 'shape': 'rect', 'name': 'parse-20A_atom1', 'task_type': 'CommandLineTask', 'tags': ['20A', 'parse'], 'input_files': ['$SCRATCH/droplet/data/20A/atom1'], 'output_files': ['$SCRATCH/droplet/results/20A/waters.txt'], 'num_cores': 1, 'command': '$SCRATCH/droplet/exec/parse.sh $SCRATCH/droplet/data/20A/atom1 $SCRATCH/droplet/results/20A/waters.txt'}, {'label': '5', 'shape': 'rect', 'name': 'analyze-20A_atom1', 'task_type': 'CommandLineTask', 'tags': ['20A', 'analyze'], 'input_files': ['$SCRATCH/droplet/results/20A/waters.txt'], 'output_files': ['$SCRATCH/droplet/results/20A/calculated.txt'], 'num_cores': 1, 'command': '$SCRATCH/droplet/exec/analyze.sh $SCRATCH/droplet/results/20A/waters.txt $SCRATCH/droplet/results/20A/calculated.txt'}, {'label': '6', 'shape': 'rect', 'name': 'parse-20A_atom2', 'task_type': 'CommandLineTask', 'tags': ['20A', 'parse'], 'input_files': ['$SCRATCH/droplet/data/20A/atom2'], 'output_files': ['$SCRATCH/droplet/results/20A/waters.txt'], 'num_cores': 1, 'command': '$SCRATCH/droplet/exec/parse.sh $SCRATCH/droplet/data/20A/atom2 $SCRATCH/droplet/results/20A/waters.txt'}, {'label': '7', 'shape': 'rect', 'name': 'analyze-20A_atom2', 'task_type': 'CommandLineTask', 'tags': ['20A', 'analyze'], 'input_files': ['$SCRATCH/droplet/results/20A/waters.txt'], 'output_files': ['$SCRATCH/droplet/results/20A/calculated.txt'], 'num_cores': 1, 'command': '$SCRATCH/droplet/exec/analyze.sh $SCRATCH/droplet/results/20A/waters.txt $SCRATCH/droplet/results/20A/calculated.txt'}, {'label': '8', 'shape': 'rect', 'name': 'parse-20A_atom3', 'task_type': 'CommandLineTask', 'tags': ['20A', 'parse'], 'input_files': ['$SCRATCH/droplet/data/20A/atom3'], 'output_files': ['$SCRATCH/droplet/results/20A/waters.txt'], 'num_cores': 1, 'command': '$SCRATCH/droplet/exec/parse.sh $SCRATCH/droplet/data/20A/atom3 $SCRATCH/droplet/results/20A/waters.txt'}, {'label': '9', 'shape': 'rect', 'name': 'analyze-20A_atom3', 'task_type': 'CommandLineTask', 'tags': ['20A', 'analyze'], 'input_files': ['$SCRATCH/droplet/results/20A/waters.txt'], 'output_files': ['$SCRATCH/droplet/results/20A/calculated.txt'], 'num_cores': 1, 'command': '$SCRATCH/droplet/exec/analyze.sh $SCRATCH/droplet/results/20A/waters.txt $SCRATCH/droplet/results/20A/calculated.txt'}, {'label': '10', 'shape': 'rect', 'name': 'combine_parts-20A', 'task_type': 'CommandLineTask', 'tags': ['20A', 'combine_parts'], 'input_files': ['$SCRATCH/droplet/results/20A/atom1/calculated.txt', '$SCRATCH/droplet/results/20A/atom2/calculated.txt', '$SCRATCH/droplet/results/20A/atom3/calculated.txt'], 'output_files': ['$SCRATCH/droplet/results/20A/combined.txt'], 'num_cores': 1, 'command': '$SCRATCH/droplet/results/combineParts.sh 20A</h3>'}, {'label': '11', 'shape': 'rect', 'name': 'gen_droplet-30A', 'task_type': 'CommandLineTask', 'tags': ['30A', 'gen_droplet'], 'input_files': [], 'output_files': ['$SCRATCH/droplet/gen_droplet/dump/droplet_30A.lammpstrj'], 'num_cores': 1, 'command': '$SCRATCH/droplet/gen_droplet/bin/waterdroplet_tip4p_new.out 30 sphere'}, {'label': '12', 'shape': 'rect', 'name': 'combine-30A', 'task_type': 'CommandLineTask', 'tags': ['30A', 'combine'], 'input_files': ['$SCRATCH/droplet/gen_droplet/lammps_data/mica_10x10.data', '$SCRATCH/droplet/gen_droplet/dump/droplet_30A.lammpstrj'], 'output_files': ['$SCRATCH/droplet/gen_droplet/lammps_data/droplet_on_mica-30A.data'], 'num_cores': 1, 'command': '$SCRATCH/droplet/gen_droplet/scripts/combine_sub_strip.pl $SCRATCH/droplet/gen_droplet/lammps_data/mica_10x10.data $SCRATCH/droplet/gen_droplet/dump/droplet_30A.lammpstrj 30'}, {'label': '13', 'shape': 'rect', 'name': 'simulate-30A', 'task_type': 'BatchTask', 'tags': ['30A', 'simulate'], 'input_files': ['$SCRATCH/droplet/gen_droplet/lammps_data/droplet_on_mica-30A.data', '$SCRATCH/droplet/lammps_scripts/simulate_30A.batch'], 'output_files': ['$SCRATCH/droplet/data/30A/atom1', '$SCRATCH/droplet/data/30A/atom2', '$SCRATCH/droplet/data/30A/atom3'], 'num_cores': 3, 'batch_script': '$SCRATCH/droplet/sub_scripts/simulate_30A.batch'}, {'label': '14', 'shape': 'rect', 'name': 'parse-30A_atom1', 'task_type': 'CommandLineTask', 'tags': ['30A', 'parse'], 'input_files': ['$SCRATCH/droplet/data/30A/atom1'], 'output_files': ['$SCRATCH/droplet/results/30A/waters.txt'], 'num_cores': 1, 'command': '$SCRATCH/droplet/exec/parse.sh $SCRATCH/droplet/data/30A/atom1 $SCRATCH/droplet/results/30A/waters.txt'}, {'label': '15', 'shape': 'rect', 'name': 'analyze-30A_atom1', 'task_type': 'CommandLineTask', 'tags': ['30A', 'analyze'], 'input_files': ['$SCRATCH/droplet/results/30A/waters.txt'], 'output_files': ['$SCRATCH/droplet/results/30A/calculated.txt'], 'num_cores': 1, 'command': '$SCRATCH/droplet/exec/analyze.sh $SCRATCH/droplet/results/30A/waters.txt $SCRATCH/droplet/results/30A/calculated.txt'}, {'label': '16', 'shape': 'rect', 'name': 'parse-30A_atom2', 'task_type': 'CommandLineTask', 'tags': ['30A', 'parse'], 'input_files': ['$SCRATCH/droplet/data/30A/atom2'], 'output_files': ['$SCRATCH/droplet/results/30A/waters.txt'], 'num_cores': 1, 'command': '$SCRATCH/droplet/exec/parse.sh $SCRATCH/droplet/data/30A/atom2 $SCRATCH/droplet/results/30A/waters.txt'}, {'label': '17', 'shape': 'rect', 'name': 'analyze-30A_atom2', 'task_type': 'CommandLineTask', 'tags': ['30A', 'analyze'], 'input_files': ['$SCRATCH/droplet/results/30A/waters.txt'], 'output_files': ['$SCRATCH/droplet/results/30A/calculated.txt'], 'num_cores': 1, 'command': '$SCRATCH/droplet/exec/analyze.sh $SCRATCH/droplet/results/30A/waters.txt $SCRATCH/droplet/results/30A/calculated.txt'}, {'label': '18', 'shape': 'rect', 'name': 'parse-30A_atom3', 'task_type': 'CommandLineTask', 'tags': ['30A', 'parse'], 'input_files': ['$SCRATCH/droplet/data/30A/atom3'], 'output_files': ['$SCRATCH/droplet/results/30A/waters.txt'], 'num_cores': 1, 'command': '$SCRATCH/droplet/exec/parse.sh $SCRATCH/droplet/data/30A/atom3 $SCRATCH/droplet/results/30A/waters.txt'}, {'label': '19', 'shape': 'rect', 'name': 'analyze-30A_atom3', 'task_type': 'CommandLineTask', 'tags': ['30A', 'analyze'], 'input_files': ['$SCRATCH/droplet/results/30A/waters.txt'], 'output_files': ['$SCRATCH/droplet/results/30A/calculated.txt'], 'num_cores': 1, 'command': '$SCRATCH/droplet/exec/analyze.sh $SCRATCH/droplet/results/30A/waters.txt $SCRATCH/droplet/results/30A/calculated.txt'}, {'label': '20', 'shape': 'rect', 'name': 'combine_parts-30A', 'task_type': 'CommandLineTask', 'tags': ['30A', 'combine_parts'], 'input_files': ['$SCRATCH/droplet/results/30A/atom1/calculated.txt', '$SCRATCH/droplet/results/30A/atom2/calculated.txt', '$SCRATCH/droplet/results/30A/atom3/calculated.txt'], 'output_files': ['$SCRATCH/droplet/results/30A/combined.txt'], 'num_cores': 1, 'command': '$SCRATCH/droplet/results/combineParts.sh 30A</h3>'}, {'label': '21', 'shape': 'rect', 'name': 'gen_droplet-40A', 'task_type': 'CommandLineTask', 'tags': ['40A', 'gen_droplet'], 'input_files': [], 'output_files': ['$SCRATCH/droplet/gen_droplet/dump/droplet_40A.lammpstrj'], 'num_cores': 1, 'command': '$SCRATCH/droplet/gen_droplet/bin/waterdroplet_tip4p_new.out 40 sphere'}, {'label': '22', 'shape': 'rect', 'name': 'combine-40A', 'task_type': 'CommandLineTask', 'tags': ['40A', 'combine'], 'input_files': ['$SCRATCH/droplet/gen_droplet/lammps_data/mica_10x10.data', '$SCRATCH/droplet/gen_droplet/dump/droplet_40A.lammpstrj'], 'output_files': ['$SCRATCH/droplet/gen_droplet/lammps_data/droplet_on_mica-40A.data'], 'num_cores': 1, 'command': '$SCRATCH/droplet/gen_droplet/scripts/combine_sub_strip.pl $SCRATCH/droplet/gen_droplet/lammps_data/mica_10x10.data $SCRATCH/droplet/gen_droplet/dump/droplet_40A.lammpstrj 40'}, {'label': '23', 'shape': 'rect', 'name': 'simulate-40A', 'task_type': 'BatchTask', 'tags': ['40A', 'simulate'], 'input_files': ['$SCRATCH/droplet/gen_droplet/lammps_data/droplet_on_mica-40A.data', '$SCRATCH/droplet/lammps_scripts/simulate_40A.batch'], 'output_files': ['$SCRATCH/droplet/data/40A/atom1', '$SCRATCH/droplet/data/40A/atom2', '$SCRATCH/droplet/data/40A/atom3'], 'num_cores': 3, 'batch_script': '$SCRATCH/droplet/sub_scripts/simulate_40A.batch'}, {'label': '24', 'shape': 'rect', 'name': 'parse-40A_atom1', 'task_type': 'CommandLineTask', 'tags': ['40A', 'parse'], 'input_files': ['$SCRATCH/droplet/data/40A/atom1'], 'output_files': ['$SCRATCH/droplet/results/40A/waters.txt'], 'num_cores': 1, 'command': '$SCRATCH/droplet/exec/parse.sh $SCRATCH/droplet/data/40A/atom1 $SCRATCH/droplet/results/40A/waters.txt'}, {'label': '25', 'shape': 'rect', 'name': 'analyze-40A_atom1', 'task_type': 'CommandLineTask', 'tags': ['40A', 'analyze'], 'input_files': ['$SCRATCH/droplet/results/40A/waters.txt'], 'output_files': ['$SCRATCH/droplet/results/40A/calculated.txt'], 'num_cores': 1, 'command': '$SCRATCH/droplet/exec/analyze.sh $SCRATCH/droplet/results/40A/waters.txt $SCRATCH/droplet/results/40A/calculated.txt'}, {'label': '26', 'shape': 'rect', 'name': 'parse-40A_atom2', 'task_type': 'CommandLineTask', 'tags': ['40A', 'parse'], 'input_files': ['$SCRATCH/droplet/data/40A/atom2'], 'output_files': ['$SCRATCH/droplet/results/40A/waters.txt'], 'num_cores': 1, 'command': '$SCRATCH/droplet/exec/parse.sh $SCRATCH/droplet/data/40A/atom2 $SCRATCH/droplet/results/40A/waters.txt'}, {'label': '27', 'shape': 'rect', 'name': 'analyze-40A_atom2', 'task_type': 'CommandLineTask', 'tags': ['40A', 'analyze'], 'input_files': ['$SCRATCH/droplet/results/40A/waters.txt'], 'output_files': ['$SCRATCH/droplet/results/40A/calculated.txt'], 'num_cores': 1, 'command': '$SCRATCH/droplet/exec/analyze.sh $SCRATCH/droplet/results/40A/waters.txt $SCRATCH/droplet/results/40A/calculated.txt'}, {'label': '28', 'shape': 'rect', 'name': 'parse-40A_atom3', 'task_type': 'CommandLineTask', 'tags': ['40A', 'parse'], 'input_files': ['$SCRATCH/droplet/data/40A/atom3'], 'output_files': ['$SCRATCH/droplet/results/40A/waters.txt'], 'num_cores': 1, 'command': '$SCRATCH/droplet/exec/parse.sh $SCRATCH/droplet/data/40A/atom3 $SCRATCH/droplet/results/40A/waters.txt'}, {'label': '29', 'shape': 'rect', 'name': 'analyze-40A_atom3', 'task_type': 'CommandLineTask', 'tags': ['40A', 'analyze'], 'input_files': ['$SCRATCH/droplet/results/40A/waters.txt'], 'output_files': ['$SCRATCH/droplet/results/40A/calculated.txt'], 'num_cores': 1, 'command': '$SCRATCH/droplet/exec/analyze.sh $SCRATCH/droplet/results/40A/waters.txt $SCRATCH/droplet/results/40A/calculated.txt'}, {'label': '30', 'shape': 'rect', 'name': 'combine_parts-40A', 'task_type': 'CommandLineTask', 'tags': ['40A', 'combine_parts'], 'input_files': ['$SCRATCH/droplet/results/40A/atom1/calculated.txt', '$SCRATCH/droplet/results/40A/atom2/calculated.txt', '$SCRATCH/droplet/results/40A/atom3/calculated.txt'], 'output_files': ['$SCRATCH/droplet/results/40A/combined.txt'], 'num_cores': 1, 'command': '$SCRATCH/droplet/results/combineParts.sh 40A</h3>'}, {'label': '31', 'shape': 'rect', 'name': 'gen_droplet-50A', 'task_type': 'CommandLineTask', 'tags': ['50A', 'gen_droplet'], 'input_files': [], 'output_files': ['$SCRATCH/droplet/gen_droplet/dump/droplet_50A.lammpstrj'], 'num_cores': 1, 'command': '$SCRATCH/droplet/gen_droplet/bin/waterdroplet_tip4p_new.out 50 sphere'}, {'label': '32', 'shape': 'rect', 'name': 'combine-50A', 'task_type': 'CommandLineTask', 'tags': ['50A', 'combine'], 'input_files': ['$SCRATCH/droplet/gen_droplet/lammps_data/mica_10x10.data', '$SCRATCH/droplet/gen_droplet/dump/droplet_50A.lammpstrj'], 'output_files': ['$SCRATCH/droplet/gen_droplet/lammps_data/droplet_on_mica-50A.data'], 'num_cores': 1, 'command': '$SCRATCH/droplet/gen_droplet/scripts/combine_sub_strip.pl $SCRATCH/droplet/gen_droplet/lammps_data/mica_10x10.data $SCRATCH/droplet/gen_droplet/dump/droplet_50A.lammpstrj 50'}, {'label': '33', 'shape': 'rect', 'name': 'simulate-50A', 'task_type': 'BatchTask', 'tags': ['50A', 'simulate'], 'input_files': ['$SCRATCH/droplet/gen_droplet/lammps_data/droplet_on_mica-50A.data', '$SCRATCH/droplet/lammps_scripts/simulate_50A.batch'], 'output_files': ['$SCRATCH/droplet/data/50A/atom1', '$SCRATCH/droplet/data/50A/atom2', '$SCRATCH/droplet/data/50A/atom3'], 'num_cores': 3, 'batch_script': '$SCRATCH/droplet/sub_scripts/simulate_50A.batch'}, {'label': '34', 'shape': 'rect', 'name': 'parse-50A_atom1', 'task_type': 'CommandLineTask', 'tags': ['50A', 'parse'], 'input_files': ['$SCRATCH/droplet/data/50A/atom1'], 'output_files': ['$SCRATCH/droplet/results/50A/waters.txt'], 'num_cores': 1, 'command': '$SCRATCH/droplet/exec/parse.sh $SCRATCH/droplet/data/50A/atom1 $SCRATCH/droplet/results/50A/waters.txt'}, {'label': '35', 'shape': 'rect', 'name': 'analyze-50A_atom1', 'task_type': 'CommandLineTask', 'tags': ['50A', 'analyze'], 'input_files': ['$SCRATCH/droplet/results/50A/waters.txt'], 'output_files': ['$SCRATCH/droplet/results/50A/calculated.txt'], 'num_cores': 1, 'command': '$SCRATCH/droplet/exec/analyze.sh $SCRATCH/droplet/results/50A/waters.txt $SCRATCH/droplet/results/50A/calculated.txt'}, {'label': '36', 'shape': 'rect', 'name': 'parse-50A_atom2', 'task_type': 'CommandLineTask', 'tags': ['50A', 'parse'], 'input_files': ['$SCRATCH/droplet/data/50A/atom2'], 'output_files': ['$SCRATCH/droplet/results/50A/waters.txt'], 'num_cores': 1, 'command': '$SCRATCH/droplet/exec/parse.sh $SCRATCH/droplet/data/50A/atom2 $SCRATCH/droplet/results/50A/waters.txt'}, {'label': '37', 'shape': 'rect', 'name': 'analyze-50A_atom2', 'task_type': 'CommandLineTask', 'tags': ['50A', 'analyze'], 'input_files': ['$SCRATCH/droplet/results/50A/waters.txt'], 'output_files': ['$SCRATCH/droplet/results/50A/calculated.txt'], 'num_cores': 1, 'command': '$SCRATCH/droplet/exec/analyze.sh $SCRATCH/droplet/results/50A/waters.txt $SCRATCH/droplet/results/50A/calculated.txt'}, {'label': '38', 'shape': 'rect', 'name': 'parse-50A_atom3', 'task_type': 'CommandLineTask', 'tags': ['50A', 'parse'], 'input_files': ['$SCRATCH/droplet/data/50A/atom3'], 'output_files': ['$SCRATCH/droplet/results/50A/waters.txt'], 'num_cores': 1, 'command': '$SCRATCH/droplet/exec/parse.sh $SCRATCH/droplet/data/50A/atom3 $SCRATCH/droplet/results/50A/waters.txt'}, {'label': '39', 'shape': 'rect', 'name': 'analyze-50A_atom3', 'task_type': 'CommandLineTask', 'tags': ['50A', 'analyze'], 'input_files': ['$SCRATCH/droplet/results/50A/waters.txt'], 'output_files': ['$SCRATCH/droplet/results/50A/calculated.txt'], 'num_cores': 1, 'command': '$SCRATCH/droplet/exec/analyze.sh $SCRATCH/droplet/results/50A/waters.txt $SCRATCH/droplet/results/50A/calculated.txt'}, {'label': '40', 'shape': 'rect', 'name': 'combine_parts-50A', 'task_type': 'CommandLineTask', 'tags': ['50A', 'combine_parts'], 'input_files': ['$SCRATCH/droplet/results/50A/atom1/calculated.txt', '$SCRATCH/droplet/results/50A/atom2/calculated.txt', '$SCRATCH/droplet/results/50A/atom3/calculated.txt'], 'output_files': ['$SCRATCH/droplet/results/50A/combined.txt'], 'num_cores': 1, 'command': '$SCRATCH/droplet/results/combineParts.sh 50A</h3>'}, {'label': '41', 'shape': 'rect', 'name': 'gen_droplet-60A', 'task_type': 'CommandLineTask', 'tags': ['60A', 'gen_droplet'], 'input_files': [], 'output_files': ['$SCRATCH/droplet/gen_droplet/dump/droplet_60A.lammpstrj'], 'num_cores': 1, 'command': '$SCRATCH/droplet/gen_droplet/bin/waterdroplet_tip4p_new.out 60 sphere'}, {'label': '42', 'shape': 'rect', 'name': 'combine-60A', 'task_type': 'CommandLineTask', 'tags': ['60A', 'combine'], 'input_files': ['$SCRATCH/droplet/gen_droplet/lammps_data/mica_10x10.data', '$SCRATCH/droplet/gen_droplet/dump/droplet_60A.lammpstrj'], 'output_files': ['$SCRATCH/droplet/gen_droplet/lammps_data/droplet_on_mica-60A.data'], 'num_cores': 1, 'command': '$SCRATCH/droplet/gen_droplet/scripts/combine_sub_strip.pl $SCRATCH/droplet/gen_droplet/lammps_data/mica_10x10.data $SCRATCH/droplet/gen_droplet/dump/droplet_60A.lammpstrj 60'}, {'label': '43', 'shape': 'rect', 'name': 'simulate-60A', 'task_type': 'BatchTask', 'tags': ['60A', 'simulate'], 'input_files': ['$SCRATCH/droplet/gen_droplet/lammps_data/droplet_on_mica-60A.data', '$SCRATCH/droplet/lammps_scripts/simulate_60A.batch'], 'output_files': ['$SCRATCH/droplet/data/60A/atom1', '$SCRATCH/droplet/data/60A/atom2', '$SCRATCH/droplet/data/60A/atom3'], 'num_cores': 3, 'batch_script': '$SCRATCH/droplet/sub_scripts/simulate_60A.batch'}, {'label': '44', 'shape': 'rect', 'name': 'parse-60A_atom1', 'task_type': 'CommandLineTask', 'tags': ['60A', 'parse'], 'input_files': ['$SCRATCH/droplet/data/60A/atom1'], 'output_files': ['$SCRATCH/droplet/results/60A/waters.txt'], 'num_cores': 1, 'command': '$SCRATCH/droplet/exec/parse.sh $SCRATCH/droplet/data/60A/atom1 $SCRATCH/droplet/results/60A/waters.txt'}, {'label': '45', 'shape': 'rect', 'name': 'analyze-60A_atom1', 'task_type': 'CommandLineTask', 'tags': ['60A', 'analyze'], 'input_files': ['$SCRATCH/droplet/results/60A/waters.txt'], 'output_files': ['$SCRATCH/droplet/results/60A/calculated.txt'], 'num_cores': 1, 'command': '$SCRATCH/droplet/exec/analyze.sh $SCRATCH/droplet/results/60A/waters.txt $SCRATCH/droplet/results/60A/calculated.txt'}, {'label': '46', 'shape': 'rect', 'name': 'parse-60A_atom2', 'task_type': 'CommandLineTask', 'tags': ['60A', 'parse'], 'input_files': ['$SCRATCH/droplet/data/60A/atom2'], 'output_files': ['$SCRATCH/droplet/results/60A/waters.txt'], 'num_cores': 1, 'command': '$SCRATCH/droplet/exec/parse.sh $SCRATCH/droplet/data/60A/atom2 $SCRATCH/droplet/results/60A/waters.txt'}, {'label': '47', 'shape': 'rect', 'name': 'analyze-60A_atom2', 'task_type': 'CommandLineTask', 'tags': ['60A', 'analyze'], 'input_files': ['$SCRATCH/droplet/results/60A/waters.txt'], 'output_files': ['$SCRATCH/droplet/results/60A/calculated.txt'], 'num_cores': 1, 'command': '$SCRATCH/droplet/exec/analyze.sh $SCRATCH/droplet/results/60A/waters.txt $SCRATCH/droplet/results/60A/calculated.txt'}, {'label': '48', 'shape': 'rect', 'name': 'parse-60A_atom3', 'task_type': 'CommandLineTask', 'tags': ['60A', 'parse'], 'input_files': ['$SCRATCH/droplet/data/60A/atom3'], 'output_files': ['$SCRATCH/droplet/results/60A/waters.txt'], 'num_cores': 1, 'command': '$SCRATCH/droplet/exec/parse.sh $SCRATCH/droplet/data/60A/atom3 $SCRATCH/droplet/results/60A/waters.txt'}, {'label': '49', 'shape': 'rect', 'name': 'analyze-60A_atom3', 'task_type': 'CommandLineTask', 'tags': ['60A', 'analyze'], 'input_files': ['$SCRATCH/droplet/results/60A/waters.txt'], 'output_files': ['$SCRATCH/droplet/results/60A/calculated.txt'], 'num_cores': 1, 'command': '$SCRATCH/droplet/exec/analyze.sh $SCRATCH/droplet/results/60A/waters.txt $SCRATCH/droplet/results/60A/calculated.txt'}, {'label': '50', 'shape': 'rect', 'name': 'combine_parts-60A', 'task_type': 'CommandLineTask', 'tags': ['combine_parts', '60A'], 'input_files': ['$SCRATCH/droplet/results/60A/atom1/calculated.txt', '$SCRATCH/droplet/results/60A/atom2/calculated.txt', '$SCRATCH/droplet/results/60A/atom3/calculated.txt'], 'output_files': ['$SCRATCH/droplet/results/60A/combined.txt'], 'num_cores': 1, 'command': '$SCRATCH/droplet/results/combineParts.sh 60A</h3>'}, {'label': '51', 'shape': 'rect', 'name': 'gen_droplet-100A', 'task_type': 'CommandLineTask', 'tags': ['gen_droplet', '100A'], 'input_files': [], 'output_files': ['$SCRATCH/droplet/gen_droplet/dump/droplet_100A.lammpstrj'], 'num_cores': 1, 'command': '$SCRATCH/droplet/gen_droplet/bin/waterdroplet_tip4p_new.out 100 sphere'}, {'label': '52', 'shape': 'rect', 'name': 'combine-100A', 'task_type': 'CommandLineTask', 'tags': ['combine', '100A'], 'input_files': ['$SCRATCH/droplet/gen_droplet/lammps_data/mica_10x10.data', '$SCRATCH/droplet/gen_droplet/dump/droplet_100A.lammpstrj'], 'output_files': ['$SCRATCH/droplet/gen_droplet/lammps_data/droplet_on_mica-100A.data'], 'num_cores': 1, 'command': '$SCRATCH/droplet/gen_droplet/scripts/combine_sub_strip.pl $SCRATCH/droplet/gen_droplet/lammps_data/mica_10x10.data $SCRATCH/droplet/gen_droplet/dump/droplet_100A.lammpstrj 100'}, {'label': '53', 'shape': 'rect', 'name': 'simulate-100A', 'task_type': 'BatchTask', 'tags': ['simulate', '100A'], 'input_files': ['$SCRATCH/droplet/gen_droplet/lammps_data/droplet_on_mica-100A.data', '$SCRATCH/droplet/lammps_scripts/simulate_100A.batch'], 'output_files': ['$SCRATCH/droplet/data/100A/atom1', '$SCRATCH/droplet/data/100A/atom2', '$SCRATCH/droplet/data/100A/atom3'], 'num_cores': 3, 'batch_script': '$SCRATCH/droplet/sub_scripts/simulate_100A.batch'}, {'label': '54', 'shape': 'rect', 'name': 'parse-100A_atom1', 'task_type': 'CommandLineTask', 'tags': ['parse', '100A'], 'input_files': ['$SCRATCH/droplet/data/100A/atom1'], 'output_files': ['$SCRATCH/droplet/results/100A/waters.txt'], 'num_cores': 1, 'command': '$SCRATCH/droplet/exec/parse.sh $SCRATCH/droplet/data/100A/atom1 $SCRATCH/droplet/results/100A/waters.txt'}, {'label': '55', 'shape': 'rect', 'name': 'analyze-100A_atom1', 'task_type': 'CommandLineTask', 'tags': ['analyze', '100A'], 'input_files': ['$SCRATCH/droplet/results/100A/waters.txt'], 'output_files': ['$SCRATCH/droplet/results/100A/calculated.txt'], 'num_cores': 1, 'command': '$SCRATCH/droplet/exec/analyze.sh $SCRATCH/droplet/results/100A/waters.txt $SCRATCH/droplet/results/100A/calculated.txt'}, {'label': '56', 'shape': 'rect', 'name': 'parse-100A_atom2', 'task_type': 'CommandLineTask', 'tags': ['parse', '100A'], 'input_files': ['$SCRATCH/droplet/data/100A/atom2'], 'output_files': ['$SCRATCH/droplet/results/100A/waters.txt'], 'num_cores': 1, 'command': '$SCRATCH/droplet/exec/parse.sh $SCRATCH/droplet/data/100A/atom2 $SCRATCH/droplet/results/100A/waters.txt'}, {'label': '57', 'shape': 'rect', 'name': 'analyze-100A_atom2', 'task_type': 'CommandLineTask', 'tags': ['analyze', '100A'], 'input_files': ['$SCRATCH/droplet/results/100A/waters.txt'], 'output_files': ['$SCRATCH/droplet/results/100A/calculated.txt'], 'num_cores': 1, 'command': '$SCRATCH/droplet/exec/analyze.sh $SCRATCH/droplet/results/100A/waters.txt $SCRATCH/droplet/results/100A/calculated.txt'}, {'label': '58', 'shape': 'rect', 'name': 'parse-100A_atom3', 'task_type': 'CommandLineTask', 'tags': ['parse', '100A'], 'input_files': ['$SCRATCH/droplet/data/100A/atom3'], 'output_files': ['$SCRATCH/droplet/results/100A/waters.txt'], 'num_cores': 1, 'command': '$SCRATCH/droplet/exec/parse.sh $SCRATCH/droplet/data/100A/atom3 $SCRATCH/droplet/results/100A/waters.txt'}, {'label': '59', 'shape': 'rect', 'name': 'analyze-100A_atom3', 'task_type': 'CommandLineTask', 'tags': ['analyze', '100A'], 'input_files': ['$SCRATCH/droplet/results/100A/waters.txt'], 'output_files': ['$SCRATCH/droplet/results/100A/calculated.txt'], 'num_cores': 1, 'command': '$SCRATCH/droplet/exec/analyze.sh $SCRATCH/droplet/results/100A/waters.txt $SCRATCH/droplet/results/100A/calculated.txt'}, {'label': '60', 'shape': 'rect', 'name': 'combine_parts-100A', 'task_type': 'CommandLineTask', 'tags': ['combine_parts', '100A'], 'input_files': ['$SCRATCH/droplet/results/100A/atom1/calculated.txt', '$SCRATCH/droplet/results/100A/atom2/calculated.txt', '$SCRATCH/droplet/results/100A/atom3/calculated.txt'], 'output_files': ['$SCRATCH/droplet/results/100A/combined.txt'], 'num_cores': 1, 'command': '$SCRATCH/droplet/results/combineParts.sh 100A</h3>'}, {'label': '61', 'shape': 'rect', 'name': 'combine_sims', 'task_type': 'CommandLineTask', 'tags': ['combine_sims'], 'input_files': ['$SCRATCH/droplet/results/20A/combined.txt', '$SCRATCH/droplet/results/30A/combined.txt', '$SCRATCH/droplet/results/40A/combined.txt', '$SCRATCH/droplet/results/50A/combined.txt', '$SCRATCH/droplet/results/60A/combined.txt', '$SCRATCH/droplet/results/100A/combined.txt'], 'output_files': ['$SCRATCH/droplet/results/allResults.txt'], 'num_cores': 1, 'command': '$SCRATCH/droplet/results/combineSims.sh'}, {'label': '62', 'shape': 'rect', 'name': 'analysis_notebook', 'task_type': '', 'tags': ['analysis_notebook'], 'input_files': [], 'output_files': [], 'num_cores': 1, 'interactive': True}], scales={'x': LinearScale(), 'y': LinearScale()}, scales_metadata={'x': {'orientation': 'horizontal', 'dimension': 'x'}, 'y': {'orientation': 'vertical', 'dimension': 'y'}, 'color': {'dimension': 'color'}, 'link_color': {'dimension': 'link_color'}}, selected=[0], selected_style={'stroke': 'red'}, tooltip_style={'opacity': 0.9}, x=array([  5789.3 ,   2000.3 ,   2000.3 ,   1331.3 ,    326.27,    326.27,\n",
       "          996.27,    997.27,   1667.3 ,   1667.3 ,   1332.3 ,   4016.3 ,\n",
       "         4016.3 ,   3341.3 ,   2338.3 ,   2338.3 ,   3006.3 ,   3006.3 ,\n",
       "         3676.3 ,   3676.3 ,   3341.3 ,   5092.3 ,   5092.3 ,   5071.3 ,\n",
       "         4353.3 ,   4354.3 ,   5029.3 ,   5029.3 ,   5703.3 ,   5703.3 ,\n",
       "         5366.3 ,   6632.3 ,   6632.3 ,   6716.3 ,   6377.3 ,   6375.3 ,\n",
       "         7051.3 ,   7046.3 ,   7722.3 ,   7719.3 ,   6710.3 ,   8186.3 ,\n",
       "         8186.3 ,   8730.3 ,   8393.3 ,   8393.3 ,   9067.3 ,   9067.3 ,\n",
       "         9741.3 ,   9741.3 ,   8730.3 ,   9637.3 ,   9637.3 ,  10752.  ,\n",
       "        10415.  ,  10415.  ,  11089.  ,  11089.  ,  11763.  ,  11763.  ,\n",
       "        10752.  ,   6038.3 ,   6038.3 ]), y=array([ 522.,  522.,  450.,  378.,  306.,  234.,  306.,  234.,  306.,\n",
       "        234.,  162.,  522.,  450.,  378.,  306.,  234.,  306.,  234.,\n",
       "        306.,  234.,  162.,  522.,  450.,  378.,  306.,  234.,  306.,\n",
       "        234.,  306.,  234.,  162.,  522.,  450.,  378.,  306.,  234.,\n",
       "        306.,  234.,  306.,  234.,  162.,  522.,  450.,  378.,  306.,\n",
       "        234.,  306.,  234.,  306.,  234.,  162.,  522.,  450.,  378.,\n",
       "        306.,  234.,  306.,  234.,  306.,  234.,  162.,   90.,   18.]))], min_aspect_ratio=0.0, scale_x=LinearScale(allow_padding=False, max=1.0, min=0.0), scale_y=LinearScale(allow_padding=False, max=1.0, min=0.0))))), Tab(children=(VBox(children=(HTML(value='<b>Workflow Description</b>'), EditHTML(children=(HTMLMath(value='\\n<h3>Nanoscale Wetting Dynamics</h3>\\n\\n<br>\\n\\nWe investigate the interfacial interactions between nanoscopic water droplets\\non the order of 20 - 100 $\\\\overset{\\\\lower.5em\\\\circ}{\\\\mathrm{A}}$ and atomically flat substrates.\\nIn particular, we observe the formation of a monolayer, calculate its rate\\nof growth, and devise a predictive geometric model for the phenomenon.\\n<br>\\n<br>\\n\\n<video width=\"200px\" src=\"movie/mesfin.mp4\" type=\"video/mp4\" controls>\\n    Video not supported.\\n</video>\\n\\n<br><br>\\n\\nWe find that $r_m = \\\\alpha t^\\\\beta$ is an accurate model for monolayer radius\\nfor values of $\\\\alpha$ and $\\\\beta$ which can be determined from the base radius.\\n\\n<br><br>\\n\\n\\n\\n<br><br>\\n\\n\\nThis workflow does the following:\\n<ol>\\n    <li>Create substrate and droplets (C++, ROOT, Python)\\n    <li>Combine substrate and droplets (Perl)\\n    <li>Run simulation (LAMMPS on cluster)\\n    <li>Parse LAMMPS output(awk, C++)\\n    <li>Calculate molecular properties (C++, ROOT)\\n        <ul>\\n            <li>Velocity\\n            <li>Orientation\\n            <li>etc.\\n        </ul>\\n    <li>Calculate droplet properties (C++, ROOT_)\\n        <ul>\\n            <li>Bulk radius\\n            <li>Monolayer Radius\\n            <li>etc.\\n        </ul>\\n    <li>Combine results for each droplet size (Bash)\\n    <li>Combine results from all simulations (Bash)\\n    <li>Define model and calibrate to simulation data (Jupyter Notebook, Python)\\n</ol>\\n', layout=Layout(border='1px lightgray solid', padding='10px')), Button(description='Edit Description', style=ButtonStyle()))), Box(layout=Layout(height='20px', width='0px')), HTML(value='<b>Worker Pools</b>'), VBox(children=(Dropdown(options=(('default', <kale.workflow_objects.WorkerPool object at 0x7f2dbe2d1be0>),), value=<kale.workflow_objects.WorkerPool object at 0x7f2dbe2d1be0>), Button(button_style='success', description='Run Workflow', style=ButtonStyle()))))), VBox(children=(HTML(value='<b>Task Description</b>'), EditHTML(children=(HTMLMath(value='None selected.', layout=Layout(border='1px lightgray solid', padding='10px')), Button(description='Edit Description', disabled=True, style=ButtonStyle()))), Box(layout=Layout(height='20px', width='0px')), HTML(value=''), Button(button_style='info', description='Continue Workflow', layout=Layout(visibility='hidden'), style=ButtonStyle()), Box(layout=Layout(height='20px', width='0px')), HTML(value='<b>Task Metadata</b>'), HTML(value=''))), VBox(children=(HTML(value='<b>Tags</b>'), Select(options=('gen_mica', '20A', 'gen_droplet', 'combine', 'simulate', 'parse', 'analyze', 'combine_parts', '30A', '40A', '50A', '60A', '100A', 'combine_sims', 'analysis_notebook'), value='gen_mica'), HTML(value='<b>Actions</b>'), Text(value='', description='Tag name'), HBox(children=(VBox(children=(Button(description='Select All', style=ButtonStyle()), Button(description='Select None', style=ButtonStyle()), Button(description='Select Children', style=ButtonStyle()), Button(description='Select Parents', style=ButtonStyle()), Button(description='Tag to Selection', style=ButtonStyle()), Button(description='Selection to Tag', style=ButtonStyle()))), VBox(children=(Button(description='New Tag', style=ButtonStyle()), Button(description='Del Tag', style=ButtonStyle()))))))), VBox(children=(HTML(value='<b>Messages from WorkflowWidget:</b>'), Box(children=(Output(),), layout=Layout(border='1px lightgray solid', padding='10px')), Box(layout=Layout(height='10px', width='0px')), Button(description='Clear', style=ButtonStyle())))), layout=Layout(height='600px', width='400px'), _titles={'0': 'Workflow', '1': 'Task', '2': 'Tags', '3': 'Widget Log'})))"
      ]
     },
     "metadata": {},
     "output_type": "display_data"
    }
   ],
   "source": [
    "ww = WorkflowWidget(workflow=droplet_wf, worker_pool_widget=wpw)\n",
    "ww"
   ]
  },
  {
   "cell_type": "markdown",
   "metadata": {
    "nbpresent": {
     "id": "5775e307-7e1e-43d5-9387-07d40fe7e0e5"
    }
   },
   "source": [
    "# A simple workflow"
   ]
  },
  {
   "cell_type": "code",
   "execution_count": 7,
   "metadata": {
    "nbpresent": {
     "id": "8f1b8e07-b7ba-457d-ab44-722b568cad19"
    },
    "scrolled": false
   },
   "outputs": [
    {
     "data": {
      "application/vnd.jupyter.widget-view+json": {
       "model_id": "9765f0e2ed664c5387308abc258f654d",
       "version_major": 2,
       "version_minor": 0
      },
      "text/html": [
       "<p>Failed to display Jupyter Widget of type <code>WorkflowWidget</code>.</p>\n",
       "<p>\n",
       "  If you're reading this message in Jupyter Notebook or JupyterLab, it may mean\n",
       "  that the widgets JavaScript is still loading. If this message persists, it\n",
       "  likely means that the widgets JavaScript library is either not installed or\n",
       "  not enabled. See the <a href=\"https://ipywidgets.readthedocs.io/en/stable/user_install.html\">Jupyter\n",
       "  Widgets Documentation</a> for setup instructions.\n",
       "</p>\n",
       "<p>\n",
       "  If you're reading this message in another notebook frontend (for example, a static\n",
       "  rendering on GitHub or <a href=\"https://nbviewer.jupyter.org/\">NBViewer</a>),\n",
       "  it may mean that your frontend doesn't currently support widgets.\n",
       "</p>\n"
      ],
      "text/plain": [
       "WorkflowWidget(children=(VBox(children=(Figure(fig_margin={'left': 10, 'right': 10, 'bottom': 10, 'top': 10}, layout=Layout(height='600px', width='400px'), marks=[Graph(colors=['#1f77b4', '#ff7f0e', '#2ca02c', '#d62728', '#9467bd', '#8c564b', '#e377c2', '#7f7f7f', '#bcbd22', '#17becf'], highlight_links=False, interactions={'hover': 'tooltip', 'click': 'select'}, link_data=[{'source': 0, 'target': 1}, {'source': 0, 'target': 2}, {'source': 0, 'target': 3}, {'source': 1, 'target': 4}, {'source': 2, 'target': 4}, {'source': 3, 'target': 4}], link_type='line', node_data=[{'label': '0', 'shape': 'rect', 'name': 'pwd_task', 'task_type': 'CommandLineTask', 'tags': ['pwd'], 'input_files': [], 'output_files': ['/tmp/scratch/out.txt'], 'num_cores': 1, 'command': 'echo \"Hello from \\'`pwd`\\'.\" > /tmp/scratch/out.txt'}, {'label': '1', 'shape': 'rect', 'name': 'echo_task_0', 'task_type': 'CommandLineTask', 'tags': ['echo'], 'input_files': [], 'output_files': ['/tmp/scratch/out.txt'], 'num_cores': 1, 'command': 'for j in {1..10}; do echo \"Hello #0: $j\" >> /tmp/scratch/out.txt; sleep 1; done'}, {'label': '2', 'shape': 'rect', 'name': 'echo_task_1', 'task_type': 'CommandLineTask', 'tags': ['echo'], 'input_files': [], 'output_files': ['/tmp/scratch/out.txt'], 'num_cores': 1, 'command': 'for j in {1..10}; do echo \"Hello #1: $j\" >> /tmp/scratch/out.txt; sleep 1; done'}, {'label': '3', 'shape': 'rect', 'name': 'echo_task_2', 'task_type': 'CommandLineTask', 'tags': ['echo'], 'input_files': [], 'output_files': ['/tmp/scratch/out.txt'], 'num_cores': 1, 'command': 'for j in {1..10}; do echo \"Hello #2: $j\" >> /tmp/scratch/out.txt; sleep 1; done'}, {'label': '4', 'shape': 'rect', 'name': 'done_task', 'task_type': 'CommandLineTask', 'tags': ['done'], 'input_files': [], 'output_files': ['/tmp/scratch/out.txt'], 'num_cores': 1, 'command': \"echo 'Done!' >> /tmp/scratch/out.txt\"}], scales={'x': LinearScale(), 'y': LinearScale()}, scales_metadata={'x': {'orientation': 'horizontal', 'dimension': 'x'}, 'y': {'orientation': 'vertical', 'dimension': 'y'}, 'color': {'dimension': 'color'}, 'link_color': {'dimension': 'link_color'}}, selected=[0], selected_style={'stroke': 'red'}, tooltip_style={'opacity': 0.9}, x=array([ 1002.2 ,   328.22,  1002.2 ,  1676.2 ,  1002.2 ]), y=array([ 162.,   90.,   90.,   90.,   18.]))], min_aspect_ratio=0.0, scale_x=LinearScale(allow_padding=False, max=1.0, min=0.0), scale_y=LinearScale(allow_padding=False, max=1.0, min=0.0)), Toolbar(figure=Figure(fig_margin={'left': 10, 'right': 10, 'bottom': 10, 'top': 10}, layout=Layout(height='600px', width='400px'), marks=[Graph(colors=['#1f77b4', '#ff7f0e', '#2ca02c', '#d62728', '#9467bd', '#8c564b', '#e377c2', '#7f7f7f', '#bcbd22', '#17becf'], highlight_links=False, interactions={'hover': 'tooltip', 'click': 'select'}, link_data=[{'source': 0, 'target': 1}, {'source': 0, 'target': 2}, {'source': 0, 'target': 3}, {'source': 1, 'target': 4}, {'source': 2, 'target': 4}, {'source': 3, 'target': 4}], link_type='line', node_data=[{'label': '0', 'shape': 'rect', 'name': 'pwd_task', 'task_type': 'CommandLineTask', 'tags': ['pwd'], 'input_files': [], 'output_files': ['/tmp/scratch/out.txt'], 'num_cores': 1, 'command': 'echo \"Hello from \\'`pwd`\\'.\" > /tmp/scratch/out.txt'}, {'label': '1', 'shape': 'rect', 'name': 'echo_task_0', 'task_type': 'CommandLineTask', 'tags': ['echo'], 'input_files': [], 'output_files': ['/tmp/scratch/out.txt'], 'num_cores': 1, 'command': 'for j in {1..10}; do echo \"Hello #0: $j\" >> /tmp/scratch/out.txt; sleep 1; done'}, {'label': '2', 'shape': 'rect', 'name': 'echo_task_1', 'task_type': 'CommandLineTask', 'tags': ['echo'], 'input_files': [], 'output_files': ['/tmp/scratch/out.txt'], 'num_cores': 1, 'command': 'for j in {1..10}; do echo \"Hello #1: $j\" >> /tmp/scratch/out.txt; sleep 1; done'}, {'label': '3', 'shape': 'rect', 'name': 'echo_task_2', 'task_type': 'CommandLineTask', 'tags': ['echo'], 'input_files': [], 'output_files': ['/tmp/scratch/out.txt'], 'num_cores': 1, 'command': 'for j in {1..10}; do echo \"Hello #2: $j\" >> /tmp/scratch/out.txt; sleep 1; done'}, {'label': '4', 'shape': 'rect', 'name': 'done_task', 'task_type': 'CommandLineTask', 'tags': ['done'], 'input_files': [], 'output_files': ['/tmp/scratch/out.txt'], 'num_cores': 1, 'command': \"echo 'Done!' >> /tmp/scratch/out.txt\"}], scales={'x': LinearScale(), 'y': LinearScale()}, scales_metadata={'x': {'orientation': 'horizontal', 'dimension': 'x'}, 'y': {'orientation': 'vertical', 'dimension': 'y'}, 'color': {'dimension': 'color'}, 'link_color': {'dimension': 'link_color'}}, selected=[0], selected_style={'stroke': 'red'}, tooltip_style={'opacity': 0.9}, x=array([ 1002.2 ,   328.22,  1002.2 ,  1676.2 ,  1002.2 ]), y=array([ 162.,   90.,   90.,   90.,   18.]))], min_aspect_ratio=0.0, scale_x=LinearScale(allow_padding=False, max=1.0, min=0.0), scale_y=LinearScale(allow_padding=False, max=1.0, min=0.0))))), Tab(children=(VBox(children=(HTML(value='<b>Workflow Description</b>'), EditHTML(children=(HTMLMath(value=\"\\n<h1>Example Workflow</h1>\\n<br>\\nVery simple map-reduce-like workflow, which involves:\\n<br>\\n<ol>\\n    <li>Short intro task</li>\\n    <li>Long parallel tasks</li>\\n    <li>Short outro tasks</li>\\n</ol>\\n\\n<br>\\nThe final results are printed to 'out.txt'.\\n\", layout=Layout(border='1px lightgray solid', padding='10px')), Button(description='Edit Description', style=ButtonStyle()))), Box(layout=Layout(height='20px', width='0px')), HTML(value='<b>Worker Pools</b>'), VBox(children=(Dropdown(options=(('default', <kale.workflow_objects.WorkerPool object at 0x7f2dbe2d1be0>),), value=<kale.workflow_objects.WorkerPool object at 0x7f2dbe2d1be0>), Button(button_style='success', description='Run Workflow', style=ButtonStyle()))))), VBox(children=(HTML(value='<b>Task Description</b>'), EditHTML(children=(HTMLMath(value='None selected.', layout=Layout(border='1px lightgray solid', padding='10px')), Button(description='Edit Description', disabled=True, style=ButtonStyle()))), Box(layout=Layout(height='20px', width='0px')), HTML(value=''), Button(button_style='info', description='Continue Workflow', layout=Layout(visibility='hidden'), style=ButtonStyle()), Box(layout=Layout(height='20px', width='0px')), HTML(value='<b>Task Metadata</b>'), HTML(value=''))), VBox(children=(HTML(value='<b>Tags</b>'), Select(options=('pwd', 'echo', 'done'), value='pwd'), HTML(value='<b>Actions</b>'), Text(value='', description='Tag name'), HBox(children=(VBox(children=(Button(description='Select All', style=ButtonStyle()), Button(description='Select None', style=ButtonStyle()), Button(description='Select Children', style=ButtonStyle()), Button(description='Select Parents', style=ButtonStyle()), Button(description='Tag to Selection', style=ButtonStyle()), Button(description='Selection to Tag', style=ButtonStyle()))), VBox(children=(Button(description='New Tag', style=ButtonStyle()), Button(description='Del Tag', style=ButtonStyle()))))))), VBox(children=(HTML(value='<b>Messages from WorkflowWidget:</b>'), Box(children=(Output(),), layout=Layout(border='1px lightgray solid', padding='10px')), Box(layout=Layout(height='10px', width='0px')), Button(description='Clear', style=ButtonStyle())))), layout=Layout(height='600px', width='400px'), _titles={'0': 'Workflow', '1': 'Task', '2': 'Tags', '3': 'Widget Log'})))"
      ]
     },
     "metadata": {},
     "output_type": "display_data"
    }
   ],
   "source": [
    "wfw = WorkflowWidget(example_wf, wpw)\n",
    "wfw"
   ]
  },
  {
   "cell_type": "markdown",
   "metadata": {
    "nbpresent": {
     "id": "36adf149-cdfe-4ba4-b129-35ff4ddddd58"
    }
   },
   "source": [
    "# Observe Output"
   ]
  },
  {
   "cell_type": "code",
   "execution_count": 8,
   "metadata": {},
   "outputs": [
    {
     "name": "stdout",
     "output_type": "stream",
     "text": [
      "total 40\n",
      "-rw-r--r-- 1 jovyan users 393 Sep 19 21:05 lammps_chain.txt\n",
      "-rw-r--r-- 1 jovyan users 535 Sep 19 21:47 lammps_eam.txt\n",
      "-rw-r--r-- 1 jovyan users 578 Sep 19 14:22 lammps_lj.txt\n",
      "-rw-r--r-- 1 jovyan users 313 Aug  8 18:17 mpi_hello.c\n",
      "-rw-r--r-- 1 jovyan users  40 Nov  7 10:48 README.md\n",
      "-rwxr-xr-x 1 jovyan users 167 Sep 19 05:39 test_echo.sh\n",
      "-rwxr-xr-x 1 jovyan users 193 Nov  7 11:10 test_lammps.sh\n",
      "-rwxr-xr-x 1 jovyan users 197 Nov  7 11:08 test_mpi.sh\n",
      "-rw-r--r-- 1 jovyan users 200 Oct 15 21:14 test_pylammps_mpi.py\n",
      "-rwxr-xr-x 1 jovyan users 161 Oct 15 22:16 test_pylammps_mpi.sh\n",
      "\n",
      "torque: \n",
      "                                                                         Req'd  Req'd   Elap\n",
      "Job ID               Username Queue    Jobname          SessID NDS   TSK Memory Time  S Time\n",
      "-------------------- -------- -------- ---------------- ------ ----- --- ------ ----- - -----\n",
      "5.torque             jovyan   default  pwd_task           1210     1   1    --  01:00 C 00:00\n",
      "6.torque             jovyan   default  echo_task_0        1230     1   1    --  01:00 C 00:00\n",
      "7.torque             jovyan   default  echo_task_1        1217     1   1    --  01:00 C 00:00\n",
      "8.torque             jovyan   default  echo_task_2        1243     1   1    --  01:00 C 00:00\n",
      "9.torque             jovyan   default  done_task          1263     1   1    --  01:00 C 00:00\n",
      "10.torque            jovyan   default  pwd_task           1299     1   1    --  01:00 C 00:00\n",
      "11.torque            jovyan   default  echo_task_0        1303     1   1    --  01:00 C 00:00\n",
      "12.torque            jovyan   default  echo_task_1        1339     1   1    --  01:00 C 00:00\n",
      "13.torque            jovyan   default  echo_task_2        1346     1   1    --  01:00 C 00:00\n",
      "14.torque            jovyan   default  done_task          1365     1   1    --  01:00 C 00:00\n",
      "15.torque            jovyan   default  pwd_task           1541     1   1    --  01:00 C 00:00\n",
      "16.torque            jovyan   default  echo_task_0        1569     1   1    --  01:00 C 00:00\n",
      "17.torque            jovyan   default  echo_task_1        1547     1   1    --  01:00 C 00:00\n",
      "18.torque            jovyan   default  echo_task_2        1568     1   1    --  01:00 C 00:00\n",
      "19.torque            jovyan   default  done_task          1580     1   1    --  01:00 C 00:00\n"
     ]
    }
   ],
   "source": [
    "%%bash\n",
    "ls -l /tmp/scratch/\n",
    "qstat -a"
   ]
  },
  {
   "cell_type": "code",
   "execution_count": 9,
   "metadata": {
    "nbpresent": {
     "id": "60054662-6c57-44e6-b7b5-7606a1e9357a"
    },
    "scrolled": true
   },
   "outputs": [
    {
     "data": {
      "application/vnd.jupyter.widget-view+json": {
       "model_id": "ccc93341424c490c9edd3a177c597b5b",
       "version_major": 2,
       "version_minor": 0
      },
      "text/html": [
       "<p>Failed to display Jupyter Widget of type <code>TailWidget</code>.</p>\n",
       "<p>\n",
       "  If you're reading this message in Jupyter Notebook or JupyterLab, it may mean\n",
       "  that the widgets JavaScript is still loading. If this message persists, it\n",
       "  likely means that the widgets JavaScript library is either not installed or\n",
       "  not enabled. See the <a href=\"https://ipywidgets.readthedocs.io/en/stable/user_install.html\">Jupyter\n",
       "  Widgets Documentation</a> for setup instructions.\n",
       "</p>\n",
       "<p>\n",
       "  If you're reading this message in another notebook frontend (for example, a static\n",
       "  rendering on GitHub or <a href=\"https://nbviewer.jupyter.org/\">NBViewer</a>),\n",
       "  it may mean that your frontend doesn't currently support widgets.\n",
       "</p>\n"
      ],
      "text/plain": [
       "TailWidget(children=(HTML(value='<b>File Tailer</b>'), VBox(children=(HBox(children=(Text(value='/tmp/scratch/out.txt', description='File path'), Button(button_style='success', description='Start', style=ButtonStyle())), layout=Layout(width='478px')), HBox(children=(FloatText(value=1.0, description='dt', layout=Layout(width='150px')), IntText(value=20, description='# of lines', layout=Layout(width='150px'))), layout=Layout(width='478px')))), Box(layout=Layout(height='10px', width='0px')), Box(children=(HTML(value=''),), layout=Layout(border='1px lightgray solid', padding='10px', width='478px'))), layout=Layout(border='1px lightgray solid', padding='10px', width='500px'))"
      ]
     },
     "metadata": {},
     "output_type": "display_data"
    },
    {
     "name": "stdout",
     "output_type": "stream",
     "text": [
      "FW Completed\n"
     ]
    }
   ],
   "source": [
    "t = TailWidget('/tmp/scratch/out.txt')\n",
    "t"
   ]
  },
  {
   "cell_type": "markdown",
   "metadata": {
    "nbpresent": {
     "id": "0190f5e0-eeca-4428-8e9d-b909be29cc08"
    }
   },
   "source": [
    "# Connect to NEWT"
   ]
  },
  {
   "cell_type": "code",
   "execution_count": 10,
   "metadata": {
    "nbpresent": {
     "id": "33786081-d706-479b-8efd-e16a6cca6337"
    }
   },
   "outputs": [
    {
     "data": {
      "application/vnd.jupyter.widget-view+json": {
       "model_id": "269dc673c2474101a9a11f636f8a1f89",
       "version_major": 2,
       "version_minor": 0
      },
      "text/html": [
       "<p>Failed to display Jupyter Widget of type <code>NEWTAuthWidget</code>.</p>\n",
       "<p>\n",
       "  If you're reading this message in Jupyter Notebook or JupyterLab, it may mean\n",
       "  that the widgets JavaScript is still loading. If this message persists, it\n",
       "  likely means that the widgets JavaScript library is either not installed or\n",
       "  not enabled. See the <a href=\"https://ipywidgets.readthedocs.io/en/stable/user_install.html\">Jupyter\n",
       "  Widgets Documentation</a> for setup instructions.\n",
       "</p>\n",
       "<p>\n",
       "  If you're reading this message in another notebook frontend (for example, a static\n",
       "  rendering on GitHub or <a href=\"https://nbviewer.jupyter.org/\">NBViewer</a>),\n",
       "  it may mean that your frontend doesn't currently support widgets.\n",
       "</p>\n"
      ],
      "text/plain": [
       "NEWTAuthWidget(children=(HTML(value='        <h3>NEWT Authenticator</h3>\\n        '), HBox(children=(VBox(children=(Text(value='', description='Username'), Password(description='Password'))), VBox(children=(Button(description='Login', style=ButtonStyle()), Button(description='Logout', disabled=True, style=ButtonStyle()))))), Output()))"
      ]
     },
     "metadata": {},
     "output_type": "display_data"
    }
   ],
   "source": [
    "a = NEWTAuthWidget()\n",
    "a"
   ]
  },
  {
   "cell_type": "code",
   "execution_count": 11,
   "metadata": {
    "nbpresent": {
     "id": "6c5391e1-89f3-41f2-88dd-00437f05c91e"
    }
   },
   "outputs": [
    {
     "data": {
      "application/vnd.jupyter.widget-view+json": {
       "model_id": "84309b63a3764e9e83ee0ab6a612d2cc",
       "version_major": 2,
       "version_minor": 0
      },
      "text/html": [
       "<p>Failed to display Jupyter Widget of type <code>QueueWidget</code>.</p>\n",
       "<p>\n",
       "  If you're reading this message in Jupyter Notebook or JupyterLab, it may mean\n",
       "  that the widgets JavaScript is still loading. If this message persists, it\n",
       "  likely means that the widgets JavaScript library is either not installed or\n",
       "  not enabled. See the <a href=\"https://ipywidgets.readthedocs.io/en/stable/user_install.html\">Jupyter\n",
       "  Widgets Documentation</a> for setup instructions.\n",
       "</p>\n",
       "<p>\n",
       "  If you're reading this message in another notebook frontend (for example, a static\n",
       "  rendering on GitHub or <a href=\"https://nbviewer.jupyter.org/\">NBViewer</a>),\n",
       "  it may mean that your frontend doesn't currently support widgets.\n",
       "</p>\n"
      ],
      "text/plain": [
       "QueueWidget(children=(Text(value='oevans', description='User'), Output(), HBox(children=(Button(description='Refresh', style=ButtonStyle()), Checkbox(value=False, description='Watch?')))))"
      ]
     },
     "metadata": {},
     "output_type": "display_data"
    }
   ],
   "source": [
    "q = QueueWidget(a)\n",
    "q"
   ]
  },
  {
   "cell_type": "code",
   "execution_count": null,
   "metadata": {
    "nbpresent": {
     "id": "719f7d72-962d-4d50-bec3-f3abf1ab289a"
    }
   },
   "outputs": [],
   "source": []
  }
 ],
 "metadata": {
  "anaconda-cloud": {},
  "kernelspec": {
   "display_name": "Python 3",
   "language": "python",
   "name": "python3"
  },
  "language_info": {
   "codemirror_mode": {
    "name": "ipython",
    "version": 3
   },
   "file_extension": ".py",
   "mimetype": "text/x-python",
   "name": "python",
   "nbconvert_exporter": "python",
   "pygments_lexer": "ipython3",
   "version": "3.6.2"
  },
  "nbpresent": {
   "slides": {
    "155f84f5-466f-471e-a62e-3e29af2a0b07": {
     "id": "155f84f5-466f-471e-a62e-3e29af2a0b07",
     "layout": "treemap",
     "prev": null,
     "regions": {
      "07ca5e74-1463-4823-91e1-8e63237bba3b": {
       "attrs": {
        "height": 0.75,
        "treemap:weight": 1,
        "width": 0.33,
        "x": 0,
        "y": 0
       },
       "id": "07ca5e74-1463-4823-91e1-8e63237bba3b"
      },
      "5a7da22f-c1cb-42e8-92f3-4c9e251f6e5e": {
       "attrs": {
        "height": 0.75,
        "pad": 0.01,
        "treemap:weight": 1,
        "width": 0.34,
        "x": 0.66,
        "y": 0
       },
       "id": "5a7da22f-c1cb-42e8-92f3-4c9e251f6e5e"
      },
      "80858f3b-345d-4098-90a3-0b575ba71503": {
       "attrs": {
        "height": 0.25,
        "pad": 0.01,
        "treemap:weight": 1,
        "width": 1,
        "x": 0,
        "y": 0.75
       },
       "id": "80858f3b-345d-4098-90a3-0b575ba71503"
      },
      "a269929c-67ca-4b00-a834-251426b7bc25": {
       "attrs": {
        "height": 0.75,
        "treemap:weight": 1,
        "width": 0.33,
        "x": 0.33,
        "y": 0
       },
       "id": "a269929c-67ca-4b00-a834-251426b7bc25"
      }
     }
    }
   },
   "themes": {}
  }
 },
 "nbformat": 4,
 "nbformat_minor": 1
}
