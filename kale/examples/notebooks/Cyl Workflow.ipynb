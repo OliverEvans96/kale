{
 "cells": [
  {
   "cell_type": "markdown",
   "metadata": {
    "nbpresent": {
     "id": "23b963da-d90a-43dd-883c-db727b739947"
    }
   },
   "source": [
    "# Imports"
   ]
  },
  {
   "cell_type": "code",
   "execution_count": 1,
   "metadata": {
    "nbpresent": {
     "id": "6268ef92-e5ae-4ce4-b369-202c806db45b"
    },
    "scrolled": true
   },
   "outputs": [],
   "source": [
    "%load_ext autoreload\n",
    "%autoreload 2"
   ]
  },
  {
   "cell_type": "code",
   "execution_count": 2,
   "metadata": {
    "collapsed": true
   },
   "outputs": [],
   "source": [
    "import sys"
   ]
  },
  {
   "cell_type": "code",
   "execution_count": 3,
   "metadata": {
    "collapsed": true
   },
   "outputs": [],
   "source": [
    "sys.path.append('../droplet/')"
   ]
  },
  {
   "cell_type": "code",
   "execution_count": 4,
   "metadata": {
    "nbpresent": {
     "id": "7f05c603-3a9d-451e-98ee-ff9d21d86e9b"
    },
    "scrolled": false
   },
   "outputs": [],
   "source": [
    "from kale.workflow_widgets import WorkflowWidget, WorkerPoolWidget, TailWidget\n",
    "from kale.examples.droplet.cyl_workflow import cyl_wf\n",
    "from kale.aux_widgets import QueueWidget, NEWTAuthWidget, SSHAuthWidget, SSHTerminal, Space\n",
    "import kale\n",
    "import whichstage as ws\n",
    "\n",
    "import ipywidgets as ipw\n",
    "import time\n",
    "from concurrent.futures import ThreadPoolExecutor\n",
    "import traitlets\n",
    "import networkx as nx\n",
    "import IPython.display as disp"
   ]
  },
  {
   "cell_type": "code",
   "execution_count": 5,
   "metadata": {
    "nbpresent": {
     "id": "192a9350-4f88-4acd-b4ce-d89c151a2672"
    },
    "scrolled": false
   },
   "outputs": [
    {
     "data": {
      "application/vnd.jupyter.widget-view+json": {
       "model_id": "0e7dacf5e6de47598c8c55ad2ec3743c",
       "version_major": 2,
       "version_minor": 0
      },
      "text/html": [
       "<p>Failed to display Jupyter Widget of type <code>WorkerPoolWidget</code>.</p>\n",
       "<p>\n",
       "  If you're reading this message in Jupyter Notebook or JupyterLab, it may mean\n",
       "  that the widgets JavaScript is still loading. If this message persists, it\n",
       "  likely means that the widgets JavaScript library is either not installed or\n",
       "  not enabled. See the <a href=\"https://ipywidgets.readthedocs.io/en/stable/user_install.html\">Jupyter\n",
       "  Widgets Documentation</a> for setup instructions.\n",
       "</p>\n",
       "<p>\n",
       "  If you're reading this message in another notebook frontend (for example, a static\n",
       "  rendering on GitHub or <a href=\"https://nbviewer.jupyter.org/\">NBViewer</a>),\n",
       "  it may mean that your frontend doesn't currently support widgets.\n",
       "</p>\n"
      ],
      "text/plain": [
       "WorkerPoolWidget(children=(HTML(value='<h3>Worker Pools</h3>'), TableWidget(children=(RowWidget(children=(HBox(children=(HTML(value='<b>Name</b>'),), layout=Layout(justify_content='flex-start', width='150px')), HBox(children=(HTML(value='<b>Location</b>'),), layout=Layout(justify_content='flex-start', width='200px')), HBox(children=(HTML(value='<b>Workers</b>'),), layout=Layout(justify_content='flex-start', width='60px')), HBox(children=(HTML(value='<b>Action</b>'),), layout=Layout(justify_content='flex-start', width='100px'))), layout=Layout(justify_content='space-between', width='510px')), RowWidget(children=(HBox(children=(HTML(value='default'),), layout=Layout(justify_content='flex-start', width='150px')), HBox(children=(HTML(value='localhost'),), layout=Layout(justify_content='flex-start', width='200px')), HBox(children=(HTML(value='16'),), layout=Layout(justify_content='flex-start', width='60px')), HBox(children=(Button(button_style='danger', description='Remove', style=ButtonStyle()),), layout=Layout(justify_content='flex-start', width='100px'))), layout=Layout(justify_content='space-between', width='510px')), RowWidget(children=(HBox(children=(Text(value='', layout=Layout(width='148px')),), layout=Layout(justify_content='flex-start', width='150px')), HBox(children=(Dropdown(layout=Layout(width='198px'), options=('localhost',), value='localhost'),), layout=Layout(justify_content='flex-start', width='200px')), HBox(children=(IntText(value=1, layout=Layout(width='58px')),), layout=Layout(justify_content='flex-start', width='60px')), HBox(children=(Button(button_style='success', icon='plus', style=ButtonStyle()),), layout=Layout(justify_content='flex-start', width='100px'))), layout=Layout(justify_content='space-between', width='510px'))), layout=Layout(width='510px')), HTML(value='\\n        <div class=\"alert alert-success\" style=\"width: 510px\">\\n        WorkerPool \\'default\\' created.\\n        </div>\\n        ')))"
      ]
     },
     "metadata": {},
     "output_type": "display_data"
    }
   ],
   "source": [
    "wpw = WorkerPoolWidget()\n",
    "wpw"
   ]
  },
  {
   "cell_type": "code",
   "execution_count": 6,
   "metadata": {
    "scrolled": false
   },
   "outputs": [
    {
     "name": "stdout",
     "output_type": "stream",
     "text": [
      "Needs Linked:\n",
      "['Cyl_Sapphire/Cyl50A_100_CorrectCharge/atom1', 'Cyl_Sapphire/Cyl50A_100_CorrectCharge/atom2', 'Cyl_Sapphire/Cyl100A_100_CorrectCharge/atom1', 'Cyl_Sapphire/Cyl100A_100_CorrectCharge/atom2', 'Cyl_Sapphire/Cyl100A_100_CorrectCharge/atom3', 'LowContactAngle/OnBilayerWetted/atom1', 'LowContactAngle/OnBilayerWetted/atom2', 'LowContactAngle/atom1', 'Sphere_Sapphire/50A/atom13', 'Sphere_Sapphire/60A/SlabonWettedBilayer/atom2', 'Sphere_Sapphire/60A/SlabonWettedBilayer/atom3', 'Sphere_Sapphire/60A/atom29', 'Sphere_Sapphire/60A/atom30']\n",
      "\n",
      "Needs Unzipped:\n",
      "['Cyl_Sapphire/Cyl100A_100/WrongCharge/atom1', 'Sub951By50/atom1']\n",
      "\n",
      "Needs Parsed:\n",
      "['Cyl_Sapphire/Cyl60A_100_CorrectCharge/atom1', 'Cyl_Sapphire/Cyl60A_100_CorrectCharge/atom2']\n",
      "\n",
      "Needs Analyzed:\n",
      "['Cyl_Sapphire/Cyl50A_100/CorrectCharge/atom1']\n",
      "\n",
      "Creating workflow.\n",
      "Workflow created!\n"
     ]
    }
   ],
   "source": [
    "wf = ws.whichstage()"
   ]
  },
  {
   "cell_type": "code",
   "execution_count": 7,
   "metadata": {
    "scrolled": false
   },
   "outputs": [
    {
     "data": {
      "application/vnd.jupyter.widget-view+json": {
       "model_id": "4919720613bc4af48f22e95c7d0c02da",
       "version_major": 2,
       "version_minor": 0
      },
      "text/html": [
       "<p>Failed to display Jupyter Widget of type <code>WorkflowWidget</code>.</p>\n",
       "<p>\n",
       "  If you're reading this message in Jupyter Notebook or JupyterLab, it may mean\n",
       "  that the widgets JavaScript is still loading. If this message persists, it\n",
       "  likely means that the widgets JavaScript library is either not installed or\n",
       "  not enabled. See the <a href=\"https://ipywidgets.readthedocs.io/en/stable/user_install.html\">Jupyter\n",
       "  Widgets Documentation</a> for setup instructions.\n",
       "</p>\n",
       "<p>\n",
       "  If you're reading this message in another notebook frontend (for example, a static\n",
       "  rendering on GitHub or <a href=\"https://nbviewer.jupyter.org/\">NBViewer</a>),\n",
       "  it may mean that your frontend doesn't currently support widgets.\n",
       "</p>\n"
      ],
      "text/plain": [
       "WorkflowWidget(children=(VBox(children=(Figure(fig_margin={'left': 10, 'right': 10, 'bottom': 10, 'top': 10}, layout=Layout(height='600px', width='400px'), marks=[Graph(colors=['#1f77b4', '#ff7f0e', '#2ca02c', '#d62728', '#9467bd', '#8c564b', '#e377c2', '#7f7f7f', '#bcbd22', '#17becf'], highlight_links=False, interactions={'hover': 'tooltip', 'click': 'select'}, link_data=[{'source': 0, 'target': 1}, {'source': 1, 'target': 2}, {'source': 3, 'target': 4}, {'source': 4, 'target': 5}, {'source': 6, 'target': 7}, {'source': 7, 'target': 8}, {'source': 9, 'target': 10}, {'source': 10, 'target': 11}, {'source': 12, 'target': 13}, {'source': 13, 'target': 14}, {'source': 15, 'target': 16}, {'source': 16, 'target': 17}, {'source': 18, 'target': 19}, {'source': 19, 'target': 20}, {'source': 21, 'target': 22}, {'source': 22, 'target': 23}, {'source': 24, 'target': 25}, {'source': 25, 'target': 26}, {'source': 27, 'target': 28}, {'source': 28, 'target': 29}, {'source': 30, 'target': 31}, {'source': 31, 'target': 32}, {'source': 33, 'target': 34}, {'source': 34, 'target': 35}, {'source': 36, 'target': 37}, {'source': 37, 'target': 38}, {'source': 39, 'target': 40}, {'source': 40, 'target': 41}, {'source': 42, 'target': 43}, {'source': 43, 'target': 44}, {'source': 45, 'target': 46}, {'source': 47, 'target': 48}], link_type='line', node_data=[{'label': '0', 'shape': 'rect', 'name': 'link_Cyl_Sapphire/Cyl50A_100_CorrectCharge/atom1', 'task_type': 'CommandLineTask', 'tags': ['link'], 'input_files': [], 'output_files': [], 'num_cores': 1, 'command': 'mkdir -p /home/oge1/lammps/sapphire/analysis/data/Cyl_Sapphire/Cyl50A_100_CorrectCharge && ln -s /home/mtsige/Bob/Sub951By100/Cyl50A/CorrectCharge/atom1 /home/oge1/lammps/sapphire/analysis/data/Cyl_Sapphire/Cyl50A_100_CorrectCharge/atom1'}, {'label': '1', 'shape': 'rect', 'name': 'parse_Cyl_Sapphire/Cyl50A_100_CorrectCharge/atom1', 'task_type': 'CommandLineTask', 'tags': ['parse'], 'input_files': [], 'output_files': [], 'num_cores': 1, 'command': '/home/oge1/lammps/sapphire/analysis/exec/parse.sh /home/oge1/lammps/sapphire/analysis/data/Cyl_Sapphire/Cyl50A_100_CorrectCharge/atom1 Cyl_Sapphire/Cyl50A_100_CorrectCharge/atom1'}, {'label': '2', 'shape': 'rect', 'name': 'analyze_Cyl_Sapphire/Cyl50A_100_CorrectCharge/atom1', 'task_type': 'CommandLineTask', 'tags': ['analyze'], 'input_files': [], 'output_files': [], 'num_cores': 1, 'command': '/home/oge1/lammps/sapphire/analysis/exec/analyze.sh /home/oge1/lammps/sapphire/analysis/results/Cyl_Sapphire/Cyl50A_100_CorrectCharge/atom1/calculated.txt Cyl_Sapphire/Cyl50A_100_CorrectCharge/atom1 cyl_analysis'}, {'label': '3', 'shape': 'rect', 'name': 'link_Cyl_Sapphire/Cyl50A_100_CorrectCharge/atom2', 'task_type': 'CommandLineTask', 'tags': ['link'], 'input_files': [], 'output_files': [], 'num_cores': 1, 'command': 'mkdir -p /home/oge1/lammps/sapphire/analysis/data/Cyl_Sapphire/Cyl50A_100_CorrectCharge && ln -s /home/mtsige/Bob/Sub951By100/Cyl50A/CorrectCharge/atom2 /home/oge1/lammps/sapphire/analysis/data/Cyl_Sapphire/Cyl50A_100_CorrectCharge/atom2'}, {'label': '4', 'shape': 'rect', 'name': 'parse_Cyl_Sapphire/Cyl50A_100_CorrectCharge/atom2', 'task_type': 'CommandLineTask', 'tags': ['parse'], 'input_files': [], 'output_files': [], 'num_cores': 1, 'command': '/home/oge1/lammps/sapphire/analysis/exec/parse.sh /home/oge1/lammps/sapphire/analysis/data/Cyl_Sapphire/Cyl50A_100_CorrectCharge/atom2 Cyl_Sapphire/Cyl50A_100_CorrectCharge/atom2'}, {'label': '5', 'shape': 'rect', 'name': 'analyze_Cyl_Sapphire/Cyl50A_100_CorrectCharge/atom2', 'task_type': 'CommandLineTask', 'tags': ['analyze'], 'input_files': [], 'output_files': [], 'num_cores': 1, 'command': '/home/oge1/lammps/sapphire/analysis/exec/analyze.sh /home/oge1/lammps/sapphire/analysis/results/Cyl_Sapphire/Cyl50A_100_CorrectCharge/atom2/calculated.txt Cyl_Sapphire/Cyl50A_100_CorrectCharge/atom2 cyl_analysis'}, {'label': '6', 'shape': 'rect', 'name': 'link_Cyl_Sapphire/Cyl100A_100_CorrectCharge/atom1', 'task_type': 'CommandLineTask', 'tags': ['link'], 'input_files': [], 'output_files': [], 'num_cores': 1, 'command': 'mkdir -p /home/oge1/lammps/sapphire/analysis/data/Cyl_Sapphire/Cyl100A_100_CorrectCharge && ln -s /home/mtsige/Bob/Sub951By100/Cyl100A/CorrectCharge/atom1 /home/oge1/lammps/sapphire/analysis/data/Cyl_Sapphire/Cyl100A_100_CorrectCharge/atom1'}, {'label': '7', 'shape': 'rect', 'name': 'parse_Cyl_Sapphire/Cyl100A_100_CorrectCharge/atom1', 'task_type': 'CommandLineTask', 'tags': ['parse'], 'input_files': [], 'output_files': [], 'num_cores': 1, 'command': '/home/oge1/lammps/sapphire/analysis/exec/parse.sh /home/oge1/lammps/sapphire/analysis/data/Cyl_Sapphire/Cyl100A_100_CorrectCharge/atom1 Cyl_Sapphire/Cyl100A_100_CorrectCharge/atom1'}, {'label': '8', 'shape': 'rect', 'name': 'analyze_Cyl_Sapphire/Cyl100A_100_CorrectCharge/atom1', 'task_type': 'CommandLineTask', 'tags': ['analyze'], 'input_files': [], 'output_files': [], 'num_cores': 1, 'command': '/home/oge1/lammps/sapphire/analysis/exec/analyze.sh /home/oge1/lammps/sapphire/analysis/results/Cyl_Sapphire/Cyl100A_100_CorrectCharge/atom1/calculated.txt Cyl_Sapphire/Cyl100A_100_CorrectCharge/atom1 cyl_analysis'}, {'label': '9', 'shape': 'rect', 'name': 'link_Cyl_Sapphire/Cyl100A_100_CorrectCharge/atom2', 'task_type': 'CommandLineTask', 'tags': ['link'], 'input_files': [], 'output_files': [], 'num_cores': 1, 'command': 'mkdir -p /home/oge1/lammps/sapphire/analysis/data/Cyl_Sapphire/Cyl100A_100_CorrectCharge && ln -s /home/mtsige/Bob/Sub951By100/Cyl100A/CorrectCharge/atom2 /home/oge1/lammps/sapphire/analysis/data/Cyl_Sapphire/Cyl100A_100_CorrectCharge/atom2'}, {'label': '10', 'shape': 'rect', 'name': 'parse_Cyl_Sapphire/Cyl100A_100_CorrectCharge/atom2', 'task_type': 'CommandLineTask', 'tags': ['parse'], 'input_files': [], 'output_files': [], 'num_cores': 1, 'command': '/home/oge1/lammps/sapphire/analysis/exec/parse.sh /home/oge1/lammps/sapphire/analysis/data/Cyl_Sapphire/Cyl100A_100_CorrectCharge/atom2 Cyl_Sapphire/Cyl100A_100_CorrectCharge/atom2'}, {'label': '11', 'shape': 'rect', 'name': 'analyze_Cyl_Sapphire/Cyl100A_100_CorrectCharge/atom2', 'task_type': 'CommandLineTask', 'tags': ['analyze'], 'input_files': [], 'output_files': [], 'num_cores': 1, 'command': '/home/oge1/lammps/sapphire/analysis/exec/analyze.sh /home/oge1/lammps/sapphire/analysis/results/Cyl_Sapphire/Cyl100A_100_CorrectCharge/atom2/calculated.txt Cyl_Sapphire/Cyl100A_100_CorrectCharge/atom2 cyl_analysis'}, {'label': '12', 'shape': 'rect', 'name': 'link_Cyl_Sapphire/Cyl100A_100_CorrectCharge/atom3', 'task_type': 'CommandLineTask', 'tags': ['link'], 'input_files': [], 'output_files': [], 'num_cores': 1, 'command': 'mkdir -p /home/oge1/lammps/sapphire/analysis/data/Cyl_Sapphire/Cyl100A_100_CorrectCharge && ln -s /home/mtsige/Bob/Sub951By100/Cyl100A/CorrectCharge/atom3 /home/oge1/lammps/sapphire/analysis/data/Cyl_Sapphire/Cyl100A_100_CorrectCharge/atom3'}, {'label': '13', 'shape': 'rect', 'name': 'parse_Cyl_Sapphire/Cyl100A_100_CorrectCharge/atom3', 'task_type': 'CommandLineTask', 'tags': ['parse'], 'input_files': [], 'output_files': [], 'num_cores': 1, 'command': '/home/oge1/lammps/sapphire/analysis/exec/parse.sh /home/oge1/lammps/sapphire/analysis/data/Cyl_Sapphire/Cyl100A_100_CorrectCharge/atom3 Cyl_Sapphire/Cyl100A_100_CorrectCharge/atom3'}, {'label': '14', 'shape': 'rect', 'name': 'analyze_Cyl_Sapphire/Cyl100A_100_CorrectCharge/atom3', 'task_type': 'CommandLineTask', 'tags': ['analyze'], 'input_files': [], 'output_files': [], 'num_cores': 1, 'command': '/home/oge1/lammps/sapphire/analysis/exec/analyze.sh /home/oge1/lammps/sapphire/analysis/results/Cyl_Sapphire/Cyl100A_100_CorrectCharge/atom3/calculated.txt Cyl_Sapphire/Cyl100A_100_CorrectCharge/atom3 cyl_analysis'}, {'label': '15', 'shape': 'rect', 'name': 'link_LowContactAngle/OnBilayerWetted/atom1', 'task_type': 'CommandLineTask', 'tags': ['link'], 'input_files': [], 'output_files': [], 'num_cores': 1, 'command': 'mkdir -p /home/oge1/lammps/sapphire/analysis/data/LowContactAngle/OnBilayerWetted && ln -s /home/mtsige/Bob/LowContactAngle/OnBilayerWetted/atom1 /home/oge1/lammps/sapphire/analysis/data/LowContactAngle/OnBilayerWetted/atom1'}, {'label': '16', 'shape': 'rect', 'name': 'parse_LowContactAngle/OnBilayerWetted/atom1', 'task_type': 'CommandLineTask', 'tags': ['parse'], 'input_files': [], 'output_files': [], 'num_cores': 1, 'command': '/home/oge1/lammps/sapphire/analysis/exec/parse.sh /home/oge1/lammps/sapphire/analysis/data/LowContactAngle/OnBilayerWetted/atom1 LowContactAngle/OnBilayerWetted/atom1'}, {'label': '17', 'shape': 'rect', 'name': 'analyze_LowContactAngle/OnBilayerWetted/atom1', 'task_type': 'CommandLineTask', 'tags': ['analyze'], 'input_files': [], 'output_files': [], 'num_cores': 1, 'command': '/home/oge1/lammps/sapphire/analysis/exec/analyze.sh /home/oge1/lammps/sapphire/analysis/results/LowContactAngle/OnBilayerWetted/atom1/calculated.txt LowContactAngle/OnBilayerWetted/atom1 polarScatter'}, {'label': '18', 'shape': 'rect', 'name': 'link_LowContactAngle/OnBilayerWetted/atom2', 'task_type': 'CommandLineTask', 'tags': ['link'], 'input_files': [], 'output_files': [], 'num_cores': 1, 'command': 'mkdir -p /home/oge1/lammps/sapphire/analysis/data/LowContactAngle/OnBilayerWetted && ln -s /home/mtsige/Bob/LowContactAngle/OnBilayerWetted/atom2 /home/oge1/lammps/sapphire/analysis/data/LowContactAngle/OnBilayerWetted/atom2'}, {'label': '19', 'shape': 'rect', 'name': 'parse_LowContactAngle/OnBilayerWetted/atom2', 'task_type': 'CommandLineTask', 'tags': ['parse'], 'input_files': [], 'output_files': [], 'num_cores': 1, 'command': '/home/oge1/lammps/sapphire/analysis/exec/parse.sh /home/oge1/lammps/sapphire/analysis/data/LowContactAngle/OnBilayerWetted/atom2 LowContactAngle/OnBilayerWetted/atom2'}, {'label': '20', 'shape': 'rect', 'name': 'analyze_LowContactAngle/OnBilayerWetted/atom2', 'task_type': 'CommandLineTask', 'tags': ['analyze'], 'input_files': [], 'output_files': [], 'num_cores': 1, 'command': '/home/oge1/lammps/sapphire/analysis/exec/analyze.sh /home/oge1/lammps/sapphire/analysis/results/LowContactAngle/OnBilayerWetted/atom2/calculated.txt LowContactAngle/OnBilayerWetted/atom2 polarScatter'}, {'label': '21', 'shape': 'rect', 'name': 'link_LowContactAngle/atom1', 'task_type': 'CommandLineTask', 'tags': ['link'], 'input_files': [], 'output_files': [], 'num_cores': 1, 'command': 'mkdir -p /home/oge1/lammps/sapphire/analysis/data/LowContactAngle && ln -s /home/mtsige/Bob/LowContactAngle/atom1 /home/oge1/lammps/sapphire/analysis/data/LowContactAngle/atom1'}, {'label': '22', 'shape': 'rect', 'name': 'parse_LowContactAngle/atom1', 'task_type': 'CommandLineTask', 'tags': ['parse'], 'input_files': [], 'output_files': [], 'num_cores': 1, 'command': '/home/oge1/lammps/sapphire/analysis/exec/parse.sh /home/oge1/lammps/sapphire/analysis/data/LowContactAngle/atom1 LowContactAngle/atom1'}, {'label': '23', 'shape': 'rect', 'name': 'analyze_LowContactAngle/atom1', 'task_type': 'CommandLineTask', 'tags': ['analyze'], 'input_files': [], 'output_files': [], 'num_cores': 1, 'command': '/home/oge1/lammps/sapphire/analysis/exec/analyze.sh /home/oge1/lammps/sapphire/analysis/results/LowContactAngle/atom1/calculated.txt LowContactAngle/atom1 polarScatter'}, {'label': '24', 'shape': 'rect', 'name': 'link_Sphere_Sapphire/50A/atom13', 'task_type': 'CommandLineTask', 'tags': ['link'], 'input_files': [], 'output_files': [], 'num_cores': 1, 'command': 'mkdir -p /home/oge1/lammps/sapphire/analysis/data/Sphere_Sapphire/50A && ln -s /home/mtsige/Bob/Sub3/50A/atom13 /home/oge1/lammps/sapphire/analysis/data/Sphere_Sapphire/50A/atom13'}, {'label': '25', 'shape': 'rect', 'name': 'parse_Sphere_Sapphire/50A/atom13', 'task_type': 'CommandLineTask', 'tags': ['parse'], 'input_files': [], 'output_files': [], 'num_cores': 1, 'command': '/home/oge1/lammps/sapphire/analysis/exec/parse.sh /home/oge1/lammps/sapphire/analysis/data/Sphere_Sapphire/50A/atom13 Sphere_Sapphire/50A/atom13'}, {'label': '26', 'shape': 'rect', 'name': 'analyze_Sphere_Sapphire/50A/atom13', 'task_type': 'CommandLineTask', 'tags': ['analyze'], 'input_files': [], 'output_files': [], 'num_cores': 1, 'command': '/home/oge1/lammps/sapphire/analysis/exec/analyze.sh /home/oge1/lammps/sapphire/analysis/results/Sphere_Sapphire/50A/atom13/calculated.txt Sphere_Sapphire/50A/atom13 polarScatter'}, {'label': '27', 'shape': 'rect', 'name': 'link_Sphere_Sapphire/60A/SlabonWettedBilayer/atom2', 'task_type': 'CommandLineTask', 'tags': ['link'], 'input_files': [], 'output_files': [], 'num_cores': 1, 'command': 'mkdir -p /home/oge1/lammps/sapphire/analysis/data/Sphere_Sapphire/60A/SlabonWettedBilayer && ln -s /home/mtsige/Bob/Sub3/60A/SlabonWettedBilayer/atom2 /home/oge1/lammps/sapphire/analysis/data/Sphere_Sapphire/60A/SlabonWettedBilayer/atom2'}, {'label': '28', 'shape': 'rect', 'name': 'parse_Sphere_Sapphire/60A/SlabonWettedBilayer/atom2', 'task_type': 'CommandLineTask', 'tags': ['parse'], 'input_files': [], 'output_files': [], 'num_cores': 1, 'command': '/home/oge1/lammps/sapphire/analysis/exec/parse.sh /home/oge1/lammps/sapphire/analysis/data/Sphere_Sapphire/60A/SlabonWettedBilayer/atom2 Sphere_Sapphire/60A/SlabonWettedBilayer/atom2'}, {'label': '29', 'shape': 'rect', 'name': 'analyze_Sphere_Sapphire/60A/SlabonWettedBilayer/atom2', 'task_type': 'CommandLineTask', 'tags': ['analyze'], 'input_files': [], 'output_files': [], 'num_cores': 1, 'command': '/home/oge1/lammps/sapphire/analysis/exec/analyze.sh /home/oge1/lammps/sapphire/analysis/results/Sphere_Sapphire/60A/SlabonWettedBilayer/atom2/calculated.txt Sphere_Sapphire/60A/SlabonWettedBilayer/atom2 polarScatter'}, {'label': '30', 'shape': 'rect', 'name': 'link_Sphere_Sapphire/60A/SlabonWettedBilayer/atom3', 'task_type': 'CommandLineTask', 'tags': ['link'], 'input_files': [], 'output_files': [], 'num_cores': 1, 'command': 'mkdir -p /home/oge1/lammps/sapphire/analysis/data/Sphere_Sapphire/60A/SlabonWettedBilayer && ln -s /home/mtsige/Bob/Sub3/60A/SlabonWettedBilayer/atom3 /home/oge1/lammps/sapphire/analysis/data/Sphere_Sapphire/60A/SlabonWettedBilayer/atom3'}, {'label': '31', 'shape': 'rect', 'name': 'parse_Sphere_Sapphire/60A/SlabonWettedBilayer/atom3', 'task_type': 'CommandLineTask', 'tags': ['parse'], 'input_files': [], 'output_files': [], 'num_cores': 1, 'command': '/home/oge1/lammps/sapphire/analysis/exec/parse.sh /home/oge1/lammps/sapphire/analysis/data/Sphere_Sapphire/60A/SlabonWettedBilayer/atom3 Sphere_Sapphire/60A/SlabonWettedBilayer/atom3'}, {'label': '32', 'shape': 'rect', 'name': 'analyze_Sphere_Sapphire/60A/SlabonWettedBilayer/atom3', 'task_type': 'CommandLineTask', 'tags': ['analyze'], 'input_files': [], 'output_files': [], 'num_cores': 1, 'command': '/home/oge1/lammps/sapphire/analysis/exec/analyze.sh /home/oge1/lammps/sapphire/analysis/results/Sphere_Sapphire/60A/SlabonWettedBilayer/atom3/calculated.txt Sphere_Sapphire/60A/SlabonWettedBilayer/atom3 polarScatter'}, {'label': '33', 'shape': 'rect', 'name': 'link_Sphere_Sapphire/60A/atom29', 'task_type': 'CommandLineTask', 'tags': ['link'], 'input_files': [], 'output_files': [], 'num_cores': 1, 'command': 'mkdir -p /home/oge1/lammps/sapphire/analysis/data/Sphere_Sapphire/60A && ln -s /home/mtsige/Bob/Sub3/60A/atom29 /home/oge1/lammps/sapphire/analysis/data/Sphere_Sapphire/60A/atom29'}, {'label': '34', 'shape': 'rect', 'name': 'parse_Sphere_Sapphire/60A/atom29', 'task_type': 'CommandLineTask', 'tags': ['parse'], 'input_files': [], 'output_files': [], 'num_cores': 1, 'command': '/home/oge1/lammps/sapphire/analysis/exec/parse.sh /home/oge1/lammps/sapphire/analysis/data/Sphere_Sapphire/60A/atom29 Sphere_Sapphire/60A/atom29'}, {'label': '35', 'shape': 'rect', 'name': 'analyze_Sphere_Sapphire/60A/atom29', 'task_type': 'CommandLineTask', 'tags': ['analyze'], 'input_files': [], 'output_files': [], 'num_cores': 1, 'command': '/home/oge1/lammps/sapphire/analysis/exec/analyze.sh /home/oge1/lammps/sapphire/analysis/results/Sphere_Sapphire/60A/atom29/calculated.txt Sphere_Sapphire/60A/atom29 polarScatter'}, {'label': '36', 'shape': 'rect', 'name': 'link_Sphere_Sapphire/60A/atom30', 'task_type': 'CommandLineTask', 'tags': ['link'], 'input_files': [], 'output_files': [], 'num_cores': 1, 'command': 'mkdir -p /home/oge1/lammps/sapphire/analysis/data/Sphere_Sapphire/60A && ln -s /home/mtsige/Bob/Sub3/60A/atom30 /home/oge1/lammps/sapphire/analysis/data/Sphere_Sapphire/60A/atom30'}, {'label': '37', 'shape': 'rect', 'name': 'parse_Sphere_Sapphire/60A/atom30', 'task_type': 'CommandLineTask', 'tags': ['parse'], 'input_files': [], 'output_files': [], 'num_cores': 1, 'command': '/home/oge1/lammps/sapphire/analysis/exec/parse.sh /home/oge1/lammps/sapphire/analysis/data/Sphere_Sapphire/60A/atom30 Sphere_Sapphire/60A/atom30'}, {'label': '38', 'shape': 'rect', 'name': 'analyze_Sphere_Sapphire/60A/atom30', 'task_type': 'CommandLineTask', 'tags': ['analyze'], 'input_files': [], 'output_files': [], 'num_cores': 1, 'command': '/home/oge1/lammps/sapphire/analysis/exec/analyze.sh /home/oge1/lammps/sapphire/analysis/results/Sphere_Sapphire/60A/atom30/calculated.txt Sphere_Sapphire/60A/atom30 polarScatter'}, {'label': '39', 'shape': 'rect', 'name': 'unzip_Cyl_Sapphire/Cyl100A_100/WrongCharge/atom1', 'task_type': 'CommandLineTask', 'tags': ['unzip'], 'input_files': [], 'output_files': [], 'num_cores': 1, 'command': 'mkdir -p /home/oge1/lammps/sapphire/analysis/data/Cyl_Sapphire/Cyl100A_100/WrongCharge && pbzip2 -n 1 -cdk /home/mtsige/Bob/Sub951By100/Cyl100A/WrongCharge/atom1.bz2 > /home/oge1/lammps/sapphire/analysis/data/Cyl_Sapphire/Cyl100A_100/WrongCharge/atom1'}, {'label': '40', 'shape': 'rect', 'name': 'parse_Cyl_Sapphire/Cyl100A_100/WrongCharge/atom1', 'task_type': 'CommandLineTask', 'tags': ['parse'], 'input_files': [], 'output_files': [], 'num_cores': 1, 'command': '/home/oge1/lammps/sapphire/analysis/exec/parse.sh /home/oge1/lammps/sapphire/analysis/data/Cyl_Sapphire/Cyl100A_100/WrongCharge/atom1 Cyl_Sapphire/Cyl100A_100/WrongCharge/atom1'}, {'label': '41', 'shape': 'rect', 'name': 'analyze_Cyl_Sapphire/Cyl100A_100/WrongCharge/atom1', 'task_type': 'CommandLineTask', 'tags': ['analyze'], 'input_files': [], 'output_files': [], 'num_cores': 1, 'command': '/home/oge1/lammps/sapphire/analysis/exec/analyze.sh /home/oge1/lammps/sapphire/analysis/results/Cyl_Sapphire/Cyl100A_100/WrongCharge/atom1/calculated.txt Cyl_Sapphire/Cyl100A_100/WrongCharge/atom1 cyl_analysis'}, {'label': '42', 'shape': 'rect', 'name': 'unzip_Sub951By50/atom1', 'task_type': 'CommandLineTask', 'tags': ['unzip'], 'input_files': [], 'output_files': [], 'num_cores': 1, 'command': 'mkdir -p /home/oge1/lammps/sapphire/analysis/data/Sub951By50 && pbzip2 -n 1 -cdk /home/mtsige/Bob/Sub951By50/atom1.bz2 > /home/oge1/lammps/sapphire/analysis/data/Sub951By50/atom1'}, {'label': '43', 'shape': 'rect', 'name': 'parse_Sub951By50/atom1', 'task_type': 'CommandLineTask', 'tags': ['parse'], 'input_files': [], 'output_files': [], 'num_cores': 1, 'command': '/home/oge1/lammps/sapphire/analysis/exec/parse.sh /home/oge1/lammps/sapphire/analysis/data/Sub951By50/atom1 Sub951By50/atom1'}, {'label': '44', 'shape': 'rect', 'name': 'analyze_Sub951By50/atom1', 'task_type': 'CommandLineTask', 'tags': ['analyze'], 'input_files': [], 'output_files': [], 'num_cores': 1, 'command': '/home/oge1/lammps/sapphire/analysis/exec/analyze.sh /home/oge1/lammps/sapphire/analysis/results/Sub951By50/atom1/calculated.txt Sub951By50/atom1 polarScatter'}, {'label': '45', 'shape': 'rect', 'name': 'parse_Cyl_Sapphire/Cyl60A_100_CorrectCharge/atom1', 'task_type': 'CommandLineTask', 'tags': ['parse'], 'input_files': [], 'output_files': [], 'num_cores': 1, 'command': '/home/oge1/lammps/sapphire/analysis/exec/parse.sh /home/oge1/lammps/sapphire/analysis/data/Cyl_Sapphire/Cyl60A_100_CorrectCharge/atom1 Cyl_Sapphire/Cyl60A_100_CorrectCharge/atom1'}, {'label': '46', 'shape': 'rect', 'name': 'analyze_Cyl_Sapphire/Cyl60A_100_CorrectCharge/atom1', 'task_type': 'CommandLineTask', 'tags': ['analyze'], 'input_files': [], 'output_files': [], 'num_cores': 1, 'command': '/home/oge1/lammps/sapphire/analysis/exec/analyze.sh /home/oge1/lammps/sapphire/analysis/results/Cyl_Sapphire/Cyl60A_100_CorrectCharge/atom1/calculated.txt Cyl_Sapphire/Cyl60A_100_CorrectCharge/atom1 cyl_analysis'}, {'label': '47', 'shape': 'rect', 'name': 'parse_Cyl_Sapphire/Cyl60A_100_CorrectCharge/atom2', 'task_type': 'CommandLineTask', 'tags': ['parse'], 'input_files': [], 'output_files': [], 'num_cores': 1, 'command': '/home/oge1/lammps/sapphire/analysis/exec/parse.sh /home/oge1/lammps/sapphire/analysis/data/Cyl_Sapphire/Cyl60A_100_CorrectCharge/atom2 Cyl_Sapphire/Cyl60A_100_CorrectCharge/atom2'}, {'label': '48', 'shape': 'rect', 'name': 'analyze_Cyl_Sapphire/Cyl60A_100_CorrectCharge/atom2', 'task_type': 'CommandLineTask', 'tags': ['analyze'], 'input_files': [], 'output_files': [], 'num_cores': 1, 'command': '/home/oge1/lammps/sapphire/analysis/exec/analyze.sh /home/oge1/lammps/sapphire/analysis/results/Cyl_Sapphire/Cyl60A_100_CorrectCharge/atom2/calculated.txt Cyl_Sapphire/Cyl60A_100_CorrectCharge/atom2 cyl_analysis'}, {'label': '49', 'shape': 'rect', 'name': 'analyze_Cyl_Sapphire/Cyl50A_100/CorrectCharge/atom1', 'task_type': 'CommandLineTask', 'tags': ['analyze'], 'input_files': [], 'output_files': [], 'num_cores': 1, 'command': '/home/oge1/lammps/sapphire/analysis/exec/analyze.sh /home/oge1/lammps/sapphire/analysis/results/Cyl_Sapphire/Cyl50A_100/CorrectCharge/atom1/calculated.txt Cyl_Sapphire/Cyl50A_100/CorrectCharge/atom1 cyl_analysis'}], scales={'x': LinearScale(), 'y': LinearScale()}, scales_metadata={'x': {'orientation': 'horizontal', 'dimension': 'x'}, 'y': {'orientation': 'vertical', 'dimension': 'y'}, 'color': {'dimension': 'color'}, 'link_color': {'dimension': 'link_color'}}, selected=[0], selected_style={'stroke': 'red'}, tooltip_style={'opacity': 0.9}, x=array([   287.,    287.,    287.,    880.,    880.,    880.,   1473.,\n",
       "         1473.,   1473.,   2066.,   2066.,   2066.,   2660.,   2660.,\n",
       "         2660.,   3254.,   3254.,   3254.,   3847.,   3847.,   3847.,\n",
       "         4439.,   4439.,   4439.,   5031.,   5031.,   5031.,   5621.,\n",
       "         5621.,   5621.,   6209.,   6209.,   6209.,   6797.,   6797.,\n",
       "         6797.,   7385.,   7385.,   7385.,   7973.,   7973.,   7973.,\n",
       "         8561.,   8561.,   8561.,   9149.,   9149.,   9737.,   9737.,\n",
       "        10323.]), y=array([ 162.,   90.,   18.,  162.,   90.,   18.,  162.,   90.,   18.,\n",
       "        162.,   90.,   18.,  162.,   90.,   18.,  162.,   90.,   18.,\n",
       "        162.,   90.,   18.,  162.,   90.,   18.,  162.,   90.,   18.,\n",
       "        162.,   90.,   18.,  162.,   90.,   18.,  162.,   90.,   18.,\n",
       "        162.,   90.,   18.,  162.,   90.,   18.,  162.,   90.,   18.,\n",
       "        162.,   90.,  162.,   90.,  162.]))], min_aspect_ratio=0.0, scale_x=LinearScale(allow_padding=False, max=1.0, min=0.0), scale_y=LinearScale(allow_padding=False, max=1.0, min=0.0)), Toolbar(figure=Figure(fig_margin={'left': 10, 'right': 10, 'bottom': 10, 'top': 10}, layout=Layout(height='600px', width='400px'), marks=[Graph(colors=['#1f77b4', '#ff7f0e', '#2ca02c', '#d62728', '#9467bd', '#8c564b', '#e377c2', '#7f7f7f', '#bcbd22', '#17becf'], highlight_links=False, interactions={'hover': 'tooltip', 'click': 'select'}, link_data=[{'source': 0, 'target': 1}, {'source': 1, 'target': 2}, {'source': 3, 'target': 4}, {'source': 4, 'target': 5}, {'source': 6, 'target': 7}, {'source': 7, 'target': 8}, {'source': 9, 'target': 10}, {'source': 10, 'target': 11}, {'source': 12, 'target': 13}, {'source': 13, 'target': 14}, {'source': 15, 'target': 16}, {'source': 16, 'target': 17}, {'source': 18, 'target': 19}, {'source': 19, 'target': 20}, {'source': 21, 'target': 22}, {'source': 22, 'target': 23}, {'source': 24, 'target': 25}, {'source': 25, 'target': 26}, {'source': 27, 'target': 28}, {'source': 28, 'target': 29}, {'source': 30, 'target': 31}, {'source': 31, 'target': 32}, {'source': 33, 'target': 34}, {'source': 34, 'target': 35}, {'source': 36, 'target': 37}, {'source': 37, 'target': 38}, {'source': 39, 'target': 40}, {'source': 40, 'target': 41}, {'source': 42, 'target': 43}, {'source': 43, 'target': 44}, {'source': 45, 'target': 46}, {'source': 47, 'target': 48}], link_type='line', node_data=[{'label': '0', 'shape': 'rect', 'name': 'link_Cyl_Sapphire/Cyl50A_100_CorrectCharge/atom1', 'task_type': 'CommandLineTask', 'tags': ['link'], 'input_files': [], 'output_files': [], 'num_cores': 1, 'command': 'mkdir -p /home/oge1/lammps/sapphire/analysis/data/Cyl_Sapphire/Cyl50A_100_CorrectCharge && ln -s /home/mtsige/Bob/Sub951By100/Cyl50A/CorrectCharge/atom1 /home/oge1/lammps/sapphire/analysis/data/Cyl_Sapphire/Cyl50A_100_CorrectCharge/atom1'}, {'label': '1', 'shape': 'rect', 'name': 'parse_Cyl_Sapphire/Cyl50A_100_CorrectCharge/atom1', 'task_type': 'CommandLineTask', 'tags': ['parse'], 'input_files': [], 'output_files': [], 'num_cores': 1, 'command': '/home/oge1/lammps/sapphire/analysis/exec/parse.sh /home/oge1/lammps/sapphire/analysis/data/Cyl_Sapphire/Cyl50A_100_CorrectCharge/atom1 Cyl_Sapphire/Cyl50A_100_CorrectCharge/atom1'}, {'label': '2', 'shape': 'rect', 'name': 'analyze_Cyl_Sapphire/Cyl50A_100_CorrectCharge/atom1', 'task_type': 'CommandLineTask', 'tags': ['analyze'], 'input_files': [], 'output_files': [], 'num_cores': 1, 'command': '/home/oge1/lammps/sapphire/analysis/exec/analyze.sh /home/oge1/lammps/sapphire/analysis/results/Cyl_Sapphire/Cyl50A_100_CorrectCharge/atom1/calculated.txt Cyl_Sapphire/Cyl50A_100_CorrectCharge/atom1 cyl_analysis'}, {'label': '3', 'shape': 'rect', 'name': 'link_Cyl_Sapphire/Cyl50A_100_CorrectCharge/atom2', 'task_type': 'CommandLineTask', 'tags': ['link'], 'input_files': [], 'output_files': [], 'num_cores': 1, 'command': 'mkdir -p /home/oge1/lammps/sapphire/analysis/data/Cyl_Sapphire/Cyl50A_100_CorrectCharge && ln -s /home/mtsige/Bob/Sub951By100/Cyl50A/CorrectCharge/atom2 /home/oge1/lammps/sapphire/analysis/data/Cyl_Sapphire/Cyl50A_100_CorrectCharge/atom2'}, {'label': '4', 'shape': 'rect', 'name': 'parse_Cyl_Sapphire/Cyl50A_100_CorrectCharge/atom2', 'task_type': 'CommandLineTask', 'tags': ['parse'], 'input_files': [], 'output_files': [], 'num_cores': 1, 'command': '/home/oge1/lammps/sapphire/analysis/exec/parse.sh /home/oge1/lammps/sapphire/analysis/data/Cyl_Sapphire/Cyl50A_100_CorrectCharge/atom2 Cyl_Sapphire/Cyl50A_100_CorrectCharge/atom2'}, {'label': '5', 'shape': 'rect', 'name': 'analyze_Cyl_Sapphire/Cyl50A_100_CorrectCharge/atom2', 'task_type': 'CommandLineTask', 'tags': ['analyze'], 'input_files': [], 'output_files': [], 'num_cores': 1, 'command': '/home/oge1/lammps/sapphire/analysis/exec/analyze.sh /home/oge1/lammps/sapphire/analysis/results/Cyl_Sapphire/Cyl50A_100_CorrectCharge/atom2/calculated.txt Cyl_Sapphire/Cyl50A_100_CorrectCharge/atom2 cyl_analysis'}, {'label': '6', 'shape': 'rect', 'name': 'link_Cyl_Sapphire/Cyl100A_100_CorrectCharge/atom1', 'task_type': 'CommandLineTask', 'tags': ['link'], 'input_files': [], 'output_files': [], 'num_cores': 1, 'command': 'mkdir -p /home/oge1/lammps/sapphire/analysis/data/Cyl_Sapphire/Cyl100A_100_CorrectCharge && ln -s /home/mtsige/Bob/Sub951By100/Cyl100A/CorrectCharge/atom1 /home/oge1/lammps/sapphire/analysis/data/Cyl_Sapphire/Cyl100A_100_CorrectCharge/atom1'}, {'label': '7', 'shape': 'rect', 'name': 'parse_Cyl_Sapphire/Cyl100A_100_CorrectCharge/atom1', 'task_type': 'CommandLineTask', 'tags': ['parse'], 'input_files': [], 'output_files': [], 'num_cores': 1, 'command': '/home/oge1/lammps/sapphire/analysis/exec/parse.sh /home/oge1/lammps/sapphire/analysis/data/Cyl_Sapphire/Cyl100A_100_CorrectCharge/atom1 Cyl_Sapphire/Cyl100A_100_CorrectCharge/atom1'}, {'label': '8', 'shape': 'rect', 'name': 'analyze_Cyl_Sapphire/Cyl100A_100_CorrectCharge/atom1', 'task_type': 'CommandLineTask', 'tags': ['analyze'], 'input_files': [], 'output_files': [], 'num_cores': 1, 'command': '/home/oge1/lammps/sapphire/analysis/exec/analyze.sh /home/oge1/lammps/sapphire/analysis/results/Cyl_Sapphire/Cyl100A_100_CorrectCharge/atom1/calculated.txt Cyl_Sapphire/Cyl100A_100_CorrectCharge/atom1 cyl_analysis'}, {'label': '9', 'shape': 'rect', 'name': 'link_Cyl_Sapphire/Cyl100A_100_CorrectCharge/atom2', 'task_type': 'CommandLineTask', 'tags': ['link'], 'input_files': [], 'output_files': [], 'num_cores': 1, 'command': 'mkdir -p /home/oge1/lammps/sapphire/analysis/data/Cyl_Sapphire/Cyl100A_100_CorrectCharge && ln -s /home/mtsige/Bob/Sub951By100/Cyl100A/CorrectCharge/atom2 /home/oge1/lammps/sapphire/analysis/data/Cyl_Sapphire/Cyl100A_100_CorrectCharge/atom2'}, {'label': '10', 'shape': 'rect', 'name': 'parse_Cyl_Sapphire/Cyl100A_100_CorrectCharge/atom2', 'task_type': 'CommandLineTask', 'tags': ['parse'], 'input_files': [], 'output_files': [], 'num_cores': 1, 'command': '/home/oge1/lammps/sapphire/analysis/exec/parse.sh /home/oge1/lammps/sapphire/analysis/data/Cyl_Sapphire/Cyl100A_100_CorrectCharge/atom2 Cyl_Sapphire/Cyl100A_100_CorrectCharge/atom2'}, {'label': '11', 'shape': 'rect', 'name': 'analyze_Cyl_Sapphire/Cyl100A_100_CorrectCharge/atom2', 'task_type': 'CommandLineTask', 'tags': ['analyze'], 'input_files': [], 'output_files': [], 'num_cores': 1, 'command': '/home/oge1/lammps/sapphire/analysis/exec/analyze.sh /home/oge1/lammps/sapphire/analysis/results/Cyl_Sapphire/Cyl100A_100_CorrectCharge/atom2/calculated.txt Cyl_Sapphire/Cyl100A_100_CorrectCharge/atom2 cyl_analysis'}, {'label': '12', 'shape': 'rect', 'name': 'link_Cyl_Sapphire/Cyl100A_100_CorrectCharge/atom3', 'task_type': 'CommandLineTask', 'tags': ['link'], 'input_files': [], 'output_files': [], 'num_cores': 1, 'command': 'mkdir -p /home/oge1/lammps/sapphire/analysis/data/Cyl_Sapphire/Cyl100A_100_CorrectCharge && ln -s /home/mtsige/Bob/Sub951By100/Cyl100A/CorrectCharge/atom3 /home/oge1/lammps/sapphire/analysis/data/Cyl_Sapphire/Cyl100A_100_CorrectCharge/atom3'}, {'label': '13', 'shape': 'rect', 'name': 'parse_Cyl_Sapphire/Cyl100A_100_CorrectCharge/atom3', 'task_type': 'CommandLineTask', 'tags': ['parse'], 'input_files': [], 'output_files': [], 'num_cores': 1, 'command': '/home/oge1/lammps/sapphire/analysis/exec/parse.sh /home/oge1/lammps/sapphire/analysis/data/Cyl_Sapphire/Cyl100A_100_CorrectCharge/atom3 Cyl_Sapphire/Cyl100A_100_CorrectCharge/atom3'}, {'label': '14', 'shape': 'rect', 'name': 'analyze_Cyl_Sapphire/Cyl100A_100_CorrectCharge/atom3', 'task_type': 'CommandLineTask', 'tags': ['analyze'], 'input_files': [], 'output_files': [], 'num_cores': 1, 'command': '/home/oge1/lammps/sapphire/analysis/exec/analyze.sh /home/oge1/lammps/sapphire/analysis/results/Cyl_Sapphire/Cyl100A_100_CorrectCharge/atom3/calculated.txt Cyl_Sapphire/Cyl100A_100_CorrectCharge/atom3 cyl_analysis'}, {'label': '15', 'shape': 'rect', 'name': 'link_LowContactAngle/OnBilayerWetted/atom1', 'task_type': 'CommandLineTask', 'tags': ['link'], 'input_files': [], 'output_files': [], 'num_cores': 1, 'command': 'mkdir -p /home/oge1/lammps/sapphire/analysis/data/LowContactAngle/OnBilayerWetted && ln -s /home/mtsige/Bob/LowContactAngle/OnBilayerWetted/atom1 /home/oge1/lammps/sapphire/analysis/data/LowContactAngle/OnBilayerWetted/atom1'}, {'label': '16', 'shape': 'rect', 'name': 'parse_LowContactAngle/OnBilayerWetted/atom1', 'task_type': 'CommandLineTask', 'tags': ['parse'], 'input_files': [], 'output_files': [], 'num_cores': 1, 'command': '/home/oge1/lammps/sapphire/analysis/exec/parse.sh /home/oge1/lammps/sapphire/analysis/data/LowContactAngle/OnBilayerWetted/atom1 LowContactAngle/OnBilayerWetted/atom1'}, {'label': '17', 'shape': 'rect', 'name': 'analyze_LowContactAngle/OnBilayerWetted/atom1', 'task_type': 'CommandLineTask', 'tags': ['analyze'], 'input_files': [], 'output_files': [], 'num_cores': 1, 'command': '/home/oge1/lammps/sapphire/analysis/exec/analyze.sh /home/oge1/lammps/sapphire/analysis/results/LowContactAngle/OnBilayerWetted/atom1/calculated.txt LowContactAngle/OnBilayerWetted/atom1 polarScatter'}, {'label': '18', 'shape': 'rect', 'name': 'link_LowContactAngle/OnBilayerWetted/atom2', 'task_type': 'CommandLineTask', 'tags': ['link'], 'input_files': [], 'output_files': [], 'num_cores': 1, 'command': 'mkdir -p /home/oge1/lammps/sapphire/analysis/data/LowContactAngle/OnBilayerWetted && ln -s /home/mtsige/Bob/LowContactAngle/OnBilayerWetted/atom2 /home/oge1/lammps/sapphire/analysis/data/LowContactAngle/OnBilayerWetted/atom2'}, {'label': '19', 'shape': 'rect', 'name': 'parse_LowContactAngle/OnBilayerWetted/atom2', 'task_type': 'CommandLineTask', 'tags': ['parse'], 'input_files': [], 'output_files': [], 'num_cores': 1, 'command': '/home/oge1/lammps/sapphire/analysis/exec/parse.sh /home/oge1/lammps/sapphire/analysis/data/LowContactAngle/OnBilayerWetted/atom2 LowContactAngle/OnBilayerWetted/atom2'}, {'label': '20', 'shape': 'rect', 'name': 'analyze_LowContactAngle/OnBilayerWetted/atom2', 'task_type': 'CommandLineTask', 'tags': ['analyze'], 'input_files': [], 'output_files': [], 'num_cores': 1, 'command': '/home/oge1/lammps/sapphire/analysis/exec/analyze.sh /home/oge1/lammps/sapphire/analysis/results/LowContactAngle/OnBilayerWetted/atom2/calculated.txt LowContactAngle/OnBilayerWetted/atom2 polarScatter'}, {'label': '21', 'shape': 'rect', 'name': 'link_LowContactAngle/atom1', 'task_type': 'CommandLineTask', 'tags': ['link'], 'input_files': [], 'output_files': [], 'num_cores': 1, 'command': 'mkdir -p /home/oge1/lammps/sapphire/analysis/data/LowContactAngle && ln -s /home/mtsige/Bob/LowContactAngle/atom1 /home/oge1/lammps/sapphire/analysis/data/LowContactAngle/atom1'}, {'label': '22', 'shape': 'rect', 'name': 'parse_LowContactAngle/atom1', 'task_type': 'CommandLineTask', 'tags': ['parse'], 'input_files': [], 'output_files': [], 'num_cores': 1, 'command': '/home/oge1/lammps/sapphire/analysis/exec/parse.sh /home/oge1/lammps/sapphire/analysis/data/LowContactAngle/atom1 LowContactAngle/atom1'}, {'label': '23', 'shape': 'rect', 'name': 'analyze_LowContactAngle/atom1', 'task_type': 'CommandLineTask', 'tags': ['analyze'], 'input_files': [], 'output_files': [], 'num_cores': 1, 'command': '/home/oge1/lammps/sapphire/analysis/exec/analyze.sh /home/oge1/lammps/sapphire/analysis/results/LowContactAngle/atom1/calculated.txt LowContactAngle/atom1 polarScatter'}, {'label': '24', 'shape': 'rect', 'name': 'link_Sphere_Sapphire/50A/atom13', 'task_type': 'CommandLineTask', 'tags': ['link'], 'input_files': [], 'output_files': [], 'num_cores': 1, 'command': 'mkdir -p /home/oge1/lammps/sapphire/analysis/data/Sphere_Sapphire/50A && ln -s /home/mtsige/Bob/Sub3/50A/atom13 /home/oge1/lammps/sapphire/analysis/data/Sphere_Sapphire/50A/atom13'}, {'label': '25', 'shape': 'rect', 'name': 'parse_Sphere_Sapphire/50A/atom13', 'task_type': 'CommandLineTask', 'tags': ['parse'], 'input_files': [], 'output_files': [], 'num_cores': 1, 'command': '/home/oge1/lammps/sapphire/analysis/exec/parse.sh /home/oge1/lammps/sapphire/analysis/data/Sphere_Sapphire/50A/atom13 Sphere_Sapphire/50A/atom13'}, {'label': '26', 'shape': 'rect', 'name': 'analyze_Sphere_Sapphire/50A/atom13', 'task_type': 'CommandLineTask', 'tags': ['analyze'], 'input_files': [], 'output_files': [], 'num_cores': 1, 'command': '/home/oge1/lammps/sapphire/analysis/exec/analyze.sh /home/oge1/lammps/sapphire/analysis/results/Sphere_Sapphire/50A/atom13/calculated.txt Sphere_Sapphire/50A/atom13 polarScatter'}, {'label': '27', 'shape': 'rect', 'name': 'link_Sphere_Sapphire/60A/SlabonWettedBilayer/atom2', 'task_type': 'CommandLineTask', 'tags': ['link'], 'input_files': [], 'output_files': [], 'num_cores': 1, 'command': 'mkdir -p /home/oge1/lammps/sapphire/analysis/data/Sphere_Sapphire/60A/SlabonWettedBilayer && ln -s /home/mtsige/Bob/Sub3/60A/SlabonWettedBilayer/atom2 /home/oge1/lammps/sapphire/analysis/data/Sphere_Sapphire/60A/SlabonWettedBilayer/atom2'}, {'label': '28', 'shape': 'rect', 'name': 'parse_Sphere_Sapphire/60A/SlabonWettedBilayer/atom2', 'task_type': 'CommandLineTask', 'tags': ['parse'], 'input_files': [], 'output_files': [], 'num_cores': 1, 'command': '/home/oge1/lammps/sapphire/analysis/exec/parse.sh /home/oge1/lammps/sapphire/analysis/data/Sphere_Sapphire/60A/SlabonWettedBilayer/atom2 Sphere_Sapphire/60A/SlabonWettedBilayer/atom2'}, {'label': '29', 'shape': 'rect', 'name': 'analyze_Sphere_Sapphire/60A/SlabonWettedBilayer/atom2', 'task_type': 'CommandLineTask', 'tags': ['analyze'], 'input_files': [], 'output_files': [], 'num_cores': 1, 'command': '/home/oge1/lammps/sapphire/analysis/exec/analyze.sh /home/oge1/lammps/sapphire/analysis/results/Sphere_Sapphire/60A/SlabonWettedBilayer/atom2/calculated.txt Sphere_Sapphire/60A/SlabonWettedBilayer/atom2 polarScatter'}, {'label': '30', 'shape': 'rect', 'name': 'link_Sphere_Sapphire/60A/SlabonWettedBilayer/atom3', 'task_type': 'CommandLineTask', 'tags': ['link'], 'input_files': [], 'output_files': [], 'num_cores': 1, 'command': 'mkdir -p /home/oge1/lammps/sapphire/analysis/data/Sphere_Sapphire/60A/SlabonWettedBilayer && ln -s /home/mtsige/Bob/Sub3/60A/SlabonWettedBilayer/atom3 /home/oge1/lammps/sapphire/analysis/data/Sphere_Sapphire/60A/SlabonWettedBilayer/atom3'}, {'label': '31', 'shape': 'rect', 'name': 'parse_Sphere_Sapphire/60A/SlabonWettedBilayer/atom3', 'task_type': 'CommandLineTask', 'tags': ['parse'], 'input_files': [], 'output_files': [], 'num_cores': 1, 'command': '/home/oge1/lammps/sapphire/analysis/exec/parse.sh /home/oge1/lammps/sapphire/analysis/data/Sphere_Sapphire/60A/SlabonWettedBilayer/atom3 Sphere_Sapphire/60A/SlabonWettedBilayer/atom3'}, {'label': '32', 'shape': 'rect', 'name': 'analyze_Sphere_Sapphire/60A/SlabonWettedBilayer/atom3', 'task_type': 'CommandLineTask', 'tags': ['analyze'], 'input_files': [], 'output_files': [], 'num_cores': 1, 'command': '/home/oge1/lammps/sapphire/analysis/exec/analyze.sh /home/oge1/lammps/sapphire/analysis/results/Sphere_Sapphire/60A/SlabonWettedBilayer/atom3/calculated.txt Sphere_Sapphire/60A/SlabonWettedBilayer/atom3 polarScatter'}, {'label': '33', 'shape': 'rect', 'name': 'link_Sphere_Sapphire/60A/atom29', 'task_type': 'CommandLineTask', 'tags': ['link'], 'input_files': [], 'output_files': [], 'num_cores': 1, 'command': 'mkdir -p /home/oge1/lammps/sapphire/analysis/data/Sphere_Sapphire/60A && ln -s /home/mtsige/Bob/Sub3/60A/atom29 /home/oge1/lammps/sapphire/analysis/data/Sphere_Sapphire/60A/atom29'}, {'label': '34', 'shape': 'rect', 'name': 'parse_Sphere_Sapphire/60A/atom29', 'task_type': 'CommandLineTask', 'tags': ['parse'], 'input_files': [], 'output_files': [], 'num_cores': 1, 'command': '/home/oge1/lammps/sapphire/analysis/exec/parse.sh /home/oge1/lammps/sapphire/analysis/data/Sphere_Sapphire/60A/atom29 Sphere_Sapphire/60A/atom29'}, {'label': '35', 'shape': 'rect', 'name': 'analyze_Sphere_Sapphire/60A/atom29', 'task_type': 'CommandLineTask', 'tags': ['analyze'], 'input_files': [], 'output_files': [], 'num_cores': 1, 'command': '/home/oge1/lammps/sapphire/analysis/exec/analyze.sh /home/oge1/lammps/sapphire/analysis/results/Sphere_Sapphire/60A/atom29/calculated.txt Sphere_Sapphire/60A/atom29 polarScatter'}, {'label': '36', 'shape': 'rect', 'name': 'link_Sphere_Sapphire/60A/atom30', 'task_type': 'CommandLineTask', 'tags': ['link'], 'input_files': [], 'output_files': [], 'num_cores': 1, 'command': 'mkdir -p /home/oge1/lammps/sapphire/analysis/data/Sphere_Sapphire/60A && ln -s /home/mtsige/Bob/Sub3/60A/atom30 /home/oge1/lammps/sapphire/analysis/data/Sphere_Sapphire/60A/atom30'}, {'label': '37', 'shape': 'rect', 'name': 'parse_Sphere_Sapphire/60A/atom30', 'task_type': 'CommandLineTask', 'tags': ['parse'], 'input_files': [], 'output_files': [], 'num_cores': 1, 'command': '/home/oge1/lammps/sapphire/analysis/exec/parse.sh /home/oge1/lammps/sapphire/analysis/data/Sphere_Sapphire/60A/atom30 Sphere_Sapphire/60A/atom30'}, {'label': '38', 'shape': 'rect', 'name': 'analyze_Sphere_Sapphire/60A/atom30', 'task_type': 'CommandLineTask', 'tags': ['analyze'], 'input_files': [], 'output_files': [], 'num_cores': 1, 'command': '/home/oge1/lammps/sapphire/analysis/exec/analyze.sh /home/oge1/lammps/sapphire/analysis/results/Sphere_Sapphire/60A/atom30/calculated.txt Sphere_Sapphire/60A/atom30 polarScatter'}, {'label': '39', 'shape': 'rect', 'name': 'unzip_Cyl_Sapphire/Cyl100A_100/WrongCharge/atom1', 'task_type': 'CommandLineTask', 'tags': ['unzip'], 'input_files': [], 'output_files': [], 'num_cores': 1, 'command': 'mkdir -p /home/oge1/lammps/sapphire/analysis/data/Cyl_Sapphire/Cyl100A_100/WrongCharge && pbzip2 -n 1 -cdk /home/mtsige/Bob/Sub951By100/Cyl100A/WrongCharge/atom1.bz2 > /home/oge1/lammps/sapphire/analysis/data/Cyl_Sapphire/Cyl100A_100/WrongCharge/atom1'}, {'label': '40', 'shape': 'rect', 'name': 'parse_Cyl_Sapphire/Cyl100A_100/WrongCharge/atom1', 'task_type': 'CommandLineTask', 'tags': ['parse'], 'input_files': [], 'output_files': [], 'num_cores': 1, 'command': '/home/oge1/lammps/sapphire/analysis/exec/parse.sh /home/oge1/lammps/sapphire/analysis/data/Cyl_Sapphire/Cyl100A_100/WrongCharge/atom1 Cyl_Sapphire/Cyl100A_100/WrongCharge/atom1'}, {'label': '41', 'shape': 'rect', 'name': 'analyze_Cyl_Sapphire/Cyl100A_100/WrongCharge/atom1', 'task_type': 'CommandLineTask', 'tags': ['analyze'], 'input_files': [], 'output_files': [], 'num_cores': 1, 'command': '/home/oge1/lammps/sapphire/analysis/exec/analyze.sh /home/oge1/lammps/sapphire/analysis/results/Cyl_Sapphire/Cyl100A_100/WrongCharge/atom1/calculated.txt Cyl_Sapphire/Cyl100A_100/WrongCharge/atom1 cyl_analysis'}, {'label': '42', 'shape': 'rect', 'name': 'unzip_Sub951By50/atom1', 'task_type': 'CommandLineTask', 'tags': ['unzip'], 'input_files': [], 'output_files': [], 'num_cores': 1, 'command': 'mkdir -p /home/oge1/lammps/sapphire/analysis/data/Sub951By50 && pbzip2 -n 1 -cdk /home/mtsige/Bob/Sub951By50/atom1.bz2 > /home/oge1/lammps/sapphire/analysis/data/Sub951By50/atom1'}, {'label': '43', 'shape': 'rect', 'name': 'parse_Sub951By50/atom1', 'task_type': 'CommandLineTask', 'tags': ['parse'], 'input_files': [], 'output_files': [], 'num_cores': 1, 'command': '/home/oge1/lammps/sapphire/analysis/exec/parse.sh /home/oge1/lammps/sapphire/analysis/data/Sub951By50/atom1 Sub951By50/atom1'}, {'label': '44', 'shape': 'rect', 'name': 'analyze_Sub951By50/atom1', 'task_type': 'CommandLineTask', 'tags': ['analyze'], 'input_files': [], 'output_files': [], 'num_cores': 1, 'command': '/home/oge1/lammps/sapphire/analysis/exec/analyze.sh /home/oge1/lammps/sapphire/analysis/results/Sub951By50/atom1/calculated.txt Sub951By50/atom1 polarScatter'}, {'label': '45', 'shape': 'rect', 'name': 'parse_Cyl_Sapphire/Cyl60A_100_CorrectCharge/atom1', 'task_type': 'CommandLineTask', 'tags': ['parse'], 'input_files': [], 'output_files': [], 'num_cores': 1, 'command': '/home/oge1/lammps/sapphire/analysis/exec/parse.sh /home/oge1/lammps/sapphire/analysis/data/Cyl_Sapphire/Cyl60A_100_CorrectCharge/atom1 Cyl_Sapphire/Cyl60A_100_CorrectCharge/atom1'}, {'label': '46', 'shape': 'rect', 'name': 'analyze_Cyl_Sapphire/Cyl60A_100_CorrectCharge/atom1', 'task_type': 'CommandLineTask', 'tags': ['analyze'], 'input_files': [], 'output_files': [], 'num_cores': 1, 'command': '/home/oge1/lammps/sapphire/analysis/exec/analyze.sh /home/oge1/lammps/sapphire/analysis/results/Cyl_Sapphire/Cyl60A_100_CorrectCharge/atom1/calculated.txt Cyl_Sapphire/Cyl60A_100_CorrectCharge/atom1 cyl_analysis'}, {'label': '47', 'shape': 'rect', 'name': 'parse_Cyl_Sapphire/Cyl60A_100_CorrectCharge/atom2', 'task_type': 'CommandLineTask', 'tags': ['parse'], 'input_files': [], 'output_files': [], 'num_cores': 1, 'command': '/home/oge1/lammps/sapphire/analysis/exec/parse.sh /home/oge1/lammps/sapphire/analysis/data/Cyl_Sapphire/Cyl60A_100_CorrectCharge/atom2 Cyl_Sapphire/Cyl60A_100_CorrectCharge/atom2'}, {'label': '48', 'shape': 'rect', 'name': 'analyze_Cyl_Sapphire/Cyl60A_100_CorrectCharge/atom2', 'task_type': 'CommandLineTask', 'tags': ['analyze'], 'input_files': [], 'output_files': [], 'num_cores': 1, 'command': '/home/oge1/lammps/sapphire/analysis/exec/analyze.sh /home/oge1/lammps/sapphire/analysis/results/Cyl_Sapphire/Cyl60A_100_CorrectCharge/atom2/calculated.txt Cyl_Sapphire/Cyl60A_100_CorrectCharge/atom2 cyl_analysis'}, {'label': '49', 'shape': 'rect', 'name': 'analyze_Cyl_Sapphire/Cyl50A_100/CorrectCharge/atom1', 'task_type': 'CommandLineTask', 'tags': ['analyze'], 'input_files': [], 'output_files': [], 'num_cores': 1, 'command': '/home/oge1/lammps/sapphire/analysis/exec/analyze.sh /home/oge1/lammps/sapphire/analysis/results/Cyl_Sapphire/Cyl50A_100/CorrectCharge/atom1/calculated.txt Cyl_Sapphire/Cyl50A_100/CorrectCharge/atom1 cyl_analysis'}], scales={'x': LinearScale(), 'y': LinearScale()}, scales_metadata={'x': {'orientation': 'horizontal', 'dimension': 'x'}, 'y': {'orientation': 'vertical', 'dimension': 'y'}, 'color': {'dimension': 'color'}, 'link_color': {'dimension': 'link_color'}}, selected=[0], selected_style={'stroke': 'red'}, tooltip_style={'opacity': 0.9}, x=array([   287.,    287.,    287.,    880.,    880.,    880.,   1473.,\n",
       "         1473.,   1473.,   2066.,   2066.,   2066.,   2660.,   2660.,\n",
       "         2660.,   3254.,   3254.,   3254.,   3847.,   3847.,   3847.,\n",
       "         4439.,   4439.,   4439.,   5031.,   5031.,   5031.,   5621.,\n",
       "         5621.,   5621.,   6209.,   6209.,   6209.,   6797.,   6797.,\n",
       "         6797.,   7385.,   7385.,   7385.,   7973.,   7973.,   7973.,\n",
       "         8561.,   8561.,   8561.,   9149.,   9149.,   9737.,   9737.,\n",
       "        10323.]), y=array([ 162.,   90.,   18.,  162.,   90.,   18.,  162.,   90.,   18.,\n",
       "        162.,   90.,   18.,  162.,   90.,   18.,  162.,   90.,   18.,\n",
       "        162.,   90.,   18.,  162.,   90.,   18.,  162.,   90.,   18.,\n",
       "        162.,   90.,   18.,  162.,   90.,   18.,  162.,   90.,   18.,\n",
       "        162.,   90.,   18.,  162.,   90.,   18.,  162.,   90.,   18.,\n",
       "        162.,   90.,  162.,   90.,  162.]))], min_aspect_ratio=0.0, scale_x=LinearScale(allow_padding=False, max=1.0, min=0.0), scale_y=LinearScale(allow_padding=False, max=1.0, min=0.0))))), Tab(children=(VBox(children=(HTML(value='<b>Workflow Description</b>'), EditHTML(children=(HTMLMath(value='', layout=Layout(border='1px lightgray solid', padding='10px')), Button(description='Edit Description', style=ButtonStyle()))), Box(layout=Layout(height='20px', width='0px')), HTML(value='<b>Worker Pools</b>'), VBox(children=(Dropdown(options=(('default', <kale.workflow_objects.WorkerPool object at 0x2aaac324ce80>),), value=<kale.workflow_objects.WorkerPool object at 0x2aaac324ce80>), Button(button_style='success', description='Run Workflow', style=ButtonStyle()))))), VBox(children=(HTML(value='<b>Task Description</b>'), EditHTML(children=(HTMLMath(value='None selected.', layout=Layout(border='1px lightgray solid', padding='10px')), Button(description='Edit Description', disabled=True, style=ButtonStyle()))), Box(layout=Layout(height='20px', width='0px')), HTML(value=''), Button(button_style='info', description='Continue Workflow', layout=Layout(visibility='hidden'), style=ButtonStyle()), Box(layout=Layout(height='20px', width='0px')), HTML(value='<b>Task Metadata</b>'), HTML(value=''))), VBox(children=(HTML(value='<b>Tags</b>'), Select(options=('link', 'parse', 'analyze', 'unzip'), value='link'), HTML(value='<b>Actions</b>'), Text(value='', description='Tag name'), HBox(children=(VBox(children=(Button(description='Select All', style=ButtonStyle()), Button(description='Select None', style=ButtonStyle()), Button(description='Select Children', style=ButtonStyle()), Button(description='Select Parents', style=ButtonStyle()), Button(description='Tag to Selection', style=ButtonStyle()), Button(description='Selection to Tag', style=ButtonStyle()))), VBox(children=(Button(description='New Tag', style=ButtonStyle()), Button(description='Del Tag', style=ButtonStyle()))))))), VBox(children=(HTML(value='<b>Messages from WorkflowWidget:</b>'), Box(children=(Output(),), layout=Layout(border='1px lightgray solid', padding='10px')), Box(layout=Layout(height='10px', width='0px')), Button(description='Clear', style=ButtonStyle())))), layout=Layout(height='600px', width='400px'), _titles={'0': 'Workflow', '1': 'Task', '2': 'Tags', '3': 'Widget Log'})))"
      ]
     },
     "metadata": {},
     "output_type": "display_data"
    }
   ],
   "source": [
    "wsww = WorkflowWidget(wf, wpw)\n",
    "wsww"
   ]
  },
  {
   "cell_type": "code",
   "execution_count": 8,
   "metadata": {},
   "outputs": [
    {
     "data": {
      "text/plain": [
       "'/home/oge1/kale/kale/examples/notebooks'"
      ]
     },
     "execution_count": 8,
     "metadata": {},
     "output_type": "execute_result"
    }
   ],
   "source": [
    "pwd"
   ]
  },
  {
   "cell_type": "code",
   "execution_count": 9,
   "metadata": {},
   "outputs": [
    {
     "data": {
      "application/vnd.jupyter.widget-view+json": {
       "model_id": "28fe5b64222440c2a5858028da8c223a",
       "version_major": 2,
       "version_minor": 0
      },
      "text/html": [
       "<p>Failed to display Jupyter Widget of type <code>NEWTAuthWidget</code>.</p>\n",
       "<p>\n",
       "  If you're reading this message in Jupyter Notebook or JupyterLab, it may mean\n",
       "  that the widgets JavaScript is still loading. If this message persists, it\n",
       "  likely means that the widgets JavaScript library is either not installed or\n",
       "  not enabled. See the <a href=\"https://ipywidgets.readthedocs.io/en/stable/user_install.html\">Jupyter\n",
       "  Widgets Documentation</a> for setup instructions.\n",
       "</p>\n",
       "<p>\n",
       "  If you're reading this message in another notebook frontend (for example, a static\n",
       "  rendering on GitHub or <a href=\"https://nbviewer.jupyter.org/\">NBViewer</a>),\n",
       "  it may mean that your frontend doesn't currently support widgets.\n",
       "</p>\n"
      ],
      "text/plain": [
       "NEWTAuthWidget(children=(HTML(value='        <h3>NEWT Authenticator</h3>\\n        '), HBox(children=(VBox(children=(Text(value='', description='Username'), Password(description='Password'))), VBox(children=(Button(description='Login', style=ButtonStyle()), Button(description='Logout', disabled=True, style=ButtonStyle()))))), Output()))"
      ]
     },
     "metadata": {},
     "output_type": "display_data"
    }
   ],
   "source": [
    "auth = NEWTAuthWidget()\n",
    "auth"
   ]
  },
  {
   "cell_type": "code",
   "execution_count": 10,
   "metadata": {},
   "outputs": [
    {
     "data": {
      "application/vnd.jupyter.widget-view+json": {
       "model_id": "3c04d9196a714277939ee332696347bf",
       "version_major": 2,
       "version_minor": 0
      },
      "text/html": [
       "<p>Failed to display Jupyter Widget of type <code>QueueWidget</code>.</p>\n",
       "<p>\n",
       "  If you're reading this message in Jupyter Notebook or JupyterLab, it may mean\n",
       "  that the widgets JavaScript is still loading. If this message persists, it\n",
       "  likely means that the widgets JavaScript library is either not installed or\n",
       "  not enabled. See the <a href=\"https://ipywidgets.readthedocs.io/en/stable/user_install.html\">Jupyter\n",
       "  Widgets Documentation</a> for setup instructions.\n",
       "</p>\n",
       "<p>\n",
       "  If you're reading this message in another notebook frontend (for example, a static\n",
       "  rendering on GitHub or <a href=\"https://nbviewer.jupyter.org/\">NBViewer</a>),\n",
       "  it may mean that your frontend doesn't currently support widgets.\n",
       "</p>\n"
      ],
      "text/plain": [
       "QueueWidget(children=(Text(value='oevans', description='User'), Output(), HBox(children=(Button(description='Refresh', style=ButtonStyle()), Checkbox(value=False, description='Watch?')))))"
      ]
     },
     "metadata": {},
     "output_type": "display_data"
    }
   ],
   "source": [
    "QueueWidget(auth)"
   ]
  },
  {
   "cell_type": "code",
   "execution_count": 11,
   "metadata": {
    "nbpresent": {
     "id": "086179ea-3915-4b1a-9493-83cae5d3e317"
    },
    "scrolled": false
   },
   "outputs": [
    {
     "data": {
      "application/vnd.jupyter.widget-view+json": {
       "model_id": "22d7290e458342f0b82ac62c066b997d",
       "version_major": 2,
       "version_minor": 0
      },
      "text/html": [
       "<p>Failed to display Jupyter Widget of type <code>WorkflowWidget</code>.</p>\n",
       "<p>\n",
       "  If you're reading this message in Jupyter Notebook or JupyterLab, it may mean\n",
       "  that the widgets JavaScript is still loading. If this message persists, it\n",
       "  likely means that the widgets JavaScript library is either not installed or\n",
       "  not enabled. See the <a href=\"https://ipywidgets.readthedocs.io/en/stable/user_install.html\">Jupyter\n",
       "  Widgets Documentation</a> for setup instructions.\n",
       "</p>\n",
       "<p>\n",
       "  If you're reading this message in another notebook frontend (for example, a static\n",
       "  rendering on GitHub or <a href=\"https://nbviewer.jupyter.org/\">NBViewer</a>),\n",
       "  it may mean that your frontend doesn't currently support widgets.\n",
       "</p>\n"
      ],
      "text/plain": [
       "WorkflowWidget(children=(VBox(children=(Figure(fig_margin={'left': 10, 'right': 10, 'bottom': 10, 'top': 10}, layout=Layout(height='600px', width='400px'), marks=[Graph(colors=['#1f77b4', '#ff7f0e', '#2ca02c', '#d62728', '#9467bd', '#8c564b', '#e377c2', '#7f7f7f', '#bcbd22', '#17becf'], highlight_links=False, interactions={'hover': 'tooltip', 'click': 'select'}, link_data=[{'source': 0, 'target': 1}, {'source': 1, 'target': 2}, {'source': 3, 'target': 4}, {'source': 4, 'target': 5}], link_type='line', node_data=[{'label': '0', 'shape': 'rect', 'name': 'unzip_Cyl_Sapphire_Cyl20A_100_atom1', 'task_type': 'CommandLineTask', 'tags': ['unzip'], 'input_files': ['/home/mtsige/Bob/Sub951By100/Cyl20A/atom1.bz2'], 'output_files': ['/home/oge1/lammps/sapphire/analysis/data/Cyl_Sapphire/Cyl20A_100/atom1'], 'num_cores': 1, 'command': 'pbzip2 -p4 -cdk /home/mtsige/Bob/Sub951By100/Cyl20A/atom1.bz2 > /home/oge1/lammps/sapphire/analysis/data/Cyl_Sapphire/Cyl20A_100/atom1'}, {'label': '1', 'shape': 'rect', 'name': 'parse_Cyl_Sapphire_Cyl20A_100_atom1', 'task_type': 'CommandLineTask', 'tags': [], 'input_files': [], 'output_files': [], 'num_cores': 1, 'command': '/home/oge1/lammps/sapphire/analysis/exec/parse.sh /home/oge1/lammps/sapphire/analysis/data/Cyl_Sapphire/Cyl20A_100/atom1 Cyl_Sapphire/Cyl20A_100/atom1'}, {'label': '2', 'shape': 'rect', 'name': 'analyze_Cyl_Sapphire_Cyl20A_100_atom1', 'task_type': 'CommandLineTask', 'tags': [], 'input_files': [], 'output_files': [], 'num_cores': 1, 'command': '/home/oge1/lammps/sapphire/analysis/exec/analyze.sh /home/oge1/lammps/sapphire/analysis/data/Cyl_Sapphire/Cyl20A_100/atom1 Cyl_Sapphire/Cyl20A_100/atom1 polarScatter'}, {'label': '3', 'shape': 'rect', 'name': 'unzip_Cyl_Sapphire_Cyl20A_100_atom2', 'task_type': 'CommandLineTask', 'tags': ['unzip'], 'input_files': ['/home/mtsige/Bob/Sub951By100/Cyl20A/atom2.bz2'], 'output_files': ['/home/oge1/lammps/sapphire/analysis/data/Cyl_Sapphire/Cyl20A_100/atom2'], 'num_cores': 1, 'command': 'pbzip2 -p4 -cdk /home/mtsige/Bob/Sub951By100/Cyl20A/atom2.bz2 > /home/oge1/lammps/sapphire/analysis/data/Cyl_Sapphire/Cyl20A_100/atom2'}, {'label': '4', 'shape': 'rect', 'name': 'parse_Cyl_Sapphire_Cyl20A_100_atom2', 'task_type': 'CommandLineTask', 'tags': [], 'input_files': [], 'output_files': [], 'num_cores': 1, 'command': '/home/oge1/lammps/sapphire/analysis/exec/parse.sh /home/oge1/lammps/sapphire/analysis/data/Cyl_Sapphire/Cyl20A_100/atom2 Cyl_Sapphire/Cyl20A_100/atom2'}, {'label': '5', 'shape': 'rect', 'name': 'analyze_Cyl_Sapphire_Cyl20A_100_atom2', 'task_type': 'CommandLineTask', 'tags': [], 'input_files': [], 'output_files': [], 'num_cores': 1, 'command': '/home/oge1/lammps/sapphire/analysis/exec/analyze.sh /home/oge1/lammps/sapphire/analysis/data/Cyl_Sapphire/Cyl20A_100/atom2 Cyl_Sapphire/Cyl20A_100/atom2 polarScatter'}], scales={'x': LinearScale(), 'y': LinearScale()}, scales_metadata={'x': {'orientation': 'horizontal', 'dimension': 'x'}, 'y': {'orientation': 'vertical', 'dimension': 'y'}, 'color': {'dimension': 'color'}, 'link_color': {'dimension': 'link_color'}}, selected=[0], selected_style={'stroke': 'red'}, tooltip_style={'opacity': 0.9}, x=array([ 286.,  286.,  286.,  878.,  878.,  878.]), y=array([ 162.,   90.,   18.,  162.,   90.,   18.]))], min_aspect_ratio=0.0, scale_x=LinearScale(allow_padding=False, max=1.0, min=0.0), scale_y=LinearScale(allow_padding=False, max=1.0, min=0.0)), Toolbar(figure=Figure(fig_margin={'left': 10, 'right': 10, 'bottom': 10, 'top': 10}, layout=Layout(height='600px', width='400px'), marks=[Graph(colors=['#1f77b4', '#ff7f0e', '#2ca02c', '#d62728', '#9467bd', '#8c564b', '#e377c2', '#7f7f7f', '#bcbd22', '#17becf'], highlight_links=False, interactions={'hover': 'tooltip', 'click': 'select'}, link_data=[{'source': 0, 'target': 1}, {'source': 1, 'target': 2}, {'source': 3, 'target': 4}, {'source': 4, 'target': 5}], link_type='line', node_data=[{'label': '0', 'shape': 'rect', 'name': 'unzip_Cyl_Sapphire_Cyl20A_100_atom1', 'task_type': 'CommandLineTask', 'tags': ['unzip'], 'input_files': ['/home/mtsige/Bob/Sub951By100/Cyl20A/atom1.bz2'], 'output_files': ['/home/oge1/lammps/sapphire/analysis/data/Cyl_Sapphire/Cyl20A_100/atom1'], 'num_cores': 1, 'command': 'pbzip2 -p4 -cdk /home/mtsige/Bob/Sub951By100/Cyl20A/atom1.bz2 > /home/oge1/lammps/sapphire/analysis/data/Cyl_Sapphire/Cyl20A_100/atom1'}, {'label': '1', 'shape': 'rect', 'name': 'parse_Cyl_Sapphire_Cyl20A_100_atom1', 'task_type': 'CommandLineTask', 'tags': [], 'input_files': [], 'output_files': [], 'num_cores': 1, 'command': '/home/oge1/lammps/sapphire/analysis/exec/parse.sh /home/oge1/lammps/sapphire/analysis/data/Cyl_Sapphire/Cyl20A_100/atom1 Cyl_Sapphire/Cyl20A_100/atom1'}, {'label': '2', 'shape': 'rect', 'name': 'analyze_Cyl_Sapphire_Cyl20A_100_atom1', 'task_type': 'CommandLineTask', 'tags': [], 'input_files': [], 'output_files': [], 'num_cores': 1, 'command': '/home/oge1/lammps/sapphire/analysis/exec/analyze.sh /home/oge1/lammps/sapphire/analysis/data/Cyl_Sapphire/Cyl20A_100/atom1 Cyl_Sapphire/Cyl20A_100/atom1 polarScatter'}, {'label': '3', 'shape': 'rect', 'name': 'unzip_Cyl_Sapphire_Cyl20A_100_atom2', 'task_type': 'CommandLineTask', 'tags': ['unzip'], 'input_files': ['/home/mtsige/Bob/Sub951By100/Cyl20A/atom2.bz2'], 'output_files': ['/home/oge1/lammps/sapphire/analysis/data/Cyl_Sapphire/Cyl20A_100/atom2'], 'num_cores': 1, 'command': 'pbzip2 -p4 -cdk /home/mtsige/Bob/Sub951By100/Cyl20A/atom2.bz2 > /home/oge1/lammps/sapphire/analysis/data/Cyl_Sapphire/Cyl20A_100/atom2'}, {'label': '4', 'shape': 'rect', 'name': 'parse_Cyl_Sapphire_Cyl20A_100_atom2', 'task_type': 'CommandLineTask', 'tags': [], 'input_files': [], 'output_files': [], 'num_cores': 1, 'command': '/home/oge1/lammps/sapphire/analysis/exec/parse.sh /home/oge1/lammps/sapphire/analysis/data/Cyl_Sapphire/Cyl20A_100/atom2 Cyl_Sapphire/Cyl20A_100/atom2'}, {'label': '5', 'shape': 'rect', 'name': 'analyze_Cyl_Sapphire_Cyl20A_100_atom2', 'task_type': 'CommandLineTask', 'tags': [], 'input_files': [], 'output_files': [], 'num_cores': 1, 'command': '/home/oge1/lammps/sapphire/analysis/exec/analyze.sh /home/oge1/lammps/sapphire/analysis/data/Cyl_Sapphire/Cyl20A_100/atom2 Cyl_Sapphire/Cyl20A_100/atom2 polarScatter'}], scales={'x': LinearScale(), 'y': LinearScale()}, scales_metadata={'x': {'orientation': 'horizontal', 'dimension': 'x'}, 'y': {'orientation': 'vertical', 'dimension': 'y'}, 'color': {'dimension': 'color'}, 'link_color': {'dimension': 'link_color'}}, selected=[0], selected_style={'stroke': 'red'}, tooltip_style={'opacity': 0.9}, x=array([ 286.,  286.,  286.,  878.,  878.,  878.]), y=array([ 162.,   90.,   18.,  162.,   90.,   18.]))], min_aspect_ratio=0.0, scale_x=LinearScale(allow_padding=False, max=1.0, min=0.0), scale_y=LinearScale(allow_padding=False, max=1.0, min=0.0))))), Tab(children=(VBox(children=(HTML(value='<b>Workflow Description</b>'), EditHTML(children=(HTMLMath(value='', layout=Layout(border='1px lightgray solid', padding='10px')), Button(description='Edit Description', style=ButtonStyle()))), Box(layout=Layout(height='20px', width='0px')), HTML(value='<b>Worker Pools</b>'), VBox(children=(Dropdown(options=(('default', <kale.workflow_objects.WorkerPool object at 0x2aaac324ce80>),), value=<kale.workflow_objects.WorkerPool object at 0x2aaac324ce80>), Button(button_style='success', description='Run Workflow', style=ButtonStyle()))))), VBox(children=(HTML(value='<b>Task Description</b>'), EditHTML(children=(HTMLMath(value='None selected.', layout=Layout(border='1px lightgray solid', padding='10px')), Button(description='Edit Description', disabled=True, style=ButtonStyle()))), Box(layout=Layout(height='20px', width='0px')), HTML(value=''), Button(button_style='info', description='Continue Workflow', layout=Layout(visibility='hidden'), style=ButtonStyle()), Box(layout=Layout(height='20px', width='0px')), HTML(value='<b>Task Metadata</b>'), HTML(value=''))), VBox(children=(HTML(value='<b>Tags</b>'), Select(options=('unzip',), value='unzip'), HTML(value='<b>Actions</b>'), Text(value='', description='Tag name'), HBox(children=(VBox(children=(Button(description='Select All', style=ButtonStyle()), Button(description='Select None', style=ButtonStyle()), Button(description='Select Children', style=ButtonStyle()), Button(description='Select Parents', style=ButtonStyle()), Button(description='Tag to Selection', style=ButtonStyle()), Button(description='Selection to Tag', style=ButtonStyle()))), VBox(children=(Button(description='New Tag', style=ButtonStyle()), Button(description='Del Tag', style=ButtonStyle()))))))), VBox(children=(HTML(value='<b>Messages from WorkflowWidget:</b>'), Box(children=(Output(),), layout=Layout(border='1px lightgray solid', padding='10px')), Box(layout=Layout(height='10px', width='0px')), Button(description='Clear', style=ButtonStyle())))), layout=Layout(height='600px', width='400px'), _titles={'0': 'Workflow', '1': 'Task', '2': 'Tags', '3': 'Widget Log'})))"
      ]
     },
     "metadata": {},
     "output_type": "display_data"
    }
   ],
   "source": [
    "ww = WorkflowWidget(workflow=cyl_wf, worker_pool_widget=wpw)\n",
    "ww"
   ]
  }
 ],
 "metadata": {
  "anaconda-cloud": {},
  "kernelspec": {
   "display_name": "Python 3",
   "language": "python",
   "name": "python3"
  },
  "language_info": {
   "codemirror_mode": {
    "name": "ipython",
    "version": 3
   },
   "file_extension": ".py",
   "mimetype": "text/x-python",
   "name": "python",
   "nbconvert_exporter": "python",
   "pygments_lexer": "ipython3",
   "version": "3.6.1"
  },
  "nbpresent": {
   "slides": {
    "155f84f5-466f-471e-a62e-3e29af2a0b07": {
     "id": "155f84f5-466f-471e-a62e-3e29af2a0b07",
     "layout": "treemap",
     "prev": null,
     "regions": {
      "07ca5e74-1463-4823-91e1-8e63237bba3b": {
       "attrs": {
        "height": 0.75,
        "treemap:weight": 1,
        "width": 0.33,
        "x": 0,
        "y": 0
       },
       "id": "07ca5e74-1463-4823-91e1-8e63237bba3b"
      },
      "5a7da22f-c1cb-42e8-92f3-4c9e251f6e5e": {
       "attrs": {
        "height": 0.75,
        "pad": 0.01,
        "treemap:weight": 1,
        "width": 0.34,
        "x": 0.66,
        "y": 0
       },
       "id": "5a7da22f-c1cb-42e8-92f3-4c9e251f6e5e"
      },
      "80858f3b-345d-4098-90a3-0b575ba71503": {
       "attrs": {
        "height": 0.25,
        "pad": 0.01,
        "treemap:weight": 1,
        "width": 1,
        "x": 0,
        "y": 0.75
       },
       "id": "80858f3b-345d-4098-90a3-0b575ba71503"
      },
      "a269929c-67ca-4b00-a834-251426b7bc25": {
       "attrs": {
        "height": 0.75,
        "treemap:weight": 1,
        "width": 0.33,
        "x": 0.33,
        "y": 0
       },
       "id": "a269929c-67ca-4b00-a834-251426b7bc25"
      }
     }
    }
   },
   "themes": {}
  }
 },
 "nbformat": 4,
 "nbformat_minor": 2
}
