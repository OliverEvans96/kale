{
 "cells": [
  {
   "cell_type": "code",
   "execution_count": 59,
   "metadata": {
    "collapsed": true
   },
   "outputs": [],
   "source": [
    "import zmq\n",
    "import time\n",
    "import os\n",
    "from concurrent.futures import ThreadPoolExecutor\n",
    "import subprocess\n",
    "import ipywidgets as ipw\n",
    "import random\n",
    "import tempfile\n",
    "import sys"
   ]
  },
  {
   "cell_type": "code",
   "execution_count": 60,
   "metadata": {
    "collapsed": true
   },
   "outputs": [],
   "source": [
    "def gen_random_hash():\n",
    "    return \"%032x\" % random.getrandbits(128)"
   ]
  },
  {
   "cell_type": "code",
   "execution_count": 61,
   "metadata": {
    "collapsed": true
   },
   "outputs": [],
   "source": [
    "def job_running(job_id):\n",
    "    try:\n",
    "        subprocess.check_output(['qstat', str(job_id)])\n",
    "        return True\n",
    "    except subprocess.CalledProcessError:\n",
    "        return False"
   ]
  },
  {
   "cell_type": "code",
   "execution_count": 62,
   "metadata": {
    "collapsed": true
   },
   "outputs": [],
   "source": [
    "def get_tempfile():\n",
    "    return subprocess.check_output('mktemp').decode().strip()"
   ]
  },
  {
   "cell_type": "code",
   "execution_count": 63,
   "metadata": {
    "collapsed": true
   },
   "outputs": [],
   "source": [
    "def create_appended_text_file(path, addition):\n",
    "    fname = os.path.basename(path)\n",
    "    newpath = get_tempfile()\n",
    "    \n",
    "    with open(path) as fh:\n",
    "        content = fh.read()\n",
    "        \n",
    "    with open(newpath, 'w') as fh:\n",
    "        fh.write(content)\n",
    "        fh.write('\\n')\n",
    "        fh.write(addition)\n",
    "        \n",
    "    return newpath"
   ]
  },
  {
   "cell_type": "code",
   "execution_count": 64,
   "metadata": {
    "collapsed": true
   },
   "outputs": [],
   "source": [
    "def open_success_port():\n",
    "    context = zmq.Context()\n",
    "    socket = context.socket(zmq.PAIR)\n",
    "    port = socket.bind_to_random_port(\"tcp://*\")\n",
    "    return socket, port"
   ]
  },
  {
   "cell_type": "code",
   "execution_count": 65,
   "metadata": {
    "collapsed": true
   },
   "outputs": [],
   "source": [
    "def create_success_file():\n",
    "    fd, path = tempfile.mkstemp(prefix='.watch_job_', dir='.')\n",
    "    return path"
   ]
  },
  {
   "cell_type": "code",
   "execution_count": 66,
   "metadata": {
    "collapsed": true
   },
   "outputs": [],
   "source": [
    "def get_hostname():\n",
    "    return subprocess.check_output(['hostname']).decode().strip()"
   ]
  },
  {
   "cell_type": "code",
   "execution_count": 67,
   "metadata": {
    "collapsed": true
   },
   "outputs": [],
   "source": [
    "def wrap_batch_script_zmq(batch_script, success_port, randhash):\n",
    "    success_uri = \"tcp://{hostname}:{port}\".format(\n",
    "        hostname=get_hostname(),\n",
    "        port=success_port\n",
    "    )\n",
    "    \n",
    "    success_func = r\"\"\"import zmq\n",
    "context = zmq.Context()\n",
    "socket = context.socket(zmq.PAIR)\n",
    "socket.connect('{success_uri}')\n",
    "socket.send(b'{randhash}')\"\"\".format(\n",
    "        success_uri=success_uri,\n",
    "        randhash=randhash\n",
    "    ).replace('\\n','; \\\\\\n')\n",
    "    \n",
    "    success_command = 'python -c \"{}\"'.format(\n",
    "        success_func\n",
    "    )\n",
    "    \n",
    "    new_batch_script = create_appended_text_file(\n",
    "        batch_script, \n",
    "        success_command\n",
    "    )\n",
    "    \n",
    "    return new_batch_script"
   ]
  },
  {
   "cell_type": "code",
   "execution_count": 68,
   "metadata": {
    "collapsed": true
   },
   "outputs": [],
   "source": [
    "def wrap_batch_script(batch_script, success_file, randhash):\n",
    "    \n",
    "    success_command = \"echo '{}' > {}\".format(\n",
    "        randhash, success_file\n",
    "    )\n",
    "    \n",
    "    new_batch_script = create_appended_text_file(\n",
    "        batch_script, \n",
    "        success_command\n",
    "    )\n",
    "    \n",
    "    return new_batch_script"
   ]
  },
  {
   "cell_type": "code",
   "execution_count": 69,
   "metadata": {
    "collapsed": true
   },
   "outputs": [],
   "source": [
    "def submit_batch_script(script_path):\n",
    "    \"Submit job, decode job_id bytes & remove newline\"\n",
    "    with open(script_path) as fh:\n",
    "        print(fh.read())\n",
    "    return subprocess.check_output(['qsub', script_path]).decode().strip()"
   ]
  },
  {
   "cell_type": "code",
   "execution_count": 70,
   "metadata": {
    "collapsed": true
   },
   "outputs": [],
   "source": [
    "def listen_for_success_zmq(socket, job_id, randhash, delay=1):\n",
    "    while job_running(job_id):\n",
    "        time.sleep(delay)\n",
    "    \n",
    "    # Job is no longer in batch queue\n",
    "    try:\n",
    "        message = socket.recv(zmq.NOBLOCK).decode().strip()\n",
    "        if message == randhash:\n",
    "            print(\"Job success.\")\n",
    "        else:\n",
    "            print(\"Wrong hash!\")\n",
    "            print(\"Wanted '{}'\".format(randhash))\n",
    "            print(\"Received '{}'\".format(message))\n",
    "            sys.exit(1)\n",
    "    except zmq.Again:\n",
    "        # No success message means job failed\n",
    "        print(\"Job failed.\")\n",
    "        sys.exit(1)"
   ]
  },
  {
   "cell_type": "code",
   "execution_count": 91,
   "metadata": {
    "collapsed": true
   },
   "outputs": [],
   "source": [
    "def poll_success_file(filepath, job_id, randhash, delay=1):\n",
    "    try:\n",
    "        while job_running(job_id):\n",
    "            time.sleep(delay)\n",
    "\n",
    "        # Job is no longer in batch queue\n",
    "        try:\n",
    "            with open(filepath) as fh:\n",
    "                message = fh.read().strip()\n",
    "            if message == randhash:\n",
    "                print(\"Job success.\")\n",
    "            elif message == '':\n",
    "                print(\"Job failed.\")\n",
    "                sys.exit(1)\n",
    "            else:\n",
    "                print(\"Wrong hash!\")\n",
    "                print(\"Wanted '{}'\".format(randhash))\n",
    "                print(\"Received '{}'\".format(message))\n",
    "                sys.exit(1)\n",
    "        except FileNotFoundError:\n",
    "            # No success message means job failed\n",
    "            print(\"Unexpected error.\")\n",
    "            sys.exit(1)\n",
    "    finally:\n",
    "        # Always delete success file\n",
    "        os.remove(filepath)"
   ]
  },
  {
   "cell_type": "code",
   "execution_count": 92,
   "metadata": {
    "collapsed": true
   },
   "outputs": [],
   "source": [
    "def run_batch_job_zmq(batch_script):\n",
    "    socket, success_port = open_success_port()\n",
    "    \n",
    "    randhash = gen_random_hash()\n",
    "    \n",
    "    new_batch_script = wrap_batch_script(\n",
    "        batch_script, \n",
    "        success_port,\n",
    "        randhash\n",
    "    )\n",
    "    \n",
    "    job_id = submit_batch_script(new_batch_script)\n",
    "    \n",
    "    listen_for_success(socket, job_id, randhash)"
   ]
  },
  {
   "cell_type": "code",
   "execution_count": 93,
   "metadata": {
    "collapsed": true
   },
   "outputs": [],
   "source": [
    "def run_batch_job(batch_script):\n",
    "    success_file = create_success_file()\n",
    "    randhash = gen_random_hash()\n",
    "    \n",
    "    new_batch_script = wrap_batch_script(\n",
    "        batch_script, \n",
    "        success_file,\n",
    "        randhash\n",
    "    )\n",
    "    \n",
    "    job_id = submit_batch_script(new_batch_script)\n",
    "    \n",
    "    poll_success_file(success_file, job_id, randhash)"
   ]
  },
  {
   "cell_type": "code",
   "execution_count": 97,
   "metadata": {
    "scrolled": true
   },
   "outputs": [
    {
     "name": "stdout",
     "output_type": "stream",
     "text": [
      "#!/bin/bash\n",
      "#PBS -l nodes=n015:ppn=1\n",
      "#PBS -l nice=10\n",
      "#PBS -j oe\n",
      "#PBS -q default\n",
      "#PBS -N KaleTest\n",
      "#PBS -r n\n",
      "cd $PBS_O_WORKDIR\n",
      "echo \"I'm feeling sleepy.\"\n",
      "sleep 10\n",
      "echo \"That was a nice nap.\"\n",
      "\n",
      "echo '4401f2d58776b29438776e87cb05f6de' > /home/oge1/kale/.watch_job__wu1525u\n",
      "Job success.\n"
     ]
    }
   ],
   "source": [
    "run_batch_job('batch_scripts/test.batch')"
   ]
  },
  {
   "cell_type": "code",
   "execution_count": null,
   "metadata": {
    "collapsed": true
   },
   "outputs": [],
   "source": []
  }
 ],
 "metadata": {
  "kernelspec": {
   "display_name": "Python 3",
   "language": "python",
   "name": "python3"
  },
  "language_info": {
   "codemirror_mode": {
    "name": "ipython",
    "version": 3
   },
   "file_extension": ".py",
   "mimetype": "text/x-python",
   "name": "python",
   "nbconvert_exporter": "python",
   "pygments_lexer": "ipython3",
   "version": "3.6.0"
  }
 },
 "nbformat": 4,
 "nbformat_minor": 2
}
