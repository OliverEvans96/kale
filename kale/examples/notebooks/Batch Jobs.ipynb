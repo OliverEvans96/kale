{
 "cells": [
  {
   "cell_type": "code",
   "execution_count": 1,
   "metadata": {},
   "outputs": [],
   "source": [
    "import zmq\n",
    "import time\n",
    "import os\n",
    "from concurrent.futures import ThreadPoolExecutor\n",
    "import subprocess\n",
    "import ipywidgets as ipw\n",
    "import random\n",
    "import tempfile\n",
    "import sys"
   ]
  },
  {
   "cell_type": "code",
   "execution_count": 2,
   "metadata": {},
   "outputs": [],
   "source": [
    "def gen_random_hash():\n",
    "    return \"%032x\" % random.getrandbits(128)"
   ]
  },
  {
   "cell_type": "code",
   "execution_count": 3,
   "metadata": {},
   "outputs": [],
   "source": [
    "def job_running(job_id):\n",
    "    try:\n",
    "        subprocess.check_output(['qstat', str(job_id)])\n",
    "        return True\n",
    "    except subprocess.CalledProcessError:\n",
    "        return False"
   ]
  },
  {
   "cell_type": "code",
   "execution_count": 4,
   "metadata": {},
   "outputs": [],
   "source": [
    "def get_tempfile():\n",
    "    return subprocess.check_output('mktemp').decode().strip()"
   ]
  },
  {
   "cell_type": "code",
   "execution_count": 5,
   "metadata": {},
   "outputs": [],
   "source": [
    "def create_appended_text_file(path, addition):\n",
    "    fname = os.path.basename(path)\n",
    "    newpath = get_tempfile()\n",
    "    \n",
    "    with open(path) as fh:\n",
    "        content = fh.read()\n",
    "        \n",
    "    with open(newpath, 'w') as fh:\n",
    "        fh.write(content)\n",
    "        fh.write('\\n')\n",
    "        fh.write(addition)\n",
    "        \n",
    "    return newpath"
   ]
  },
  {
   "cell_type": "code",
   "execution_count": 6,
   "metadata": {},
   "outputs": [],
   "source": [
    "def open_success_port():\n",
    "    context = zmq.Context()\n",
    "    socket = context.socket(zmq.PAIR)\n",
    "    port = socket.bind_to_random_port(\"tcp://*\")\n",
    "    return socket, port"
   ]
  },
  {
   "cell_type": "code",
   "execution_count": 7,
   "metadata": {},
   "outputs": [],
   "source": [
    "def create_success_file():\n",
    "    fd, path = tempfile.mkstemp(prefix='.watch_job_', dir='.')\n",
    "    return path"
   ]
  },
  {
   "cell_type": "code",
   "execution_count": 8,
   "metadata": {},
   "outputs": [],
   "source": [
    "def get_hostname():\n",
    "    return subprocess.check_output(['hostname']).decode().strip()"
   ]
  },
  {
   "cell_type": "code",
   "execution_count": 9,
   "metadata": {},
   "outputs": [],
   "source": [
    "def wrap_batch_script_zmq(batch_script, success_port, randhash):\n",
    "    success_uri = \"tcp://{hostname}:{port}\".format(\n",
    "        hostname=get_hostname(),\n",
    "        port=success_port\n",
    "    )\n",
    "    \n",
    "    success_func = r\"\"\"import zmq\n",
    "context = zmq.Context()\n",
    "socket = context.socket(zmq.PAIR)\n",
    "socket.connect('{success_uri}')\n",
    "socket.send(b'{randhash}')\"\"\".format(\n",
    "        success_uri=success_uri,\n",
    "        randhash=randhash\n",
    "    ).replace('\\n','; \\\\\\n')\n",
    "    \n",
    "    success_command = 'python -c \"{}\"'.format(\n",
    "        success_func\n",
    "    )\n",
    "    \n",
    "    new_batch_script = create_appended_text_file(\n",
    "        batch_script, \n",
    "        success_command\n",
    "    )\n",
    "    \n",
    "    return new_batch_script"
   ]
  },
  {
   "cell_type": "code",
   "execution_count": 10,
   "metadata": {},
   "outputs": [],
   "source": [
    "def wrap_batch_script(batch_script, success_file, randhash):\n",
    "    \n",
    "    success_command = \"echo '{}' > {}\".format(\n",
    "        randhash, success_file\n",
    "    )\n",
    "    \n",
    "    new_batch_script = create_appended_text_file(\n",
    "        batch_script, \n",
    "        success_command\n",
    "    )\n",
    "    \n",
    "    return new_batch_script"
   ]
  },
  {
   "cell_type": "code",
   "execution_count": 11,
   "metadata": {},
   "outputs": [],
   "source": [
    "def submit_batch_script(script_path):\n",
    "    \"Submit job, decode job_id bytes & remove newline\"\n",
    "    with open(script_path) as fh:\n",
    "        print(fh.read())\n",
    "    return subprocess.check_output(['qsub', script_path]).decode().strip()"
   ]
  },
  {
   "cell_type": "code",
   "execution_count": 12,
   "metadata": {},
   "outputs": [],
   "source": [
    "def listen_for_success_zmq(socket, job_id, randhash, delay=1):\n",
    "    while job_running(job_id):\n",
    "        time.sleep(delay)\n",
    "    \n",
    "    # Job is no longer in batch queue\n",
    "    try:\n",
    "        message = socket.recv(zmq.NOBLOCK).decode().strip()\n",
    "        if message == randhash:\n",
    "            print(\"Job success.\")\n",
    "        else:\n",
    "            print(\"Wrong hash!\")\n",
    "            print(\"Wanted '{}'\".format(randhash))\n",
    "            print(\"Received '{}'\".format(message))\n",
    "            sys.exit(1)\n",
    "    except zmq.Again:\n",
    "        # No success message means job failed\n",
    "        print(\"Job failed.\")\n",
    "        sys.exit(1)"
   ]
  },
  {
   "cell_type": "code",
   "execution_count": 13,
   "metadata": {},
   "outputs": [],
   "source": [
    "def poll_success_file(filepath, job_id, randhash, delay=1):\n",
    "    try:\n",
    "        while job_running(job_id):\n",
    "            time.sleep(delay)\n",
    "\n",
    "        # Job is no longer in batch queue\n",
    "        try:\n",
    "            with open(filepath) as fh:\n",
    "                message = fh.read().strip()\n",
    "            if message == randhash:\n",
    "                print(\"Job success.\")\n",
    "            elif message == '':\n",
    "                print(\"Job failed.\")\n",
    "                sys.exit(1)\n",
    "            else:\n",
    "                print(\"Wrong hash!\")\n",
    "                print(\"Wanted '{}'\".format(randhash))\n",
    "                print(\"Received '{}'\".format(message))\n",
    "                sys.exit(1)\n",
    "        except FileNotFoundError:\n",
    "            # No success message means job failed\n",
    "            print(\"Unexpected error.\")\n",
    "            sys.exit(1)\n",
    "    finally:\n",
    "        # Always delete success file\n",
    "        os.remove(filepath)"
   ]
  },
  {
   "cell_type": "code",
   "execution_count": 14,
   "metadata": {},
   "outputs": [],
   "source": [
    "def run_batch_job_zmq(batch_script):\n",
    "    socket, success_port = open_success_port()\n",
    "    \n",
    "    randhash = gen_random_hash()\n",
    "    \n",
    "    new_batch_script = wrap_batch_script(\n",
    "        batch_script, \n",
    "        success_port,\n",
    "        randhash\n",
    "    )\n",
    "    \n",
    "    job_id = submit_batch_script(new_batch_script)\n",
    "    \n",
    "    listen_for_success(socket, job_id, randhash)"
   ]
  },
  {
   "cell_type": "code",
   "execution_count": 15,
   "metadata": {},
   "outputs": [],
   "source": [
    "def run_batch_job(batch_script):\n",
    "    success_file = create_success_file()\n",
    "    randhash = gen_random_hash()\n",
    "    \n",
    "    new_batch_script = wrap_batch_script(\n",
    "        batch_script, \n",
    "        success_file,\n",
    "        randhash\n",
    "    )\n",
    "    \n",
    "    job_id = submit_batch_script(new_batch_script)\n",
    "    \n",
    "    poll_success_file(success_file, job_id, randhash)"
   ]
  },
  {
   "cell_type": "code",
   "execution_count": 16,
   "metadata": {
    "scrolled": false
   },
   "outputs": [
    {
     "ename": "FileNotFoundError",
     "evalue": "[Errno 2] No such file or directory: 'batch_scripts/test.batch'",
     "output_type": "error",
     "traceback": [
      "\u001b[0;31m---------------------------------------------------------------------------\u001b[0m",
      "\u001b[0;31mFileNotFoundError\u001b[0m                         Traceback (most recent call last)",
      "\u001b[0;32m<ipython-input-16-77a4a523e03b>\u001b[0m in \u001b[0;36m<module>\u001b[0;34m()\u001b[0m\n\u001b[0;32m----> 1\u001b[0;31m \u001b[0mrun_batch_job\u001b[0m\u001b[0;34m(\u001b[0m\u001b[0;34m'batch_scripts/test.batch'\u001b[0m\u001b[0;34m)\u001b[0m\u001b[0;34m\u001b[0m\u001b[0m\n\u001b[0m",
      "\u001b[0;32m<ipython-input-15-836579191a6e>\u001b[0m in \u001b[0;36mrun_batch_job\u001b[0;34m(batch_script)\u001b[0m\n\u001b[1;32m      6\u001b[0m         \u001b[0mbatch_script\u001b[0m\u001b[0;34m,\u001b[0m\u001b[0;34m\u001b[0m\u001b[0m\n\u001b[1;32m      7\u001b[0m         \u001b[0msuccess_file\u001b[0m\u001b[0;34m,\u001b[0m\u001b[0;34m\u001b[0m\u001b[0m\n\u001b[0;32m----> 8\u001b[0;31m         \u001b[0mrandhash\u001b[0m\u001b[0;34m\u001b[0m\u001b[0m\n\u001b[0m\u001b[1;32m      9\u001b[0m     )\n\u001b[1;32m     10\u001b[0m \u001b[0;34m\u001b[0m\u001b[0m\n",
      "\u001b[0;32m<ipython-input-10-515a02a24617>\u001b[0m in \u001b[0;36mwrap_batch_script\u001b[0;34m(batch_script, success_file, randhash)\u001b[0m\n\u001b[1;32m      7\u001b[0m     new_batch_script = create_appended_text_file(\n\u001b[1;32m      8\u001b[0m         \u001b[0mbatch_script\u001b[0m\u001b[0;34m,\u001b[0m\u001b[0;34m\u001b[0m\u001b[0m\n\u001b[0;32m----> 9\u001b[0;31m         \u001b[0msuccess_command\u001b[0m\u001b[0;34m\u001b[0m\u001b[0m\n\u001b[0m\u001b[1;32m     10\u001b[0m     )\n\u001b[1;32m     11\u001b[0m \u001b[0;34m\u001b[0m\u001b[0m\n",
      "\u001b[0;32m<ipython-input-5-87295cb200c4>\u001b[0m in \u001b[0;36mcreate_appended_text_file\u001b[0;34m(path, addition)\u001b[0m\n\u001b[1;32m      3\u001b[0m     \u001b[0mnewpath\u001b[0m \u001b[0;34m=\u001b[0m \u001b[0mget_tempfile\u001b[0m\u001b[0;34m(\u001b[0m\u001b[0;34m)\u001b[0m\u001b[0;34m\u001b[0m\u001b[0m\n\u001b[1;32m      4\u001b[0m \u001b[0;34m\u001b[0m\u001b[0m\n\u001b[0;32m----> 5\u001b[0;31m     \u001b[0;32mwith\u001b[0m \u001b[0mopen\u001b[0m\u001b[0;34m(\u001b[0m\u001b[0mpath\u001b[0m\u001b[0;34m)\u001b[0m \u001b[0;32mas\u001b[0m \u001b[0mfh\u001b[0m\u001b[0;34m:\u001b[0m\u001b[0;34m\u001b[0m\u001b[0m\n\u001b[0m\u001b[1;32m      6\u001b[0m         \u001b[0mcontent\u001b[0m \u001b[0;34m=\u001b[0m \u001b[0mfh\u001b[0m\u001b[0;34m.\u001b[0m\u001b[0mread\u001b[0m\u001b[0;34m(\u001b[0m\u001b[0;34m)\u001b[0m\u001b[0;34m\u001b[0m\u001b[0m\n\u001b[1;32m      7\u001b[0m \u001b[0;34m\u001b[0m\u001b[0m\n",
      "\u001b[0;31mFileNotFoundError\u001b[0m: [Errno 2] No such file or directory: 'batch_scripts/test.batch'"
     ]
    }
   ],
   "source": [
    "run_batch_job('batch_scripts/test.batch')"
   ]
  },
  {
   "cell_type": "code",
   "execution_count": null,
   "metadata": {},
   "outputs": [],
   "source": []
  }
 ],
 "metadata": {
  "kernelspec": {
   "display_name": "Python 3",
   "language": "python",
   "name": "python3"
  },
  "language_info": {
   "codemirror_mode": {
    "name": "ipython",
    "version": 3
   },
   "file_extension": ".py",
   "mimetype": "text/x-python",
   "name": "python",
   "nbconvert_exporter": "python",
   "pygments_lexer": "ipython3",
   "version": "3.6.3"
  }
 },
 "nbformat": 4,
 "nbformat_minor": 2
}
