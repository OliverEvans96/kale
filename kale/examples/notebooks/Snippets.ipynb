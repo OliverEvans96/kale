{
 "cells": [
  {
   "cell_type": "code",
   "execution_count": null,
   "metadata": {},
   "outputs": [],
   "source": [
    "# Oliver Evans\n",
    "# August 7, 2017\n",
    "\n",
    "# Random potentially useful snippets."
   ]
  },
  {
   "cell_type": "markdown",
   "metadata": {},
   "source": [
    "# DAG"
   ]
  },
  {
   "cell_type": "code",
   "execution_count": null,
   "metadata": {},
   "outputs": [],
   "source": [
    "## DAG Generation ##\n",
    "def rand_dag(n):\n",
    "    \"Generate random DAG adjacency matrix.\"\n",
    "    return np.tril(np.random.randint(0, 2, [n, n]), k=-1)\n",
    "\n",
    "def gen_bq_dag(adj_mat):\n",
    "    \"Generate bqplot Graph object of DAG given adjacency matrix.\"\n",
    "    \n",
    "    nxg = nx.from_numpy_matrix(adj_mat)\n",
    "\n",
    "    pos = nx.nx_pydot.graphviz_layout(nxg, prog='dot')\n",
    "    x, y = np.array([pos[i] for i in range(N)]).T\n",
    "\n",
    "    link_data = [{'source': source, 'target': target} for source, target in nxg.edges()]\n",
    "\n",
    "    graph = Graph(\n",
    "        node_data=node_data,\n",
    "        link_data=link_data,\n",
    "        scales=scales,\n",
    "        link_type='line',\n",
    "        highlight_links=False,\n",
    "        x=x, y=y\n",
    "    )\n",
    "    \n",
    "    return nxg, graph\n",
    "\n",
    "fig_layout = ipw.Layout(width='600px', height='800px')\n",
    "adj_mat = rand_dag(N)\n",
    "nxg, graph = gen_bq_dag(adj_mat)\n",
    "f = bq.Figure(marks=[graph], layout=fig_layout)\n",
    "f"
   ]
  },
  {
   "cell_type": "markdown",
   "metadata": {},
   "source": [
    "# RTE"
   ]
  },
  {
   "cell_type": "code",
   "execution_count": null,
   "metadata": {},
   "outputs": [],
   "source": [
    "rte_html = r\"\"\"\n",
    "            <h1>Radiative Transfer</h1>\n",
    "\n",
    "            The Radiative Transfer Equation is given by\n",
    "\n",
    "            <p>\n",
    "            $$\\nabla I \\cdot \\omega = -c\\, I(x, \\omega) + \\int_\\Omega \\beta(|\\omega-\\omega'|)\\, I(x, \\omega')$$\n",
    "            </p>\n",
    "\n",
    "            It is useful for\n",
    "            <ul>\n",
    "            <li>\n",
    "            Stellar astrophysics\n",
    "            </li>\n",
    "            <li>\n",
    "            Kelp\n",
    "            </li>\n",
    "            <li>\n",
    "            Nice conversations\n",
    "            </li>\n",
    "            </ul>\n",
    "\n",
    "            And is explained well by the following diagram.\n",
    "            <br />\n",
    "            <br />\n",
    "            <img width=300px src=\"http://soap.siteturbine.com/uploaded_files/www.oceanopticsbook.info/images/WebBook/0dd27b964e95146d0af2052b67c7b5df.png\" />\n",
    "        \"\"\""
   ]
  },
  {
   "cell_type": "markdown",
   "metadata": {},
   "source": [
    "# Traitful class attribute"
   ]
  },
  {
   "cell_type": "code",
   "execution_count": null,
   "metadata": {
    "collapsed": true
   },
   "outputs": [],
   "source": [
    "from weakref import WeakSet"
   ]
  },
  {
   "cell_type": "code",
   "execution_count": null,
   "metadata": {
    "collapsed": true
   },
   "outputs": [],
   "source": [
    "class ClassTrait(traitlets.HasTraits):\n",
    "    instances = WeakSet()\n",
    "    \n",
    "    instance_list = traitlets.List()\n",
    "    class_list = []\n",
    "    \n",
    "    class_log = ipw.Output()\n",
    "    \n",
    "    def __init__(self):\n",
    "        super().__init__()\n",
    "        self.__class__.instances.add(self)\n",
    "        \n",
    "        self.observe(self.observe_func, names='instance_list')\n",
    "    \n",
    "    def update_instances(self):\n",
    "        for instance in self.__class__.instances:\n",
    "            instance.instance_list = self.__class__.class_list\n",
    "    \n",
    "    def add_active(self, el):\n",
    "        self.__class__.class_list.append(el)\n",
    "        self.update_instances()\n",
    "    \n",
    "    def del_active(self, index):\n",
    "        self._class__active_list\n",
    "        self.update_instances()\n",
    "        \n",
    "    def observe_func(self, *args):\n",
    "        with self.__class__.class_log:\n",
    "            print(\"List is now {}.\".format(self.__class__.class_list))"
   ]
  }
 ],
 "metadata": {
  "kernelspec": {
   "display_name": "Python 3",
   "language": "python",
   "name": "python3"
  },
  "language_info": {
   "codemirror_mode": {
    "name": "ipython",
    "version": 3
   },
   "file_extension": ".py",
   "mimetype": "text/x-python",
   "name": "python",
   "nbconvert_exporter": "python",
   "pygments_lexer": "ipython3",
   "version": "3.5.3"
  }
 },
 "nbformat": 4,
 "nbformat_minor": 2
}
