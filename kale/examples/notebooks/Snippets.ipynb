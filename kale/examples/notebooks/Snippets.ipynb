{
 "cells": [
  {
   "cell_type": "code",
   "execution_count": null,
   "metadata": {},
   "outputs": [],
   "source": [
    "# Oliver Evans\n",
    "# August 7, 2017\n",
    "\n",
    "# Random potentially useful snippets."
   ]
  },
  {
   "cell_type": "markdown",
   "metadata": {},
   "source": [
    "# DAG"
   ]
  },
  {
   "cell_type": "code",
   "execution_count": null,
   "metadata": {},
   "outputs": [],
   "source": [
    "## DAG Generation ##\n",
    "def rand_dag(n):\n",
    "    \"Generate random DAG adjacency matrix.\"\n",
    "    return np.tril(np.random.randint(0, 2, [n, n]), k=-1)\n",
    "\n",
    "def gen_bq_dag(adj_mat):\n",
    "    \"Generate bqplot Graph object of DAG given adjacency matrix.\"\n",
    "    \n",
    "    nxg = nx.from_numpy_matrix(adj_mat)\n",
    "\n",
    "    pos = nx.nx_pydot.graphviz_layout(nxg, prog='dot')\n",
    "    x, y = np.array([pos[i] for i in range(N)]).T\n",
    "\n",
    "    link_data = [{'source': source, 'target': target} for source, target in nxg.edges()]\n",
    "\n",
    "    graph = Graph(\n",
    "        node_data=node_data,\n",
    "        link_data=link_data,\n",
    "        scales=scales,\n",
    "        link_type='line',\n",
    "        highlight_links=False,\n",
    "        x=x, y=y\n",
    "    )\n",
    "    \n",
    "    return nxg, graph\n",
    "\n",
    "fig_layout = ipw.Layout(width='600px', height='800px')\n",
    "adj_mat = rand_dag(N)\n",
    "nxg, graph = gen_bq_dag(adj_mat)\n",
    "f = bq.Figure(marks=[graph], layout=fig_layout)\n",
    "f"
   ]
  },
  {
   "cell_type": "markdown",
   "metadata": {},
   "source": [
    "# RTE"
   ]
  },
  {
   "cell_type": "code",
   "execution_count": null,
   "metadata": {},
   "outputs": [],
   "source": [
    "rte_html = r\"\"\"\n",
    "            <h1>Radiative Transfer</h1>\n",
    "\n",
    "            The Radiative Transfer Equation is given by\n",
    "\n",
    "            <p>\n",
    "            $$\\nabla I \\cdot \\omega = -c\\, I(x, \\omega) + \\int_\\Omega \\beta(|\\omega-\\omega'|)\\, I(x, \\omega')$$\n",
    "            </p>\n",
    "\n",
    "            It is useful for\n",
    "            <ul>\n",
    "            <li>\n",
    "            Stellar astrophysics\n",
    "            </li>\n",
    "            <li>\n",
    "            Kelp\n",
    "            </li>\n",
    "            <li>\n",
    "            Nice conversations\n",
    "            </li>\n",
    "            </ul>\n",
    "\n",
    "            And is explained well by the following diagram.\n",
    "            <br />\n",
    "            <br />\n",
    "            <img width=300px src=\"http://soap.siteturbine.com/uploaded_files/www.oceanopticsbook.info/images/WebBook/0dd27b964e95146d0af2052b67c7b5df.png\" />\n",
    "        \"\"\""
   ]
  },
  {
   "cell_type": "markdown",
   "metadata": {},
   "source": [
    "# Traitful class attribute"
   ]
  },
  {
   "cell_type": "code",
   "execution_count": null,
   "metadata": {
    "collapsed": true
   },
   "outputs": [],
   "source": [
    "from weakref import WeakSet"
   ]
  },
  {
   "cell_type": "code",
   "execution_count": null,
   "metadata": {
    "collapsed": true
   },
   "outputs": [],
   "source": [
    "class ClassTrait(traitlets.HasTraits):\n",
    "    instances = WeakSet()\n",
    "    \n",
    "    instance_list = traitlets.List()\n",
    "    class_list = []\n",
    "    \n",
    "    class_log = ipw.Output()\n",
    "    \n",
    "    def __init__(self):\n",
    "        super().__init__()\n",
    "        self.__class__.instances.add(self)\n",
    "        \n",
    "        self.observe(self.observe_func, names='instance_list')\n",
    "    \n",
    "    def update_instances(self):\n",
    "        for instance in self.__class__.instances:\n",
    "            instance.instance_list = self.__class__.class_list\n",
    "    \n",
    "    def add_active(self, el):\n",
    "        self.__class__.class_list.append(el)\n",
    "        self.update_instances()\n",
    "    \n",
    "    def del_active(self, index):\n",
    "        self._class__active_list\n",
    "        self.update_instances()\n",
    "        \n",
    "    def observe_func(self, *args):\n",
    "        with self.__class__.class_log:\n",
    "            print(\"List is now {}.\".format(self.__class__.class_list))"
   ]
  },
  {
   "cell_type": "markdown",
   "metadata": {},
   "source": [
    "# Parsl"
   ]
  },
  {
   "cell_type": "code",
   "execution_count": 34,
   "metadata": {},
   "outputs": [
    {
     "data": {
      "text/plain": [
       "<AppFuture at 0x7f0da1989160 state=finished returned NoneType>"
      ]
     },
     "execution_count": 34,
     "metadata": {},
     "output_type": "execute_result"
    }
   ],
   "source": [
    "kale_dfk.new_workflow('Mini Random')\n",
    "rand_add(\n",
    "    rand_add(),\n",
    "    rand_add()\n",
    ")"
   ]
  },
  {
   "cell_type": "code",
   "execution_count": 35,
   "metadata": {},
   "outputs": [
    {
     "data": {
      "application/vnd.jupyter.widget-view+json": {
       "model_id": "221a8fcf6eb14fe59ee201e7704555ca",
       "version_major": 2,
       "version_minor": 0
      },
      "text/html": [
       "<p>Failed to display Jupyter Widget of type <code>WorkflowWidget</code>.</p>\n",
       "<p>\n",
       "  If you're reading this message in the Jupyter Notebook or JupyterLab Notebook, it may mean\n",
       "  that the widgets JavaScript is still loading. If this message persists, it\n",
       "  likely means that the widgets JavaScript library is either not installed or\n",
       "  not enabled. See the <a href=\"https://ipywidgets.readthedocs.io/en/stable/user_install.html\">Jupyter\n",
       "  Widgets Documentation</a> for setup instructions.\n",
       "</p>\n",
       "<p>\n",
       "  If you're reading this message in another frontend (for example, a static\n",
       "  rendering on GitHub or <a href=\"https://nbviewer.jupyter.org/\">NBViewer</a>),\n",
       "  it may mean that your frontend doesn't currently support widgets.\n",
       "</p>\n"
      ],
      "text/plain": [
       "WorkflowWidget(children=(VBox(children=(Figure(fig_margin={'left': 10, 'right': 10, 'bottom': 10, 'top': 10}, layout=Layout(height='600px', width='400px'), marks=[Graph(colors=['#1f77b4', '#ff7f0e', '#2ca02c', '#d62728', '#9467bd', '#8c564b', '#e377c2', '#7f7f7f', '#bcbd22', '#17becf'], highlight_links=False, interactions={'hover': 'tooltip', 'click': 'select'}, link_data=[{'source': 0, 'target': 2}, {'source': 1, 'target': 2}], link_type='line', node_data=[{'label': '0', 'shape': 'rect', 'name': 'rand_add', 'task_type': 'PythonFunctionTask', 'tags': [], 'input_files': [], 'output_files': [], 'num_cores': 1}, {'label': '1', 'shape': 'rect', 'name': 'rand_add', 'task_type': 'PythonFunctionTask', 'tags': [], 'input_files': [], 'output_files': [], 'num_cores': 1}, {'label': '2', 'shape': 'rect', 'name': 'rand_add', 'task_type': 'PythonFunctionTask', 'tags': [], 'input_files': [], 'output_files': [], 'num_cores': 1}], scales={'x': LinearScale(), 'y': LinearScale()}, scales_metadata={'x': {'orientation': 'horizontal', 'dimension': 'x'}, 'y': {'orientation': 'vertical', 'dimension': 'y'}, 'color': {'dimension': 'color'}, 'link_color': {'dimension': 'link_color'}}, selected_style={'stroke': 'red'}, tooltip_style={'opacity': 0.9}, x=array([  334.72,  1025.7 ,   679.72]), y=array([ 90.,  90.,  18.]))], min_aspect_ratio=0.0, scale_x=LinearScale(allow_padding=False, max=1.0, min=0.0), scale_y=LinearScale(allow_padding=False, max=1.0, min=0.0)), Toolbar(figure=Figure(fig_margin={'left': 10, 'right': 10, 'bottom': 10, 'top': 10}, layout=Layout(height='600px', width='400px'), marks=[Graph(colors=['#1f77b4', '#ff7f0e', '#2ca02c', '#d62728', '#9467bd', '#8c564b', '#e377c2', '#7f7f7f', '#bcbd22', '#17becf'], highlight_links=False, interactions={'hover': 'tooltip', 'click': 'select'}, link_data=[{'source': 0, 'target': 2}, {'source': 1, 'target': 2}], link_type='line', node_data=[{'label': '0', 'shape': 'rect', 'name': 'rand_add', 'task_type': 'PythonFunctionTask', 'tags': [], 'input_files': [], 'output_files': [], 'num_cores': 1}, {'label': '1', 'shape': 'rect', 'name': 'rand_add', 'task_type': 'PythonFunctionTask', 'tags': [], 'input_files': [], 'output_files': [], 'num_cores': 1}, {'label': '2', 'shape': 'rect', 'name': 'rand_add', 'task_type': 'PythonFunctionTask', 'tags': [], 'input_files': [], 'output_files': [], 'num_cores': 1}], scales={'x': LinearScale(), 'y': LinearScale()}, scales_metadata={'x': {'orientation': 'horizontal', 'dimension': 'x'}, 'y': {'orientation': 'vertical', 'dimension': 'y'}, 'color': {'dimension': 'color'}, 'link_color': {'dimension': 'link_color'}}, selected_style={'stroke': 'red'}, tooltip_style={'opacity': 0.9}, x=array([  334.72,  1025.7 ,   679.72]), y=array([ 90.,  90.,  18.]))], min_aspect_ratio=0.0, scale_x=LinearScale(allow_padding=False, max=1.0, min=0.0), scale_y=LinearScale(allow_padding=False, max=1.0, min=0.0))))), Tab(children=(VBox(children=(HTML(value='<b>Workflow Description</b>'), EditHTML(children=(HTMLMath(value='', layout=Layout(border='1px lightgray solid', padding='10px')), Button(description='Edit Description', style=ButtonStyle()))), Box(layout=Layout(height='20px', width='0px')), HTML(value='<b>Worker Pools</b>'), VBox(children=(Dropdown(options=(('default', <kale.workflow_objects.WorkerPool object at 0x7f0da408dcf8>),), value=<kale.workflow_objects.WorkerPool object at 0x7f0da408dcf8>), Button(button_style='success', description='Run Workflow', style=ButtonStyle()))))), VBox(children=(HTML(value='<b>Task Description</b>'), EditHTML(children=(HTMLMath(value='None selected.', layout=Layout(border='1px lightgray solid', padding='10px')), Button(description='Edit Description', disabled=True, style=ButtonStyle()))), Box(layout=Layout(height='20px', width='0px')), HTML(value=''), Button(button_style='info', description='Continue Workflow', layout=Layout(visibility='hidden'), style=ButtonStyle()), Box(layout=Layout(height='20px', width='0px')), HTML(value='<b>Task Metadata</b>'), HTML(value=''))), VBox(children=(HTML(value='<b>Tags</b>'), Select(options=(), value=None), HTML(value='<b>Actions</b>'), Text(value='', description='Tag name'), HBox(children=(VBox(children=(Button(description='Select All', style=ButtonStyle()), Button(description='Select None', style=ButtonStyle()), Button(description='Select Children', style=ButtonStyle()), Button(description='Select Parents', style=ButtonStyle()), Button(description='Tag to Selection', style=ButtonStyle()), Button(description='Selection to Tag', style=ButtonStyle()))), VBox(children=(Button(description='New Tag', style=ButtonStyle()), Button(description='Del Tag', style=ButtonStyle()))))))), VBox(children=(HTML(value='<b>Messages from WorkflowWidget:</b>'), Box(children=(Output(),), layout=Layout(border='1px lightgray solid', padding='10px')), Box(layout=Layout(height='10px', width='0px')), Button(description='Clear', style=ButtonStyle())))), layout=Layout(height='600px', width='400px'), _titles={'0': 'Workflow', '1': 'Task', '2': 'Tags', '3': 'Widget Log'})))"
      ]
     },
     "metadata": {},
     "output_type": "display_data"
    },
    {
     "name": "stdout",
     "output_type": "stream",
     "text": [
      "Workflow submitted.Attempting to start job.\n",
      "\n",
      "parsl_run\n",
      "\n",
      "\n",
      "My number is 4. I was given (). The sum is 4.\n",
      "My number is 7. I was given (). The sum is 7.\n",
      "\n",
      "My number is 4. I was given (7, 4). The sum is 15.\n",
      "Attempting to start job.\n",
      "Workflow submitted.parsl_run\n",
      "\n",
      "\n",
      "\n",
      "My number is 6. I was given (). The sum is 6.\n",
      "My number is 7. I was given (). The sum is 7.\n",
      "\n",
      "My number is 5. I was given (7, 6). The sum is 18.\n"
     ]
    }
   ],
   "source": [
    "WorkflowWidget(kale_dfk.kale_workflow, wpw)"
   ]
  },
  {
   "cell_type": "code",
   "execution_count": 38,
   "metadata": {},
   "outputs": [
    {
     "data": {
      "text/plain": [
       "{0: {'app_fu': <AppFuture at 0x7f0da1a06eb8 state=finished returned NoneType>,\n",
       "  'args': (),\n",
       "  'callback': None,\n",
       "  'dep_cnt': 0,\n",
       "  'depends': [],\n",
       "  'exec_fu': <Future at 0x7f0da1a06e48 state=finished returned NoneType>,\n",
       "  'func': <function __main__.rand_add>,\n",
       "  'kwargs': {},\n",
       "  'status': <States.running: 2>},\n",
       " 1: {'app_fu': <AppFuture at 0x7f0da1a06f98 state=finished returned NoneType>,\n",
       "  'args': (),\n",
       "  'callback': None,\n",
       "  'dep_cnt': 0,\n",
       "  'depends': [],\n",
       "  'exec_fu': <Future at 0x7f0da1a06cf8 state=finished returned NoneType>,\n",
       "  'func': <function __main__.rand_add>,\n",
       "  'kwargs': {},\n",
       "  'status': <States.running: 2>},\n",
       " 2: {'app_fu': <AppFuture at 0x7f0da1989160 state=finished returned NoneType>,\n",
       "  'args': (<AppFuture at 0x7f0da1a06eb8 state=finished returned NoneType>,\n",
       "   <AppFuture at 0x7f0da1a06f98 state=finished returned NoneType>),\n",
       "  'callback': None,\n",
       "  'dep_cnt': 0,\n",
       "  'depends': [<AppFuture at 0x7f0da1a06eb8 state=finished returned NoneType>,\n",
       "   <AppFuture at 0x7f0da1a06f98 state=finished returned NoneType>],\n",
       "  'exec_fu': <Future at 0x7f0da19890f0 state=finished returned NoneType>,\n",
       "  'func': <function __main__.rand_add>,\n",
       "  'kwargs': {},\n",
       "  'status': <States.running: 2>}}"
      ]
     },
     "execution_count": 38,
     "metadata": {},
     "output_type": "execute_result"
    }
   ],
   "source": [
    "kale_dfk.tasks"
   ]
  },
  {
   "cell_type": "code",
   "execution_count": 24,
   "metadata": {},
   "outputs": [
    {
     "data": {
      "text/plain": [
       "<Future at 0x7f0da22b84e0 state=pending>"
      ]
     },
     "execution_count": 24,
     "metadata": {},
     "output_type": "execute_result"
    }
   ],
   "source": [
    "kale_dfk.kale_workflow.index_dict[2].future"
   ]
  },
  {
   "cell_type": "markdown",
   "metadata": {},
   "source": [
    "## Step 1, Step 2 example"
   ]
  },
  {
   "cell_type": "code",
   "execution_count": null,
   "metadata": {},
   "outputs": [],
   "source": [
    "@App('python', kale_dfk)\n",
    "def step1():\n",
    "    import timedef rand_add(prev, lim=[0,10]):\n",
    "    \"\"\"Add a random number to the previous one.\n",
    "    \"\"\"\n",
    "    import random\n",
    "    myrand = random.randint(*lim)\n",
    "    mysum = myrand + prev\n",
    "    print(\"My number is {}. Theirs was {}. The sum is {}.\".format(myrand, prev, mysum))\n",
    "    return mysum\n",
    "    print(\"Step 1\")\n",
    "    time.sleep(1)\n",
    "    return 1\n",
    "    \n",
    "@App('python', kale_dfk)\n",
    "def step2(prev, fav_num):\n",
    "    print(\"Step 2 after s@App('python', kale_dfk)\n",
    "def rand_add(prev, lim=[0,10]):\n",
    "    \"\"\"Add a random number to the previous one.\n",
    "    \"\"\"\n",
    "    import random\n",
    "    myrand = random.randint(*lim)\n",
    "    mysum = myrand + prev\n",
    "    print(\"My number is {}. Theirs was {}. The sum is {}.\".format(myrand, prev, mysum))\n",
    "    return mysumtep {}. My favorite number is {}.\".format(prev, fav_num))\n",
    "    return 2"
   ]
  },
  {
   "cell_type": "markdown",
   "metadata": {},
   "source": [
    "## Misc"
   ]
  },
  {
   "cell_type": "code",
   "execution_count": null,
   "metadata": {},
   "outputs": [],
   "source": [
    "class LogFuture(cf.Future):\n",
    "    def __init__(self, *args, **kwargs):\n",
    "        super().__init__(*args, **kwargs)\n",
    "        self._state = 'FINISHED'\n",
    "    \n",
    "    def add_done_callback(self, *args, **kwargs):\n",
    "        print(\"Done callback:\")\n",
    "        print(\"args = {}\".format(args))\n",
    "        print(\"kwargs = {}\".format(kwargs))\n",
    "        super().add_done_callback(*args, **kwargs)"
   ]
  },
  {
   "cell_type": "code",
   "execution_count": null,
   "metadata": {},
   "outputs": [],
   "source": []
  }
 ],
 "metadata": {
  "kernelspec": {
   "display_name": "Python 3",
   "language": "python",
   "name": "python3"
  },
  "language_info": {
   "codemirror_mode": {
    "name": "ipython",
    "version": 3
   },
   "file_extension": ".py",
   "mimetype": "text/x-python",
   "name": "python",
   "nbconvert_exporter": "python",
   "pygments_lexer": "ipython3",
   "version": "3.6.3"
  }
 },
 "nbformat": 4,
 "nbformat_minor": 2
}
