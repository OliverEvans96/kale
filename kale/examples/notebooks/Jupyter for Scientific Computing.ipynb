{
 "cells": [
  {
   "cell_type": "markdown",
   "metadata": {
    "slideshow": {
     "slide_type": "slide"
    }
   },
   "source": [
    "# Scientific Computing with Jupyter\n",
    "\n",
    "### *Interactivity, Exploration & Narrative*\n",
    "\n",
    "#### Oliver Evans\n",
    "\n",
    "September 8th, 2017"
   ]
  },
  {
   "cell_type": "code",
   "execution_count": 1,
   "metadata": {
    "collapsed": true,
    "slideshow": {
     "slide_type": "skip"
    }
   },
   "outputs": [],
   "source": [
    "from IPython import display\n",
    "%matplotlib inline"
   ]
  },
  {
   "cell_type": "markdown",
   "metadata": {
    "collapsed": true,
    "slideshow": {
     "slide_type": "slide"
    }
   },
   "source": [
    "# What is Jupyter?"
   ]
  },
  {
   "cell_type": "markdown",
   "metadata": {
    "slideshow": {
     "slide_type": "fragment"
    }
   },
   "source": [
    "- Interactive web interface for Python, Julia, R, etc ..."
   ]
  },
  {
   "cell_type": "markdown",
   "metadata": {
    "slideshow": {
     "slide_type": "fragment"
    }
   },
   "source": [
    "- Run locally or remotely"
   ]
  },
  {
   "cell_type": "markdown",
   "metadata": {
    "slideshow": {
     "slide_type": "slide"
    }
   },
   "source": [
    "# A bit of background"
   ]
  },
  {
   "cell_type": "markdown",
   "metadata": {
    "slideshow": {
     "slide_type": "fragment"
    }
   },
   "source": [
    "Fernando Perez created IPython in 2001 during his Ph.D\n",
    "![fperez](img/fperez.png)"
   ]
  },
  {
   "cell_type": "markdown",
   "metadata": {
    "slideshow": {
     "slide_type": "slide"
    }
   },
   "source": [
    "Shreyas Cholia works at NERSC at Berkeley Lab.\n",
    "\n",
    "![shreyas](https://openmsi.nersc.gov/site_media/openmsi/images/people/ShreyasCholia.jpg)"
   ]
  },
  {
   "cell_type": "markdown",
   "metadata": {
    "slideshow": {
     "slide_type": "slide"
    }
   },
   "source": [
    "![nersc](https://6lli539m39y3hpkelqsm3c2fg-wpengine.netdna-ssl.com/wp-content/uploads/2016/02/cori3.jpg)"
   ]
  },
  {
   "cell_type": "markdown",
   "metadata": {
    "slideshow": {
     "slide_type": "slide"
    }
   },
   "source": [
    "IPython (2001) | Jupyter (2014)\n",
    "---|---\n",
    "![ipython](img/ipython.png) | ![jupyter](img/jupyter.png)"
   ]
  },
  {
   "cell_type": "markdown",
   "metadata": {
    "slideshow": {
     "slide_type": "slide"
    }
   },
   "source": [
    "# Why is it useful for scientific comuting?"
   ]
  },
  {
   "cell_type": "markdown",
   "metadata": {
    "slideshow": {
     "slide_type": "fragment"
    }
   },
   "source": [
    "- Reusable code cells for instant feedback during development"
   ]
  },
  {
   "cell_type": "markdown",
   "metadata": {
    "slideshow": {
     "slide_type": "fragment"
    }
   },
   "source": [
    "- Inline visualizations, tables & widgets for understanding & exploring data"
   ]
  },
  {
   "cell_type": "markdown",
   "metadata": {
    "slideshow": {
     "slide_type": "fragment"
    }
   },
   "source": [
    "- Web interface makes computations client-independent"
   ]
  },
  {
   "cell_type": "markdown",
   "metadata": {
    "slideshow": {
     "slide_type": "fragment"
    }
   },
   "source": [
    "- Markdown and $\\LaTeX$ support in notebooks for communicating complex ideas"
   ]
  },
  {
   "cell_type": "markdown",
   "metadata": {
    "slideshow": {
     "slide_type": "fragment"
    }
   },
   "source": [
    "- Support for multiple languages"
   ]
  },
  {
   "cell_type": "markdown",
   "metadata": {
    "slideshow": {
     "slide_type": "slide"
    }
   },
   "source": [
    "# Demo!"
   ]
  },
  {
   "cell_type": "markdown",
   "metadata": {
    "slideshow": {
     "slide_type": "skip"
    }
   },
   "source": [
    "# Inline Visualizations"
   ]
  },
  {
   "cell_type": "code",
   "execution_count": 2,
   "metadata": {
    "collapsed": true,
    "slideshow": {
     "slide_type": "skip"
    }
   },
   "outputs": [],
   "source": [
    "import numpy as np\n",
    "import matplotlib.pyplot as plt\n",
    "import pandas as pd"
   ]
  },
  {
   "cell_type": "code",
   "execution_count": 21,
   "metadata": {
    "slideshow": {
     "slide_type": "skip"
    }
   },
   "outputs": [
    {
     "data": {
      "text/plain": [
       "<matplotlib.text.Text at 0x7f72e9e3da20>"
      ]
     },
     "execution_count": 21,
     "metadata": {},
     "output_type": "execute_result"
    },
    {
     "data": {
      "image/png": "[encoded data removed]",
      "text/plain": [
       "<matplotlib.figure.Figure at 0x7f72e9e1f588>"
      ]
     },
     "metadata": {},
     "output_type": "display_data"
    }
   ],
   "source": [
    "x = np.linspace(-1,1, 101)\n",
    "y = x ** 3 * (np.sin(3*x) + np.cos(2*x))\n",
    "\n",
    "plt.plot(x, y)\n",
    "plt.title(\"Very nice plot\")\n",
    "plt.xlabel(\"x\")\n",
    "plt.ylabel(\"y\")"
   ]
  },
  {
   "cell_type": "code",
   "execution_count": 4,
   "metadata": {
    "slideshow": {
     "slide_type": "skip"
    }
   },
   "outputs": [
    {
     "data": {
      "text/html": [
       "<div>\n",
       "<style>\n",
       "    .dataframe thead tr:only-child th {\n",
       "        text-align: right;\n",
       "    }\n",
       "\n",
       "    .dataframe thead th {\n",
       "        text-align: left;\n",
       "    }\n",
       "\n",
       "    .dataframe tbody tr th {\n",
       "        vertical-align: top;\n",
       "    }\n",
       "</style>\n",
       "<table border=\"1\" class=\"dataframe\">\n",
       "  <thead>\n",
       "    <tr style=\"text-align: right;\">\n",
       "      <th></th>\n",
       "      <th>Column #1</th>\n",
       "      <th>Column #2</th>\n",
       "      <th>Column #3</th>\n",
       "      <th>Column #4</th>\n",
       "      <th>Column #5</th>\n",
       "    </tr>\n",
       "  </thead>\n",
       "  <tbody>\n",
       "    <tr>\n",
       "      <th>0</th>\n",
       "      <td>0.783000</td>\n",
       "      <td>0.846837</td>\n",
       "      <td>0.185382</td>\n",
       "      <td>0.488941</td>\n",
       "      <td>0.593831</td>\n",
       "    </tr>\n",
       "    <tr>\n",
       "      <th>1</th>\n",
       "      <td>0.467015</td>\n",
       "      <td>0.289605</td>\n",
       "      <td>0.906583</td>\n",
       "      <td>0.635872</td>\n",
       "      <td>0.801360</td>\n",
       "    </tr>\n",
       "    <tr>\n",
       "      <th>2</th>\n",
       "      <td>0.774404</td>\n",
       "      <td>0.350809</td>\n",
       "      <td>0.422430</td>\n",
       "      <td>0.505004</td>\n",
       "      <td>0.628055</td>\n",
       "    </tr>\n",
       "    <tr>\n",
       "      <th>3</th>\n",
       "      <td>0.952895</td>\n",
       "      <td>0.052972</td>\n",
       "      <td>0.715152</td>\n",
       "      <td>0.200178</td>\n",
       "      <td>0.950521</td>\n",
       "    </tr>\n",
       "    <tr>\n",
       "      <th>4</th>\n",
       "      <td>0.360948</td>\n",
       "      <td>0.681392</td>\n",
       "      <td>0.939970</td>\n",
       "      <td>0.338928</td>\n",
       "      <td>0.620086</td>\n",
       "    </tr>\n",
       "    <tr>\n",
       "      <th>5</th>\n",
       "      <td>0.007466</td>\n",
       "      <td>0.710955</td>\n",
       "      <td>0.312737</td>\n",
       "      <td>0.730648</td>\n",
       "      <td>0.274907</td>\n",
       "    </tr>\n",
       "    <tr>\n",
       "      <th>6</th>\n",
       "      <td>0.998463</td>\n",
       "      <td>0.340549</td>\n",
       "      <td>0.296254</td>\n",
       "      <td>0.655689</td>\n",
       "      <td>0.539649</td>\n",
       "    </tr>\n",
       "    <tr>\n",
       "      <th>7</th>\n",
       "      <td>0.650003</td>\n",
       "      <td>0.339716</td>\n",
       "      <td>0.516167</td>\n",
       "      <td>0.626468</td>\n",
       "      <td>0.933536</td>\n",
       "    </tr>\n",
       "    <tr>\n",
       "      <th>8</th>\n",
       "      <td>0.922916</td>\n",
       "      <td>0.925732</td>\n",
       "      <td>0.343091</td>\n",
       "      <td>0.513728</td>\n",
       "      <td>0.217855</td>\n",
       "    </tr>\n",
       "    <tr>\n",
       "      <th>9</th>\n",
       "      <td>0.734328</td>\n",
       "      <td>0.134373</td>\n",
       "      <td>0.717812</td>\n",
       "      <td>0.776148</td>\n",
       "      <td>0.154421</td>\n",
       "    </tr>\n",
       "  </tbody>\n",
       "</table>\n",
       "</div>"
      ],
      "text/plain": [
       "   Column #1  Column #2  Column #3  Column #4  Column #5\n",
       "0   0.783000   0.846837   0.185382   0.488941   0.593831\n",
       "1   0.467015   0.289605   0.906583   0.635872   0.801360\n",
       "2   0.774404   0.350809   0.422430   0.505004   0.628055\n",
       "3   0.952895   0.052972   0.715152   0.200178   0.950521\n",
       "4   0.360948   0.681392   0.939970   0.338928   0.620086\n",
       "5   0.007466   0.710955   0.312737   0.730648   0.274907\n",
       "6   0.998463   0.340549   0.296254   0.655689   0.539649\n",
       "7   0.650003   0.339716   0.516167   0.626468   0.933536\n",
       "8   0.922916   0.925732   0.343091   0.513728   0.217855\n",
       "9   0.734328   0.134373   0.717812   0.776148   0.154421"
      ]
     },
     "execution_count": 4,
     "metadata": {},
     "output_type": "execute_result"
    }
   ],
   "source": [
    "n, m = 10, 5\n",
    "df = pd.DataFrame(np.random.rand(n, m), columns=['Column #{}'.format(i+1) for i in range(m)])\n",
    "df"
   ]
  },
  {
   "cell_type": "markdown",
   "metadata": {
    "slideshow": {
     "slide_type": "skip"
    }
   },
   "source": [
    "# Interactive Widgets"
   ]
  },
  {
   "cell_type": "code",
   "execution_count": 22,
   "metadata": {
    "collapsed": true,
    "slideshow": {
     "slide_type": "skip"
    }
   },
   "outputs": [],
   "source": [
    "import bqplot as bq\n",
    "import bqplot.pyplot as bqp\n",
    "import ipywidgets as ipw"
   ]
  },
  {
   "cell_type": "code",
   "execution_count": 23,
   "metadata": {
    "collapsed": true,
    "slideshow": {
     "slide_type": "skip"
    }
   },
   "outputs": [],
   "source": [
    "def lj(r, sig, eps):\n",
    "    return 4*eps * ((sig/r) ** 12 - (sig/r) ** 6)"
   ]
  },
  {
   "cell_type": "code",
   "execution_count": 24,
   "metadata": {
    "slideshow": {
     "slide_type": "skip"
    }
   },
   "outputs": [
    {
     "data": {
      "application/vnd.jupyter.widget-view+json": {
       "model_id": "6a5c642ed2434dd4999625ee4917fcf3",
       "version_major": 2,
       "version_minor": 0
      },
      "text/plain": [
       "A Jupyter Widget"
      ]
     },
     "metadata": {},
     "output_type": "display_data"
    }
   ],
   "source": [
    "ipw.interact(lj, r=(0.,10.), sig=(1.,2.), eps=(0., 10.));"
   ]
  },
  {
   "cell_type": "code",
   "execution_count": 25,
   "metadata": {
    "collapsed": true,
    "slideshow": {
     "slide_type": "skip"
    }
   },
   "outputs": [],
   "source": [
    "r = np.linspace(0,5,1001)[100:]\n",
    "sig = 1\n",
    "eps = 1"
   ]
  },
  {
   "cell_type": "code",
   "execution_count": 26,
   "metadata": {
    "collapsed": true,
    "slideshow": {
     "slide_type": "skip"
    }
   },
   "outputs": [],
   "source": [
    "xs = bq.LinearScale(min=0, max=5)\n",
    "ys = bq.LinearScale(min=-5, max=5)\n",
    "line = bq.Lines(x=r, y=lj(r, sig, eps), scales={'x': xs, 'y': ys}, colors=['red'])\n",
    "xax = bq.Axis(scale=xs, label='r', grid_lines='solid')\n",
    "yax = bq.Axis(scale=ys, orientation='vertical', tick_format='0.2f', label='LJ', grid_lines='solid')\n",
    "fig = bq.Figure(marks=[line], axes=[xax, yax], animation_duration=500)"
   ]
  },
  {
   "cell_type": "code",
   "execution_count": 27,
   "metadata": {
    "collapsed": true,
    "slideshow": {
     "slide_type": "skip"
    }
   },
   "outputs": [],
   "source": [
    "def update_fig(sig, eps):\n",
    "    r = np.linspace(0,5,101)[1:]\n",
    "    y = lj(r, sig, eps)\n",
    "    r = r[y<=10]\n",
    "    y = y[y<=10]\n",
    "    line.x = r\n",
    "    line.y = y"
   ]
  },
  {
   "cell_type": "code",
   "execution_count": 30,
   "metadata": {
    "scrolled": false,
    "slideshow": {
     "slide_type": "slide"
    }
   },
   "outputs": [
    {
     "data": {
      "application/vnd.jupyter.widget-view+json": {
       "model_id": "9655305a82ec42808960581707553c38",
       "version_major": 2,
       "version_minor": 0
      },
      "text/plain": [
       "A Jupyter Widget"
      ]
     },
     "metadata": {},
     "output_type": "display_data"
    }
   ],
   "source": [
    "fig"
   ]
  },
  {
   "cell_type": "code",
   "execution_count": 31,
   "metadata": {
    "slideshow": {
     "slide_type": "fragment"
    }
   },
   "outputs": [
    {
     "data": {
      "application/vnd.jupyter.widget-view+json": {
       "model_id": "155cf429647847bba62184d655827be6",
       "version_major": 2,
       "version_minor": 0
      },
      "text/plain": [
       "A Jupyter Widget"
      ]
     },
     "metadata": {},
     "output_type": "display_data"
    }
   ],
   "source": [
    "ipw.interact(update_fig, sig=(1., 2.), eps=(1.,10.));"
   ]
  },
  {
   "cell_type": "markdown",
   "metadata": {
    "slideshow": {
     "slide_type": "skip"
    }
   },
   "source": [
    "# 3D + Domain-specific visualizations"
   ]
  },
  {
   "cell_type": "code",
   "execution_count": 32,
   "metadata": {
    "collapsed": true,
    "slideshow": {
     "slide_type": "skip"
    }
   },
   "outputs": [],
   "source": [
    "import ipyvolume as ipv"
   ]
  },
  {
   "cell_type": "code",
   "execution_count": 33,
   "metadata": {
    "scrolled": false,
    "slideshow": {
     "slide_type": "skip"
    }
   },
   "outputs": [
    {
     "name": "stderr",
     "output_type": "stream",
     "text": [
      "/home/oliver/python/packages/ipyvolume/ipyvolume/serialize.py:58: RuntimeWarning: invalid value encountered in true_divide\n",
      "  gradient = gradient / np.sqrt(gradient[0]**2 + gradient[1]**2 + gradient[2]**2)\n"
     ]
    },
    {
     "data": {
      "application/vnd.jupyter.widget-view+json": {
       "model_id": "dfb3d92684764bc9a5799d3eb5d09139",
       "version_major": 2,
       "version_minor": 0
      },
      "text/plain": [
       "A Jupyter Widget"
      ]
     },
     "metadata": {},
     "output_type": "display_data"
    }
   ],
   "source": [
    "import numpy as np\n",
    "import ipyvolume\n",
    "V = np.zeros((128,128,128)) # our 3d array\n",
    "# outer box\n",
    "V[30:-30,30:-30,30:-30] = 0.75\n",
    "V[35:-35,35:-35,35:-35] = 0.0\n",
    "# inner box\n",
    "V[50:-50,50:-50,50:-50] = 0.25\n",
    "V[55:-55,55:-55,55:-55] = 0.0\n",
    "ipyvolume.quickvolshow(V, level=[0.25, 0.75], opacity=0.03, level_width=0.1, data_min=0, data_max=1)\n"
   ]
  },
  {
   "cell_type": "code",
   "execution_count": 34,
   "metadata": {
    "scrolled": false,
    "slideshow": {
     "slide_type": "skip"
    }
   },
   "outputs": [
    {
     "data": {
      "application/vnd.jupyter.widget-view+json": {
       "model_id": "f06fb4afa4544edc80a8e651954020a2",
       "version_major": 2,
       "version_minor": 0
      },
      "text/plain": [
       "A Jupyter Widget"
      ]
     },
     "metadata": {},
     "output_type": "display_data"
    }
   ],
   "source": [
    "import nglview\n",
    "nglview.show_pdbid(\"3pqr\")  # load \"3pqr\" from RCSB PDB and display viewer widget"
   ]
  },
  {
   "cell_type": "markdown",
   "metadata": {
    "slideshow": {
     "slide_type": "skip"
    }
   },
   "source": [
    "# Markdown / Latex Cells"
   ]
  },
  {
   "cell_type": "markdown",
   "metadata": {
    "slideshow": {
     "slide_type": "skip"
    }
   },
   "source": [
    "### This is a Markdown cell. "
   ]
  },
  {
   "cell_type": "markdown",
   "metadata": {
    "slideshow": {
     "slide_type": "skip"
    }
   },
   "source": [
    "- I can easily *italicize* and **bold** text."
   ]
  },
  {
   "cell_type": "markdown",
   "metadata": {
    "slideshow": {
     "slide_type": "skip"
    }
   },
   "source": [
    "- I can make tables!\n",
    "\n",
    "A | B | C\n",
    "---|---|---\n",
    "1 | 2 | 3\n",
    "4 | 5 | 6\n",
    "7 | 8 | 9"
   ]
  },
  {
   "cell_type": "markdown",
   "metadata": {
    "slideshow": {
     "slide_type": "skip"
    }
   },
   "source": [
    "- I can include arbitrary HTML!\n",
    "\n",
    "<button>A button!</button>"
   ]
  },
  {
   "cell_type": "markdown",
   "metadata": {
    "slideshow": {
     "slide_type": "skip"
    }
   },
   "source": [
    "- I can even include pictures and videos!\n",
    "\n",
    "![fractal](img/Fractal-Mobius-Dragon-IFS-04.jpg)\n",
    "\n",
    "<br />\n",
    "\n",
    "<video width=\"800px\" src=\"movie/mesfin.mp4\" type=\"video/mp4\" controls>\n",
    "    Video not supported.\n",
    "</video>"
   ]
  },
  {
   "cell_type": "markdown",
   "metadata": {
    "slideshow": {
     "slide_type": "skip"
    }
   },
   "source": [
    "# Also: shell commands and IPython magics"
   ]
  },
  {
   "cell_type": "code",
   "execution_count": 16,
   "metadata": {
    "slideshow": {
     "slide_type": "skip"
    }
   },
   "outputs": [
    {
     "name": "stdout",
     "output_type": "stream",
     "text": [
      " \u001b[0m\u001b[00mFW.json\u001b[0m                                   \u001b[34mimg\u001b[0m/\r\n",
      "\u001b[00m'Jupyter for Scientific Computing.ipynb'\u001b[0m   \u001b[32mlammps_gen.py\u001b[0m\r\n",
      "\u001b[00m'Kale Demo.ipynb'\u001b[0m                          \u001b[34mmovie\u001b[0m/\r\n",
      " \u001b[00mLICENSE\u001b[0m                                   \u001b[32mnotes.txt\u001b[0m\r\n",
      " \u001b[32mREADME.md\u001b[0m                                 \u001b[32mout.txt\u001b[0m\r\n",
      " \u001b[32mREADME.tex\u001b[0m                                \u001b[34mposter\u001b[0m/\r\n",
      " \u001b[00mSnippets.ipynb\u001b[0m                            \u001b[34mpyenvs\u001b[0m/\r\n",
      " \u001b[34m__pycache__\u001b[0m/                              \u001b[00mr_test.ipynb\u001b[0m\r\n",
      " \u001b[32maux_widgets.py\u001b[0m                            \u001b[32msnippets.py\u001b[0m\r\n",
      " \u001b[32mdroplet_workflow.py\u001b[0m                       \u001b[32mworkflow_notebook.html\u001b[0m\r\n",
      " \u001b[32mexample_workflow.py\u001b[0m                       \u001b[33mworkflow_notebook.pdf\u001b[0m\r\n",
      " \u001b[34mfireworks\u001b[0m/                                \u001b[32mworkflow_objects.py\u001b[0m\r\n",
      " \u001b[32mgraphene_functions.py\u001b[0m                     \u001b[32mworkflow_widgets.py\u001b[0m\r\n",
      " \u001b[32mgraphene_monitor.py\u001b[0m                       \u001b[00mxeus_test.ipynb\u001b[0m\r\n",
      " \u001b[32mgraphene_widget.py\u001b[0m\r\n"
     ]
    }
   ],
   "source": [
    "ls"
   ]
  },
  {
   "cell_type": "code",
   "execution_count": 17,
   "metadata": {
    "slideshow": {
     "slide_type": "skip"
    }
   },
   "outputs": [
    {
     "name": "stdout",
     "output_type": "stream",
     "text": [
      "Jupyter for Scientific Computing.ipynb\r\n",
      "Kale Demo.ipynb\r\n",
      "Snippets.ipynb\r\n",
      "r_test.ipynb\r\n",
      "xeus_test.ipynb\r\n"
     ]
    }
   ],
   "source": [
    "!ls | grep ipynb"
   ]
  },
  {
   "cell_type": "code",
   "execution_count": 18,
   "metadata": {
    "slideshow": {
     "slide_type": "skip"
    }
   },
   "outputs": [
    {
     "name": "stdout",
     "output_type": "stream",
     "text": [
      "3\n",
      "4\n",
      "5\n",
      "6\n",
      "7\n",
      "8\n",
      "9\n",
      "10\n"
     ]
    }
   ],
   "source": [
    "%%bash\n",
    "for i in `seq 3 10`\n",
    "do\n",
    "    echo $i\n",
    "done"
   ]
  },
  {
   "cell_type": "code",
   "execution_count": 19,
   "metadata": {
    "slideshow": {
     "slide_type": "skip"
    }
   },
   "outputs": [
    {
     "name": "stdout",
     "output_type": "stream",
     "text": [
      "CPU times: user 678 ms, sys: 1.11 ms, total: 679 ms\n",
      "Wall time: 678 ms\n"
     ]
    }
   ],
   "source": [
    "%%time\n",
    "for i in range(int(1e7)):\n",
    "    3 + 2"
   ]
  },
  {
   "cell_type": "markdown",
   "metadata": {
    "slideshow": {
     "slide_type": "skip"
    }
   },
   "source": [
    "# Other Demos:\n",
    "- Other Kernels\n",
    "- Conda env. manager *\n",
    "- IPyParallel *\n",
    "- JupyterHub *\n",
    "- Graphene Widget\n",
    "- Kale\n",
    "- Dask *\n",
    "- SciKit Learn *"
   ]
  },
  {
   "cell_type": "markdown",
   "metadata": {
    "collapsed": true,
    "slideshow": {
     "slide_type": "slide"
    }
   },
   "source": [
    "# So Jupyter is pretty cool . . ."
   ]
  },
  {
   "cell_type": "markdown",
   "metadata": {
    "slideshow": {
     "slide_type": "fragment"
    }
   },
   "source": [
    "- Interactivity for rapid exploration"
   ]
  },
  {
   "cell_type": "markdown",
   "metadata": {
    "slideshow": {
     "slide_type": "fragment"
    }
   },
   "source": [
    "- Utilize HPC resources"
   ]
  },
  {
   "cell_type": "markdown",
   "metadata": {
    "slideshow": {
     "slide_type": "fragment"
    }
   },
   "source": [
    "- Reproducible & Shareable"
   ]
  },
  {
   "cell_type": "markdown",
   "metadata": {
    "slideshow": {
     "slide_type": "fragment"
    }
   },
   "source": [
    "- Web interface can be run from anywhere "
   ]
  }
 ],
 "metadata": {
  "celltoolbar": "Slideshow",
  "kernelspec": {
   "display_name": "Python 3",
   "language": "python",
   "name": "python3"
  },
  "language_info": {
   "codemirror_mode": {
    "name": "ipython",
    "version": 3
   },
   "file_extension": ".py",
   "mimetype": "text/x-python",
   "name": "python",
   "nbconvert_exporter": "python",
   "pygments_lexer": "ipython3",
   "version": "3.5.3"
  }
 },
 "nbformat": 4,
 "nbformat_minor": 2
}
