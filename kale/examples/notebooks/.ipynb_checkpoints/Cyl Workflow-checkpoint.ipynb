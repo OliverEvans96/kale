{
 "cells": [
  {
   "cell_type": "markdown",
   "metadata": {
    "nbpresent": {
     "id": "23b963da-d90a-43dd-883c-db727b739947"
    }
   },
   "source": [
    "# Imports"
   ]
  },
  {
   "cell_type": "code",
   "execution_count": 1,
   "metadata": {
    "collapsed": true,
    "nbpresent": {
     "id": "6268ef92-e5ae-4ce4-b369-202c806db45b"
    },
    "scrolled": true
   },
   "outputs": [],
   "source": [
    "%load_ext autoreload\n",
    "%autoreload 2"
   ]
  },
  {
   "cell_type": "code",
   "execution_count": 1,
   "metadata": {
    "collapsed": true
   },
   "outputs": [],
   "source": [
    "import sys"
   ]
  },
  {
   "cell_type": "code",
   "execution_count": 2,
   "metadata": {
    "collapsed": true
   },
   "outputs": [],
   "source": [
    "sys.path.append('../droplet/')"
   ]
  },
  {
   "cell_type": "code",
   "execution_count": 5,
   "metadata": {
    "nbpresent": {
     "id": "7f05c603-3a9d-451e-98ee-ff9d21d86e9b"
    },
    "scrolled": false
   },
   "outputs": [
    {
     "ename": "ModuleNotFoundError",
     "evalue": "No module named 'workflow_objects'",
     "output_type": "error",
     "traceback": [
      "\u001b[0;31m---------------------------------------------------------------------------\u001b[0m",
      "\u001b[0;31mModuleNotFoundError\u001b[0m                       Traceback (most recent call last)",
      "\u001b[0;32m<ipython-input-5-5ef395968a65>\u001b[0m in \u001b[0;36m<module>\u001b[0;34m()\u001b[0m\n\u001b[1;32m      3\u001b[0m \u001b[0;32mfrom\u001b[0m \u001b[0mkale\u001b[0m\u001b[0;34m.\u001b[0m\u001b[0maux_widgets\u001b[0m \u001b[0;32mimport\u001b[0m \u001b[0mQueueWidget\u001b[0m\u001b[0;34m,\u001b[0m \u001b[0mNEWTAuthWidget\u001b[0m\u001b[0;34m,\u001b[0m \u001b[0mSSHAuthWidget\u001b[0m\u001b[0;34m,\u001b[0m \u001b[0mSSHTerminal\u001b[0m\u001b[0;34m,\u001b[0m \u001b[0mSpace\u001b[0m\u001b[0;34m\u001b[0m\u001b[0m\n\u001b[1;32m      4\u001b[0m \u001b[0;32mimport\u001b[0m \u001b[0mkale\u001b[0m\u001b[0;34m.\u001b[0m\u001b[0mworkflow_objects\u001b[0m\u001b[0;34m\u001b[0m\u001b[0m\n\u001b[0;32m----> 5\u001b[0;31m \u001b[0;32mimport\u001b[0m \u001b[0mwhichstage\u001b[0m \u001b[0;32mas\u001b[0m \u001b[0mws\u001b[0m\u001b[0;34m\u001b[0m\u001b[0m\n\u001b[0m\u001b[1;32m      6\u001b[0m \u001b[0;34m\u001b[0m\u001b[0m\n\u001b[1;32m      7\u001b[0m \u001b[0;32mimport\u001b[0m \u001b[0mipywidgets\u001b[0m \u001b[0;32mas\u001b[0m \u001b[0mipw\u001b[0m\u001b[0;34m\u001b[0m\u001b[0m\n",
      "\u001b[0;32m~/kale/kale/examples/droplet/whichstage.py\u001b[0m in \u001b[0;36m<module>\u001b[0;34m()\u001b[0m\n\u001b[1;32m     12\u001b[0m \u001b[0;32mfrom\u001b[0m \u001b[0mnatsort\u001b[0m \u001b[0;32mimport\u001b[0m \u001b[0mnatsorted\u001b[0m\u001b[0;34m\u001b[0m\u001b[0m\n\u001b[1;32m     13\u001b[0m \u001b[0;32mimport\u001b[0m \u001b[0mnumpy\u001b[0m \u001b[0;32mas\u001b[0m \u001b[0mnp\u001b[0m\u001b[0;34m\u001b[0m\u001b[0m\n\u001b[0;32m---> 14\u001b[0;31m \u001b[0;32mimport\u001b[0m \u001b[0mworkflow_objects\u001b[0m \u001b[0;32mas\u001b[0m \u001b[0mkale\u001b[0m\u001b[0;34m\u001b[0m\u001b[0m\n\u001b[0m\u001b[1;32m     15\u001b[0m \u001b[0;34m\u001b[0m\u001b[0m\n\u001b[1;32m     16\u001b[0m \u001b[0;31m# DIRs for each stage\u001b[0m\u001b[0;34m\u001b[0m\u001b[0;34m\u001b[0m\u001b[0m\n",
      "\u001b[0;31mModuleNotFoundError\u001b[0m: No module named 'workflow_objects'"
     ]
    }
   ],
   "source": [
    "from kale.workflow_widgets import WorkflowWidget, WorkerPoolWidget, TailWidget\n",
    "from kale.examples.droplet.cyl_workflow import cyl_wf\n",
    "from kale.aux_widgets import QueueWidget, NEWTAuthWidget, SSHAuthWidget, SSHTerminal, Space\n",
    "import kale.workflow_objects\n",
    "import whichstage as ws\n",
    "\n",
    "import ipywidgets as ipw\n",
    "import time\n",
    "from concurrent.futures import ThreadPoolExecutor\n",
    "import traitlets\n",
    "import networkx as nx\n",
    "import IPython.display as disp"
   ]
  },
  {
   "cell_type": "code",
   "execution_count": null,
   "metadata": {
    "nbpresent": {
     "id": "192a9350-4f88-4acd-b4ce-d89c151a2672"
    },
    "scrolled": false
   },
   "outputs": [],
   "source": [
    "wpw = WorkerPoolWidget()\n",
    "wpw"
   ]
  },
  {
   "cell_type": "code",
   "execution_count": null,
   "metadata": {
    "scrolled": false
   },
   "outputs": [],
   "source": [
    "wf = ws.whichstage()"
   ]
  },
  {
   "cell_type": "code",
   "execution_count": null,
   "metadata": {
    "scrolled": false
   },
   "outputs": [],
   "source": [
    "wsww = WorkflowWidget(wf, wpw)\n",
    "wsww"
   ]
  },
  {
   "cell_type": "code",
   "execution_count": null,
   "metadata": {},
   "outputs": [],
   "source": [
    "auth = NEWTAuthWidget()\n",
    "auth"
   ]
  },
  {
   "cell_type": "code",
   "execution_count": 10,
   "metadata": {},
   "outputs": [
    {
     "data": {
      "application/vnd.jupyter.widget-view+json": {
       "model_id": "9bb0f76f98874857bc127fc1f99d139b",
       "version_major": 2,
       "version_minor": 0
      },
      "text/html": [
       "<p>Failed to display Jupyter Widget of type <code>QueueWidget</code>.</p>\n",
       "<p>\n",
       "  If you're reading this message in Jupyter Notebook or JupyterLab, it may mean\n",
       "  that the widgets JavaScript is still loading. If this message persists, it\n",
       "  likely means that the widgets JavaScript library is either not installed or\n",
       "  not enabled. See the <a href=\"https://ipywidgets.readthedocs.io/en/stable/user_install.html\">Jupyter\n",
       "  Widgets Documentation</a> for setup instructions.\n",
       "</p>\n",
       "<p>\n",
       "  If you're reading this message in another notebook frontend (for example, a static\n",
       "  rendering on GitHub or <a href=\"https://nbviewer.jupyter.org/\">NBViewer</a>),\n",
       "  it may mean that your frontend doesn't currently support widgets.\n",
       "</p>\n"
      ],
      "text/plain": [
       "QueueWidget(children=(Text(value='oevans', description='User'), Output(), HBox(children=(Button(description='Refresh', style=ButtonStyle()), Checkbox(value=False, description='Watch?')))))"
      ]
     },
     "metadata": {},
     "output_type": "display_data"
    }
   ],
   "source": [
    "QueueWidget(auth)"
   ]
  },
  {
   "cell_type": "code",
   "execution_count": 11,
   "metadata": {
    "nbpresent": {
     "id": "086179ea-3915-4b1a-9493-83cae5d3e317"
    },
    "scrolled": false
   },
   "outputs": [
    {
     "data": {
      "application/vnd.jupyter.widget-view+json": {
       "model_id": "82fb709b533e40ee9247ed079afe1207",
       "version_major": 2,
       "version_minor": 0
      },
      "text/html": [
       "<p>Failed to display Jupyter Widget of type <code>WorkflowWidget</code>.</p>\n",
       "<p>\n",
       "  If you're reading this message in Jupyter Notebook or JupyterLab, it may mean\n",
       "  that the widgets JavaScript is still loading. If this message persists, it\n",
       "  likely means that the widgets JavaScript library is either not installed or\n",
       "  not enabled. See the <a href=\"https://ipywidgets.readthedocs.io/en/stable/user_install.html\">Jupyter\n",
       "  Widgets Documentation</a> for setup instructions.\n",
       "</p>\n",
       "<p>\n",
       "  If you're reading this message in another notebook frontend (for example, a static\n",
       "  rendering on GitHub or <a href=\"https://nbviewer.jupyter.org/\">NBViewer</a>),\n",
       "  it may mean that your frontend doesn't currently support widgets.\n",
       "</p>\n"
      ],
      "text/plain": [
       "WorkflowWidget(children=(VBox(children=(Figure(fig_margin={'left': 10, 'right': 10, 'bottom': 10, 'top': 10}, layout=Layout(height='600px', width='400px'), marks=[Graph(colors=['#1f77b4', '#ff7f0e', '#2ca02c', '#d62728', '#9467bd', '#8c564b', '#e377c2', '#7f7f7f', '#bcbd22', '#17becf'], highlight_links=False, interactions={'hover': 'tooltip', 'click': 'select'}, link_data=[{'source': 0, 'target': 1}, {'source': 1, 'target': 2}, {'source': 3, 'target': 4}, {'source': 4, 'target': 5}], link_type='line', node_data=[{'label': '0', 'shape': 'rect', 'name': 'unzip_Cyl_Sapphire_Cyl20A_100_atom1', 'task_type': 'CommandLineTask', 'tags': ['unzip'], 'input_files': ['/home/mtsige/Bob/Sub951By100/Cyl20A/atom1.bz2'], 'output_files': ['/home/oge1/lammps/sapphire/analysis/data/Cyl_Sapphire/Cyl20A_100/atom1'], 'num_cores': 1, 'command': 'pbzip2 -p4 -cdk /home/mtsige/Bob/Sub951By100/Cyl20A/atom1.bz2 > /home/oge1/lammps/sapphire/analysis/data/Cyl_Sapphire/Cyl20A_100/atom1'}, {'label': '1', 'shape': 'rect', 'name': 'parse_Cyl_Sapphire_Cyl20A_100_atom1', 'task_type': 'CommandLineTask', 'tags': [], 'input_files': [], 'output_files': [], 'num_cores': 1, 'command': '/home/oge1/lammps/sapphire/analysis/exec/parse.sh /home/oge1/lammps/sapphire/analysis/data/Cyl_Sapphire/Cyl20A_100/atom1 Cyl_Sapphire/Cyl20A_100/atom1'}, {'label': '2', 'shape': 'rect', 'name': 'analyze_Cyl_Sapphire_Cyl20A_100_atom1', 'task_type': 'CommandLineTask', 'tags': [], 'input_files': [], 'output_files': [], 'num_cores': 1, 'command': '/home/oge1/lammps/sapphire/analysis/exec/analyze.sh /home/oge1/lammps/sapphire/analysis/data/Cyl_Sapphire/Cyl20A_100/atom1 Cyl_Sapphire/Cyl20A_100/atom1 polarScatter'}, {'label': '3', 'shape': 'rect', 'name': 'unzip_Cyl_Sapphire_Cyl20A_100_atom2', 'task_type': 'CommandLineTask', 'tags': ['unzip'], 'input_files': ['/home/mtsige/Bob/Sub951By100/Cyl20A/atom2.bz2'], 'output_files': ['/home/oge1/lammps/sapphire/analysis/data/Cyl_Sapphire/Cyl20A_100/atom2'], 'num_cores': 1, 'command': 'pbzip2 -p4 -cdk /home/mtsige/Bob/Sub951By100/Cyl20A/atom2.bz2 > /home/oge1/lammps/sapphire/analysis/data/Cyl_Sapphire/Cyl20A_100/atom2'}, {'label': '4', 'shape': 'rect', 'name': 'parse_Cyl_Sapphire_Cyl20A_100_atom2', 'task_type': 'CommandLineTask', 'tags': [], 'input_files': [], 'output_files': [], 'num_cores': 1, 'command': '/home/oge1/lammps/sapphire/analysis/exec/parse.sh /home/oge1/lammps/sapphire/analysis/data/Cyl_Sapphire/Cyl20A_100/atom2 Cyl_Sapphire/Cyl20A_100/atom2'}, {'label': '5', 'shape': 'rect', 'name': 'analyze_Cyl_Sapphire_Cyl20A_100_atom2', 'task_type': 'CommandLineTask', 'tags': [], 'input_files': [], 'output_files': [], 'num_cores': 1, 'command': '/home/oge1/lammps/sapphire/analysis/exec/analyze.sh /home/oge1/lammps/sapphire/analysis/data/Cyl_Sapphire/Cyl20A_100/atom2 Cyl_Sapphire/Cyl20A_100/atom2 polarScatter'}], scales={'x': LinearScale(), 'y': LinearScale()}, scales_metadata={'x': {'orientation': 'horizontal', 'dimension': 'x'}, 'y': {'orientation': 'vertical', 'dimension': 'y'}, 'color': {'dimension': 'color'}, 'link_color': {'dimension': 'link_color'}}, selected=[0], selected_style={'stroke': 'red'}, tooltip_style={'opacity': 0.9}, x=array([ 268.,  268.,  268.,  821.,  821.,  821.]), y=array([ 162.,   90.,   18.,  162.,   90.,   18.]))], min_aspect_ratio=0.0, scale_x=LinearScale(allow_padding=False, max=1.0, min=0.0), scale_y=LinearScale(allow_padding=False, max=1.0, min=0.0)), Toolbar(figure=Figure(fig_margin={'left': 10, 'right': 10, 'bottom': 10, 'top': 10}, layout=Layout(height='600px', width='400px'), marks=[Graph(colors=['#1f77b4', '#ff7f0e', '#2ca02c', '#d62728', '#9467bd', '#8c564b', '#e377c2', '#7f7f7f', '#bcbd22', '#17becf'], highlight_links=False, interactions={'hover': 'tooltip', 'click': 'select'}, link_data=[{'source': 0, 'target': 1}, {'source': 1, 'target': 2}, {'source': 3, 'target': 4}, {'source': 4, 'target': 5}], link_type='line', node_data=[{'label': '0', 'shape': 'rect', 'name': 'unzip_Cyl_Sapphire_Cyl20A_100_atom1', 'task_type': 'CommandLineTask', 'tags': ['unzip'], 'input_files': ['/home/mtsige/Bob/Sub951By100/Cyl20A/atom1.bz2'], 'output_files': ['/home/oge1/lammps/sapphire/analysis/data/Cyl_Sapphire/Cyl20A_100/atom1'], 'num_cores': 1, 'command': 'pbzip2 -p4 -cdk /home/mtsige/Bob/Sub951By100/Cyl20A/atom1.bz2 > /home/oge1/lammps/sapphire/analysis/data/Cyl_Sapphire/Cyl20A_100/atom1'}, {'label': '1', 'shape': 'rect', 'name': 'parse_Cyl_Sapphire_Cyl20A_100_atom1', 'task_type': 'CommandLineTask', 'tags': [], 'input_files': [], 'output_files': [], 'num_cores': 1, 'command': '/home/oge1/lammps/sapphire/analysis/exec/parse.sh /home/oge1/lammps/sapphire/analysis/data/Cyl_Sapphire/Cyl20A_100/atom1 Cyl_Sapphire/Cyl20A_100/atom1'}, {'label': '2', 'shape': 'rect', 'name': 'analyze_Cyl_Sapphire_Cyl20A_100_atom1', 'task_type': 'CommandLineTask', 'tags': [], 'input_files': [], 'output_files': [], 'num_cores': 1, 'command': '/home/oge1/lammps/sapphire/analysis/exec/analyze.sh /home/oge1/lammps/sapphire/analysis/data/Cyl_Sapphire/Cyl20A_100/atom1 Cyl_Sapphire/Cyl20A_100/atom1 polarScatter'}, {'label': '3', 'shape': 'rect', 'name': 'unzip_Cyl_Sapphire_Cyl20A_100_atom2', 'task_type': 'CommandLineTask', 'tags': ['unzip'], 'input_files': ['/home/mtsige/Bob/Sub951By100/Cyl20A/atom2.bz2'], 'output_files': ['/home/oge1/lammps/sapphire/analysis/data/Cyl_Sapphire/Cyl20A_100/atom2'], 'num_cores': 1, 'command': 'pbzip2 -p4 -cdk /home/mtsige/Bob/Sub951By100/Cyl20A/atom2.bz2 > /home/oge1/lammps/sapphire/analysis/data/Cyl_Sapphire/Cyl20A_100/atom2'}, {'label': '4', 'shape': 'rect', 'name': 'parse_Cyl_Sapphire_Cyl20A_100_atom2', 'task_type': 'CommandLineTask', 'tags': [], 'input_files': [], 'output_files': [], 'num_cores': 1, 'command': '/home/oge1/lammps/sapphire/analysis/exec/parse.sh /home/oge1/lammps/sapphire/analysis/data/Cyl_Sapphire/Cyl20A_100/atom2 Cyl_Sapphire/Cyl20A_100/atom2'}, {'label': '5', 'shape': 'rect', 'name': 'analyze_Cyl_Sapphire_Cyl20A_100_atom2', 'task_type': 'CommandLineTask', 'tags': [], 'input_files': [], 'output_files': [], 'num_cores': 1, 'command': '/home/oge1/lammps/sapphire/analysis/exec/analyze.sh /home/oge1/lammps/sapphire/analysis/data/Cyl_Sapphire/Cyl20A_100/atom2 Cyl_Sapphire/Cyl20A_100/atom2 polarScatter'}], scales={'x': LinearScale(), 'y': LinearScale()}, scales_metadata={'x': {'orientation': 'horizontal', 'dimension': 'x'}, 'y': {'orientation': 'vertical', 'dimension': 'y'}, 'color': {'dimension': 'color'}, 'link_color': {'dimension': 'link_color'}}, selected=[0], selected_style={'stroke': 'red'}, tooltip_style={'opacity': 0.9}, x=array([ 268.,  268.,  268.,  821.,  821.,  821.]), y=array([ 162.,   90.,   18.,  162.,   90.,   18.]))], min_aspect_ratio=0.0, scale_x=LinearScale(allow_padding=False, max=1.0, min=0.0), scale_y=LinearScale(allow_padding=False, max=1.0, min=0.0))))), Tab(children=(VBox(children=(HTML(value='<b>Workflow Description</b>'), EditHTML(children=(HTMLMath(value='', layout=Layout(border='1px lightgray solid', padding='10px')), Button(description='Edit Description', style=ButtonStyle()))), Box(layout=Layout(height='20px', width='0px')), HTML(value='<b>Worker Pools</b>'), VBox(children=(Dropdown(options=(('default', <workflow_objects.WorkerPool object at 0x2aaaabde7a20>),), value=<workflow_objects.WorkerPool object at 0x2aaaabde7a20>), Button(button_style='success', description='Run Workflow', style=ButtonStyle()))))), VBox(children=(HTML(value='<b>Task Description</b>'), EditHTML(children=(HTMLMath(value='None selected.', layout=Layout(border='1px lightgray solid', padding='10px')), Button(description='Edit Description', disabled=True, style=ButtonStyle()))), Box(layout=Layout(height='20px', width='0px')), HTML(value='<b>Task Metadata</b>'), HTML(value=''))), VBox(children=(HTML(value='<b>Tags</b>'), Select(options=('unzip',), value='unzip'), HTML(value='<b>Actions</b>'), Text(value='', description='Tag name'), HBox(children=(VBox(children=(Button(description='Select All', style=ButtonStyle()), Button(description='Select None', style=ButtonStyle()), Button(description='Select Children', style=ButtonStyle()), Button(description='Select Parents', style=ButtonStyle()), Button(description='Tag to Selection', style=ButtonStyle()), Button(description='Selection to Tag', style=ButtonStyle()))), VBox(children=(Button(description='New Tag', style=ButtonStyle()), Button(description='Del Tag', style=ButtonStyle()))))))), VBox(children=(HTML(value='<b>Messages from WorkflowWidget:</b>'), Box(children=(Output(),), layout=Layout(border='1px lightgray solid', padding='10px')), Box(layout=Layout(height='10px', width='0px')), Button(description='Clear', style=ButtonStyle())))), layout=Layout(height='600px', width='400px'), _titles={'0': 'Workflow', '1': 'Task', '2': 'Tags', '3': 'Widget Log'})))"
      ]
     },
     "metadata": {},
     "output_type": "display_data"
    }
   ],
   "source": [
    "ww = WorkflowWidget(workflow=cyl_wf, worker_pool_widget=wpw)\n",
    "ww"
   ]
  },
  {
   "cell_type": "code",
   "execution_count": null,
   "metadata": {
    "collapsed": true
   },
   "outputs": [],
   "source": []
  }
 ],
 "metadata": {
  "anaconda-cloud": {},
  "kernelspec": {
   "display_name": "Python 3",
   "language": "python",
   "name": "python3"
  },
  "language_info": {
   "codemirror_mode": {
    "name": "ipython",
    "version": 3
   },
   "file_extension": ".py",
   "mimetype": "text/x-python",
   "name": "python",
   "nbconvert_exporter": "python",
   "pygments_lexer": "ipython3",
   "version": "3.6.1"
  },
  "nbpresent": {
   "slides": {
    "155f84f5-466f-471e-a62e-3e29af2a0b07": {
     "id": "155f84f5-466f-471e-a62e-3e29af2a0b07",
     "layout": "treemap",
     "prev": null,
     "regions": {
      "07ca5e74-1463-4823-91e1-8e63237bba3b": {
       "attrs": {
        "height": 0.75,
        "treemap:weight": 1,
        "width": 0.33,
        "x": 0,
        "y": 0
       },
       "id": "07ca5e74-1463-4823-91e1-8e63237bba3b"
      },
      "5a7da22f-c1cb-42e8-92f3-4c9e251f6e5e": {
       "attrs": {
        "height": 0.75,
        "pad": 0.01,
        "treemap:weight": 1,
        "width": 0.34,
        "x": 0.66,
        "y": 0
       },
       "id": "5a7da22f-c1cb-42e8-92f3-4c9e251f6e5e"
      },
      "80858f3b-345d-4098-90a3-0b575ba71503": {
       "attrs": {
        "height": 0.25,
        "pad": 0.01,
        "treemap:weight": 1,
        "width": 1,
        "x": 0,
        "y": 0.75
       },
       "id": "80858f3b-345d-4098-90a3-0b575ba71503"
      },
      "a269929c-67ca-4b00-a834-251426b7bc25": {
       "attrs": {
        "height": 0.75,
        "treemap:weight": 1,
        "width": 0.33,
        "x": 0.33,
        "y": 0
       },
       "id": "a269929c-67ca-4b00-a834-251426b7bc25"
      }
     }
    }
   },
   "themes": {}
  }
 },
 "nbformat": 4,
 "nbformat_minor": 2
}
